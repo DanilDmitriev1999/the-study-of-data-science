{
  "nbformat": 4,
  "nbformat_minor": 0,
  "metadata": {
    "colab": {
      "name": "Week 04 - Convolutional Neural Networks.ipynb",
      "provenance": [],
      "collapsed_sections": []
    },
    "kernelspec": {
      "name": "python3",
      "display_name": "Python 3"
    },
    "accelerator": "GPU"
  },
  "cells": [
    {
      "cell_type": "code",
      "metadata": {
        "id": "Z8LbImWBw4Zd",
        "colab_type": "code",
        "colab": {
          "base_uri": "https://localhost:8080/",
          "height": 119
        },
        "outputId": "28722f9a-ce06-4362-cf11-9b97d87f3a7b"
      },
      "source": [
        "!pip3 -qq install torch==0.4.1\n",
        "!pip install -qq bokeh==0.13.0\n",
        "!pip install -qq eli5==0.8\n",
        "!wget -O surnames.txt -qq --no-check-certificate \"https://drive.google.com/uc?export=download&id=1z7avv1JiI30V4cmHJGFIfDEs9iE4SHs5\""
      ],
      "execution_count": 1,
      "outputs": [
        {
          "output_type": "stream",
          "text": [
            "\u001b[K     |████████████████████████████████| 519.5MB 32kB/s \n",
            "\u001b[31mERROR: torchvision 0.6.1+cu101 has requirement torch==1.5.1, but you'll have torch 0.4.1 which is incompatible.\u001b[0m\n",
            "\u001b[31mERROR: fastai 1.0.61 has requirement torch>=1.0.0, but you'll have torch 0.4.1 which is incompatible.\u001b[0m\n",
            "\u001b[K     |████████████████████████████████| 16.0MB 208kB/s \n",
            "\u001b[?25h  Building wheel for bokeh (setup.py) ... \u001b[?25l\u001b[?25hdone\n",
            "\u001b[K     |████████████████████████████████| 102kB 6.9MB/s \n",
            "\u001b[?25h"
          ],
          "name": "stdout"
        }
      ]
    },
    {
      "cell_type": "code",
      "metadata": {
        "id": "dF1fio53UKN6",
        "colab_type": "code",
        "colab": {}
      },
      "source": [
        "import numpy as np\n",
        "\n",
        "import torch\n",
        "import torch.nn as nn\n",
        "import torch.nn.functional as F\n",
        "import torch.optim as optim\n",
        "\n",
        "\n",
        "if torch.cuda.is_available():\n",
        "    from torch.cuda import FloatTensor, LongTensor\n",
        "else:\n",
        "    from torch import FloatTensor, LongTensor\n",
        "    \n",
        "np.random.seed(42)"
      ],
      "execution_count": 2,
      "outputs": []
    },
    {
      "cell_type": "markdown",
      "metadata": {
        "id": "Q3lN5pl5Stpp",
        "colab_type": "text"
      },
      "source": [
        "# Свёрточные нейронные сети"
      ]
    },
    {
      "cell_type": "markdown",
      "metadata": {
        "id": "9J6KBv-cniLw",
        "colab_type": "text"
      },
      "source": [
        "## Классификация фамилий\n",
        "\n",
        "Будем учиться предсказывать, является ли слово фамилией."
      ]
    },
    {
      "cell_type": "code",
      "metadata": {
        "id": "7f2Sk0mMFJeW",
        "colab_type": "code",
        "colab": {}
      },
      "source": [
        "from sklearn.model_selection import train_test_split\n",
        "\n",
        "with open('surnames.txt') as f:\n",
        "    lines = f.readlines()\n",
        "    data = [line.strip().split('\\t')[0] for line in lines]\n",
        "    labels = np.array([int(line.strip().split('\\t')[1]) for line in lines])\n",
        "    del lines\n",
        "    \n",
        "train_data, test_data, train_labels, test_labels = train_test_split(data, labels, test_size=0.33, random_state=42)"
      ],
      "execution_count": 3,
      "outputs": []
    },
    {
      "cell_type": "markdown",
      "metadata": {
        "id": "kfUIgqMznrXB",
        "colab_type": "text"
      },
      "source": [
        "Посмотрим на данные:"
      ]
    },
    {
      "cell_type": "code",
      "metadata": {
        "id": "YN1XYen8UauD",
        "colab_type": "code",
        "colab": {
          "base_uri": "https://localhost:8080/",
          "height": 629
        },
        "outputId": "0d938896-0f3d-471c-e9ec-55e14f8623a2"
      },
      "source": [
        "list(zip(train_data, train_labels))[::1500]"
      ],
      "execution_count": null,
      "outputs": [
        {
          "output_type": "execute_result",
          "data": {
            "text/plain": [
              "[('вожакам', 0),\n",
              " ('посвящения', 0),\n",
              " ('изменницы', 0),\n",
              " ('тензорам', 0),\n",
              " ('Родзевич', 1),\n",
              " ('поломку', 0),\n",
              " ('ПРОВЕРКАМ', 0),\n",
              " ('майка', 0),\n",
              " ('ошеломлении', 0),\n",
              " ('эркере', 0),\n",
              " ('дешифрировании', 0),\n",
              " ('затоваривание', 0),\n",
              " ('громыханий', 0),\n",
              " ('выволочка', 0),\n",
              " ('Волдыри', 0),\n",
              " ('сербки', 0),\n",
              " ('ОТЛИЧИИ', 0),\n",
              " ('РАДИОГРАММА', 0),\n",
              " ('поэтике', 0),\n",
              " ('гобоя', 0),\n",
              " ('ОБЛАСТЯМИ', 0),\n",
              " ('пациентах', 0),\n",
              " ('трясогузка', 0),\n",
              " ('утепления', 0),\n",
              " ('Фингалу', 0),\n",
              " ('Хищение', 0),\n",
              " ('Джамал', 0),\n",
              " ('Лавчонка', 0),\n",
              " ('скольжению', 0),\n",
              " ('восстание', 0),\n",
              " ('Гудмэн', 1),\n",
              " ('консортах', 0),\n",
              " ('инфузорий', 0),\n",
              " ('постоянстве', 0),\n",
              " ('вахтенными', 0),\n",
              " ('полновластия', 0)]"
            ]
          },
          "metadata": {
            "tags": []
          },
          "execution_count": 4
        }
      ]
    },
    {
      "cell_type": "markdown",
      "metadata": {
        "id": "uFlOaCNt3fuV",
        "colab_type": "text"
      },
      "source": [
        "Данные ещё и сильно несбалансированы - положительных примеров в несколько раз меньше:"
      ]
    },
    {
      "cell_type": "code",
      "metadata": {
        "id": "ikKB2DaK08-n",
        "colab_type": "code",
        "colab": {
          "base_uri": "https://localhost:8080/",
          "height": 265
        },
        "outputId": "0a2e489f-3d2a-450c-eed4-15c8951212a9"
      },
      "source": [
        "import matplotlib.pyplot as plt\n",
        "%matplotlib inline\n",
        "\n",
        "positive_count = np.sum(train_labels == 1)\n",
        "negative_count = len(train_labels) - positive_count\n",
        " \n",
        "plt.bar(np.arange(2), [negative_count, positive_count], align='center', alpha=0.5)\n",
        "plt.xticks(np.arange(2), ('Negative', 'Positive'))\n",
        "    \n",
        "plt.show()"
      ],
      "execution_count": 7,
      "outputs": [
        {
          "output_type": "display_data",
          "data": {
            "image/png": "[encoded data removed]",
            "text/plain": [
              "<Figure size 432x288 with 1 Axes>"
            ]
          },
          "metadata": {
            "tags": [],
            "needs_background": "light"
          }
        }
      ]
    },
    {
      "cell_type": "markdown",
      "metadata": {
        "id": "4MwgOy5M8qPf",
        "colab_type": "text"
      },
      "source": [
        "Accuracy очень легко оптимизировать - просто предсказывайте всегда ноль:"
      ]
    },
    {
      "cell_type": "code",
      "metadata": {
        "id": "UuqFWWu38UwV",
        "colab_type": "code",
        "colab": {
          "base_uri": "https://localhost:8080/",
          "height": 34
        },
        "outputId": "2c4a63d1-25ef-4eec-aae6-7bce5e4e8f9f"
      },
      "source": [
        "print('Accuracy = {:.2%}'.format((train_labels == 0).mean()))"
      ],
      "execution_count": null,
      "outputs": [
        {
          "output_type": "stream",
          "text": [
            "Accuracy = 87.90%\n"
          ],
          "name": "stdout"
        }
      ]
    },
    {
      "cell_type": "markdown",
      "metadata": {
        "id": "LtOFSmy93pDl",
        "colab_type": "text"
      },
      "source": [
        "Однако это будет довольно бесполезно - всегда говорить, что слово не является фамилией. Это, конечно, вопрос - что хуже, зря объявить слово фамилией (ошибка первого рода) или не найти фамилию.\n",
        "\n",
        "![](https://effectsizefaq.files.wordpress.com/2010/05/type-i-and-type-ii-errors.jpg)  \n",
        "*From [effectsizefaq.com](https://effectsizefaq.com/2010/05/31/i-always-get-confused-about-type-i-and-ii-errors-can-you-show-me-something-to-help-me-remember-the-difference/)*\n",
        "\n",
        "Будем замерять precision, recall и их комбинацию - $F_1$-меру.\n",
        "\n",
        "![precision-recall](https://upload.wikimedia.org/wikipedia/commons/thumb/2/26/Precisionrecall.svg/350px-Precisionrecall.svg.png)  \n",
        "*From [Wikipedia](https://en.wikipedia.org/wiki/Precision_and_recall)*\n",
        "\n",
        "$$\\text{precision} = \\frac{tp}{tp + fp}.$$\n",
        "$$\\text{recall} = \\frac{tp}{tp + fn}.$$\n",
        "$$\\text{F}_1 = 2 \\cdot \\frac{\\text{precision} \\cdot \\text{recall}}{\\text{precision} + \\text{recall}}.$$"
      ]
    },
    {
      "cell_type": "markdown",
      "metadata": {
        "id": "9bl6O_bAtVqd",
        "colab_type": "text"
      },
      "source": [
        "Начнём с бейзлайна на регулярках."
      ]
    },
    {
      "cell_type": "code",
      "metadata": {
        "id": "Q6tUhBLUy0Wf",
        "colab_type": "code",
        "cellView": "form",
        "colab": {
          "base_uri": "https://localhost:8080/",
          "height": 34
        },
        "outputId": "71fbe317-485f-4b30-a2dd-c1bed9d49306"
      },
      "source": [
        "#@title Супер-бейзлайн\n",
        "surname_indicators = \"^[А-Я][а-я], .*ский\" #@param {type:\"raw\"}\n",
        "\n",
        "surname_indicators = surname_indicators.split(', ')\n",
        "\n",
        "import re\n",
        "\n",
        "regexs = [re.compile(regex) for regex in surname_indicators]\n",
        "\n",
        "preds = np.array([any(regex.match(word) for regex in regexs) for word in test_data])\n",
        "\n",
        "from sklearn.metrics import f1_score\n",
        "print('F1-score = {:.2%}'.format(f1_score(test_labels, preds)))"
      ],
      "execution_count": 4,
      "outputs": [
        {
          "output_type": "stream",
          "text": [
            "F1-score = 40.43%\n"
          ],
          "name": "stdout"
        }
      ]
    },
    {
      "cell_type": "markdown",
      "metadata": {
        "id": "LJJtiGMK1ATy",
        "colab_type": "text"
      },
      "source": [
        "А теперь серьёзно - бейзлайн на логистической регрессии поверх N-грамм символов.\n",
        "\n",
        "**Задание** Сделать классификацию с LogisticRegression моделью. Посчитать F1-меру."
      ]
    },
    {
      "cell_type": "code",
      "metadata": {
        "id": "8COAoh7b0TXs",
        "colab_type": "code",
        "colab": {
          "base_uri": "https://localhost:8080/",
          "height": 170
        },
        "outputId": "d89a0beb-28d4-40fa-bdf1-d036be604ba0"
      },
      "source": [
        "from sklearn.feature_extraction.text import CountVectorizer\n",
        "from sklearn.linear_model import LogisticRegression\n",
        "\n",
        "vectorizer = CountVectorizer(analyzer='char', ngram_range=(1, 3), lowercase=False)\n",
        "\n",
        "X_train = vectorizer.fit_transform(train_data)\n",
        "X_test = vectorizer.transform(test_data)\n",
        "\n",
        "model = LogisticRegression(C=10).fit(X_train, train_labels)\n",
        "\n",
        "test_preds = model.predict(X_test)\n",
        "print('F1-score = {:.2%}'.format(f1_score(test_labels, test_preds)))"
      ],
      "execution_count": 5,
      "outputs": [
        {
          "output_type": "stream",
          "text": [
            "F1-score = 67.28%\n"
          ],
          "name": "stdout"
        },
        {
          "output_type": "stream",
          "text": [
            "/usr/local/lib/python3.6/dist-packages/sklearn/linear_model/_logistic.py:940: ConvergenceWarning: lbfgs failed to converge (status=1):\n",
            "STOP: TOTAL NO. of ITERATIONS REACHED LIMIT.\n",
            "\n",
            "Increase the number of iterations (max_iter) or scale the data as shown in:\n",
            "    https://scikit-learn.org/stable/modules/preprocessing.html\n",
            "Please also refer to the documentation for alternative solver options:\n",
            "    https://scikit-learn.org/stable/modules/linear_model.html#logistic-regression\n",
            "  extra_warning_msg=_LOGISTIC_SOLVER_CONVERGENCE_MSG)\n"
          ],
          "name": "stderr"
        }
      ]
    },
    {
      "cell_type": "markdown",
      "metadata": {
        "id": "vN46GwPrzeJW",
        "colab_type": "text"
      },
      "source": [
        "Посмотрим на предсказания"
      ]
    },
    {
      "cell_type": "code",
      "metadata": {
        "id": "F-P8OSD7yZQt",
        "colab_type": "code",
        "colab": {}
      },
      "source": [
        "import eli5\n",
        "\n",
        "eli5.show_weights(model, vec=vectorizer, top=40)"
      ],
      "execution_count": null,
      "outputs": []
    },
    {
      "cell_type": "code",
      "metadata": {
        "id": "iYXljseDyd77",
        "colab_type": "code",
        "colab": {}
      },
      "source": [
        "sample_ind = np.random.randint(len(test_data))\n",
        "eli5.show_prediction(model, test_data[sample_ind], vec=vectorizer, targets=['surname'], target_names=['word', 'surname'])"
      ],
      "execution_count": null,
      "outputs": []
    },
    {
      "cell_type": "markdown",
      "metadata": {
        "id": "cQF3JlD7twQK",
        "colab_type": "text"
      },
      "source": [
        "Кроме тупого подсчета F1-score можно посмотреть на precision-recall кривые. Во-первых, они красивые. Во-вторых, по ним видно, что можно повысить качество (F1-score), подобрав другой порог - **хотя на тесте это делать нельзя**."
      ]
    },
    {
      "cell_type": "code",
      "metadata": {
        "id": "a7oyvJ-2EG0m",
        "colab_type": "code",
        "colab": {
          "base_uri": "https://localhost:8080/",
          "height": 458
        },
        "outputId": "e5a91a26-fb8a-4871-c840-847d8c904c28"
      },
      "source": [
        "from sklearn.metrics import precision_recall_curve\n",
        "\n",
        "precision, recall, _ = precision_recall_curve(test_labels, model.predict_proba(X_test)[:, 1])\n",
        "\n",
        "plt.figure(figsize=(7, 7))\n",
        "f_scores = np.linspace(0.2, 0.8, num=4)\n",
        "lines = []\n",
        "labels = []\n",
        "for f_score in f_scores:\n",
        "    x = np.linspace(0.01, 1)\n",
        "    y = f_score * x / (2 * x - f_score)\n",
        "    l, = plt.plot(x[y >= 0], y[y >= 0], color='gray', alpha=0.2)\n",
        "    plt.annotate('F1 = {0:0.1f}'.format(f_score), xy=(0.9, y[45] + 0.02))\n",
        "\n",
        "plt.plot(recall, precision)\n",
        "\n",
        "plt.xlim([0.0, 1.02])\n",
        "plt.ylim([0.0, 1.02])\n",
        "plt.xlabel('Recall')\n",
        "plt.ylabel('Precision')\n",
        "plt.title('Precision-Recall Curve')\n",
        "\n",
        "plt.show()"
      ],
      "execution_count": 11,
      "outputs": [
        {
          "output_type": "display_data",
          "data": {
            "image/png": "[encoded data removed]",
            "text/plain": [
              "<Figure size 504x504 with 1 Axes>"
            ]
          },
          "metadata": {
            "tags": [],
            "needs_background": "light"
          }
        }
      ]
    },
    {
      "cell_type": "markdown",
      "metadata": {
        "id": "tL6Bnl8ftoYP",
        "colab_type": "text"
      },
      "source": [
        "**Задание** Придумайте признаки, чтобы улучшить качество модели."
      ]
    },
    {
      "cell_type": "markdown",
      "metadata": {
        "id": "rRhcCJcAS4S5",
        "colab_type": "text"
      },
      "source": [
        "## Character-Level Convolutions\n",
        "\n",
        "### Общее описание сверток\n",
        "\n",
        "Напомню, свертки - это то, с чего начался хайп нейронных сетей в районе 2012-ого.\n",
        "\n",
        "Работают они примерно так:  \n",
        "![Conv example](https://image.ibb.co/e6t8ZK/Convolution.gif)   \n",
        "From [Feature extraction using convolution](http://deeplearning.stanford.edu/wiki/index.php/Feature_extraction_using_convolution).\n",
        "\n",
        "Формально - учатся наборы фильтров, каждый из которых скалярно умножается на элементы матрицы признаков. На картинке выше исходная матрица сворачивается с фильтром\n",
        "$$\n",
        " \\begin{pmatrix}\n",
        "  1 & 0 & 1 \\\\\n",
        "  0 & 1 & 0 \\\\\n",
        "  1 & 0 & 1\n",
        " \\end{pmatrix}\n",
        "$$\n",
        "\n",
        "Но нужно не забывать, что свертки обычно имеют ещё такую размерность, как число каналов. Например, картинки имеют обычно три канала: RGB.  \n",
        "Наглядно демонстрируется как выглядят при этом фильтры [здесь](http://cs231n.github.io/convolutional-networks/#conv).\n",
        "\n",
        "После сверток обычно следуют pooling-слои. Они помогают уменьшить размерность тензора, с которым приходится работать. Самым частым является max-pooling:  \n",
        "![maxpooling](http://cs231n.github.io/assets/cnn/maxpool.jpeg)  \n",
        "From [CS231n Convolutional Neural Networks for Visual Recognition](http://cs231n.github.io/convolutional-networks/#pool)"
      ]
    },
    {
      "cell_type": "markdown",
      "metadata": {
        "id": "x-M3lCE1ealB",
        "colab_type": "text"
      },
      "source": [
        "### Свёртки для текстов\n",
        "\n",
        "Для текстов свертки работают как n-граммные детекторы (примерно). Каноничный пример символьной сверточной сети:\n",
        "\n",
        "![text-convs](https://image.ibb.co/bC3Xun/2018_03_27_01_24_39.png)  \n",
        "From [Character-Aware Neural Language Models](https://arxiv.org/abs/1508.06615)\n",
        "\n",
        "*Сколько учится фильтров на данном примере?*\n",
        "\n",
        "На картинке показано, как из слова извлекаются 2, 3 и 4-граммы. Например, желтые - это триграммы. Желтый фильтр прикладывают ко всем триграммам в слове, а потом с помощью global max-pooling извлекают наиболее сильный сигнал.\n",
        "\n",
        "Что это значит, если конкретнее?\n",
        "\n",
        "Каждый символ отображается с помощью эмбеддингов в некоторый вектор. А их последовательности - в конкатенации эмбеддингов.  \n",
        "Например, \"abs\" $\\to [v_a; v_b; v_s] \\in \\mathbb{R}^{3 d}$, где $d$ - размерность эмбеддинга. Желтый фильтр $f_k$ имеет такую же размерность $3d$.  \n",
        "Его прикладывание - это скалярное произведение $\\left([v_a; v_b; v_s] \\odot f_k \\right) \\in \\mathbb R$ (один из желтых квадратиков в feature map для данного фильтра).\n",
        "\n",
        "Max-pooling выбирает $max_i \\left( [v_{i-1}; v_{i}; v_{i+1}] \\odot f_k \\right)$, где $i$ пробегается по всем индексам слова от 1 до $|w| - 1$ (либо по большему диапазону, если есть padding'и).   \n",
        "Этот максимум соответствует той триграмме, которая наиболее близка к фильтру по косинусному расстоянию.\n",
        "\n",
        "В результате в векторе после max-pooling'а закодирована информация о том, какие из n-грамм встретились в слове: если встретилась близкая к нашему $f_k$ триграмма, то в $k$-той позиции вектора будет стоять большое значение, иначе - маленькое.\n",
        "\n",
        "А учим мы как раз фильтры. То есть сеть должна научиться определять, какие из n-грамм значимы, а какие - нет."
      ]
    },
    {
      "cell_type": "markdown",
      "metadata": {
        "id": "xz7ApwLZ05kc",
        "colab_type": "text"
      },
      "source": [
        "### Игрушечный пример\n",
        "\n",
        "Посмотрим на примере, что там происходит. Возьмем слово:"
      ]
    },
    {
      "cell_type": "code",
      "metadata": {
        "id": "P7fbpo630iZa",
        "colab_type": "code",
        "colab": {}
      },
      "source": [
        "word = 'Смирнов'"
      ],
      "execution_count": 12,
      "outputs": []
    },
    {
      "cell_type": "markdown",
      "metadata": {
        "id": "1R4gvJVD0-0f",
        "colab_type": "text"
      },
      "source": [
        "Для начала нужно перенумеровать символы:"
      ]
    },
    {
      "cell_type": "code",
      "metadata": {
        "id": "x99Q65ot02Vi",
        "colab_type": "code",
        "colab": {
          "base_uri": "https://localhost:8080/",
          "height": 34
        },
        "outputId": "8cda3670-f9bc-400a-804f-699bdeeaa770"
      },
      "source": [
        "char2index = {symb: ind for ind, symb in enumerate(set(word))}\n",
        "\n",
        "char2index"
      ],
      "execution_count": 13,
      "outputs": [
        {
          "output_type": "execute_result",
          "data": {
            "text/plain": [
              "{'С': 3, 'в': 4, 'и': 1, 'м': 2, 'н': 6, 'о': 5, 'р': 0}"
            ]
          },
          "metadata": {
            "tags": []
          },
          "execution_count": 13
        }
      ]
    },
    {
      "cell_type": "markdown",
      "metadata": {
        "id": "3sxJYZEs1M8y",
        "colab_type": "text"
      },
      "source": [
        "Каждому символу сопоставляется эмбеддинг. Простейший способ сделать эмбеддинги - взять единичную матрицу. Когда у нас были десятки тысяч слов, такие эмбеддинги были не оч, а сейчас всего несколько символов вполне адекватно присвоить им ортогональные вектора небольшой размерности."
      ]
    },
    {
      "cell_type": "code",
      "metadata": {
        "id": "wbApeJdb1EGq",
        "colab_type": "code",
        "colab": {
          "base_uri": "https://localhost:8080/",
          "height": 136
        },
        "outputId": "5a02bffe-0d0f-4df3-8609-800e7646a32a"
      },
      "source": [
        "embeddings = torch.eye(len(char2index))\n",
        "\n",
        "embeddings"
      ],
      "execution_count": 14,
      "outputs": [
        {
          "output_type": "execute_result",
          "data": {
            "text/plain": [
              "tensor([[1., 0., 0., 0., 0., 0., 0.],\n",
              "        [0., 1., 0., 0., 0., 0., 0.],\n",
              "        [0., 0., 1., 0., 0., 0., 0.],\n",
              "        [0., 0., 0., 1., 0., 0., 0.],\n",
              "        [0., 0., 0., 0., 1., 0., 0.],\n",
              "        [0., 0., 0., 0., 0., 1., 0.],\n",
              "        [0., 0., 0., 0., 0., 0., 1.]])"
            ]
          },
          "metadata": {
            "tags": []
          },
          "execution_count": 14
        }
      ]
    },
    {
      "cell_type": "markdown",
      "metadata": {
        "id": "mP9i5pPx2BGs",
        "colab_type": "text"
      },
      "source": [
        "Построим тензор индексов символов слова:"
      ]
    },
    {
      "cell_type": "code",
      "metadata": {
        "id": "PBIIlHy91ohP",
        "colab_type": "code",
        "colab": {
          "base_uri": "https://localhost:8080/",
          "height": 34
        },
        "outputId": "61b38a02-4f1c-4c43-a39f-bad543a27c83"
      },
      "source": [
        "word_tensor = torch.LongTensor([char2index[symb] for symb in word])\n",
        "\n",
        "word_tensor"
      ],
      "execution_count": 15,
      "outputs": [
        {
          "output_type": "execute_result",
          "data": {
            "text/plain": [
              "tensor([3, 2, 1, 0, 6, 5, 4])"
            ]
          },
          "metadata": {
            "tags": []
          },
          "execution_count": 15
        }
      ]
    },
    {
      "cell_type": "markdown",
      "metadata": {
        "id": "eL3qLw-p2Htk",
        "colab_type": "text"
      },
      "source": [
        "Отобразим его в эмбеддинги. Получили такой же прямоугольничек, как на картинке (транспонирование нужно, чтобы смотрело в ту же сторону)."
      ]
    },
    {
      "cell_type": "code",
      "metadata": {
        "id": "4fkChxtt1yqY",
        "colab_type": "code",
        "colab": {
          "base_uri": "https://localhost:8080/",
          "height": 136
        },
        "outputId": "e5576179-41d9-4ce9-81a9-2347178dcaa1"
      },
      "source": [
        "word_embs = embeddings[word_tensor].t()\n",
        "\n",
        "word_embs"
      ],
      "execution_count": 16,
      "outputs": [
        {
          "output_type": "execute_result",
          "data": {
            "text/plain": [
              "tensor([[0., 0., 0., 1., 0., 0., 0.],\n",
              "        [0., 0., 1., 0., 0., 0., 0.],\n",
              "        [0., 1., 0., 0., 0., 0., 0.],\n",
              "        [1., 0., 0., 0., 0., 0., 0.],\n",
              "        [0., 0., 0., 0., 0., 0., 1.],\n",
              "        [0., 0., 0., 0., 0., 1., 0.],\n",
              "        [0., 0., 0., 0., 1., 0., 0.]])"
            ]
          },
          "metadata": {
            "tags": []
          },
          "execution_count": 16
        }
      ]
    },
    {
      "cell_type": "markdown",
      "metadata": {
        "id": "QL4o1EI-2O_I",
        "colab_type": "text"
      },
      "source": [
        "Теперь дело дошло до сверток. Сделаем фильтр-детектор триграммы `нов`:"
      ]
    },
    {
      "cell_type": "code",
      "metadata": {
        "id": "ToW8KCUY1723",
        "colab_type": "code",
        "colab": {
          "base_uri": "https://localhost:8080/",
          "height": 136
        },
        "outputId": "8c92340b-3b14-49ee-a693-522662beab74"
      },
      "source": [
        "kernel_name = 'нов'\n",
        "\n",
        "kernel_indices = torch.LongTensor([char2index[symb] for symb in kernel_name])\n",
        "kernel_weights = embeddings[kernel_indices].t()\n",
        "\n",
        "kernel_weights"
      ],
      "execution_count": 17,
      "outputs": [
        {
          "output_type": "execute_result",
          "data": {
            "text/plain": [
              "tensor([[0., 0., 0.],\n",
              "        [0., 0., 0.],\n",
              "        [0., 0., 0.],\n",
              "        [0., 0., 0.],\n",
              "        [0., 0., 1.],\n",
              "        [0., 1., 0.],\n",
              "        [1., 0., 0.]])"
            ]
          },
          "metadata": {
            "tags": []
          },
          "execution_count": 17
        }
      ]
    },
    {
      "cell_type": "markdown",
      "metadata": {
        "id": "kTxfchOy4c9w",
        "colab_type": "text"
      },
      "source": [
        "Чтобы посчитать свёртку, воспользуемся функцией:\n",
        "\n",
        "```python\n",
        "F.conv2d(input, weight, bias=None, stride=1, padding=0, dilation=1, groups=1) -> Tensor\n",
        "```\n",
        "\n",
        "input: input tensor of shape ($N \\times C_{in} \\times H_{in} \\times W_{in}$)  \n",
        "weight: filters of shape ($C_{out} \\times C_{in} \\times H_{out} \\times W_{out}$)\n",
        "\n",
        "$N$ - размер батча (1 у нас). $C_{in}$ - число каналов. В нашем случае оно всегда будет 1 (пока что). $C_{out}$ - число фильтров. Оно пока 1.\n",
        "\n",
        "Нам понадобятся четырехмерные тензоры, для этого воспользуемся `view`:"
      ]
    },
    {
      "cell_type": "code",
      "metadata": {
        "id": "Oyd3Na7V3JMr",
        "colab_type": "code",
        "colab": {
          "base_uri": "https://localhost:8080/",
          "height": 51
        },
        "outputId": "e913d34e-11b7-419e-b3a3-00779edf920b"
      },
      "source": [
        "word_embs = word_embs.view(1, 1, word_embs.shape[0], word_embs.shape[1])\n",
        "kernel_weights = kernel_weights.view(1, 1, kernel_weights.shape[0], kernel_weights.shape[1])\n",
        "\n",
        "conv_result = F.conv2d(word_embs, kernel_weights)[0, 0]\n",
        "\n",
        "print('Conv =', conv_result)\n",
        "print('Max pooling =', conv_result.max())"
      ],
      "execution_count": 18,
      "outputs": [
        {
          "output_type": "stream",
          "text": [
            "Conv = tensor([[0., 0., 0., 0., 3.]])\n",
            "Max pooling = tensor(3.)\n"
          ],
          "name": "stdout"
        }
      ]
    },
    {
      "cell_type": "markdown",
      "metadata": {
        "id": "tVAiQ2PG6SOd",
        "colab_type": "text"
      },
      "source": [
        "Свертка сказала, что данный фильтр есть на последней позиции. Пулинг сказал, пофиг на какой позиции - главное, он есть."
      ]
    },
    {
      "cell_type": "markdown",
      "metadata": {
        "id": "h7ZVbNOGoV5z",
        "colab_type": "text"
      },
      "source": [
        "### Подготовка данных\n",
        "\n",
        "Первый шаг - определить, какой длины слова у нас. Ограничимся каким-то числом, а более длинные будем обрезать."
      ]
    },
    {
      "cell_type": "code",
      "metadata": {
        "id": "DEtZ6g78Wtj-",
        "colab_type": "code",
        "colab": {
          "base_uri": "https://localhost:8080/",
          "height": 34
        },
        "outputId": "0de7f125-dbf4-493b-deed-3dc8c64bf56c"
      },
      "source": [
        "from collections import Counter \n",
        "    \n",
        "def find_max_len(counter, threshold):\n",
        "    sum_count = sum(counter.values())\n",
        "    cum_count = 0\n",
        "    for i in range(max(counter)):\n",
        "        cum_count += counter[i]\n",
        "        if cum_count > sum_count * threshold:\n",
        "            return i\n",
        "    return max(counter)\n",
        "\n",
        "word_len_counter = Counter()\n",
        "for word in train_data:\n",
        "    word_len_counter[len(word)] += 1\n",
        "    \n",
        "threshold = 0.99\n",
        "MAX_WORD_LEN = find_max_len(word_len_counter, threshold)\n",
        "\n",
        "print('Max word length for {:.0%} of words is {}'.format(threshold, MAX_WORD_LEN))"
      ],
      "execution_count": 19,
      "outputs": [
        {
          "output_type": "stream",
          "text": [
            "Max word length for 99% of words is 17\n"
          ],
          "name": "stdout"
        }
      ]
    },
    {
      "cell_type": "markdown",
      "metadata": {
        "id": "MdKoOBdE8uj4",
        "colab_type": "text"
      },
      "source": [
        "Соберем отображение из символов в индексы."
      ]
    },
    {
      "cell_type": "code",
      "metadata": {
        "id": "YyMoPEXGVs3s",
        "colab_type": "code",
        "colab": {
          "base_uri": "https://localhost:8080/",
          "height": 54
        },
        "outputId": "59b0920e-91fd-4975-e2d4-dfdf10db972f"
      },
      "source": [
        "chars = set()\n",
        "for word in train_data:\n",
        "    chars.update(word)\n",
        "\n",
        "char_index = {c : i + 1 for i, c in enumerate(chars)}\n",
        "char_index['<pad>'] = 0\n",
        "    \n",
        "print(char_index)"
      ],
      "execution_count": 20,
      "outputs": [
        {
          "output_type": "stream",
          "text": [
            "{'2': 1, '«': 2, 'И': 3, '-': 4, 'Щ': 5, 'Ё': 6, '7': 7, 'Ó': 8, 'Р': 9, 'м': 10, 'Ч': 11, 'Х': 12, 'х': 13, 'П': 14, 'с': 15, 'ш': 16, 'э': 17, 'ы': 18, 'Ш': 19, 'н': 20, 'У': 21, 'а': 22, 'п': 23, 'Л': 24, ' ': 25, 'ъ': 26, 'б': 27, 'Я': 28, '·': 29, '»': 30, 'Ъ': 31, 'и': 32, 'Й': 33, 'Т': 34, 'В': 35, 'С': 36, 'ч': 37, 'в': 38, 'Ы': 39, 'й': 40, 'л': 41, 'ф': 42, 'Ю': 43, 'ж': 44, 'г': 45, 'ц': 46, 'р': 47, 'ь': 48, '.': 49, '3': 50, 'д': 51, 'Г': 52, 'з': 53, 'Д': 54, 'Н': 55, 'е': 56, 'Ь': 57, '”': 58, 'Ф': 59, 'З': 60, 'К': 61, 'о': 62, '/': 63, '4': 64, 'я': 65, '’': 66, 'М': 67, '“': 68, 'А': 69, 'к': 70, 'Е': 71, 'ó': 72, 'ё': 73, 'т': 74, 'ю': 75, 'Б': 76, 'Э': 77, 'щ': 78, 'ѐ': 79, \"'\": 80, 'Ж': 81, 'у': 82, 'О': 83, 'Ц': 84, '<pad>': 0}\n"
          ],
          "name": "stdout"
        }
      ]
    },
    {
      "cell_type": "markdown",
      "metadata": {
        "id": "4spzGF2CImtL",
        "colab_type": "text"
      },
      "source": [
        "**Задание** Сконвертируйте данные"
      ]
    },
    {
      "cell_type": "code",
      "metadata": {
        "id": "qETmYKm8W_TX",
        "colab_type": "code",
        "colab": {}
      },
      "source": [
        "def convert_data(data, max_word_len, char_index):\n",
        "    result = np.zeros((len(data), max_word_len))\n",
        "    for i, word in enumerate(data):\n",
        "        word = word[-max_word_len:]\n",
        "        result[i][:len(word)] = [char_index.get(symb, 0) for symb in word]\n",
        "  \n",
        "    return result\n",
        "\n",
        "X_train = convert_data(train_data, MAX_WORD_LEN, char_index)\n",
        "X_test = convert_data(test_data, MAX_WORD_LEN, char_index)"
      ],
      "execution_count": 21,
      "outputs": []
    },
    {
      "cell_type": "code",
      "metadata": {
        "id": "VufrP006Vk-y",
        "colab_type": "code",
        "colab": {}
      },
      "source": [
        "def iterate_batches(X, y, batch_size):\n",
        "    num_samples = X.shape[0]\n",
        "\n",
        "    indices = np.arange(num_samples)\n",
        "    np.random.shuffle(indices)\n",
        "    \n",
        "    for start in range(0, num_samples, batch_size):\n",
        "        end = min(start + batch_size, num_samples)\n",
        "        \n",
        "        batch_idx = indices[start: end]\n",
        "        \n",
        "        yield X[batch_idx], y[batch_idx]"
      ],
      "execution_count": 22,
      "outputs": []
    },
    {
      "cell_type": "markdown",
      "metadata": {
        "id": "gkXlKB7lobYE",
        "colab_type": "text"
      },
      "source": [
        "### MyFirstConvCharNN\n",
        "\n",
        "Теперь построим свёрточную модель.\n",
        "\n",
        "Пусть она будет строить триграммы - то есть применять фильтры на 3 символа.\n",
        "\n",
        "Начнем с последовательности: `nn.Embedding -> nn.Conv2d -> nn.ReLU -> max pooling -> nn.Linear`\n",
        "\n",
        "`nn.Conv2d` - это слой, содержащий создание и инициализацию фильтров, и вызов `F.conv2d` к ним и входу.\n",
        "\n",
        "*Лайфхак:* последовательности операций можно запаковывать в `nn.Sequential`."
      ]
    },
    {
      "cell_type": "code",
      "metadata": {
        "id": "v2T4AorsZ530",
        "colab_type": "code",
        "colab": {}
      },
      "source": [
        "class ConvClassifier(nn.Module):\n",
        "    def __init__(self, vocab_size, emb_dim, filters_count):\n",
        "        super().__init__()\n",
        "        \n",
        "        self._embedding = nn.Embedding(vocab_size, emb_dim)\n",
        "        self._dropout = nn.Dropout(0.2)\n",
        "        self._conv3 = nn.Sequential(\n",
        "            nn.Conv2d(in_channels=1, out_channels=filters_count, kernel_size=(5, emb_dim)),\n",
        "            nn.ReLU()\n",
        "            )\n",
        "        self._out_layer = nn.Linear(filters_count, 1)\n",
        "        \n",
        "    def forward(self, inputs):\n",
        "        '''\n",
        "        inputs - LongTensor with shape (batch_size, max_word_len)\n",
        "        outputs - FloatTensor with shape (batch_size,)\n",
        "        '''\n",
        "        \n",
        "        outputs = self.embed(inputs)\n",
        "        return self._out_layer(outputs).squeeze(-1)\n",
        "    \n",
        "    def embed(self, inputs):\n",
        "        outputs = self._embedding(inputs)\n",
        "        outputs = outputs.unsqueeze(1)\n",
        "        outputs = self._conv3(outputs).max(dim=2)[0]\n",
        "        outputs = outputs.squeeze(-1)\n",
        "        return outputs\n"
      ],
      "execution_count": 55,
      "outputs": []
    },
    {
      "cell_type": "markdown",
      "metadata": {
        "id": "0iTDc9rEAHN6",
        "colab_type": "text"
      },
      "source": [
        "Проверьте, что всё работает:"
      ]
    },
    {
      "cell_type": "code",
      "metadata": {
        "id": "WiAdrSaU_wjQ",
        "colab_type": "code",
        "colab": {
          "base_uri": "https://localhost:8080/",
          "height": 34
        },
        "outputId": "6f8f4958-0533-409a-ab90-cd2a9a1e1b95"
      },
      "source": [
        "X_batch, y_batch = next(iterate_batches(X_train, train_labels, 32))\n",
        "X_batch, y_batch = torch.LongTensor(X_batch), torch.LongTensor(y_batch)\n",
        "\n",
        "model = ConvClassifier(len(char_index) + 1, 24, 64)\n",
        "logits = model(X_batch)\n",
        "logits.shape"
      ],
      "execution_count": 56,
      "outputs": [
        {
          "output_type": "execute_result",
          "data": {
            "text/plain": [
              "torch.Size([32])"
            ]
          },
          "metadata": {
            "tags": []
          },
          "execution_count": 56
        }
      ]
    },
    {
      "cell_type": "markdown",
      "metadata": {
        "id": "x39p9w-tA_Ds",
        "colab_type": "text"
      },
      "source": [
        "**Задание** Подсчитайте precision, recall и F1-score для полученных предсказаний."
      ]
    },
    {
      "cell_type": "code",
      "metadata": {
        "id": "eVg2Ws7mA40a",
        "colab_type": "code",
        "colab": {
          "base_uri": "https://localhost:8080/",
          "height": 34
        },
        "outputId": "343a6c2c-e156-4460-ade9-c8981627dd30"
      },
      "source": [
        "def TP(logits, labels):\n",
        "    logits_bin = logits.ge(0).type(torch.long).cpu()\n",
        "    return torch.dot(logits_bin, labels.cpu()).data.tolist()\n",
        "\n",
        "def FP(logits, labels):\n",
        "    logits_bin = logits.ge(0).type(torch.long).cpu()\n",
        "    return torch.dot(logits_bin, labels.eq(0).type(torch.long).cpu()).data.tolist()\n",
        "\n",
        "def FN(logits, labels):\n",
        "    logits_bin = logits.ge(0).type(torch.long).cpu()\n",
        "    return torch.dot(logits_bin.eq(0).type(torch.long).cpu(), labels.cpu()).data.tolist()\n",
        "\n",
        "\n",
        "def _precision(tp, fp):\n",
        "    return tp / (tp + fp) if tp + fp != 0 else 0\n",
        "\n",
        "def _recall(tp, fn):\n",
        "    return tp / (tp + fn) if tp + fn != 0 else 0\n",
        "\n",
        "\n",
        "def f1_scr(precision, recall):\n",
        "    return 2 * precision * recall / (precision + recall) if precision + recall != 0 else 0\n",
        "\n",
        "f1_scr(_precision(TP(logits, y_batch), FP(logits, y_batch) ), _recall( TP(logits, y_batch), FN(logits, y_batch)))"
      ],
      "execution_count": 58,
      "outputs": [
        {
          "output_type": "execute_result",
          "data": {
            "text/plain": [
              "0.3157894736842105"
            ]
          },
          "metadata": {
            "tags": []
          },
          "execution_count": 58
        }
      ]
    },
    {
      "cell_type": "markdown",
      "metadata": {
        "id": "1TFsKlF9BV8X",
        "colab_type": "text"
      },
      "source": [
        "**Задание** Напишем теперь цикл обучения, который не слишком сложно будет переиспользовать"
      ]
    },
    {
      "cell_type": "code",
      "metadata": {
        "id": "MsCtTJucVjMH",
        "colab_type": "code",
        "colab": {}
      },
      "source": [
        "import math\n",
        "import time\n",
        "\n",
        "def do_epoch(model, criterion, data, batch_size, optimizer=None):\n",
        "    epoch_loss, epoch_tp, epoch_fp, epoch_fn = 0, 0, 0, 0\n",
        "    \n",
        "    is_train = not optimizer is None\n",
        "    model.train(is_train)\n",
        "    \n",
        "    data, labels = data\n",
        "    batchs_count = math.ceil(data.shape[0] / batch_size)\n",
        "    \n",
        "    with torch.autograd.set_grad_enabled(is_train):\n",
        "        for i, (X_batch, y_batch) in enumerate(iterate_batches(data, labels, batch_size)):\n",
        "            X_batch, y_batch = LongTensor(X_batch), FloatTensor(y_batch)\n",
        "\n",
        "            logits = model(X_batch)\n",
        "\n",
        "            loss = criterion(logits, y_batch)\n",
        "            epoch_loss += loss.item()\n",
        "\n",
        "            if is_train:\n",
        "                loss.backward()\n",
        "                optimizer.step()\n",
        "                optimizer.zero_grad()\n",
        "\n",
        "            y_batch = y_batch.type(torch.long)\n",
        "            tp = TP(logits, y_batch)\n",
        "            fp = FP(logits, y_batch)\n",
        "            fn = FN(logits, y_batch)\n",
        "\n",
        "            precision = _precision(tp, fp)\n",
        "            recall = _recall(tp, fn)\n",
        "            f1 = f1_scr(precision, recall)\n",
        "            \n",
        "            epoch_tp += tp\n",
        "            epoch_fp += fp\n",
        "            epoch_fn += fn\n",
        "\n",
        "            print('\\r[{} / {}]: Loss = {:.4f}, Precision = {:.2%}, Recall = {:.2%}, F1 = {:.2%}'.format(\n",
        "                  i, batchs_count, loss.item(), precision, recall, f1), end='')\n",
        "        \n",
        "    precision = _precision(epoch_tp, epoch_fp)\n",
        "    recall = _recall(epoch_tp, epoch_fn)\n",
        "    f1 = f1_scr(precision, recall)\n",
        "        \n",
        "    return epoch_loss / batchs_count, recall, precision, f1\n",
        "\n",
        "def fit(model, criterion, optimizer, train_data, epochs_count=1, \n",
        "        batch_size=32, val_data=None, val_batch_size=None):\n",
        "    if not val_data is None and val_batch_size is None:\n",
        "        val_batch_size = batch_size\n",
        "        \n",
        "    for epoch in range(epochs_count):\n",
        "        start_time = time.time()\n",
        "        train_loss, train_recall, train_precision, train_f1 = do_epoch(\n",
        "            model, criterion, train_data, batch_size, optimizer\n",
        "        )\n",
        "        \n",
        "        output_info = '\\rEpoch {} / {}, Epoch Time = {:.2f}s: Train Loss = {:.4f}, Precision = {:.2%}, Recall = {:.2%}, F1 = {:.2%}'\n",
        "        if not val_data is None:\n",
        "            val_loss, val_recall, val_precision, val_f1 = do_epoch(model, criterion, val_data, val_batch_size, None)\n",
        "            \n",
        "            epoch_time = time.time() - start_time\n",
        "            output_info += ', Val Loss = {:.4f}, Precision = {:.2%}, Recall = {:.2%}, F1 = {:.2%}'\n",
        "            print(output_info.format(epoch+1, epochs_count, epoch_time, \n",
        "                                     train_loss, train_recall, train_precision, train_f1,\n",
        "                                     val_loss, val_recall, val_precision, val_f1))\n",
        "        else:\n",
        "            epoch_time = time.time() - start_time\n",
        "            print(output_info.format(epoch+1, epochs_count, epoch_time, train_loss))"
      ],
      "execution_count": 59,
      "outputs": []
    },
    {
      "cell_type": "code",
      "metadata": {
        "id": "jlq63hAXh0Gr",
        "colab_type": "code",
        "colab": {
          "base_uri": "https://localhost:8080/",
          "height": 1000
        },
        "outputId": "ce175a7b-19bb-4130-bd6b-2744db674db2"
      },
      "source": [
        "model = ConvClassifier(len(char_index) + 1, 24, 128).cuda()\n",
        "\n",
        "criterion = nn.BCEWithLogitsLoss().cuda()\n",
        "\n",
        "optimizer = optim.Adam([param for param in model.parameters() if param.requires_grad])\n",
        "\n",
        "fit(model, criterion, optimizer, train_data=(X_train, train_labels), epochs_count=100, \n",
        "    batch_size=512, val_data=(X_test, test_labels), val_batch_size=1024)"
      ],
      "execution_count": 61,
      "outputs": [
        {
          "output_type": "stream",
          "text": [
            "Epoch 1 / 100, Epoch Time = 4.38s: Train Loss = 0.3228, Precision = 2.34%, Recall = 67.70%, F1 = 4.53%, Val Loss = 0.2892, Precision = 9.42%, Recall = 73.57%, F1 = 16.70%\n",
            "Epoch 2 / 100, Epoch Time = 4.34s: Train Loss = 0.2624, Precision = 19.74%, Recall = 76.53%, F1 = 31.38%, Val Loss = 0.2506, Precision = 26.16%, Recall = 79.44%, F1 = 39.36%\n",
            "Epoch 3 / 100, Epoch Time = 4.35s: Train Loss = 0.2315, Precision = 33.45%, Recall = 78.44%, F1 = 46.90%, Val Loss = 0.2298, Precision = 39.27%, Recall = 77.87%, F1 = 52.21%\n",
            "Epoch 4 / 100, Epoch Time = 4.37s: Train Loss = 0.2113, Precision = 42.57%, Recall = 78.92%, F1 = 55.31%, Val Loss = 0.2165, Precision = 44.60%, Recall = 77.94%, F1 = 56.74%\n",
            "Epoch 5 / 100, Epoch Time = 4.44s: Train Loss = 0.1987, Precision = 48.41%, Recall = 78.96%, F1 = 60.02%, Val Loss = 0.2101, Precision = 42.29%, Recall = 81.64%, F1 = 55.71%\n",
            "Epoch 6 / 100, Epoch Time = 4.46s: Train Loss = 0.1879, Precision = 52.24%, Recall = 80.36%, F1 = 63.32%, Val Loss = 0.2012, Precision = 50.79%, Recall = 78.44%, F1 = 61.66%\n",
            "Epoch 7 / 100, Epoch Time = 4.46s: Train Loss = 0.1789, Precision = 54.95%, Recall = 81.20%, F1 = 65.55%, Val Loss = 0.1978, Precision = 52.35%, Recall = 77.76%, F1 = 62.57%\n",
            "Epoch 8 / 100, Epoch Time = 4.46s: Train Loss = 0.1725, Precision = 56.93%, Recall = 82.23%, F1 = 67.28%, Val Loss = 0.1954, Precision = 53.05%, Recall = 78.63%, F1 = 63.35%\n",
            "Epoch 9 / 100, Epoch Time = 4.47s: Train Loss = 0.1660, Precision = 58.99%, Recall = 82.76%, F1 = 68.89%, Val Loss = 0.1933, Precision = 55.91%, Recall = 75.97%, F1 = 64.42%\n",
            "Epoch 10 / 100, Epoch Time = 4.46s: Train Loss = 0.1612, Precision = 60.80%, Recall = 83.00%, F1 = 70.19%, Val Loss = 0.1922, Precision = 58.11%, Recall = 75.16%, F1 = 65.54%\n",
            "Epoch 11 / 100, Epoch Time = 4.47s: Train Loss = 0.1561, Precision = 61.88%, Recall = 83.38%, F1 = 71.04%, Val Loss = 0.1924, Precision = 59.97%, Recall = 74.25%, F1 = 66.35%\n",
            "Epoch 12 / 100, Epoch Time = 4.48s: Train Loss = 0.1518, Precision = 63.88%, Recall = 84.29%, F1 = 72.68%, Val Loss = 0.1906, Precision = 55.82%, Recall = 78.38%, F1 = 65.21%\n",
            "Epoch 13 / 100, Epoch Time = 4.48s: Train Loss = 0.1473, Precision = 64.97%, Recall = 85.38%, F1 = 73.79%, Val Loss = 0.1918, Precision = 60.49%, Recall = 74.22%, F1 = 66.66%\n",
            "Epoch 14 / 100, Epoch Time = 4.48s: Train Loss = 0.1437, Precision = 66.47%, Recall = 85.39%, F1 = 74.75%, Val Loss = 0.1911, Precision = 54.73%, Recall = 79.46%, F1 = 64.81%\n",
            "Epoch 15 / 100, Epoch Time = 4.48s: Train Loss = 0.1397, Precision = 67.42%, Recall = 86.02%, F1 = 75.59%, Val Loss = 0.1913, Precision = 57.16%, Recall = 78.35%, F1 = 66.10%\n",
            "Epoch 16 / 100, Epoch Time = 4.49s: Train Loss = 0.1368, Precision = 68.54%, Recall = 86.25%, F1 = 76.38%, Val Loss = 0.1913, Precision = 60.18%, Recall = 75.03%, F1 = 66.79%\n",
            "Epoch 17 / 100, Epoch Time = 4.55s: Train Loss = 0.1332, Precision = 69.31%, Recall = 86.86%, F1 = 77.10%, Val Loss = 0.1909, Precision = 58.63%, Recall = 77.38%, F1 = 66.71%\n",
            "Epoch 18 / 100, Epoch Time = 4.57s: Train Loss = 0.1311, Precision = 70.53%, Recall = 86.73%, F1 = 77.80%, Val Loss = 0.1917, Precision = 60.06%, Recall = 73.92%, F1 = 66.27%\n",
            "Epoch 19 / 100, Epoch Time = 4.62s: Train Loss = 0.1269, Precision = 71.12%, Recall = 87.38%, F1 = 78.42%, Val Loss = 0.1955, Precision = 64.42%, Recall = 71.22%, F1 = 67.65%\n",
            "Epoch 20 / 100, Epoch Time = 4.66s: Train Loss = 0.1244, Precision = 72.20%, Recall = 87.68%, F1 = 79.19%, Val Loss = 0.1926, Precision = 60.88%, Recall = 74.54%, F1 = 67.02%\n",
            "Epoch 21 / 100, Epoch Time = 4.69s: Train Loss = 0.1205, Precision = 72.83%, Recall = 88.00%, F1 = 79.70%, Val Loss = 0.1940, Precision = 59.57%, Recall = 75.01%, F1 = 66.41%\n",
            "Epoch 22 / 100, Epoch Time = 4.71s: Train Loss = 0.1188, Precision = 73.74%, Recall = 88.55%, F1 = 80.47%, Val Loss = 0.1954, Precision = 61.71%, Recall = 74.06%, F1 = 67.32%\n",
            "Epoch 23 / 100, Epoch Time = 4.68s: Train Loss = 0.1152, Precision = 74.49%, Recall = 88.53%, F1 = 80.90%, Val Loss = 0.1977, Precision = 65.34%, Recall = 70.66%, F1 = 67.89%\n",
            "Epoch 24 / 100, Epoch Time = 4.66s: Train Loss = 0.1127, Precision = 75.18%, Recall = 88.19%, F1 = 81.16%, Val Loss = 0.2059, Precision = 52.29%, Recall = 81.09%, F1 = 63.58%\n",
            "Epoch 25 / 100, Epoch Time = 4.64s: Train Loss = 0.1101, Precision = 75.93%, Recall = 88.99%, F1 = 81.94%, Val Loss = 0.1999, Precision = 57.77%, Recall = 76.97%, F1 = 66.00%\n",
            "Epoch 26 / 100, Epoch Time = 4.58s: Train Loss = 0.1081, Precision = 76.08%, Recall = 89.07%, F1 = 82.07%, Val Loss = 0.2005, Precision = 57.16%, Recall = 76.84%, F1 = 65.56%\n",
            "Epoch 27 / 100, Epoch Time = 4.57s: Train Loss = 0.1052, Precision = 77.31%, Recall = 89.82%, F1 = 83.09%, Val Loss = 0.2010, Precision = 61.46%, Recall = 72.62%, F1 = 66.58%\n",
            "Epoch 28 / 100, Epoch Time = 4.54s: Train Loss = 0.1036, Precision = 77.49%, Recall = 89.68%, F1 = 83.14%, Val Loss = 0.2003, Precision = 60.00%, Recall = 74.52%, F1 = 66.48%\n",
            "Epoch 29 / 100, Epoch Time = 4.54s: Train Loss = 0.1004, Precision = 78.42%, Recall = 90.47%, F1 = 84.02%, Val Loss = 0.2027, Precision = 60.73%, Recall = 74.16%, F1 = 66.78%\n",
            "Epoch 30 / 100, Epoch Time = 4.53s: Train Loss = 0.0978, Precision = 78.72%, Recall = 90.57%, F1 = 84.23%, Val Loss = 0.2064, Precision = 55.76%, Recall = 78.33%, F1 = 65.15%\n",
            "Epoch 31 / 100, Epoch Time = 4.52s: Train Loss = 0.0951, Precision = 79.91%, Recall = 90.82%, F1 = 85.02%, Val Loss = 0.2115, Precision = 53.35%, Recall = 79.76%, F1 = 63.94%\n",
            "Epoch 32 / 100, Epoch Time = 4.52s: Train Loss = 0.0938, Precision = 79.68%, Recall = 91.23%, F1 = 85.06%, Val Loss = 0.2064, Precision = 59.54%, Recall = 75.12%, F1 = 66.43%\n",
            "Epoch 33 / 100, Epoch Time = 4.54s: Train Loss = 0.0918, Precision = 80.46%, Recall = 91.29%, F1 = 85.54%, Val Loss = 0.2113, Precision = 65.43%, Recall = 68.43%, F1 = 66.90%\n",
            "Epoch 34 / 100, Epoch Time = 4.55s: Train Loss = 0.0896, Precision = 81.26%, Recall = 91.27%, F1 = 85.98%, Val Loss = 0.2125, Precision = 57.01%, Recall = 77.30%, F1 = 65.63%\n",
            "Epoch 35 / 100, Epoch Time = 4.56s: Train Loss = 0.0876, Precision = 81.52%, Recall = 91.28%, F1 = 86.13%, Val Loss = 0.2114, Precision = 61.49%, Recall = 72.68%, F1 = 66.62%\n",
            "Epoch 36 / 100, Epoch Time = 4.58s: Train Loss = 0.0875, Precision = 81.70%, Recall = 91.36%, F1 = 86.26%, Val Loss = 0.2182, Precision = 55.98%, Recall = 77.57%, F1 = 65.03%\n",
            "Epoch 37 / 100, Epoch Time = 4.58s: Train Loss = 0.0845, Precision = 82.16%, Recall = 91.93%, F1 = 86.77%, Val Loss = 0.2168, Precision = 58.23%, Recall = 76.31%, F1 = 66.06%\n",
            "Epoch 38 / 100, Epoch Time = 4.60s: Train Loss = 0.0820, Precision = 83.01%, Recall = 92.38%, F1 = 87.44%, Val Loss = 0.2145, Precision = 62.26%, Recall = 71.75%, F1 = 66.67%\n",
            "Epoch 39 / 100, Epoch Time = 4.60s: Train Loss = 0.0809, Precision = 83.85%, Recall = 92.32%, F1 = 87.88%, Val Loss = 0.2183, Precision = 59.09%, Recall = 75.20%, F1 = 66.18%\n",
            "Epoch 40 / 100, Epoch Time = 4.61s: Train Loss = 0.0796, Precision = 83.90%, Recall = 92.34%, F1 = 87.92%, Val Loss = 0.2201, Precision = 60.98%, Recall = 73.86%, F1 = 66.80%\n",
            "Epoch 41 / 100, Epoch Time = 4.61s: Train Loss = 0.0788, Precision = 83.80%, Recall = 92.49%, F1 = 87.93%, Val Loss = 0.2253, Precision = 66.83%, Recall = 67.30%, F1 = 67.06%\n",
            "Epoch 42 / 100, Epoch Time = 4.61s: Train Loss = 0.0785, Precision = 84.39%, Recall = 92.23%, F1 = 88.13%, Val Loss = 0.2255, Precision = 59.33%, Recall = 74.87%, F1 = 66.20%\n",
            "Epoch 43 / 100, Epoch Time = 4.61s: Train Loss = 0.0744, Precision = 85.41%, Recall = 93.02%, F1 = 89.06%, Val Loss = 0.2255, Precision = 61.74%, Recall = 71.05%, F1 = 66.07%\n",
            "Epoch 44 / 100, Epoch Time = 4.59s: Train Loss = 0.0728, Precision = 85.87%, Recall = 93.32%, F1 = 89.44%, Val Loss = 0.2267, Precision = 61.31%, Recall = 72.29%, F1 = 66.35%\n",
            "Epoch 45 / 100, Epoch Time = 4.60s: Train Loss = 0.0717, Precision = 85.80%, Recall = 93.49%, F1 = 89.48%, Val Loss = 0.2300, Precision = 61.68%, Recall = 72.15%, F1 = 66.50%\n",
            "Epoch 46 / 100, Epoch Time = 4.59s: Train Loss = 0.0713, Precision = 85.70%, Recall = 92.97%, F1 = 89.19%, Val Loss = 0.2353, Precision = 67.29%, Recall = 65.18%, F1 = 66.22%\n",
            "Epoch 47 / 100, Epoch Time = 4.59s: Train Loss = 0.0687, Precision = 86.76%, Recall = 93.83%, F1 = 90.16%, Val Loss = 0.2337, Precision = 65.40%, Recall = 67.82%, F1 = 66.58%\n",
            "Epoch 48 / 100, Epoch Time = 4.59s: Train Loss = 0.0673, Precision = 87.19%, Recall = 93.88%, F1 = 90.41%, Val Loss = 0.2336, Precision = 59.54%, Recall = 73.59%, F1 = 65.82%\n",
            "Epoch 49 / 100, Epoch Time = 4.60s: Train Loss = 0.0657, Precision = 87.27%, Recall = 93.95%, F1 = 90.48%, Val Loss = 0.2344, Precision = 64.88%, Recall = 68.21%, F1 = 66.50%\n",
            "Epoch 50 / 100, Epoch Time = 4.58s: Train Loss = 0.0647, Precision = 87.82%, Recall = 94.03%, F1 = 90.82%, Val Loss = 0.2377, Precision = 62.41%, Recall = 71.05%, F1 = 66.45%\n",
            "Epoch 51 / 100, Epoch Time = 4.60s: Train Loss = 0.0648, Precision = 87.73%, Recall = 93.96%, F1 = 90.74%, Val Loss = 0.2398, Precision = 60.88%, Recall = 71.55%, F1 = 65.79%\n",
            "Epoch 52 / 100, Epoch Time = 4.59s: Train Loss = 0.0618, Precision = 88.12%, Recall = 94.64%, F1 = 91.26%, Val Loss = 0.2472, Precision = 68.05%, Recall = 64.58%, F1 = 66.27%\n",
            "Epoch 53 / 100, Epoch Time = 4.60s: Train Loss = 0.0615, Precision = 88.14%, Recall = 93.96%, F1 = 90.96%, Val Loss = 0.2460, Precision = 58.99%, Recall = 73.66%, F1 = 65.52%\n",
            "Epoch 54 / 100, Epoch Time = 4.60s: Train Loss = 0.0593, Precision = 89.18%, Recall = 94.71%, F1 = 91.86%, Val Loss = 0.2471, Precision = 58.32%, Recall = 73.44%, F1 = 65.01%\n",
            "Epoch 55 / 100, Epoch Time = 4.59s: Train Loss = 0.0585, Precision = 89.29%, Recall = 95.00%, F1 = 92.05%, Val Loss = 0.2458, Precision = 62.38%, Recall = 70.53%, F1 = 66.20%\n",
            "Epoch 56 / 100, Epoch Time = 4.58s: Train Loss = 0.0571, Precision = 89.84%, Recall = 94.99%, F1 = 92.35%, Val Loss = 0.2499, Precision = 63.29%, Recall = 69.13%, F1 = 66.08%\n",
            "Epoch 57 / 100, Epoch Time = 4.58s: Train Loss = 0.0567, Precision = 89.98%, Recall = 94.68%, F1 = 92.27%, Val Loss = 0.2515, Precision = 60.34%, Recall = 71.83%, F1 = 65.58%\n",
            "Epoch 58 / 100, Epoch Time = 4.58s: Train Loss = 0.0549, Precision = 90.30%, Recall = 95.22%, F1 = 92.69%, Val Loss = 0.2542, Precision = 63.20%, Recall = 69.05%, F1 = 66.00%\n",
            "Epoch 59 / 100, Epoch Time = 4.59s: Train Loss = 0.0547, Precision = 90.32%, Recall = 94.94%, F1 = 92.57%, Val Loss = 0.2579, Precision = 60.30%, Recall = 71.82%, F1 = 65.56%\n",
            "Epoch 60 / 100, Epoch Time = 4.58s: Train Loss = 0.0527, Precision = 90.55%, Recall = 95.55%, F1 = 92.98%, Val Loss = 0.2583, Precision = 61.16%, Recall = 70.78%, F1 = 65.62%\n",
            "Epoch 61 / 100, Epoch Time = 4.57s: Train Loss = 0.0527, Precision = 90.38%, Recall = 95.16%, F1 = 92.71%, Val Loss = 0.2635, Precision = 59.73%, Recall = 71.94%, F1 = 65.27%\n",
            "Epoch 62 / 100, Epoch Time = 4.58s: Train Loss = 0.0502, Precision = 91.28%, Recall = 95.79%, F1 = 93.48%, Val Loss = 0.2641, Precision = 63.84%, Recall = 67.22%, F1 = 65.49%\n",
            "Epoch 63 / 100, Epoch Time = 4.58s: Train Loss = 0.0498, Precision = 91.63%, Recall = 95.51%, F1 = 93.53%, Val Loss = 0.2752, Precision = 56.92%, Recall = 74.74%, F1 = 64.62%\n",
            "Epoch 64 / 100, Epoch Time = 4.58s: Train Loss = 0.0488, Precision = 91.46%, Recall = 95.55%, F1 = 93.46%, Val Loss = 0.2692, Precision = 59.42%, Recall = 72.16%, F1 = 65.17%\n",
            "Epoch 65 / 100, Epoch Time = 4.59s: Train Loss = 0.0477, Precision = 91.86%, Recall = 95.69%, F1 = 93.74%, Val Loss = 0.2686, Precision = 62.32%, Recall = 68.75%, F1 = 65.38%\n",
            "Epoch 66 / 100, Epoch Time = 4.58s: Train Loss = 0.0475, Precision = 91.66%, Recall = 95.82%, F1 = 93.70%, Val Loss = 0.2729, Precision = 62.01%, Recall = 69.28%, F1 = 65.44%\n",
            "Epoch 67 / 100, Epoch Time = 4.56s: Train Loss = 0.0469, Precision = 92.05%, Recall = 95.77%, F1 = 93.87%, Val Loss = 0.2883, Precision = 54.85%, Recall = 76.07%, F1 = 63.74%\n",
            "Epoch 68 / 100, Epoch Time = 4.58s: Train Loss = 0.0449, Precision = 92.45%, Recall = 96.16%, F1 = 94.27%, Val Loss = 0.2737, Precision = 61.86%, Recall = 69.80%, F1 = 65.59%\n",
            "Epoch 69 / 100, Epoch Time = 4.57s: Train Loss = 0.0433, Precision = 93.10%, Recall = 96.51%, F1 = 94.77%, Val Loss = 0.2793, Precision = 62.01%, Recall = 69.23%, F1 = 65.42%\n",
            "Epoch 70 / 100, Epoch Time = 4.56s: Train Loss = 0.0437, Precision = 92.63%, Recall = 96.40%, F1 = 94.48%, Val Loss = 0.2802, Precision = 63.20%, Recall = 67.88%, F1 = 65.46%\n",
            "Epoch 71 / 100, Epoch Time = 4.58s: Train Loss = 0.0417, Precision = 93.40%, Recall = 96.38%, F1 = 94.86%, Val Loss = 0.2835, Precision = 60.52%, Recall = 70.64%, F1 = 65.19%\n",
            "Epoch 72 / 100, Epoch Time = 4.57s: Train Loss = 0.0416, Precision = 93.38%, Recall = 96.42%, F1 = 94.88%, Val Loss = 0.2846, Precision = 61.10%, Recall = 70.39%, F1 = 65.42%\n",
            "Epoch 73 / 100, Epoch Time = 4.54s: Train Loss = 0.0398, Precision = 93.98%, Recall = 96.81%, F1 = 95.37%, Val Loss = 0.2909, Precision = 58.81%, Recall = 71.63%, F1 = 64.59%\n",
            "Epoch 74 / 100, Epoch Time = 4.54s: Train Loss = 0.0390, Precision = 94.12%, Recall = 96.72%, F1 = 95.40%, Val Loss = 0.2921, Precision = 64.57%, Recall = 65.27%, F1 = 64.92%\n",
            "Epoch 75 / 100, Epoch Time = 4.56s: Train Loss = 0.0389, Precision = 93.86%, Recall = 97.02%, F1 = 95.41%, Val Loss = 0.2921, Precision = 64.91%, Recall = 66.43%, F1 = 65.66%\n",
            "Epoch 76 / 100, Epoch Time = 4.53s: Train Loss = 0.0379, Precision = 94.12%, Recall = 96.83%, F1 = 95.45%, Val Loss = 0.2982, Precision = 58.78%, Recall = 71.28%, F1 = 64.43%\n",
            "Epoch 77 / 100, Epoch Time = 4.53s: Train Loss = 0.0379, Precision = 94.10%, Recall = 96.80%, F1 = 95.43%, Val Loss = 0.2984, Precision = 61.28%, Recall = 68.30%, F1 = 64.60%\n",
            "Epoch 78 / 100, Epoch Time = 4.53s: Train Loss = 0.0363, Precision = 94.67%, Recall = 97.06%, F1 = 95.85%, Val Loss = 0.3018, Precision = 60.91%, Recall = 69.88%, F1 = 65.09%\n",
            "Epoch 79 / 100, Epoch Time = 4.54s: Train Loss = 0.0357, Precision = 94.32%, Recall = 97.16%, F1 = 95.72%, Val Loss = 0.3025, Precision = 62.74%, Recall = 67.32%, F1 = 64.95%\n",
            "Epoch 80 / 100, Epoch Time = 4.53s: Train Loss = 0.0353, Precision = 94.67%, Recall = 97.08%, F1 = 95.86%, Val Loss = 0.3053, Precision = 61.52%, Recall = 68.80%, F1 = 64.96%\n",
            "Epoch 81 / 100, Epoch Time = 4.52s: Train Loss = 0.0344, Precision = 95.16%, Recall = 97.46%, F1 = 96.29%, Val Loss = 0.3080, Precision = 63.51%, Recall = 67.09%, F1 = 65.25%\n",
            "Epoch 82 / 100, Epoch Time = 4.53s: Train Loss = 0.0344, Precision = 94.59%, Recall = 97.12%, F1 = 95.84%, Val Loss = 0.3094, Precision = 61.98%, Recall = 68.71%, F1 = 65.17%\n",
            "Epoch 83 / 100, Epoch Time = 4.52s: Train Loss = 0.0329, Precision = 95.54%, Recall = 97.45%, F1 = 96.49%, Val Loss = 0.3152, Precision = 61.98%, Recall = 67.32%, F1 = 64.54%\n",
            "Epoch 84 / 100, Epoch Time = 4.51s: Train Loss = 0.0330, Precision = 95.30%, Recall = 97.29%, F1 = 96.28%, Val Loss = 0.3221, Precision = 57.84%, Recall = 72.02%, F1 = 64.15%\n",
            "Epoch 85 / 100, Epoch Time = 4.54s: Train Loss = 0.0308, Precision = 95.77%, Recall = 97.96%, F1 = 96.85%, Val Loss = 0.3182, Precision = 61.59%, Recall = 68.85%, F1 = 65.01%\n",
            "Epoch 86 / 100, Epoch Time = 4.50s: Train Loss = 0.0307, Precision = 95.94%, Recall = 97.68%, F1 = 96.80%, Val Loss = 0.3260, Precision = 59.36%, Recall = 70.52%, F1 = 64.46%\n",
            "Epoch 87 / 100, Epoch Time = 4.49s: Train Loss = 0.0320, Precision = 95.34%, Recall = 97.71%, F1 = 96.51%, Val Loss = 0.3235, Precision = 64.51%, Recall = 65.43%, F1 = 64.97%\n",
            "Epoch 88 / 100, Epoch Time = 4.52s: Train Loss = 0.0293, Precision = 96.41%, Recall = 97.72%, F1 = 97.06%, Val Loss = 0.3255, Precision = 61.74%, Recall = 68.34%, F1 = 64.87%\n",
            "Epoch 89 / 100, Epoch Time = 4.52s: Train Loss = 0.0286, Precision = 96.32%, Recall = 97.99%, F1 = 97.15%, Val Loss = 0.3315, Precision = 58.84%, Recall = 70.44%, F1 = 64.12%\n",
            "Epoch 90 / 100, Epoch Time = 4.50s: Train Loss = 0.0285, Precision = 96.54%, Recall = 97.86%, F1 = 97.19%, Val Loss = 0.3349, Precision = 65.43%, Recall = 64.08%, F1 = 64.75%\n",
            "Epoch 91 / 100, Epoch Time = 4.49s: Train Loss = 0.0284, Precision = 96.03%, Recall = 97.65%, F1 = 96.83%, Val Loss = 0.3338, Precision = 64.85%, Recall = 65.17%, F1 = 65.01%\n",
            "Epoch 92 / 100, Epoch Time = 4.49s: Train Loss = 0.0289, Precision = 96.00%, Recall = 97.75%, F1 = 96.87%, Val Loss = 0.3365, Precision = 61.55%, Recall = 67.80%, F1 = 64.53%\n",
            "Epoch 93 / 100, Epoch Time = 4.49s: Train Loss = 0.0268, Precision = 96.35%, Recall = 97.99%, F1 = 97.16%, Val Loss = 0.3387, Precision = 61.28%, Recall = 68.76%, F1 = 64.81%\n",
            "Epoch 94 / 100, Epoch Time = 4.50s: Train Loss = 0.0261, Precision = 96.95%, Recall = 98.23%, F1 = 97.59%, Val Loss = 0.3381, Precision = 62.47%, Recall = 67.18%, F1 = 64.74%\n",
            "Epoch 95 / 100, Epoch Time = 4.48s: Train Loss = 0.0270, Precision = 96.41%, Recall = 97.99%, F1 = 97.20%, Val Loss = 0.3434, Precision = 63.05%, Recall = 66.22%, F1 = 64.59%\n",
            "Epoch 96 / 100, Epoch Time = 4.48s: Train Loss = 0.0253, Precision = 96.78%, Recall = 98.12%, F1 = 97.45%, Val Loss = 0.3578, Precision = 56.71%, Recall = 72.49%, F1 = 63.63%\n",
            "Epoch 97 / 100, Epoch Time = 4.48s: Train Loss = 0.0248, Precision = 96.89%, Recall = 98.15%, F1 = 97.52%, Val Loss = 0.3491, Precision = 61.71%, Recall = 68.42%, F1 = 64.89%\n",
            "Epoch 98 / 100, Epoch Time = 4.49s: Train Loss = 0.0233, Precision = 97.49%, Recall = 98.32%, F1 = 97.90%, Val Loss = 0.3515, Precision = 61.31%, Recall = 68.47%, F1 = 64.69%\n",
            "Epoch 99 / 100, Epoch Time = 4.49s: Train Loss = 0.0230, Precision = 97.46%, Recall = 98.45%, F1 = 97.95%, Val Loss = 0.3535, Precision = 61.01%, Recall = 67.97%, F1 = 64.30%\n",
            "Epoch 100 / 100, Epoch Time = 4.48s: Train Loss = 0.0223, Precision = 97.64%, Recall = 98.44%, F1 = 98.04%, Val Loss = 0.3572, Precision = 61.71%, Recall = 68.03%, F1 = 64.72%\n"
          ],
          "name": "stdout"
        }
      ]
    },
    {
      "cell_type": "markdown",
      "metadata": {
        "id": "4o-1AEcFCjAk",
        "colab_type": "text"
      },
      "source": [
        "**Задание** Проверьте работу классификатора на вашей фамилии.\n",
        "\n",
        "Нужно не забыть перевести модель в режим инференса - некоторые слои на трейне и инференсе ведут себя по-разному."
      ]
    },
    {
      "cell_type": "code",
      "metadata": {
        "id": "svO9OrF4CiLI",
        "colab_type": "code",
        "colab": {
          "base_uri": "https://localhost:8080/",
          "height": 34
        },
        "outputId": "97db2cbe-3ff9-4648-9ffb-e19d0128386d"
      },
      "source": [
        "model.eval()\n",
        "\n",
        "surname = 'Дмитриев'\n",
        "surname_tensor = LongTensor(convert_data([surname], MAX_WORD_LEN, char_index))\n",
        "print('P({} is surname) = {}'.format(surname, torch.sigmoid(model(surname_tensor))))"
      ],
      "execution_count": 65,
      "outputs": [
        {
          "output_type": "stream",
          "text": [
            "P(Дмитриев is surname) = tensor([0.0015], device='cuda:0', grad_fn=<SigmoidBackward>)\n"
          ],
          "name": "stdout"
        }
      ]
    },
    {
      "cell_type": "markdown",
      "metadata": {
        "id": "djkksZKcDPA1",
        "colab_type": "text"
      },
      "source": [
        "**Задание** Постройте precision-recall curve для данного классификатора и предыдущей модели"
      ]
    },
    {
      "cell_type": "code",
      "metadata": {
        "id": "PZm7O56pDcH_",
        "colab_type": "code",
        "colab": {}
      },
      "source": [
        "from sklearn.metrics import precision_recall_curve\n",
        "import matplotlib.pyplot as plt\n",
        "%matplotlib inline\n",
        "\n",
        "inputs = LongTensor(X_test)\n",
        "logits = model(inputs).data.cpu().numpy()\n",
        "precision, recall, _ = precision_recall_curve(test_labels, logits)\n",
        "\n",
        "plt.figure(figsize=(7, 7))\n",
        "f_scores = np.linspace(0.2, 0.8, num=4)\n",
        "lines = []\n",
        "labels = []\n",
        "for f_score in f_scores:\n",
        "    x = np.linspace(0.01, 1)\n",
        "    y = f_score * x / (2 * x - f_score)\n",
        "    l, = plt.plot(x[y >= 0], y[y >= 0], color='gray', alpha=0.2)\n",
        "    plt.annotate('F1 = {0:0.1f}'.format(f_score), xy=(0.9, y[45] + 0.02))\n",
        "\n",
        "plt.plot(recall, precision)\n",
        "\n",
        "plt.xlim([0.0, 1.0])\n",
        "plt.ylim([0.0, 1.05])\n",
        "plt.xlabel('Recall')\n",
        "plt.ylabel('Precision')\n",
        "plt.title('Precision-Recall Curve')\n",
        "\n",
        "plt.show()"
      ],
      "execution_count": null,
      "outputs": []
    },
    {
      "cell_type": "markdown",
      "metadata": {
        "id": "_FPTfBzSDheP",
        "colab_type": "text"
      },
      "source": [
        "## Визуализации\n",
        "\n",
        "### Визуализация эмбеддингов\n",
        "\n",
        "**Задание** Визуализируем эмбеддинги слов, как это делали раньше"
      ]
    },
    {
      "cell_type": "code",
      "metadata": {
        "id": "DeW5av_ASrn4",
        "colab_type": "code",
        "colab": {}
      },
      "source": [
        "import bokeh.models as bm, bokeh.plotting as pl\n",
        "from bokeh.io import output_notebook\n",
        "\n",
        "# from sklearn.manifold import TSNE\n",
        "import umap\n",
        "from sklearn.preprocessing import scale\n",
        "\n",
        "\n",
        "def draw_vectors(x, y, radius=10, alpha=0.25, color='blue',\n",
        "                 width=600, height=400, show=True, **kwargs):\n",
        "    \"\"\" draws an interactive plot for data points with auxilirary info on hover \"\"\"\n",
        "    output_notebook()\n",
        "    \n",
        "    if isinstance(color, str): \n",
        "        color = [color] * len(x)\n",
        "    data_source = bm.ColumnDataSource({ 'x' : x, 'y' : y, 'color': color, **kwargs })\n",
        "\n",
        "    fig = pl.figure(active_scroll='wheel_zoom', width=width, height=height)\n",
        "    fig.scatter('x', 'y', size=radius, color='color', alpha=alpha, source=data_source)\n",
        "\n",
        "    fig.add_tools(bm.HoverTool(tooltips=[(key, \"@\" + key) for key in kwargs.keys()]))\n",
        "    if show: \n",
        "        pl.show(fig)\n",
        "    return fig\n",
        "\n",
        "\n",
        "def get_tsne_projection(word_vectors):\n",
        "    tsne = umap.UMAP(n_components=2, verbose=100)\n",
        "    return scale(tsne.fit_transform(word_vectors))\n",
        "    \n",
        "    \n",
        "def visualize_embeddings(embeddings, token, colors):\n",
        "    tsne = get_tsne_projection(embeddings)\n",
        "    draw_vectors(tsne[:, 0], tsne[:, 1], color=colors, token=token)"
      ],
      "execution_count": 67,
      "outputs": []
    },
    {
      "cell_type": "code",
      "metadata": {
        "id": "67KNX5lBTdrt",
        "colab_type": "code",
        "colab": {
          "base_uri": "https://localhost:8080/",
          "height": 879
        },
        "outputId": "eeefbee5-9f94-408c-de24-357f573eb1a9"
      },
      "source": [
        "word_indices = np.random.choice(np.arange(len(test_data)), 1000, replace=False)\n",
        "words = [test_data[ind] for ind in word_indices]\n",
        "labels = test_labels[word_indices]\n",
        "\n",
        "word_tensor = LongTensor(convert_data(words, max(len(x) for x in words), char_index))\n",
        "embeddings = model.embed(word_tensor).detach().cpu().numpy()\n",
        "\n",
        "colors = ['red' if label else 'blue' for label in labels]\n",
        "\n",
        "visualize_embeddings(embeddings, words, colors)"
      ],
      "execution_count": 70,
      "outputs": [
        {
          "output_type": "stream",
          "text": [
            "UMAP(a=None, angular_rp_forest=False, b=None,\n",
            "     force_approximation_algorithm=False, init='spectral', learning_rate=1.0,\n",
            "     local_connectivity=1.0, low_memory=False, metric='euclidean',\n",
            "     metric_kwds=None, min_dist=0.1, n_components=2, n_epochs=None,\n",
            "     n_neighbors=15, negative_sample_rate=5, output_metric='euclidean',\n",
            "     output_metric_kwds=None, random_state=None, repulsion_strength=1.0,\n",
            "     set_op_mix_ratio=1.0, spread=1.0, target_metric='categorical',\n",
            "     target_metric_kwds=None, target_n_neighbors=-1, target_weight=0.5,\n",
            "     transform_queue_size=4.0, transform_seed=42, unique=False, verbose=100)\n",
            "Construct fuzzy simplicial set\n",
            "Mon Jul 13 20:02:43 2020 Finding Nearest Neighbors\n",
            "Mon Jul 13 20:02:45 2020 Finished Nearest Neighbor Search\n",
            "Mon Jul 13 20:02:47 2020 Construct embedding\n",
            "\tcompleted  0  /  500 epochs\n",
            "\tcompleted  50  /  500 epochs\n",
            "\tcompleted  100  /  500 epochs\n",
            "\tcompleted  150  /  500 epochs\n",
            "\tcompleted  200  /  500 epochs\n",
            "\tcompleted  250  /  500 epochs\n",
            "\tcompleted  300  /  500 epochs\n",
            "\tcompleted  350  /  500 epochs\n",
            "\tcompleted  400  /  500 epochs\n",
            "\tcompleted  450  /  500 epochs\n",
            "Mon Jul 13 20:02:51 2020 Finished embedding\n"
          ],
          "name": "stdout"
        },
        {
          "output_type": "stream",
          "text": [
            "/usr/local/lib/python3.6/dist-packages/sklearn/preprocessing/_data.py:173: UserWarning: Numerical issues were encountered when centering the data and might not be solved. Dataset may contain too large values. You may need to prescale your features.\n",
            "  warnings.warn(\"Numerical issues were encountered \"\n"
          ],
          "name": "stderr"
        },
        {
          "output_type": "display_data",
          "data": {
            "application/javascript": [
              "\n",
              "(function(root) {\n",
              "  function now() {\n",
              "    return new Date();\n",
              "  }\n",
              "\n",
              "  var force = true;\n",
              "\n",
              "  if (typeof (root._bokeh_onload_callbacks) === \"undefined\" || force === true) {\n",
              "    root._bokeh_onload_callbacks = [];\n",
              "    root._bokeh_is_loading = undefined;\n",
              "  }\n",
              "\n",
              "  var JS_MIME_TYPE = 'application/javascript';\n",
              "  var HTML_MIME_TYPE = 'text/html';\n",
              "  var EXEC_MIME_TYPE = 'application/vnd.bokehjs_exec.v0+json';\n",
              "  var CLASS_NAME = 'output_bokeh rendered_html';\n",
              "\n",
              "  /**\n",
              "   * Render data to the DOM node\n",
              "   */\n",
              "  function render(props, node) {\n",
              "    var script = document.createElement(\"script\");\n",
              "    node.appendChild(script);\n",
              "  }\n",
              "\n",
              "  /**\n",
              "   * Handle when an output is cleared or removed\n",
              "   */\n",
              "  function handleClearOutput(event, handle) {\n",
              "    var cell = handle.cell;\n",
              "\n",
              "    var id = cell.output_area._bokeh_element_id;\n",
              "    var server_id = cell.output_area._bokeh_server_id;\n",
              "    // Clean up Bokeh references\n",
              "    if (id != null && id in Bokeh.index) {\n",
              "      Bokeh.index[id].model.document.clear();\n",
              "      delete Bokeh.index[id];\n",
              "    }\n",
              "\n",
              "    if (server_id !== undefined) {\n",
              "      // Clean up Bokeh references\n",
              "      var cmd = \"from bokeh.io.state import curstate; print(curstate().uuid_to_server['\" + server_id + \"'].get_sessions()[0].document.roots[0]._id)\";\n",
              "      cell.notebook.kernel.execute(cmd, {\n",
              "        iopub: {\n",
              "          output: function(msg) {\n",
              "            var id = msg.content.text.trim();\n",
              "            if (id in Bokeh.index) {\n",
              "              Bokeh.index[id].model.document.clear();\n",
              "              delete Bokeh.index[id];\n",
              "            }\n",
              "          }\n",
              "        }\n",
              "      });\n",
              "      // Destroy server and session\n",
              "      var cmd = \"import bokeh.io.notebook as ion; ion.destroy_server('\" + server_id + \"')\";\n",
              "      cell.notebook.kernel.execute(cmd);\n",
              "    }\n",
              "  }\n",
              "\n",
              "  /**\n",
              "   * Handle when a new output is added\n",
              "   */\n",
              "  function handleAddOutput(event, handle) {\n",
              "    var output_area = handle.output_area;\n",
              "    var output = handle.output;\n",
              "\n",
              "    // limit handleAddOutput to display_data with EXEC_MIME_TYPE content only\n",
              "    if ((output.output_type != \"display_data\") || (!output.data.hasOwnProperty(EXEC_MIME_TYPE))) {\n",
              "      return\n",
              "    }\n",
              "\n",
              "    var toinsert = output_area.element.find(\".\" + CLASS_NAME.split(' ')[0]);\n",
              "\n",
              "    if (output.metadata[EXEC_MIME_TYPE][\"id\"] !== undefined) {\n",
              "      toinsert[toinsert.length - 1].firstChild.textContent = output.data[JS_MIME_TYPE];\n",
              "      // store reference to embed id on output_area\n",
              "      output_area._bokeh_element_id = output.metadata[EXEC_MIME_TYPE][\"id\"];\n",
              "    }\n",
              "    if (output.metadata[EXEC_MIME_TYPE][\"server_id\"] !== undefined) {\n",
              "      var bk_div = document.createElement(\"div\");\n",
              "      bk_div.innerHTML = output.data[HTML_MIME_TYPE];\n",
              "      var script_attrs = bk_div.children[0].attributes;\n",
              "      for (var i = 0; i < script_attrs.length; i++) {\n",
              "        toinsert[toinsert.length - 1].firstChild.setAttribute(script_attrs[i].name, script_attrs[i].value);\n",
              "      }\n",
              "      // store reference to server id on output_area\n",
              "      output_area._bokeh_server_id = output.metadata[EXEC_MIME_TYPE][\"server_id\"];\n",
              "    }\n",
              "  }\n",
              "\n",
              "  function register_renderer(events, OutputArea) {\n",
              "\n",
              "    function append_mime(data, metadata, element) {\n",
              "      // create a DOM node to render to\n",
              "      var toinsert = this.create_output_subarea(\n",
              "        metadata,\n",
              "        CLASS_NAME,\n",
              "        EXEC_MIME_TYPE\n",
              "      );\n",
              "      this.keyboard_manager.register_events(toinsert);\n",
              "      // Render to node\n",
              "      var props = {data: data, metadata: metadata[EXEC_MIME_TYPE]};\n",
              "      render(props, toinsert[toinsert.length - 1]);\n",
              "      element.append(toinsert);\n",
              "      return toinsert\n",
              "    }\n",
              "\n",
              "    /* Handle when an output is cleared or removed */\n",
              "    events.on('clear_output.CodeCell', handleClearOutput);\n",
              "    events.on('delete.Cell', handleClearOutput);\n",
              "\n",
              "    /* Handle when a new output is added */\n",
              "    events.on('output_added.OutputArea', handleAddOutput);\n",
              "\n",
              "    /**\n",
              "     * Register the mime type and append_mime function with output_area\n",
              "     */\n",
              "    OutputArea.prototype.register_mime_type(EXEC_MIME_TYPE, append_mime, {\n",
              "      /* Is output safe? */\n",
              "      safe: true,\n",
              "      /* Index of renderer in `output_area.display_order` */\n",
              "      index: 0\n",
              "    });\n",
              "  }\n",
              "\n",
              "  // register the mime type if in Jupyter Notebook environment and previously unregistered\n",
              "  if (root.Jupyter !== undefined) {\n",
              "    var events = require('base/js/events');\n",
              "    var OutputArea = require('notebook/js/outputarea').OutputArea;\n",
              "\n",
              "    if (OutputArea.prototype.mime_types().indexOf(EXEC_MIME_TYPE) == -1) {\n",
              "      register_renderer(events, OutputArea);\n",
              "    }\n",
              "  }\n",
              "\n",
              "  \n",
              "  if (typeof (root._bokeh_timeout) === \"undefined\" || force === true) {\n",
              "    root._bokeh_timeout = Date.now() + 5000;\n",
              "    root._bokeh_failed_load = false;\n",
              "  }\n",
              "\n",
              "  var NB_LOAD_WARNING = {'data': {'text/html':\n",
              "     \"<div style='background-color: #fdd'>\\n\"+\n",
              "     \"<p>\\n\"+\n",
              "     \"BokehJS does not appear to have successfully loaded. If loading BokehJS from CDN, this \\n\"+\n",
              "     \"may be due to a slow or bad network connection. Possible fixes:\\n\"+\n",
              "     \"</p>\\n\"+\n",
              "     \"<ul>\\n\"+\n",
              "     \"<li>re-rerun `output_notebook()` to attempt to load from CDN again, or</li>\\n\"+\n",
              "     \"<li>use INLINE resources instead, as so:</li>\\n\"+\n",
              "     \"</ul>\\n\"+\n",
              "     \"<code>\\n\"+\n",
              "     \"from bokeh.resources import INLINE\\n\"+\n",
              "     \"output_notebook(resources=INLINE)\\n\"+\n",
              "     \"</code>\\n\"+\n",
              "     \"</div>\"}};\n",
              "\n",
              "  function display_loaded() {\n",
              "    var el = document.getElementById(null);\n",
              "    if (el != null) {\n",
              "      el.textContent = \"BokehJS is loading...\";\n",
              "    }\n",
              "    if (root.Bokeh !== undefined) {\n",
              "      if (el != null) {\n",
              "        el.textContent = \"BokehJS \" + root.Bokeh.version + \" successfully loaded.\";\n",
              "      }\n",
              "    } else if (Date.now() < root._bokeh_timeout) {\n",
              "      setTimeout(display_loaded, 100)\n",
              "    }\n",
              "  }\n",
              "\n",
              "\n",
              "  function run_callbacks() {\n",
              "    try {\n",
              "      root._bokeh_onload_callbacks.forEach(function(callback) { callback() });\n",
              "    }\n",
              "    finally {\n",
              "      delete root._bokeh_onload_callbacks\n",
              "    }\n",
              "    console.info(\"Bokeh: all callbacks have finished\");\n",
              "  }\n",
              "\n",
              "  function load_libs(js_urls, callback) {\n",
              "    root._bokeh_onload_callbacks.push(callback);\n",
              "    if (root._bokeh_is_loading > 0) {\n",
              "      console.log(\"Bokeh: BokehJS is being loaded, scheduling callback at\", now());\n",
              "      return null;\n",
              "    }\n",
              "    if (js_urls == null || js_urls.length === 0) {\n",
              "      run_callbacks();\n",
              "      return null;\n",
              "    }\n",
              "    console.log(\"Bokeh: BokehJS not loaded, scheduling load and callback at\", now());\n",
              "    root._bokeh_is_loading = js_urls.length;\n",
              "    for (var i = 0; i < js_urls.length; i++) {\n",
              "      var url = js_urls[i];\n",
              "      var s = document.createElement('script');\n",
              "      s.src = url;\n",
              "      s.async = false;\n",
              "      s.onreadystatechange = s.onload = function() {\n",
              "        root._bokeh_is_loading--;\n",
              "        if (root._bokeh_is_loading === 0) {\n",
              "          console.log(\"Bokeh: all BokehJS libraries loaded\");\n",
              "          run_callbacks()\n",
              "        }\n",
              "      };\n",
              "      s.onerror = function() {\n",
              "        console.warn(\"failed to load library \" + url);\n",
              "      };\n",
              "      console.log(\"Bokeh: injecting script tag for BokehJS library: \", url);\n",
              "      document.getElementsByTagName(\"head\")[0].appendChild(s);\n",
              "    }\n",
              "  };\n",
              "\n",
              "  var js_urls = [\"https://cdn.pydata.org/bokeh/release/bokeh-0.13.0.min.js\", \"https://cdn.pydata.org/bokeh/release/bokeh-widgets-0.13.0.min.js\", \"https://cdn.pydata.org/bokeh/release/bokeh-tables-0.13.0.min.js\", \"https://cdn.pydata.org/bokeh/release/bokeh-gl-0.13.0.min.js\"];\n",
              "\n",
              "  var inline_js = [\n",
              "    function(Bokeh) {\n",
              "      Bokeh.set_log_level(\"info\");\n",
              "    },\n",
              "    \n",
              "    function(Bokeh) {\n",
              "      \n",
              "    },\n",
              "    function(Bokeh) {\n",
              "      console.log(\"Bokeh: injecting CSS: https://cdn.pydata.org/bokeh/release/bokeh-0.13.0.min.css\");\n",
              "      Bokeh.embed.inject_css(\"https://cdn.pydata.org/bokeh/release/bokeh-0.13.0.min.css\");\n",
              "      console.log(\"Bokeh: injecting CSS: https://cdn.pydata.org/bokeh/release/bokeh-widgets-0.13.0.min.css\");\n",
              "      Bokeh.embed.inject_css(\"https://cdn.pydata.org/bokeh/release/bokeh-widgets-0.13.0.min.css\");\n",
              "      console.log(\"Bokeh: injecting CSS: https://cdn.pydata.org/bokeh/release/bokeh-tables-0.13.0.min.css\");\n",
              "      Bokeh.embed.inject_css(\"https://cdn.pydata.org/bokeh/release/bokeh-tables-0.13.0.min.css\");\n",
              "    }\n",
              "  ];\n",
              "\n",
              "  function run_inline_js() {\n",
              "    \n",
              "    if ((root.Bokeh !== undefined) || (force === true)) {\n",
              "      for (var i = 0; i < inline_js.length; i++) {\n",
              "        inline_js[i].call(root, root.Bokeh);\n",
              "      }} else if (Date.now() < root._bokeh_timeout) {\n",
              "      setTimeout(run_inline_js, 100);\n",
              "    } else if (!root._bokeh_failed_load) {\n",
              "      console.log(\"Bokeh: BokehJS failed to load within specified timeout.\");\n",
              "      root._bokeh_failed_load = true;\n",
              "    } else if (force !== true) {\n",
              "      var cell = $(document.getElementById(null)).parents('.cell').data().cell;\n",
              "      cell.output_area.append_execute_result(NB_LOAD_WARNING)\n",
              "    }\n",
              "\n",
              "  }\n",
              "\n",
              "  if (root._bokeh_is_loading === 0) {\n",
              "    console.log(\"Bokeh: BokehJS loaded, going straight to plotting\");\n",
              "    run_inline_js();\n",
              "  } else {\n",
              "    load_libs(js_urls, function() {\n",
              "      console.log(\"Bokeh: BokehJS plotting callback run at\", now());\n",
              "      run_inline_js();\n",
              "    });\n",
              "  }\n",
              "}(window));"
            ],
            "application/vnd.bokehjs_load.v0+json": "\n(function(root) {\n  function now() {\n    return new Date();\n  }\n\n  var force = true;\n\n  if (typeof (root._bokeh_onload_callbacks) === \"undefined\" || force === true) {\n    root._bokeh_onload_callbacks = [];\n    root._bokeh_is_loading = undefined;\n  }\n\n  \n\n  \n  if (typeof (root._bokeh_timeout) === \"undefined\" || force === true) {\n    root._bokeh_timeout = Date.now() + 5000;\n    root._bokeh_failed_load = false;\n  }\n\n  var NB_LOAD_WARNING = {'data': {'text/html':\n     \"<div style='background-color: #fdd'>\\n\"+\n     \"<p>\\n\"+\n     \"BokehJS does not appear to have successfully loaded. If loading BokehJS from CDN, this \\n\"+\n     \"may be due to a slow or bad network connection. Possible fixes:\\n\"+\n     \"</p>\\n\"+\n     \"<ul>\\n\"+\n     \"<li>re-rerun `output_notebook()` to attempt to load from CDN again, or</li>\\n\"+\n     \"<li>use INLINE resources instead, as so:</li>\\n\"+\n     \"</ul>\\n\"+\n     \"<code>\\n\"+\n     \"from bokeh.resources import INLINE\\n\"+\n     \"output_notebook(resources=INLINE)\\n\"+\n     \"</code>\\n\"+\n     \"</div>\"}};\n\n  function display_loaded() {\n    var el = document.getElementById(null);\n    if (el != null) {\n      el.textContent = \"BokehJS is loading...\";\n    }\n    if (root.Bokeh !== undefined) {\n      if (el != null) {\n        el.textContent = \"BokehJS \" + root.Bokeh.version + \" successfully loaded.\";\n      }\n    } else if (Date.now() < root._bokeh_timeout) {\n      setTimeout(display_loaded, 100)\n    }\n  }\n\n\n  function run_callbacks() {\n    try {\n      root._bokeh_onload_callbacks.forEach(function(callback) { callback() });\n    }\n    finally {\n      delete root._bokeh_onload_callbacks\n    }\n    console.info(\"Bokeh: all callbacks have finished\");\n  }\n\n  function load_libs(js_urls, callback) {\n    root._bokeh_onload_callbacks.push(callback);\n    if (root._bokeh_is_loading > 0) {\n      console.log(\"Bokeh: BokehJS is being loaded, scheduling callback at\", now());\n      return null;\n    }\n    if (js_urls == null || js_urls.length === 0) {\n      run_callbacks();\n      return null;\n    }\n    console.log(\"Bokeh: BokehJS not loaded, scheduling load and callback at\", now());\n    root._bokeh_is_loading = js_urls.length;\n    for (var i = 0; i < js_urls.length; i++) {\n      var url = js_urls[i];\n      var s = document.createElement('script');\n      s.src = url;\n      s.async = false;\n      s.onreadystatechange = s.onload = function() {\n        root._bokeh_is_loading--;\n        if (root._bokeh_is_loading === 0) {\n          console.log(\"Bokeh: all BokehJS libraries loaded\");\n          run_callbacks()\n        }\n      };\n      s.onerror = function() {\n        console.warn(\"failed to load library \" + url);\n      };\n      console.log(\"Bokeh: injecting script tag for BokehJS library: \", url);\n      document.getElementsByTagName(\"head\")[0].appendChild(s);\n    }\n  };\n\n  var js_urls = [\"https://cdn.pydata.org/bokeh/release/bokeh-0.13.0.min.js\", \"https://cdn.pydata.org/bokeh/release/bokeh-widgets-0.13.0.min.js\", \"https://cdn.pydata.org/bokeh/release/bokeh-tables-0.13.0.min.js\", \"https://cdn.pydata.org/bokeh/release/bokeh-gl-0.13.0.min.js\"];\n\n  var inline_js = [\n    function(Bokeh) {\n      Bokeh.set_log_level(\"info\");\n    },\n    \n    function(Bokeh) {\n      \n    },\n    function(Bokeh) {\n      console.log(\"Bokeh: injecting CSS: https://cdn.pydata.org/bokeh/release/bokeh-0.13.0.min.css\");\n      Bokeh.embed.inject_css(\"https://cdn.pydata.org/bokeh/release/bokeh-0.13.0.min.css\");\n      console.log(\"Bokeh: injecting CSS: https://cdn.pydata.org/bokeh/release/bokeh-widgets-0.13.0.min.css\");\n      Bokeh.embed.inject_css(\"https://cdn.pydata.org/bokeh/release/bokeh-widgets-0.13.0.min.css\");\n      console.log(\"Bokeh: injecting CSS: https://cdn.pydata.org/bokeh/release/bokeh-tables-0.13.0.min.css\");\n      Bokeh.embed.inject_css(\"https://cdn.pydata.org/bokeh/release/bokeh-tables-0.13.0.min.css\");\n    }\n  ];\n\n  function run_inline_js() {\n    \n    if ((root.Bokeh !== undefined) || (force === true)) {\n      for (var i = 0; i < inline_js.length; i++) {\n        inline_js[i].call(root, root.Bokeh);\n      }} else if (Date.now() < root._bokeh_timeout) {\n      setTimeout(run_inline_js, 100);\n    } else if (!root._bokeh_failed_load) {\n      console.log(\"Bokeh: BokehJS failed to load within specified timeout.\");\n      root._bokeh_failed_load = true;\n    } else if (force !== true) {\n      var cell = $(document.getElementById(null)).parents('.cell').data().cell;\n      cell.output_area.append_execute_result(NB_LOAD_WARNING)\n    }\n\n  }\n\n  if (root._bokeh_is_loading === 0) {\n    console.log(\"Bokeh: BokehJS loaded, going straight to plotting\");\n    run_inline_js();\n  } else {\n    load_libs(js_urls, function() {\n      console.log(\"Bokeh: BokehJS plotting callback run at\", now());\n      run_inline_js();\n    });\n  }\n}(window));"
          },
          "metadata": {
            "tags": []
          }
        },
        {
          "output_type": "display_data",
          "data": {
            "text/html": [
              "\n",
              "\n",
              "\n",
              "\n",
              "\n",
              "\n",
              "  <div class=\"bk-root\" id=\"99a41773-e357-46bf-b533-f1f13e728aed\"></div>\n"
            ]
          },
          "metadata": {
            "tags": []
          }
        },
        {
          "output_type": "display_data",
          "data": {
            "application/javascript": [
              "(function(root) {\n",
              "  function embed_document(root) {\n",
              "    \n",
              "  var docs_json = {\"b4d3a5ac-ce63-43a4-b5b9-52e2a69bb8c5\":{\"roots\":{\"references\":[{\"attributes\":{},\"id\":\"52314985-b305-45d3-befc-6682afa70aa7\",\"type\":\"SaveTool\"},{\"attributes\":{\"active_drag\":\"auto\",\"active_inspect\":\"auto\",\"active_multi\":null,\"active_scroll\":{\"id\":\"c18dfa55-89bc-49de-8c7a-6a671565da9e\",\"type\":\"WheelZoomTool\"},\"active_tap\":\"auto\",\"tools\":[{\"id\":\"662cd738-6989-4726-976a-d733d0d9a814\",\"type\":\"PanTool\"},{\"id\":\"c18dfa55-89bc-49de-8c7a-6a671565da9e\",\"type\":\"WheelZoomTool\"},{\"id\":\"835269e4-b279-47dc-9f1f-ade983a6e553\",\"type\":\"BoxZoomTool\"},{\"id\":\"52314985-b305-45d3-befc-6682afa70aa7\",\"type\":\"SaveTool\"},{\"id\":\"24657c09-02aa-4c84-80ac-af3feca126f8\",\"type\":\"ResetTool\"},{\"id\":\"678eeabf-7d09-4876-821a-bb65db4f0aaf\",\"type\":\"HelpTool\"},{\"id\":\"eb1812d1-9e3f-42f4-9891-8dbfd07131ab\",\"type\":\"HoverTool\"}]},\"id\":\"ac25d863-6527-42e7-bd93-290c976b591b\",\"type\":\"Toolbar\"},{\"attributes\":{\"overlay\":{\"id\":\"7df75d8e-311a-4fa9-ac01-dcc440dfc27d\",\"type\":\"BoxAnnotation\"}},\"id\":\"835269e4-b279-47dc-9f1f-ade983a6e553\",\"type\":\"BoxZoomTool\"},{\"attributes\":{\"callback\":null,\"renderers\":\"auto\",\"tooltips\":[[\"token\",\"@token\"]]},\"id\":\"eb1812d1-9e3f-42f4-9891-8dbfd07131ab\",\"type\":\"HoverTool\"},{\"attributes\":{},\"id\":\"05cb2487-0614-4dcb-885e-00912debdc38\",\"type\":\"LinearScale\"},{\"attributes\":{},\"id\":\"716db536-9a42-4b22-8fb8-bc346888a313\",\"type\":\"LinearScale\"},{\"attributes\":{\"bottom_units\":\"screen\",\"fill_alpha\":{\"value\":0.5},\"fill_color\":{\"value\":\"lightgrey\"},\"left_units\":\"screen\",\"level\":\"overlay\",\"line_alpha\":{\"value\":1.0},\"line_color\":{\"value\":\"black\"},\"line_dash\":[4,4],\"line_width\":{\"value\":2},\"plot\":null,\"render_mode\":\"css\",\"right_units\":\"screen\",\"top_units\":\"screen\"},\"id\":\"7df75d8e-311a-4fa9-ac01-dcc440dfc27d\",\"type\":\"BoxAnnotation\"},{\"attributes\":{},\"id\":\"259acf6e-b3a8-46e9-870a-d2ce0acfe511\",\"type\":\"BasicTickFormatter\"},{\"attributes\":{\"plot\":{\"id\":\"9ddd577e-f47e-4c8f-bc6f-b8a3be80b578\",\"subtype\":\"Figure\",\"type\":\"Plot\"},\"ticker\":{\"id\":\"dffbede7-5bdf-483b-a021-f28eca7c2b8f\",\"type\":\"BasicTicker\"}},\"id\":\"639d1490-ca51-427f-9c24-fe41f7a02f21\",\"type\":\"Grid\"},{\"attributes\":{\"below\":[{\"id\":\"93b9084d-4285-4fd0-8dab-38b7cdb8e91f\",\"type\":\"LinearAxis\"}],\"left\":[{\"id\":\"ea0b916d-4c47-462b-819e-21ad800fc020\",\"type\":\"LinearAxis\"}],\"plot_height\":400,\"renderers\":[{\"id\":\"93b9084d-4285-4fd0-8dab-38b7cdb8e91f\",\"type\":\"LinearAxis\"},{\"id\":\"639d1490-ca51-427f-9c24-fe41f7a02f21\",\"type\":\"Grid\"},{\"id\":\"ea0b916d-4c47-462b-819e-21ad800fc020\",\"type\":\"LinearAxis\"},{\"id\":\"813e350a-cca0-4509-9c62-42a1b4d9867f\",\"type\":\"Grid\"},{\"id\":\"7df75d8e-311a-4fa9-ac01-dcc440dfc27d\",\"type\":\"BoxAnnotation\"},{\"id\":\"c9957529-451d-4969-ab33-b05e5f3c2e4e\",\"type\":\"GlyphRenderer\"}],\"title\":{\"id\":\"3986aabb-0880-4a17-881e-00fed7b8e807\",\"type\":\"Title\"},\"toolbar\":{\"id\":\"ac25d863-6527-42e7-bd93-290c976b591b\",\"type\":\"Toolbar\"},\"x_range\":{\"id\":\"1b207f49-8dc2-4a1c-a341-2a7efbd81944\",\"type\":\"DataRange1d\"},\"x_scale\":{\"id\":\"05cb2487-0614-4dcb-885e-00912debdc38\",\"type\":\"LinearScale\"},\"y_range\":{\"id\":\"02501f7a-f80a-4570-b0e5-a3723c1b4cfc\",\"type\":\"DataRange1d\"},\"y_scale\":{\"id\":\"716db536-9a42-4b22-8fb8-bc346888a313\",\"type\":\"LinearScale\"}},\"id\":\"9ddd577e-f47e-4c8f-bc6f-b8a3be80b578\",\"subtype\":\"Figure\",\"type\":\"Plot\"},{\"attributes\":{},\"id\":\"7ec4142e-e755-4de5-9858-da874213775d\",\"type\":\"BasicTickFormatter\"},{\"attributes\":{\"formatter\":{\"id\":\"259acf6e-b3a8-46e9-870a-d2ce0acfe511\",\"type\":\"BasicTickFormatter\"},\"plot\":{\"id\":\"9ddd577e-f47e-4c8f-bc6f-b8a3be80b578\",\"subtype\":\"Figure\",\"type\":\"Plot\"},\"ticker\":{\"id\":\"dffbede7-5bdf-483b-a021-f28eca7c2b8f\",\"type\":\"BasicTicker\"}},\"id\":\"93b9084d-4285-4fd0-8dab-38b7cdb8e91f\",\"type\":\"LinearAxis\"},{\"attributes\":{\"callback\":null},\"id\":\"02501f7a-f80a-4570-b0e5-a3723c1b4cfc\",\"type\":\"DataRange1d\"},{\"attributes\":{},\"id\":\"662cd738-6989-4726-976a-d733d0d9a814\",\"type\":\"PanTool\"},{\"attributes\":{},\"id\":\"24642ab5-c546-4feb-b078-50560c43c5ea\",\"type\":\"Selection\"},{\"attributes\":{\"callback\":null,\"data\":{\"color\":[\"blue\",\"blue\",\"blue\",\"blue\",\"blue\",\"blue\",\"blue\",\"blue\",\"blue\",\"red\",\"blue\",\"blue\",\"blue\",\"blue\",\"blue\",\"blue\",\"blue\",\"blue\",\"blue\",\"red\",\"blue\",\"blue\",\"blue\",\"blue\",\"red\",\"blue\",\"blue\",\"blue\",\"blue\",\"blue\",\"blue\",\"blue\",\"blue\",\"blue\",\"blue\",\"blue\",\"blue\",\"blue\",\"red\",\"blue\",\"blue\",\"blue\",\"blue\",\"blue\",\"blue\",\"blue\",\"blue\",\"blue\",\"blue\",\"blue\",\"blue\",\"blue\",\"blue\",\"blue\",\"blue\",\"blue\",\"blue\",\"blue\",\"blue\",\"blue\",\"blue\",\"blue\",\"blue\",\"blue\",\"blue\",\"blue\",\"blue\",\"blue\",\"blue\",\"red\",\"blue\",\"blue\",\"blue\",\"red\",\"blue\",\"blue\",\"blue\",\"blue\",\"blue\",\"blue\",\"blue\",\"blue\",\"blue\",\"blue\",\"blue\",\"blue\",\"blue\",\"blue\",\"blue\",\"blue\",\"blue\",\"blue\",\"red\",\"blue\",\"blue\",\"blue\",\"blue\",\"blue\",\"red\",\"blue\",\"red\",\"blue\",\"blue\",\"blue\",\"blue\",\"blue\",\"blue\",\"blue\",\"red\",\"blue\",\"blue\",\"blue\",\"blue\",\"blue\",\"blue\",\"blue\",\"blue\",\"blue\",\"blue\",\"blue\",\"blue\",\"red\",\"blue\",\"blue\",\"blue\",\"blue\",\"blue\",\"blue\",\"blue\",\"blue\",\"blue\",\"blue\",\"red\",\"blue\",\"blue\",\"blue\",\"red\",\"blue\",\"red\",\"blue\",\"blue\",\"blue\",\"blue\",\"blue\",\"blue\",\"blue\",\"blue\",\"red\",\"blue\",\"blue\",\"blue\",\"blue\",\"blue\",\"blue\",\"blue\",\"blue\",\"red\",\"blue\",\"blue\",\"blue\",\"red\",\"blue\",\"blue\",\"blue\",\"blue\",\"blue\",\"blue\",\"blue\",\"blue\",\"red\",\"blue\",\"blue\",\"blue\",\"blue\",\"blue\",\"blue\",\"blue\",\"red\",\"blue\",\"blue\",\"blue\",\"blue\",\"blue\",\"blue\",\"blue\",\"blue\",\"blue\",\"blue\",\"blue\",\"blue\",\"red\",\"blue\",\"blue\",\"blue\",\"blue\",\"blue\",\"blue\",\"blue\",\"blue\",\"blue\",\"red\",\"blue\",\"blue\",\"blue\",\"blue\",\"blue\",\"blue\",\"blue\",\"blue\",\"blue\",\"blue\",\"blue\",\"red\",\"blue\",\"blue\",\"blue\",\"blue\",\"blue\",\"blue\",\"blue\",\"blue\",\"blue\",\"blue\",\"blue\",\"blue\",\"blue\",\"blue\",\"red\",\"blue\",\"blue\",\"blue\",\"blue\",\"red\",\"blue\",\"blue\",\"red\",\"blue\",\"red\",\"red\",\"red\",\"blue\",\"blue\",\"blue\",\"blue\",\"red\",\"blue\",\"blue\",\"blue\",\"blue\",\"blue\",\"blue\",\"blue\",\"red\",\"blue\",\"blue\",\"blue\",\"blue\",\"blue\",\"blue\",\"blue\",\"blue\",\"red\",\"blue\",\"blue\",\"red\",\"red\",\"blue\",\"blue\",\"blue\",\"blue\",\"blue\",\"red\",\"blue\",\"blue\",\"blue\",\"blue\",\"blue\",\"blue\",\"blue\",\"blue\",\"blue\",\"blue\",\"blue\",\"blue\",\"blue\",\"blue\",\"blue\",\"blue\",\"blue\",\"blue\",\"blue\",\"blue\",\"blue\",\"red\",\"blue\",\"blue\",\"red\",\"blue\",\"red\",\"blue\",\"blue\",\"blue\",\"blue\",\"blue\",\"blue\",\"blue\",\"blue\",\"blue\",\"blue\",\"blue\",\"blue\",\"blue\",\"blue\",\"blue\",\"blue\",\"blue\",\"blue\",\"red\",\"blue\",\"blue\",\"red\",\"blue\",\"red\",\"red\",\"blue\",\"blue\",\"blue\",\"blue\",\"red\",\"blue\",\"red\",\"blue\",\"blue\",\"blue\",\"blue\",\"blue\",\"blue\",\"blue\",\"blue\",\"blue\",\"blue\",\"blue\",\"blue\",\"blue\",\"blue\",\"blue\",\"blue\",\"blue\",\"blue\",\"blue\",\"blue\",\"blue\",\"blue\",\"blue\",\"blue\",\"blue\",\"blue\",\"blue\",\"blue\",\"red\",\"blue\",\"blue\",\"blue\",\"blue\",\"blue\",\"red\",\"blue\",\"blue\",\"blue\",\"red\",\"blue\",\"blue\",\"blue\",\"blue\",\"blue\",\"blue\",\"blue\",\"blue\",\"blue\",\"red\",\"blue\",\"blue\",\"blue\",\"blue\",\"blue\",\"blue\",\"red\",\"blue\",\"blue\",\"blue\",\"blue\",\"blue\",\"blue\",\"blue\",\"red\",\"blue\",\"red\",\"blue\",\"blue\",\"blue\",\"red\",\"red\",\"red\",\"blue\",\"blue\",\"blue\",\"blue\",\"blue\",\"blue\",\"blue\",\"red\",\"blue\",\"red\",\"blue\",\"blue\",\"blue\",\"blue\",\"blue\",\"red\",\"blue\",\"blue\",\"blue\",\"blue\",\"blue\",\"blue\",\"blue\",\"red\",\"blue\",\"blue\",\"blue\",\"blue\",\"red\",\"blue\",\"blue\",\"blue\",\"blue\",\"blue\",\"blue\",\"red\",\"red\",\"blue\",\"blue\",\"blue\",\"blue\",\"blue\",\"blue\",\"blue\",\"blue\",\"blue\",\"blue\",\"red\",\"blue\",\"red\",\"blue\",\"red\",\"blue\",\"blue\",\"blue\",\"red\",\"blue\",\"blue\",\"blue\",\"blue\",\"blue\",\"blue\",\"blue\",\"blue\",\"blue\",\"blue\",\"blue\",\"red\",\"blue\",\"blue\",\"blue\",\"red\",\"blue\",\"blue\",\"blue\",\"blue\",\"blue\",\"blue\",\"blue\",\"red\",\"blue\",\"blue\",\"blue\",\"blue\",\"blue\",\"blue\",\"blue\",\"blue\",\"blue\",\"blue\",\"blue\",\"red\",\"blue\",\"red\",\"blue\",\"red\",\"blue\",\"blue\",\"blue\",\"blue\",\"blue\",\"blue\",\"blue\",\"blue\",\"blue\",\"blue\",\"blue\",\"blue\",\"blue\",\"blue\",\"blue\",\"blue\",\"blue\",\"blue\",\"blue\",\"blue\",\"blue\",\"blue\",\"blue\",\"blue\",\"blue\",\"blue\",\"blue\",\"blue\",\"blue\",\"blue\",\"blue\",\"blue\",\"blue\",\"blue\",\"blue\",\"red\",\"blue\",\"blue\",\"blue\",\"blue\",\"blue\",\"blue\",\"blue\",\"blue\",\"red\",\"blue\",\"blue\",\"blue\",\"blue\",\"blue\",\"blue\",\"blue\",\"blue\",\"blue\",\"blue\",\"blue\",\"blue\",\"blue\",\"red\",\"blue\",\"blue\",\"blue\",\"blue\",\"blue\",\"blue\",\"blue\",\"blue\",\"blue\",\"blue\",\"blue\",\"blue\",\"red\",\"blue\",\"blue\",\"blue\",\"blue\",\"blue\",\"blue\",\"blue\",\"blue\",\"blue\",\"blue\",\"blue\",\"blue\",\"blue\",\"blue\",\"blue\",\"red\",\"blue\",\"blue\",\"blue\",\"blue\",\"blue\",\"blue\",\"blue\",\"blue\",\"blue\",\"blue\",\"blue\",\"blue\",\"blue\",\"blue\",\"blue\",\"red\",\"blue\",\"blue\",\"blue\",\"red\",\"blue\",\"blue\",\"blue\",\"blue\",\"blue\",\"red\",\"blue\",\"blue\",\"blue\",\"blue\",\"blue\",\"blue\",\"blue\",\"blue\",\"blue\",\"blue\",\"blue\",\"blue\",\"blue\",\"blue\",\"red\",\"blue\",\"red\",\"blue\",\"blue\",\"red\",\"red\",\"blue\",\"blue\",\"blue\",\"blue\",\"blue\",\"blue\",\"blue\",\"blue\",\"blue\",\"blue\",\"blue\",\"blue\",\"blue\",\"blue\",\"blue\",\"red\",\"blue\",\"blue\",\"red\",\"blue\",\"blue\",\"blue\",\"blue\",\"blue\",\"blue\",\"blue\",\"blue\",\"blue\",\"blue\",\"blue\",\"blue\",\"blue\",\"blue\",\"blue\",\"blue\",\"blue\",\"blue\",\"blue\",\"blue\",\"blue\",\"red\",\"blue\",\"blue\",\"blue\",\"blue\",\"blue\",\"blue\",\"blue\",\"blue\",\"blue\",\"blue\",\"blue\",\"blue\",\"blue\",\"blue\",\"blue\",\"blue\",\"blue\",\"blue\",\"blue\",\"blue\",\"blue\",\"blue\",\"red\",\"blue\",\"blue\",\"blue\",\"blue\",\"blue\",\"blue\",\"blue\",\"red\",\"blue\",\"blue\",\"blue\",\"blue\",\"red\",\"blue\",\"blue\",\"blue\",\"blue\",\"blue\",\"red\",\"blue\",\"blue\",\"blue\",\"blue\",\"blue\",\"blue\",\"blue\",\"blue\",\"blue\",\"blue\",\"blue\",\"blue\",\"blue\",\"blue\",\"blue\",\"blue\",\"blue\",\"blue\",\"blue\",\"blue\",\"blue\",\"blue\",\"blue\",\"blue\",\"blue\",\"blue\",\"blue\",\"blue\",\"blue\",\"blue\",\"blue\",\"blue\",\"red\",\"blue\",\"blue\",\"blue\",\"red\",\"blue\",\"blue\",\"blue\",\"blue\",\"blue\",\"blue\",\"blue\",\"blue\",\"blue\",\"red\",\"blue\",\"blue\",\"blue\",\"blue\",\"blue\",\"red\",\"blue\",\"blue\",\"blue\",\"blue\",\"blue\",\"blue\",\"blue\",\"blue\",\"blue\",\"red\",\"blue\",\"blue\",\"blue\",\"blue\",\"blue\",\"blue\",\"blue\",\"blue\",\"blue\",\"blue\",\"blue\",\"blue\",\"blue\",\"blue\",\"blue\",\"blue\",\"blue\",\"blue\",\"blue\",\"blue\",\"blue\",\"blue\",\"blue\",\"blue\",\"red\",\"blue\",\"blue\",\"blue\",\"blue\",\"blue\",\"red\",\"blue\",\"blue\",\"blue\",\"blue\",\"blue\",\"blue\",\"blue\",\"blue\",\"blue\",\"blue\",\"red\",\"blue\",\"blue\",\"blue\",\"red\",\"blue\",\"blue\",\"blue\",\"blue\",\"blue\",\"red\",\"blue\",\"blue\",\"blue\",\"blue\",\"blue\",\"blue\",\"blue\",\"blue\",\"blue\",\"blue\",\"blue\",\"red\",\"blue\",\"blue\",\"blue\",\"red\",\"blue\",\"blue\",\"blue\",\"blue\",\"blue\",\"red\",\"blue\",\"blue\",\"blue\",\"blue\",\"blue\",\"blue\",\"blue\",\"blue\",\"blue\",\"blue\",\"blue\",\"blue\",\"blue\",\"blue\",\"blue\",\"blue\",\"blue\",\"blue\",\"blue\",\"red\",\"blue\",\"blue\",\"blue\",\"blue\",\"blue\",\"blue\",\"blue\",\"red\",\"blue\",\"blue\",\"blue\",\"blue\",\"blue\",\"red\",\"blue\",\"blue\",\"blue\",\"blue\",\"blue\",\"blue\",\"blue\",\"blue\",\"blue\",\"blue\",\"blue\",\"blue\",\"blue\",\"blue\",\"blue\",\"blue\",\"blue\",\"blue\",\"red\",\"blue\",\"blue\",\"blue\",\"blue\",\"blue\",\"blue\",\"blue\",\"blue\",\"blue\",\"red\",\"blue\",\"blue\",\"blue\",\"blue\",\"blue\",\"blue\",\"red\",\"blue\",\"blue\",\"blue\",\"blue\",\"blue\",\"blue\",\"blue\",\"blue\",\"red\",\"blue\",\"red\",\"blue\",\"blue\",\"blue\",\"blue\",\"blue\",\"blue\",\"blue\",\"blue\",\"red\",\"blue\",\"blue\",\"blue\",\"blue\",\"blue\",\"blue\",\"blue\",\"blue\",\"blue\",\"blue\",\"blue\",\"blue\",\"blue\",\"blue\",\"blue\",\"blue\",\"blue\",\"red\",\"blue\",\"blue\",\"red\",\"blue\",\"blue\",\"blue\",\"blue\",\"blue\",\"blue\",\"red\",\"blue\",\"blue\",\"blue\",\"blue\",\"blue\",\"blue\",\"red\",\"blue\",\"blue\",\"blue\",\"blue\",\"blue\",\"blue\",\"blue\",\"blue\",\"red\",\"blue\",\"blue\",\"blue\",\"red\",\"blue\",\"blue\",\"blue\",\"blue\",\"blue\",\"blue\",\"red\",\"blue\"],\"token\":[\"\\u043a\\u043b\\u0435\\u0432\\u0435\\u0442\\u043d\\u0438\\u043a\\u0430\\u043c\",\"\\u0443\\u0433\\u043b\\u0443\\u0431\\u043b\\u0435\\u043d\\u0438\\u0439\",\"\\u0441\\u043b\\u0443\\u0433\\u0430\",\"\\u0436\\u0430\\u0442\\u043a\\u0438\",\"\\u043a\\u0440\\u0435\\u043f\\u0435\\u0436\",\"\\u0434\\u0438\\u0433\\u0438\\u0442\\u0430\\u043b\\u0438\\u0441\\u043e\\u043c\",\"\\u0422\\u0440\\u0435\\u0437\\u0443\\u0431\\u0446\\u0435\\u043c\",\"\\u0442\\u043e\\u043b\\u0441\\u0442\\u043e\\u0432\\u043a\\u0430\",\"\\u041f\\u0435\\u0440\\u0441\\u043e\\u043d\\u0430\\u043b\\u0438\\u0437\\u0430\\u0446\\u0438\\u0435\\u0439\",\"\\u041f\\u0435\\u0439\\u0442\\u043e\\u043d\",\"\\u041f\\u043e\\u0434\\u043a\\u043e\\u0440\\u043a\\u0443\",\"\\u0437\\u0440\\u0438\\u0442\\u0435\\u043b\\u0438\",\"\\u0420\\u0430\\u0441\\u043f\\u0440\\u043e\\u0441\\u0442\\u0440\\u0430\\u043d\\u0438\\u0442\\u0435\\u043b\\u044f\\u043c\\u0438\",\"\\u0441\\u0435\\u043d\\u0441\\u0430\\u0446\\u0438\\u044f\\u043c\",\"\\u0444\\u043e\\u0442\\u043e\\u0430\\u043b\\u044c\\u0431\\u043e\\u043c\",\"\\u043c\\u0443\\u0434\\u0440\\u043e\\u0441\\u0442\\u044f\\u043c\",\"\\u043c\\u043e\\u043d\\u0435\\u0442\\u0438\\u0437\\u0430\\u0446\\u0438\\u0438\",\"\\u041b\\u0438\\u0432\\u0438\\u043d\\u0433\\u0441\\u0442\\u043e\\u043d\",\"\\u0424\\u0418\\u0417\\u0418\\u041e\\u041b\\u041e\\u0413\\u0418\\u042f\",\"\\u041e\\u0442\\u0430\\u0436\\u0430\\u043d\\u043e\\u0432\\u0438\\u0447\\u0430\\u043c\",\"\\u0410\\u0440\\u043d\\u043e\",\"\\u043a\\u0430\\u043c\\u043d\\u0435\\u0442\\u0451\\u0441\\u0430\",\"\\u0417\\u0443\\u043b\\u044c\",\"\\u041f\\u0440\\u0435\\u0434\\u043f\\u0440\\u0438\\u043d\\u0438\\u043c\\u0430\\u0442\\u0435\\u043b\\u044c\\u0441\\u0442\\u0432\\u0443\",\"\\u0413\\u0438\\u043b\\u0431\\u0435\\u0440\\u0442\\u0430\",\"\\u0442\\u0435\\u0445\\u043f\\u043e\\u0434\\u0434\\u0435\\u0440\\u0436\\u043a\\u0435\",\"\\u043f\\u0440\\u043e\\u0441\\u0432\\u0435\\u0442\\u043b\\u0435\\u043d\\u0438\\u044f\",\"\\u044d\\u043a\\u0437\\u0430\\u043c\\u0435\\u043d\\u0443\\u044e\\u0449\\u0438\\u043c\\u0441\\u044f\",\"\\u041e\\u0442\\u0437\\u044b\\u0432\",\"\\u0431\\u0440\\u043e\\u043c\\u0438\\u0434\\u043e\\u0432\",\"\\u043d\\u043e\\u0447\\u043b\\u0435\\u0436\\u043a\\u0438\",\"\\u0431\\u043e\\u043b\\u0438\\u0434\\u0430\",\"\\u041e\\u041f\\u0415\\u0420\\u0410\\u041d\\u0414\\u0410\\u041c\\u0418\",\"\\u0445\\u0430\\u043b\\u0430\\u0442\\u0438\\u043a\\u043e\\u043c\",\"\\u043f\\u0440\\u043e\\u0433\\u0440\\u0430\\u043c\\u043c\\u0430\\u0442\\u043e\\u0440\\u043e\\u0432\",\"\\u0417\\u0443\\u043d\\u0434\\u0443\",\"\\u043d\\u0430\\u0448\\u0430\\u0442\\u044b\\u0440\\u044c\",\"\\u0411\\u0438\\u043e\\u0440\\u0430\\u0437\\u043d\\u043e\\u043e\\u0431\\u0440\\u0430\\u0437\\u0438\\u044e\",\"\\u0414\\u0443\\u043d\\u0431\\u0430\\u0440\\u0435\",\"\\u043f\\u0435\\u0442\\u0443\\u0445\\u0430\\u043c\",\"\\u0412\\u0438\\u0442\\u0430\\u043b\\u044c\\u0435\\u0432\\u0438\\u0447\\u0443\",\"\\u043f\\u0440\\u0435\\u0434\\u0432\\u043e\\u0434\\u0438\\u0442\\u0435\\u043b\\u044c\\u043d\\u0438\\u0446\\u044b\",\"\\u043d\\u0430\\u0445\\u043e\\u0434\\u043a\\u0435\",\"\\u043c\\u0438\\u043b\\u0438\\u0446\\u0438\\u043e\\u043d\\u0435\\u0440\\u043e\\u0432\",\"\\u0420\\u0430\\u0441\\u043f\\u0440\\u043e\\u0441\\u0442\\u0440\\u0430\\u043d\\u0438\\u0442\\u0435\\u043b\\u044e\",\"\\u043e\\u0442\\u0431\\u0440\\u0430\\u0441\\u044b\\u0432\\u0430\\u043d\\u0438\\u0435\",\"\\u0412\\u043e\\u043b\\u043e\\u0441\\u0430\\u0442\\u0438\\u043a\\u0443\",\"\\u0431\\u043b\\u044e\\u0434\\u0446\\u0430\\u043c\",\"\\u043e\\u0431\\u0438\\u0442\\u0430\\u0435\\u043c\\u043e\\u0441\\u0442\\u044c\\u044e\",\"\\u0435\\u043c\\u043a\\u043e\\u0441\\u0442\\u044f\\u0445\",\"\\u0422\\u0435\\u0430\\u0442\\u0440\\u0430\",\"\\u0431\\u043b\\u0451\\u0441\\u0442\\u043a\\u0430\\u0445\",\"\\u0438\\u0435\\u0440\\u043e\\u0433\\u043b\\u0438\\u0444\\u0430\\u043c\",\"\\u0441\\u0438\\u043c\\u0431\\u0438\\u043e\\u043d\\u0442\\u0430\\u0445\",\"\\u0440\\u0430\\u0437\\u0432\\u043b\\u0435\\u0447\\u0435\\u043d\\u0438\\u044f\\u043c\",\"\\u041f\\u0440\\u0435\\u0434\\u0432\\u043e\\u0434\\u0438\\u0442\\u0435\\u043b\\u044f\",\"\\u041f\\u0440\\u0438\\u0431\\u044b\\u043b\\u044c\\u043d\\u043e\\u0441\\u0442\\u0438\",\"\\u044d\\u0444\\u0444\\u0435\\u043a\\u0442\\u0438\\u0432\\u043d\\u043e\\u0441\\u0442\\u0435\\u0439\",\"\\u043f\\u0440\\u0438\\u0442\\u0432\\u043e\\u0440\\u0449\\u0438\\u043a\\u0430\",\"\\u0437\\u0430\\u043f\\u0443\\u0441\\u043a\\u0430\\u043c\\u0438\",\"\\u0441\\u0435\\u043a\\u0438\\u0440\",\"\\u0438\\u0434\\u0438\\u043e\\u043c\\u0430\",\"\\u041a\\u043e\\u0440\\u043c\\u0443\\u0448\\u043a\\u0438\",\"\\u0417\\u0430\\u043a\\u043b\\u0438\\u043d\\u0438\\u0432\\u0430\\u043d\\u0438\\u0435\",\"\\u0435\\u0432\\u0440\\u043e\\u0432\\u0430\\u043b\\u044e\\u0442\",\"\\u043f\\u0440\\u0435\\u0434\\u0447\\u0443\\u0432\\u0441\\u0442\\u0432\\u0438\\u0438\",\"\\u0437\\u0430\\u0432\\u0435\\u0434\\u0443\\u044e\\u0449\\u0438\\u0439\",\"\\u043f\\u043e\\u0433\\u0440\\u0443\\u0436\\u0435\\u043d\\u0438\\u044f\\u043c\\u0438\",\"\\u0421\\u043a\\u043e\\u043b\\u044c\\u0436\\u0435\\u043d\\u0438\\u0435\",\"\\u0425\\u0430\\u0437\\u0438\\u043c\\u0443\\u043b\\u043b\\u0438\\u043d\\u0435\",\"\\u0430\\u0434\\u0430\\u043f\\u0442\\u0438\\u0440\\u0443\\u0435\\u043c\\u043e\\u0441\\u0442\\u0438\",\"\\u0428\\u0422\",\"\\u0420\\u0430\\u0441\\u0442\\u0440\\u0435\\u0441\\u043a\\u0438\\u0432\\u0430\\u043d\\u0438\\u0435\",\"\\u0412\\u043e\\u0440\\u043e\\u043d\\u0446\\u043e\\u0432\\u0430\",\"\\u0442\\u0435\\u043f\\u043b\\u043e\\u043e\\u0431\\u043c\\u0435\\u043d\\u043d\\u0438\\u043a\\u0438\",\"\\u0414\\u0443\",\"\\u041f\\u0420\\u0418\\u041b\\u041e\\u0416\\u0415\\u041d\\u0418\\u042f\\u041c\\u0418\",\"\\u0417\\u0430\\u0442\\u043c\\u0435\\u043d\\u0438\\u044f\",\"\\u0410\\u043b\\u0430\\u043d\\u0430\",\"\\u0438\\u043d\\u0441\\u0442\\u0440\\u0443\\u043c\\u0435\\u043d\\u0442\\u0430\\u0440\\u0438\\u044f\\u0445\",\"\\u0412\\u043e\\u043b\\u043e\\u0433\\u0434\\u044b\",\"\\u043d\\u0430\\u0440\\u0443\\u0447\\u043d\\u0438\\u043a\\u0435\",\"\\u043e\\u0440\\u0434\\u0435\\u0440\\u0435\",\"\\u044f\\u0437\\u044b\\u0447\\u0435\\u0441\\u0442\\u0432\\u0435\",\"\\u0423\\u0434\\u0430\\u0439\\u043f\\u0443\\u0440\",\"\\u0434\\u0435\\u043a\\u043e\\u0434\\u0438\\u0440\\u043e\\u0432\\u0430\\u043d\\u0438\\u044f\",\"\\u0434\\u0438\\u0441\\u043b\\u043e\\u043a\\u0430\\u0446\\u0438\\u044f\\u043c\",\"\\u0432\\u043c\\u044f\\u0442\\u0438\\u043d\\u0430\\u0445\",\"\\u0433\\u0435\\u0433\\u0435\\u043c\\u043e\\u043d\\u0438\\u0438\",\"\\u0441\\u0442\\u0435\\u043d\\u043e\\u0433\\u0440\\u0430\\u0444\\u0438\\u0441\\u0442\\u043e\\u0432\",\"\\u043e\\u0444\\u0448\\u043e\\u0440\\u0430\\u043c\\u0438\",\"\\u0443\\u043b\\u043e\\u0432\\u043a\\u0430\\u0445\",\"\\u041a\\u0440\\u043e\\u0442\\u043e\\u0432\",\"\\u041d\\u0435\\u0432\\u0435\\u0440\\u043e\\u044f\\u0442\\u043d\\u043e\\u0441\\u0442\\u0438\",\"\\u043a\\u0430\\u043d\\u0434\\u0435\\u043b\\u044f\\u0431\\u0440\\u0435\",\"\\u043c\\u0430\\u0441\\u0448\\u0442\\u0430\\u0431\\u0435\",\"\\u043f\\u0435\\u0440\\u0435\\u0438\\u0437\\u0431\\u0440\\u0430\\u043d\\u0438\\u0438\",\"\\u0420\\u0443\\u0432\\u0438\\u043c\",\"\\u0412\\u0430\\u0445\\u0438\\u0442\\u043e\\u0432\\u0430\",\"\\u0434\\u0438\\u0440\\u0438\\u0436\\u0430\\u0431\\u043b\\u044e\",\"\\u0422\\u0438\\u0440\\u0435\\u043d\\u043a\\u043e\",\"\\u041d\\u0430\\u0440\\u043e\\u0434\\u043d\\u0438\\u043a\",\"\\u043f\\u0440\\u043e\\u0437\\u0440\\u0435\\u043d\\u0438\\u0435\",\"\\u0412\\u0417\\u041d\\u041e\\u0421\",\"\\u0434\\u043e\\u0433\\u043c\\u0430\\u0442\\u0438\\u043a\",\"\\u043d\\u0430\\u043f\\u0440\\u044f\\u0436\\u0435\\u043d\\u0438\\u044e\",\"\\u0441\\u043f\\u0435\\u0446\\u0438\\u0444\\u0438\\u043a\\u043e\\u0439\",\"\\u041f\\u0440\\u0438\\u043b\\u0438\\u0432\\u044b\",\"\\u0411\\u0443\\u043a\\u043e\\u0432\\u0441\\u043a\\u0438\\u0439\",\"\\u043f\\u043e\\u0434\\u0440\\u0430\\u0433\\u0438\\u0432\\u0430\\u043d\\u0438\\u0435\",\"\\u0442\\u0440\\u044f\\u043f\\u043e\\u0447\\u0435\\u043a\",\"\\u0440\\u0435\\u0444\\u043b\\u0435\\u043a\\u0441\\u0430\\u043c\",\"\\u0431\\u043b\\u0430\\u0433\\u043e\\u0437\\u0432\\u0443\\u0447\\u0438\\u0439\",\"\\u0410\\u0432\\u0440\\u0435\\u043b\\u0438\\u0435\\u043c\",\"\\u0410\\u0443\\u0440\\u0438\\u043a\",\"\\u0417\\u0410\\u041f\\u041b\\u0410\\u0422\\u042b\",\"\\u0410\\u0432\\u0433\\u0443\\u0441\\u0442\\u0438\\u043d\\u044b\",\"\\u043f\\u0435\\u0440\\u0435\\u0431\\u0440\\u0430\\u043d\\u043a\\u0443\",\"\\u0411\\u043e\\u0441\\u0444\\u043e\\u0440\\u0435\",\"\\u043c\\u0430\\u0448\\u0438\\u043d\\u043e\\u0441\\u0442\\u0440\\u043e\\u0438\\u0442\\u0435\\u043b\\u044f\",\"\\u0422\\u0420\\u0410\\u0415\\u041a\\u0422\\u041e\\u0420\\u0418\\u0418\",\"\\u041f\\u0440\\u0430\\u0442\\u0430\\u0441\\u0435\\u043d\\u044c\",\"\\u0421\\u0435\\u0440\\u0432\\u0438\\u0440\\u043e\\u0432\\u043a\\u0430\",\"\\u043f\\u043e\\u043b\\u043a\\u0438\",\"\\u0434\\u0430\\u043b.\",\"\\u0447\\u0435\\u0440\\u043d\\u043e\\u043a\\u043e\\u0436\\u0438\\u0439\",\"\\u043d\\u0435\\u0432\\u0435\\u0441\\u043e\\u043c\\u043e\\u0441\\u0442\\u0438\",\"\\u0437\\u0430\\u043c\\u044f\\u0442\\u0438\\u044f\\u0445\",\"\\u043d\\u0435\\u0442\\u043b\\u0435\\u043d\\u043d\\u043e\\u0441\\u0442\\u044c\",\"\\u043c\\u0443\\u0444\\u0442\\u043e\\u0447\\u043a\\u0435\",\"\\u043f\\u043e\\u0434\\u0437\\u0430\\u0449\\u0438\\u0442\\u043d\\u044b\\u043c\\u0438\",\"\\u0438\\u0435\\u0440\\u0443\\u0441\\u0430\\u043b\\u0438\\u043c\\u0446\\u0435\\u0432\",\"\\u0418\\u041b\\u042e\\u0428\\u0418\\u041d\\u041e\\u0419\",\"\\u0431\\u0435\\u0439\\u0441\\u0431\\u043e\\u043b\\u043a\\u043e\\u0439\",\"\\u0410\\u0431\\u0440\\u0430\\u0445\\u0430\\u043c\",\"\\u0434\\u0435\\u043b\\u0435\\u0433\\u0430\\u0446\\u0438\\u044f\\u043c\\u0438\",\"\\u0414\\u043e\\u043d\\u0441\\u043a\\u0438\\u0439\",\"\\u043a\\u043e\\u043d\\u0442\\u0440\\u0440\\u0430\\u0437\\u0432\\u0435\\u0434\\u0447\\u0438\\u043a\\u0438\",\"\\u0411\\u0418\\u0422\\u0418\\u041c\\u0411\\u0410\\u042f\\u0425\",\"\\u041f\\u0430\\u0441\\u0438\\u0444\\u0438\\u043a\\u0430\",\"\\u0434\\u0443\\u043f\\u043b\\u0438\\u043a\\u0430\\u0446\\u0438\\u044e\",\"\\u0422\\u0440\\u0438\\u0435\\u0441\\u0442\\u043e\\u043c\",\"\\u041f\\u0420\\u0418\\u0420\\u041e\\u0414\\u042b\",\"\\u043d\\u0430\\u043a\\u0430\\u0447\\u0438\\u0432\\u0430\\u043d\\u0438\\u0438\",\"\\u044d\\u043b\",\"\\u0442\\u0430\\u043a\\u0435\\u043b\\u0430\\u0436\\u0443\",\"\\u041c\\u0418\\u041d\\u041e\\u041c\\u0415\\u0422\\u041e\\u0412\",\"\\u0415\\u0440\\u043c\\u0438\\u043b\\u043e\\u0432\\u0430\",\"\\u0421\\u0438\\u043c\\u043f\\u043e\\u0437\\u0438\\u0443\\u043c\\u0430\",\"\\u0432\\u044b\\u0442\\u044f\\u0436\\u043a\\u043e\\u0439\",\"\\u0433\\u0440\\u0430\\u0434\\u0430\\u0446\\u0438\\u0435\\u0439\",\"\\u041a\\u0440\\u044e\\u0448\\u043e\\u043d\",\"\\u0412\\u0438\\u0437\\u0430\\u043d\\u0442\\u0438\\u0435\\u0439\",\"\\u041f\\u042c\\u0415\\u0420\",\"\\u0421\\u0418\\u041d\\u0414\\u0420\\u041e\\u041c\\u0415\",\"\\u0438\\u0437\\u0431\\u0438\\u0440\\u0430\\u0442\\u0435\\u043b\\u044c\\u043d\\u0438\\u0446\",\"\\u0412\\u0415\\u0419\\u041b\",\"\\u0414\\u0430\\u0433\\u044d\\u043d\\u0435\\u0440\\u0433\\u043e\",\"\\u0441\\u043a\\u0430\\u043b\\u043e\\u043b\\u0430\\u0437\\u0430\\u043c\\u0438\",\"\\u0412\\u0430\\u0436\\u043d\\u043e\\u0441\\u0442\\u0438\",\"\\u0412\\u0418\\u041d\",\"\\u043f\\u043e\\u0434\\u043f\\u0440\\u043e\\u0435\\u043a\\u0442\\u0430\\u0445\",\"\\u043b\\u0438\\u043a\\u0432\\u0438\\u0434\\u0430\\u0446\\u0438\\u0439\",\"\\u0425\\u041b\\u041e\\u0420\\u0418\\u0420\\u041e\\u0412\\u0410\\u041d\\u0418\\u0418\",\"\\u043e\\u0431\\u043c\\u044b\\u043b\\u043a\\u0438\",\"\\u043a\\u043e\\u043c\\u043f\\u043e\\u043d\\u0435\\u043d\\u0442\\u0430\\u043c\\u0438\",\"\\u043d\\u0430\\u043b\\u043e\\u0433\\u043e\\u043e\\u0431\\u043b\\u043e\\u0436\\u0435\\u043d\\u0438\\u0435\\u043c\",\"\\u0410\\u0440\\u0445\\u0430\\u0440\\u0430\",\"\\u0431\\u0440\\u043e\\u0434\\u044f\\u0436\\u043a\\u0430\\u043c\",\"\\u041f\\u043e\\u0442\\u0430\\u043f\\u043e\\u0432\\u044b\\u043c\",\"\\u0424\\u043b\\u0435\\u0439\\u0442\\u0438\\u0441\\u0442\\u044b\",\"\\u0438\\u0449\\u0435\\u0439\\u043a\\u0430\\u0445\",\"\\u043f\\u0430\\u043a\\u0435\\u0442\\u0430\\u043c\\u0438\",\"\\u041e\\u0422\\u0421\\u0422\\u0423\\u041f\\u041b\\u0415\\u041d\\u0418\\u0415\",\"\\u0432\\u043e\\u0441\\u0441\\u0442\\u0430\\u043d\\u044c\\u044f\",\"\\u0411\\u043e\\u0442\\u0441\\u0432\\u0430\\u043d\\u0430\",\"\\u0438\\u0440\\u0440\\u0438\\u0433\\u0430\\u0446\\u0438\\u044f\",\"\\u0441\\u043a\\u0430\\u043b\\u044f\\u0440\",\"\\u043f\\u0440\\u043e\\u043b\\u0430\\u0437\",\"\\u043f\\u043e\\u043b\\u0443\\u043f\\u0440\\u044f\\u043c\\u044b\\u0445\",\"\\u0420\\u0435\\u0437\\u0435\\u0440\\u0432\\u0430\\u0446\\u0438\\u044f\",\"\\u0437\\u0430\\u0433\\u043b\\u0430\\u0432\\u0438\\u0435\",\"\\u043c\\u0430\\u0441\\u0448\\u0442\\u0430\\u0431\\u044b\",\"\\u0421\\u0438\\u0435\\u043d\\u0443\",\"\\u0426\\u0418\\u041a\\u041b\\u041e\\u0412\",\"\\u043e\\u0442\\u0447\\u0443\\u0436\\u0434\\u0435\\u043d\\u043d\\u043e\\u0441\\u0442\\u044c\",\"\\u0437\\u0438\\u043c\\u0431\\u0430\\u0431\\u0432\\u0438\\u0439\\u0446\\u0430\",\"\\u0421\\u043b\\u0443\\u0433\\u043e\\u044e\",\"\\u0422\\u0423\\u041d\\u0418\\u0421\",\"\\u0412\\u043e\\u0437\\u043d\\u0438\\u043a\\u043d\\u043e\\u0432\\u0435\\u043d\\u0438\\u044e\",\"\\u041a\\u0440\\u0430\\u0432\\u0446\\u043e\\u0432\",\"\\u0441\\u0432\\u0438\\u0434\\u0435\\u0442\\u0435\\u043b\\u044c\\u0441\\u0442\\u0432\\u043e\",\"\\u0410\\u043d\\u0442\\u0438\\u0430\\u043b\\u0438\\u0430\\u0441\\u0438\\u043d\\u0433\",\"\\u0433\\u0440\\u044f\\u0437\\u043d\\u0443\\u043b\\u044e\",\"\\u0413\\u0430\\u043b\\u043e\\u0433\\u0435\\u043d\\u044b\",\"\\u0444\\u0435\\u0442\\u0438\\u0448\\u0430\\u043c\\u0438\",\"\\u0410\\u0441\\u0441\\u0435\\u043c\\u0431\\u043b\\u0435\\u0440\\u0430\\u043c\",\"\\u0423\\u043a\\u043e\\u0440\\u044b\",\"\\u042f\\u0438\\u0447\\u043d\\u0438\\u0446\\u0430\",\"\\u043d\\u0430\\u0440\\u043a\\u043e\\u0437\\u043e\\u043c\",\"\\u041a\\u043e\\u0440\\u0442\\u0435\\u0441\\u044b\",\"\\u0443\\u0433\\u043e\\u043b\\u043e\\u0432\\u043d\\u0438\\u043a\",\"\\u043d\\u0435\\u0441\\u043e\\u043f\\u043e\\u0441\\u0442\\u0430\\u0432\\u0438\\u043c\\u043e\\u0441\\u0442\\u044c\\u044e\",\"\\u0433\\u043e\\u0441\\u043f\\u043e\\u0434\\u0438\\u043d\\u043e\\u043c\",\"\\u0440\\u0435\\u0434\\u0443\\u043a\\u0446\\u0438\\u044f\",\"\\u0430\\u043c\\u043f\\u0435\\u0440\\u043c\\u0435\\u0442\\u0440\",\"\\u0430\\u0434\\u043c\\u0438\\u043d\\u0438\\u0441\\u0442\\u0440\\u0438\\u0440\\u043e\\u0432\\u0430\\u043d\\u0438\\u044e\",\"\\u041d\\u0438\\u043c\\u0444\\u044b\",\"\\u0441\\u0443\\u043c\\u0430\\u0442\\u043e\\u0445\\u0430\",\"\\u0443\\u0442\\u0438\\u043b\\u0438\\u0437\\u0430\\u0442\\u043e\\u0440\",\"\\u0434\\u0438\\u043d\\u0430\\u0440\\u0438\\u044e\",\"\\u041e\\u043a\\u0430\\u043b\\u0438\\u043d\\u0430\",\"\\u0411\\u0430\\u0440\\u0445\\u0443\\u0434\\u0430\\u0440\\u043e\\u0432\",\"\\u0449\\u0443\\u043f\\u0430\\u043b\\u044c\\u0446\\u0435\\u0432\",\"\\u0434\\u0435\\u043d\\u0430\\u0442\\u0443\\u0440\\u0430\\u0442\\u0430\",\"\\u0421\\u041e\\u0421\\u041b\\u041e\\u0412\\u0418\\u042f\",\"\\u0434\\u0438\\u0441\\u0442\\u0438\\u043b\\u043b\\u044f\\u0442\\u043e\\u043c\",\"\\u0421\\u0432\\u0435\\u0442\\u043a\\u0435\",\"\\u043e\\u0440\",\"\\u0436\\u0443\\u0436\\u0436\\u0430\\u043d\\u0438\\u0438\",\"\\u041b\\u0410\\u0417\\u0410\\u0420\\u0415\\u0412\\u0418\\u0427\",\"\\u043f\\u0440\\u043e\\u0442\\u044f\\u0436\\u043a\\u0430\\u043c\",\"\\u0441\\u043e\\u0442\\u0440\\u0443\\u0434\\u043d\\u0438\\u0447\\u0435\\u0441\\u0442\\u0432\\u043e\",\"\\u042d\\u041b\\u0415\\u041a\\u0422\\u0420\\u041e\\u041d\\u0418\\u041a\\u0415\",\"\\u0437\\u0430\\u0433\\u0440\\u043e\\u043c\\u043e\\u0436\\u0434\\u0435\\u043d\\u0438\\u044e\",\"\\u0414\\u0438\\u0430\\u043f\\u043e\\u0437\\u0438\\u0442\\u0438\\u0432\\u044b\",\"\\u043f\\u0430\\u0442\\u0440\\u0443\\u043b\\u044c\\u043d\\u043e\\u0433\\u043e\",\"\\u0410\\u0433\\u0430\\u0444\\u043e\\u043d\\u043d\\u0438\\u043a\\u043e\\u0432\\u0430\",\"\\u0433\\u0430\\u043b\\u0441\\u0442\\u0443\\u043a\\u0430\\u0445\",\"\\u041a\\u041e\\u041c\\u041f\\u0410\\u041d\\u042c\\u041e\\u041d\\u042b\",\"\\u041c\\u0435\\u0439\\u043a\\u043e\\u043d\\u0435\",\"\\u044d\\u043b\\u0435\\u043a\\u0442\\u0440\\u043e\\u0441\\u0435\\u0442\\u044c\",\"\\u0421\\u0410\\u041d\\u0410\\u041c\",\"\\u0431\\u043e\\u043c\\u0431\\u0430\\u0440\\u0434\\u0438\\u0440\",\"\\u0421\\u0435\\u043d\\u0435\\u0433\\u0430\\u043b\\u0443\",\"\\u0413\\u0443\\u0440\\u044c\\u0435\\u0432\\u0430\",\"\\u0441\\u0438\\u043c\\u043f\\u043e\\u0437\\u0438\\u0443\\u043c\\u0430\\u0445\",\"\\u0411\\u0435\\u043b\\u043e\\u0431\\u043e\\u0440\\u043e\\u0434\\u043e\\u043c\",\"\\u0421\\u0422\\u041e\\u0423\\u041d\",\"\\u0410\\u0440\\u0445\\u0438\\u043f\\u043e\\u0432\\u044b\\u043c\",\"\\u0432\\u043e\\u043a\\u0437\\u0430\\u043b\\u0430\",\"\\u0442\\u0430\\u043d\\u043a\\u0435\\u0442\\u043a\\u0438\",\"\\u0420\\u0423\\u0414\\u042b\",\"\\u0430\\u0432\\u0441\\u0442\\u0440\\u0430\\u043b\\u0438\\u0439\\u043a\\u0430\",\"\\u0410\\u0440\\u0443\\u0442\\u0443\\u043d\\u044f\\u043d\",\"\\u043f\\u0440\\u043e\\u0436\\u043e\\u0440\\u043b\\u0438\\u0432\\u043e\\u0441\\u0442\\u0438\",\"\\u0436\\u0430\\u0442\\u043a\\u043e\\u0439\",\"\\u043f\\u043e\\u0434\\u0434\\u0435\\u0440\\u0435\\u0432\\u043e\\u043c\",\"\\u043c\\u0430\\u043c\\u0443\\u043b\\u0435\\u0439\",\"\\u043c\\u0430\\u0442\\u043a\\u0435\",\"\\u043f\\u0435\\u0434\\u0430\\u043b\\u044f\\u0445\",\"\\u043f\\u043e\\u0434\\u044b\\u0442\\u043e\\u0436\\u0438\\u0432\\u0430\\u043d\\u0438\\u044f\\u043c\\u0438\",\"\\u041d\\u0415\\u0423\\u0414\\u0410\\u0425\\u0418\\u041d\\u042b\",\"\\u043b\\u043e\\u0441\\u0435\\u043d\\u043a\\u0443\",\"\\u0442\\u0440\\u0430\\u0432\\u043c\\u0430\\u0442\\u043e\\u043b\\u043e\\u0433\\u0438\\u0438\",\"\\u0430\\u0431\\u0431\\u0430\\u0442\\u0441\\u0442\\u0432\\u0430\\u043c\\u0438\",\"\\u041c\\u0438\\u0441\\u0442\\u0435\\u0440\\u0443\",\"\\u0442\\u0435\\u0442\\u0440\\u0430\\u044d\\u0434\\u0440\",\"\\u0421\\u0443\\u0431\\u0441\\u0438\\u0434\\u0438\\u0439\",\"\\u0446\\u0438\\u043d\\u043a\\u043e\\u0432\\u0430\\u043d\\u0438\\u044e\",\"\\u043c\\u0430\\u0434\\u043e\\u043d\\u043d\\u0435\",\"\\u0413\\u0430\\u043b\\u0430\\u0444\\u0435\\u0435\\u0432\",\"\\u0437\\u0443\\u0431\\u0440\\u0435\\u0436\\u043a\\u0443\",\"\\u0434\\u043e\\u0431\\u0440\\u043e\\u0441\\u043e\\u0441\\u0435\\u0434\\u0441\\u0442\\u0432\\u043e\\u043c\",\"\\u0441\\u0443\\u0440\\u043e\\u0432\\u044f\\u0442\\u043a\\u0438\\u043d\",\"\\u041a\\u0443\\u0440\\u0441\\u0435\\u0439\",\"\\u041e\\u0431\\u0440\\u0430\\u0437\\u043e\\u0432\\u0430\\u043d\\u043d\\u043e\\u0441\\u0442\\u044c\",\"\\u043f\\u0440\\u0430\\u0432\\u043e\\u043e\\u0431\\u043b\\u0430\\u0434\\u0430\\u0442\\u0435\\u043b\\u044c\",\"\\u0442\\u043e\\u043b\\u043f\\u043e\",\"\\u0413\\u0435\\u043d\\u0443\\u044f\",\"\\u0440\\u0430\\u0441\\u043a\\u0440\\u0430\\u0448\\u0438\\u0432\\u0430\\u043d\\u0438\\u0435\",\"\\u041f\\u044d\\u043d\\u044b\",\"\\u043f\\u0440\\u0435\\u0434\\u0441\\u043a\\u0430\\u0437\\u0430\\u043d\\u0438\\u044f\\u0445\",\"\\u041f\\u043e\\u0441\\u0442\\u0440\\u0430\\u0434\\u0430\\u0432\\u0448\\u0438\\u043c\",\"\\u0447\\u0443\\u0442\\u044c\\u0451\\u043c\",\"\\u0430\\u043f\\u0435\\u0440\\u0442\\u0443\\u0440\",\"\\u0421\\u0435\\u0432\\u0435\\u0440\\u043e-\\u0417\\u0430\\u043f\\u0430\\u0434\\u0430\",\"\\u043a\\u043e\\u0440\\u0438\\u043d\\u0444\\u044f\\u043d\\u0430\\u043c\",\"\\u043f\\u0440\\u0438\\u0441\\u043b\\u0443\\u0436\\u043d\\u0438\\u0446\\u0435\\u0439\",\"\\u0438\\u043d\\u0442\\u0435\\u0440\\u043d\\u0430\\u043b\\u0438\\u0437\\u0430\\u0446\\u0438\\u044f\",\"\\u0410\\u0440\\u0445\\u0438\\u0442\\u0435\\u043a\\u0442\\u0443\\u0440\\u0430\",\"\\u043f\\u0440\\u0438\\u0435\\u043c\\u043e\",\"\\u0418\\u043d\\u0433\\u0430\\u043b\\u044f\\u0446\\u0438\\u044f\",\"\\u0448\\u0443\\u0440\\u0448\\u0430\\u043d\\u0438\\u0438\",\"\\u042e\\u0422\\u041a\",\"\\u0433\\u043b\\u0430\\u0434\\u043a\\u043e\\u0441\\u0442\\u0438\",\"\\u043d\\u0430\\u0440\\u0443\\u0448\\u0438\\u0442\\u0435\\u043b\\u044c\\u043d\\u0438\\u0446\",\"\\u0430\\u043a\\u0432\\u0430\\u043b\\u0430\\u043d\\u0433\\u0438\\u0441\\u0442\\u0443\",\"\\u0432\\u044b\\u0440\\u0443\\u0431\\u043a\\u0438\",\"\\u0440\\u0435\\u0437\\u043e\\u043d\\u0430\\u0442\\u043e\\u0440\\u043e\\u0432\",\"\\u0424\\u0438\\u0437\\u0438\\u043e\\u043d\\u043e\\u043c\\u0438\\u044f\",\"\\u043e\\u0442\\u043f\\u0430\\u0434\\u0435\",\"\\u042d\\u043b\\u0435\\u043a\\u0442\\u0440\\u0438\\u0447\\u043a\\u0438\",\"\\u0412\\u0430\\u0448\\u0438\\u043d\\u0433\\u0442\\u043e\\u043d\\u0443\",\"\\u0421\\u0430\\u0442\\u0435\\u043b\\u043b\\u0438\\u0442\\u043e\\u0432\",\"\\u041a\\u043e\\u0442\\u0435\\u043b\\u044c\\u043d\\u0430\\u044f\",\"\\u041e\\u2019\\u041b\\u0418\\u0420\\u0418\",\"\\u0441\\u043e\\u0431\\u0430\\u0447\\u043e\\u043d\\u043a\\u043e\\u0439\",\"\\u0423\\u0421\\u041f\\u0415\\u041d\\u0421\\u041a\\u041e\\u0413\\u041e\",\"\\u0440\\u0443\\u043d\\u0435\\u0442\\u0435\",\"\\u0422\\u0435\\u043c\\u0443\\u0440\",\"\\u041f\\u0440\\u0435\\u0434\\u043f\\u043e\\u0441\\u044b\\u043b\\u043a\\u043e\\u0439\",\"\\u0430\\u043d\\u043d\\u0435\\u043a\\u0441\\u0438\\u0438\",\"\\u041d\\u0430\\u0431\\u0443\\u0445\\u0430\\u043d\\u0438\\u0435\",\"\\u043a\\u043e\\u043c\\u043f\\u043b\\u0438\\u043c\\u0435\\u043d\\u0442\\u043e\\u043c\",\"\\u0414\\u0415\\u041a\\u041e\\u041b\\u041e\\u041d\\u0418\\u0417\\u0410\\u0426\\u0418\\u042f\",\"\\u0437\\u0430\\u0441\\u0442\\u0443\\u043f\\u043d\\u0438\\u0447\\u0435\\u0441\\u0442\\u0432\\u0443\",\"\\u0437\\u043b\\u043e\\u0434\\u0435\\u044f\\u043d\\u0438\\u0439\",\"\\u041a\\u0430\\u0441\\u044b\\u043c\\u0430\",\"\\u041b\\u0415\\u041d\\u0422\",\"\\u041e\\u043a\\u0435\\u0430\\u043d\\u043e\\u0433\\u0440\\u0430\\u0444\\u044b\",\"\\u041e\\u0442\\u0446\\u0443\",\"\\u0420\\u0410\\u0417\\u041e\\u041a\",\"\\u0443\\u043b\\u043e\\u0432\\u043a\\u0438\",\"\\u043f\\u0440\\u0438\\u043a\\u043b\\u044e\\u0447\\u0435\\u043d\\u0438\\u0439\",\"\\u043f\\u0440\\u043e\\u0431\\u043e\\u0438\\u043d\\u044b\",\"\\u0433\\u0440\\u0430\\u0436\\u0434\\u0430\\u043d\\u043a\\u0435\",\"\\u0422\\u0430\\u0440\\u0430\\u0431\\u0430\\u043d\\u043e\\u0432\",\"\\u0423\\u043e\\u043b-\\u041c\\u0430\\u0440\\u0442\",\"\\u0441\\u043f\\u043e\\u0441\\u043e\\u0431\\u0441\\u0442\\u0432\\u043e\\u0432\\u0430\\u043d\\u0438\\u0438\",\"\\u0438\\u0441\\u043a\\u0443\\u0441\\u0441\\u0442\\u0432\\u043e\",\"\\u0421\\u043e\\u043d\\u043e\\u0440\\u044b\",\"\\u041d\\u0435\\u043c\\u0435\\u0448\\u0435\\u0432\\u0430\",\"\\u0412\\u044b\\u0441\\u043e\\u0446\\u043a\\u043e\\u043c\\u0443\",\"\\u0430\\u0432\\u0442\\u043e\\u043e\\u0442\\u0432\\u0435\\u0442\\u0447\\u0438\\u043a\\u0430\\u0445\",\"\\u041c\\u0438\\u0433\\u0435\\u043b\\u044c\",\"\\u043c\\u043e\\u043d\\u0438\\u0442\\u043e\\u0440\\u0430\\u0445\",\"\\u042d\\u0434\\u0443\\u0430\\u0440\\u0430\",\"\\u0424\\u0440\\u0430\\u043d\\u043a\\u043b\\u0438\\u043d\",\"\\u0442\\u0440\\u0430\\u043d\\u0441\\u043b\\u044f\\u0446\\u0438\\u044f\\u043c\",\"\\u0411\\u0430\\u0440\\u043d\\u0441\",\"\\u043c\\u0430\\u0440\\u0438\\u043d\\u0430\\u0434\\u044b\",\"\\u0449\\u0451\\u0442\\u043a\\u043e\\u0439\",\"\\u043d\\u0435\\u0434\\u0440\\u0430\\u043c\",\"\\u0411\\u0418\\u0417\\u041d\\u0415\\u0421\\u0410\",\"\\u0447\\u0430\\u0441\\u0442\\u043e\\u0442\\u0443\",\"\\u0432\\u0437\\u043e\\u0440\\u043e\\u043c\",\"\\u043f\\u0440\\u043e\\u043d\\u0438\\u043a\\u0430\\u043d\\u0438\\u044e\",\"\\u0440\\u0430\\u0431\\u043e\\u043b\\u0435\\u043f\\u0438\\u0435\",\"\\u043d\\u0435\\u0430\\u043f\\u043e\\u043b\\u0438\\u0442\\u0430\\u043d\\u043a\\u0430\",\"\\u0441\\u0443\\u043f\\u0435\\u0440\\u0438\\u0433\\u0440\",\"\\u041a\\u0440\\u0438\\u0441\\u0442\\u0430\\u043b\\u043b\\u0438\\u0437\\u0430\\u0446\\u0438\\u044e\",\"\\u041f\\u0435\\u0440\\u0444\\u043e\\u043b\\u0435\\u043d\\u0442\\u0430\",\"\\u041f\\u043e\\u0437\\u0430\\u0432\\u0447\\u0435\\u0440\\u0430\",\"\\u043f\\u0440\\u0438\\u0432\\u044f\\u0437\\u0430\\u043d\\u043d\\u043e\\u0441\\u0442\\u0438\",\"\\u0448\\u043a\\u0430\\u0442\\u0443\\u043b\\u043e\\u0447\\u043a\\u0435\",\"\\u043a\\u0430\\u0440\\u0442\\u0430\\u043b\\u0438\\u0441\\u0442\\u0430\\u043c\",\"\\u0441\\u0443\\u0431\\u0441\\u0442\\u0430\\u043d\\u0446\\u0438\\u044f\",\"\\u0431\\u0440\\u0435\\u043d\\u0434\\u0438\\u043d\\u0433\\u0435\",\"\\u0412\\u041e\\u0414\\u041e\\u0417\\u0410\\u0411\\u041e\\u0420\\u041e\\u0412\",\"\\u043c\\u0435\\u0440\\u0438\\u0434\\u0438\\u0430\\u043d\\u0443\",\"\\u043f\\u0440\\u0430\\u0439\\u0441-\\u043b\\u0438\\u0441\\u0442\",\"\\u0442\\u0430\\u043f\\u0438\\u043e\\u043a\\u0443\",\"\\u041f\\u0443\\u043d\\u043a\\u0442\\u0443\\u0430\\u0446\\u0438\\u044f\",\"\\u0420\\u0435\\u043a\\u043e\\u043d\\u0444\\u0438\\u0433\\u0443\\u0440\\u0430\\u0446\\u0438\\u044f\",\"\\u0441\\u043a\\u0430\\u043b\\u043e\\u043b\\u0430\\u0437\\u0430\\u043d\\u0438\\u044f\",\"\\u041f\\u041e\\u041a\\u0423\\u041f\\u041a\\u0415\",\"\\u0440\\u0430\\u0437\\u0432\\u0451\\u0440\\u0442\\u044b\\u0432\\u0430\\u043d\\u0438\\u0438\",\"\\u0442\\u0435\\u043b\\u0435\\u0441\\u0435\\u0440\\u0438\\u0430\\u043b\\u0430\\u043c\\u0438\",\"\\u0425\\u043e\\u043b\\u0438\\u0434\\u0435\\u0439\",\"\\u0444\\u0430\\u0441\\u043e\\u0432\\u043a\\u043e\\u0439\",\"\\u043f\\u0430\\u0440\\u0430\\u043b\\u043b\\u0435\\u043b\\u043e\\u0433\\u0440\\u0430\\u043c\\u043c\",\"\\u0437\\u0430\\u043a\\u043e\\u0440\\u044e\\u0447\\u043a\\u0430\\u043c\\u0438\",\"\\u041a\\u0440\\u043e\\u0442\\u043e\\u0441\\u0442\\u044c\",\"\\u043d\\u0435\\u0432\\u0438\\u0440\\u0430\\u043f\\u0438\\u043d\\u0430\",\"\\u042d\\u043d\\u0434\\u0435\\u0440\\u0441\\u043e\\u043c\",\"\\u0422\\u0438\\u043f\\u043e\\u0440\\u0430\\u0437\\u043c\\u0435\\u0440\\u043e\\u0432\",\"\\u041e\\u0441\\u0432\\u0438\\u0434\\u0435\\u0442\\u0435\\u043b\\u044c\\u0441\\u0442\\u0432\\u043e\\u0432\\u0430\\u043d\\u0438\\u044f\",\"\\u0433\\u043d\\u0435\\u0437\\u0434\\u043e\\u0432\\u0430\\u043d\\u0438\\u0435\",\"\\u041a\\u043e\\u0442\\u043b\\u0443\",\"\\u041b\\u0415\\u0422\\u0418\\u042e\",\"\\u043f\\u043e\\u0449\\u0451\\u0447\\u0438\\u043d\\u0443\",\"\\u0441\\u043c\\u0430\\u0447\\u0438\\u0432\\u0430\\u043d\\u0438\\u0435\",\"\\u0412\\u0438\\u0441\\u0435\\u043b\\u044c\\u043d\\u0438\\u043a\\u043e\\u0432\",\"\\u041f\\u043e\\u0441\\u0442\\u0430\\u0432\\u0449\\u0438\\u043a\",\"\\u043b\\u0438\\u0442\\u0435\\u0440\\u0430\\u0442\\u0443\\u0440\\u043e\\u0432\\u0435\\u0434\\u0435\\u043d\\u0438\\u0435\",\"\\u0434\\u0435\\u0442\\u0435\\u043a\\u0442\\u043e\\u0440\\u0443\",\"\\u0440\\u0430\\u0437\\u0433\\u043b\\u0430\\u0433\\u043e\\u043b\\u044c\\u0441\\u0442\\u0432\\u043e\\u0432\\u0430\\u043d\\u0438\\u044e\",\"\\u041f\\u0430\\u043a\\u0438\\u0441\\u0442\\u0430\\u043d\",\"\\u041a\\u0443\\u0437\\u0430\\u0435\\u0441\\u0442\\u044c\",\"\\u0443\\u0449\\u0435\\u0440\\u0431\\u0430\\u043c\",\"\\u043f\\u043b\\u0435\\u0432\\u0430\\u0442\\u0435\\u043b\\u044c\\u043d\\u0438\\u0446\\u0430\\u043c\\u0438\",\"\\u0443\\u0446\\u0435\\u043d\\u043a\\u0443\",\"\\u041e\\u043a\\u0441\\u0430\\u043d\\u0435\",\"\\u0413\\u0418\\u0413\\u0410\\u0413\\u0415\\u0420\\u0426\",\"\\u043f\\u0440\\u0438\\u0432\\u043e\\u0434\\u044b\",\"\\u0418\\u0440\\u044e\\u043b\\u0438\\u043d\\u044b\",\"\\u0441\\u043e\\u0438\\u0442\\u0438\\u0438\",\"\\u043f\\u0430\\u043d\\u0430\\u0440\\u0438\\u0446\\u0438\\u044f\\u0445\",\"\\u041f\\u0420\\u0418\\u0421\\u0422\\u041e\\u0419\\u041d\\u041e\\u0421\\u0422\\u0418\",\"\\u0443\\u0447\\u0430\\u0441\\u0442\\u043d\\u0438\\u0446\\u0435\",\"\\u0428\\u0435\\u0441\\u0442\\u043d\\u0430\\u0434\\u0446\\u0430\\u0442\\u043e\\u0439\",\"\\u0441\\u043a\\u0430\\u043d\\u0434\\u0430\\u043b\\u0430\\u043c\",\"\\u043e\\u043a\\u0440\\u0430\\u0441\\u043e\\u043c\",\"\\u042d\\u043b\\u043b\\u0438\\u0441\\u043e\\u043d\\u043e\\u043c\",\"\\u0421\\u0418\\u041d\\u0425\\u0420\\u041e\\u041d\\u0418\\u0417\\u0410\\u0426\\u0418\\u042e\",\"\\u0417\\u0438\\u043d\\u043a\\u0435\\u0432\\u0438\\u0447\",\"\\u041b\\u0438\\u0442\\u0435\\u0440\\u0430\\u0442\\u043e\\u0440\\u044b\",\"\\u043f\\u0440\\u0438\\u0432\\u0435\\u0442\\u044b\",\"\\u041c\\u0410\\u0413\\u041d\\u0415\\u0422\\u0420\\u041e\\u041d\\u041e\\u0412\",\"\\u0421\\u0435\\u0440\\u043e\\u0432\",\"\\u0411\\u0430\\u0434\\u0430\\u0435\\u0432\",\"\\u0421\\u0443\\u0440\\u043a\\u043e\\u0432\\u0443\",\"\\u043e\\u0431\\u0432\\u043e\\u0434\\u044b\",\"\\u0431\\u0443\\u0442\\u0438\\u043b\\u0435\\u043d\",\"\\u041a\\u0420\\u0415\\u041f\\u041b\\u0415\\u041d\\u0418\\u042f\",\"\\u0441\\u043e\\u0447\\u0435\\u043b\\u044c\\u043d\\u0438\\u043a\",\"\\u0410\\u0419\\u0412\\u041e\\u0420\\u0410\",\"\\u041c\\u0438\\u0433\\u0440\\u0435\\u043d\\u0438\",\"\\u0421\\u041e\\u0411\\u0410\\u041a\",\"\\u0422\\u0438\\u043d\\u0431\\u0435\\u0440\\u0433\\u0435\\u043d\\u0430\",\"\\u0438\\u043c\\u043f\\u043b\\u0430\\u043d\\u0442\\u0430\\u0442\\u0430\\u0445\",\"\\u0420\\u0443\\u0431\\u0435\\u043d\\u0441\",\"\\u043f\\u0435\\u043d\\u043e\\u043f\\u043e\\u043b\\u0438\\u0443\\u0440\\u0435\\u0442\\u0430\\u043d\\u043e\\u043c\",\"\\u0433\\u0435\\u043d\\u043e\\u043c\\u043e\\u0432\",\"\\u0438\\u043d\\u0441\\u0435\\u043a\\u0442\\u0438\\u0446\\u0438\\u0434\\u0430\",\"\\u041b\\u043e\\u0433\\u0438\\u043a\\u0438\",\"\\u043f\\u0440\\u0438\\u0435\\u0437\\u0434\\u0430\\u043c\",\"\\u041f\\u0430\\u0440\\u0430\\u0434\\u0438\\u0437\\u0430\",\"\\u0430\\u0432\\u0430\\u043d\\u0442\\u044e\\u0440\\u0438\\u0441\\u0442\\u043a\\u043e\\u0439\",\"\\u0434\\u0435\\u0444\\u043b\\u044f\\u0446\\u0438\\u0438\",\"\\u043e\\u0441\\u043a\\u0432\\u0435\\u0440\\u043d\\u0435\\u043d\\u0438\\u044e\",\"\\u0434\\u0438\\u0441\\u0441\\u0435\\u0440\\u0442\\u0430\\u0446\\u0438\\u044f\\u043c\",\"\\u043f\\u043e\\u043a\\u0443\\u043f\\u0430\\u0442\\u0435\\u043b\\u0435\",\"\\u043f\\u0435\\u0440\\u0435\\u043e\\u0434\\u0435\\u0432\\u0430\\u043d\\u0438\\u0439\",\"\\u043f\\u0438\\u0441\\u0430\\u0442\\u0435\\u043b\\u044f\\u043c\\u0438\",\"\\u0420\\u0430\\u0441\\u043a\\u043e\\u043b\\u044c\\u043d\\u0438\\u043a\\u043e\\u0432\\u0435\",\"\\u0444\\u0438\\u0433\\u0443\\u0440\\u0438\\u0441\\u0442\\u0443\",\"\\u041f\\u0440\\u0430\\u043e\\u0442\\u0446\\u0430\\u0445\",\"\\u043a\\u0443\\u043d\\u0438\\u0446\\u0435\",\"\\u0422\\u042e\\u0420\\u0418\\u041d\\u0413\\u0418\\u042f\",\"\\u041a\\u0438\\u0441\\u0435\\u043b\\u0435\\u0432\\u043e\\u0439\",\"\\u0423\\u0438\\u043b\\u0431\\u0435\\u0440\\u0442\",\"\\u043f\\u0440\\u0438\\u0432\\u043e\\u043b\\u044c\\u0435\",\"\\u041f\\u0435\\u0440\\u0435\\u0432\\u044f\\u0437\\u043a\\u0438\",\"\\u0410\\u043b\\u044c\\u0431\\u0438\\u043d\\u043e\\u0441\",\"\\u0418\\u0441\\u0442\\u0435\\u0440\\u0438\\u043a\",\"\\u0423\\u043e\\u0440\\u0438\\u043a\\u0448\\u0438\\u0440\\u0435\",\"\\u0411\\u0443\\u0433\\u0430\\u043d\\u043e\\u0432\",\"\\u041c\\u043e\\u0448\",\"\\u0431\\u043e\\u0435\",\"\\u043f\\u0435\\u0440\\u0441\\u043f\\u0435\\u043a\\u0442\\u0438\\u0432\\u043e\\u044e\",\"\\u041c\\u0430\\u043d\\u0438\\u043f\\u0443\\u0440\",\"\\u041f\\u0440\\u0438\\u043f\\u043e\\u044f\",\"\\u0412\\u042b\\u0421\\u0422\\u0423\\u041f\",\"\\u0441\\u043e\\u0431\\u0440\\u0430\\u043d\\u0438\\u044f\\u043c\\u0438\",\"\\u0416\\u0440\\u0435\\u0446\\u043e\\u0432\",\"\\u041c\\u0410\\u041b\\u0410\\u0419\\u0417\\u0418\\u042f\",\"\\u041b\\u0430\\u0432\\u043a\\u0430\",\"\\u043e\\u0442\\u0448\\u0435\\u043b\\u044c\\u043d\\u0438\\u043a\\u043e\\u043c\",\"\\u041b\\u043e\\u043c\\u043e\\u0432\\u0430\",\"\\u0437\\u0430\\u043c\\u043e\\u0440\\u0430\\u0436\\u0438\\u0432\\u0430\\u043d\\u0438\\u044f\\u043c\\u0438\",\"\\u041c\\u0438\\u043b\\u044c\\u0442\\u043e\\u043d\",\"\\u0431\\u044e\\u0441\\u0442\\u043e\\u043c\",\"\\u0421\\u0422\\u0420\\u0410\\u0425\\u041e\\u0412\",\"\\u0433\\u0435\\u043d\\u0435\\u0440\\u0430\\u043b-\\u043b\\u0435\\u0439\\u0442\\u0435\\u043d\\u0430\\u043d\\u0442\\u0443\",\"\\u044d\\u043b\\u0435\\u043a\\u0442\\u0440\\u043e\\u0441\\u0442\\u0430\\u043d\\u0446\\u0438\\u044f\\u043c\\u0438\",\"\\u0410\\u0413\\u0418\\u0422\\u0410\\u0422\\u041e\\u0420\",\"\\u0421\\u0415\\u0427\\u041d\\u042b\\u0419\",\"\\u0431\\u0430\\u043a\\u043b\\u0430\\u0436\\u0430\\u043d\",\"\\u0438\\u043c\\u043f\\u0443\\u043b\\u044c\\u0441\\u043e\\u043c\",\"\\u041c\\u0430\\u043b\\u043e\\u043b\\u0438\\u0442\\u0440\\u0430\\u0436\\u043a\\u0430\",\"\\u0442\\u0443\\u0440\\u0430\\u0433\\u0435\\u043d\\u0442\\u0441\\u0442\\u0432\\u0430\",\"\\u0411\\u041e\\u0420\\u0410\",\"\\u0422\\u0432\\u0435\\u0440\\u0434\\u044b\\u043d\\u0435\\u0439\",\"\\u041e\\u0442\\u0441\\u0442\\u043e\\u0439\\u043d\\u0438\\u043a\\u0430\",\"\\u041f\\u0441\\u0430\\u043b\\u043c\\u043e\\u043f\\u0435\\u0432\\u0435\\u0446\",\"\\u0414\\u041d\\u041a\\u0430\\u0437\\u044b\",\"\\u043f\\u0443\\u0448\\u0438\\u0441\\u0442\\u043e\\u0441\\u0442\\u044c\\u044e\",\"\\u0441\\u0432\\u0435\\u0442\\u043e\\u0434\\u0438\\u043e\\u0434\\u044b\",\"\\u041f\\u043e\\u0445\\u043e\\u0440\\u0443\\u043a\",\"\\u041f\\u0440\\u0435\\u0434\\u043b\\u043e\\u0433\",\"\\u041a\\u0430\\u0439\\u043a\\u043e\\u0441\\u0435\",\"\\u0432\\u044b\\u043f\\u0430\\u0434\\u0443\",\"\\u0428\\u0418\\u041c\\u0410\\u041d\\u041e\\u0412\\u042b\\u0419\",\"\\u043f\\u0440\\u043e\\u0441\\u043c\\u043e\\u0442\\u0440\\u043e\\u0432\\u0430\\u044f\",\"\\u0440\\u0430\\u0437\\u043b\\u043e\\u0436\\u0435\\u043d\\u0438\\u0435\\u043c\",\"\\u043a\\u0430\\u0440\\u0442\\u043e\\u043d\\u043a\\u0430\",\"\\u0437\\u0430\\u0434\\u0435\\u0440\\u0436\\u0430\\u043d\\u043d\\u044b\\u0435\",\"\\u043e\\u043a\\u0440\\u0443\\u0436\\u043d\\u043e\\u0441\\u0442\\u044c\\u044e\",\"\\u042d\\u043a\\u0441\\u0442\\u0440\\u0430\\u043a\\u0442\",\"\\u0420\\u0415\\u0426\\u0415\\u041f\\u0422\",\"\\u0421\\u0410\\u041f\\u0418\\u0420\\u0410\",\"\\u0444\\u043e\\u0442\\u043e\\u043c\\u043e\\u043d\\u0442\\u0430\\u0436\\u0430\",\"\\u0443\\u0442\\u043e\\u043b\\u0435\\u043d\\u0438\\u0435\",\"\\u043f\\u043e\\u0434\\u043d\\u043e\\u0441\\u0435\",\"\\u041c\\u0415\\u0420\\u0417\\u041e\\u0421\\u0422\\u042f\\u041c\",\"\\u043a\\u0430\\u043d\\u0430\\u043b\\u044c\\u0446\\u0435\\u043c\",\"\\u0449\\u0435\\u043a\\u043e\\u0442\\u043b\\u0438\\u0432\\u043e\\u0441\\u0442\\u0438\",\"\\u0444\\u0438\\u043b\\u0435\",\"\\u043f\\u043e\\u0440\\u0430\\u0436\\u0435\\u043d\\u0438\\u044f\\u043c\",\"\\u043e\\u0440\\u0434\\u0438\\u043d\\u0430\\u0442\\u043e\\u0440\\u0443\",\"\\u0441\\u0432\\u0438\\u0434\\u0430\\u043d\\u0438\\u0435\\u043c\",\"\\u043f\\u043e\\u0445\\u0438\\u0449\\u0435\\u043d\\u0438\\u044f\",\"\\u0427\\u0435\\u0440\\u0442\\u043a\\u043e\\u0432\\u044b\\u043c\\u0438\",\"\\u043f\\u0435\\u0440\\u0435\\u0432\\u044b\\u043f\\u043e\\u043b\\u043d\\u0435\\u043d\\u0438\\u0435\",\"\\u042f\\u0441\\u0442\\u0440\\u0436\\u0435\\u043c\\u0431\\u0441\\u043a\\u043e\\u043c\",\"\\u043a\\u043e\\u043c\\u0435\\u043d\\u0434\\u0430\\u0442\\u0443\\u0440\\u0443\",\"\\u0417\\u043b\\u044b\\u043c\",\"\\u043e\\u043c\\u0443\\u0442\\u0430\\u0445\",\"\\u041f\\u0420\\u0410\\u0412\\u0410\\u041c\",\"\\u0421\\u043f\\u043e\\u0440\\u0442\\u043e\\u043c\",\"\\u0424\\u041e\\u0420\\u041c\\u0410\\u0422\",\"\\u041d\\u0430\\u0434\\u0437\\u0438\\u0440\\u0430\\u0442\\u0435\\u043b\\u044c\\u043d\\u0438\\u0446\\u044b\",\"\\u043b\\u0438\\u043c\\u0444\\u0430\",\"\\u041d\\u0438\\u0433\\u0433\\u0435\\u0440\\u043e\\u043c\",\"\\u043e\\u043f\\u043e\\u0432\\u0435\\u0449\\u0435\\u043d\\u0438\\u044f\\u0445\",\"\\u0433\\u043b\\u0430\\u0436\\u0435\\u043d\\u044c\\u044e\",\"\\u0448\\u043a\\u0430\\u0444\\u043e\\u043c\",\"\\u043e\\u0448\\u0435\\u0439\\u043d\\u0438\\u043a\\u043e\\u0432\",\"\\u041d\\u043e\\u0442\\u0442\\u0438\\u043d\\u0433\\u0435\\u043c\\u0448\\u0438\\u0440\\u0435\",\"\\u0410\\u041c\\u041e\\u0420\\u0422\\u0418\\u0417\\u0410\\u0422\\u041e\\u0420\",\"\\u041a\\u041e\\u041e\\u0420\\u0414\\u0418\\u041d\\u0410\\u0422\\u0410\\u041c\",\"\\u0441\\u043a\\u0438\\u043f\\u0435\\u0442\\u0440\\u0435\",\"\\u043a\\u043b\\u0435\\u0442\\u043e\\u0447\\u043a\\u0430\\u0445\",\"\\u0421\\u0448\\u0438\\u0432\\u0430\\u0442\\u0435\\u043b\\u044c\",\"\\u0446\\u0430\\u0440\\u0441\\u0442\\u0432\\u0438\\u044f\",\"\\u043d\\u044e\\u043d\\u0435\",\"\\u043c\\u044b\\u0448\\u0446\",\"\\u0423\\u0421\\u0422\\u0410\",\"\\u043a\\u043e\\u043c\\u0431\\u0438\\u043d\\u0430\\u0442\\u0435\",\"\\u0421\\u043e\\u0447\\u043b\\u0435\\u043d\\u0435\\u043d\\u0438\\u0435\",\"\\u0410\\u0440\\u0438\\u0442\\u043c\\u0438\\u0438\",\"\\u0424\\u0435\\u0434\\u0435\\u0440\\u0430\\u043b\\u0438\\u0437\\u043c\\u0430\",\"\\u0438\\u0437\\u043e\\u0431\\u0440\\u0435\\u0442\\u0430\\u0442\\u0435\\u043b\\u044c\\u043d\\u043e\\u0441\\u0442\\u044c\",\"\\u043f\\u0438\\u043a\\u0448\\u0430\",\"\\u0442\\u0440\\u0430\\u043d\\u0441\\u0446\\u0435\\u043d\\u0434\\u0435\\u043d\\u0442\\u043d\\u043e\\u0441\\u0442\\u0438\",\"\\u0430\\u0434\\u043e\\u043c\",\"\\u043b\\u043e\\u0433\\u0438\\u043a\\u0430\\u043c\\u0438\",\"\\u041d\\u043e\\u0440\\u0438\\u043b\\u044c\\u0441\\u043a\\u0443\",\"\\u0443\\u0448\\u0438\\u0431\\u0430\",\"\\u043c\\u0438\\u0441\\u0442\\u0438\\u0446\\u0438\\u0437\\u043c\\u0443\",\"\\u0438\\u0441\\u043f\\u043e\\u043b\\u043d\\u0438\\u0442\\u0435\\u043b\\u044c\\u043d\\u0438\\u0446\\u044b\",\"\\u0444\\u0440\\u0430\\u043a\\u0438\\u0439\\u0446\\u0430\\u043c\",\"\\u041f\\u0443\\u0441\\u0442\\u044b\\u043d\\u044b\\u0445\",\"\\u0414\\u0438\\u0441\\u043f\\u0435\\u0442\\u0447\\u0435\\u0440\\u0435\",\"\\u0440\\u0430\\u0441\\u043a\\u043b\\u0430\\u0434\\u044b\\u0432\\u0430\\u043d\\u0438\\u0438\",\"\\u043e\\u0442\\u043f\\u0443\\u0441\\u043a\\u0430\\u043d\\u0438\\u044f\",\"\\u043c\\u044e\\u0437\\u0438\\u043a\\u043b\\u0435\",\"\\u0422\\u0430\\u043a\\u0441\\u0438\\u0441\",\"\\u0418\\u043b\\u0438\\u0439\",\"\\u0412\\u044b\\u0434\\u0432\\u043e\\u0440\\u0435\\u043d\\u0438\\u044f\",\"\\u043f\\u0438\\u043e\\u043d\\u0435\\u0440\\u043a\\u0438\",\"\\u0414\\u0435\\u043f\\u043f\\u043e\\u043c\",\"\\u043b\\u0438\\u043a\\u0451\\u0440\",\"\\u0433\\u043d\\u0438\\u043b\\u043e\\u0441\\u0442\\u044c\",\"\\u0441\\u0442\\u043e\\u043b\\u043e\\u0432\\u043a\\u0430\",\"\\u0437\\u0435\\u043c\\u043b\\u0435\\u043a\\u043e\\u043f\\u044b\",\"\\u0441\\u043e\\u0440\\u0431\\u0435\\u043d\\u0442\\u044b\",\"\\u041e\\u0434\\u043e\\u0439\",\"\\u0411\\u0415\\u041d\\u041e\\u041c\",\"\\u0442\\u0435\\u043d\\u043d\\u0438\\u0441\\u043a\\u043e\\u0439\",\"\\u0412\\u0435\\u043b\\u0435\\u0434\\u0430\",\"\\u0434\\u0435\\u0434\\u043e\\u0432\\u0449\\u0438\\u043d\\u043e\\u0439\",\"\\u043d\\u0435\\u0431\\u043b\\u0430\\u0433\\u043e\\u0434\\u0430\\u0440\\u043d\\u043e\\u0441\\u0442\\u0438\",\"\\u0432\\u0440\\u0430\\u0433\\u0430\\u0445\",\"\\u0417\\u0410\\u0414\\u041e\\u041b\\u0416\\u0415\\u041d\\u041d\\u041e\\u0421\\u0422\\u0418\",\"\\u0414\\u0438\\u0430\\u0433\\u0440\\u0430\\u043c\\u043c\\u0430\",\"\\u043e\\u0440\\u0433\\u0430\\u043d\\u0438\\u0437\\u043c\\u0430\\u043c\",\"\\u0448\\u043f\\u0430\\u043b\\u0435\\u0440\\u0443\",\"\\u0431\\u0440\\u0430\\u043d\\u0434\\u043c\\u0430\\u0443\\u044d\\u0440\\u0430\\u043c\\u0438\",\"\\u0442\\u043e\\u043d\\u0438\\u043a\\u0443\",\"\\u043c\\u0430\\u0433\\u043d\\u0438\\u0442\\u0430\",\"\\u0422\\u041e\\u041f\\u0418\\u041a\\u0410\",\"\\u043f\\u0430\\u043c\\u043f\\u0443\\u0448\\u043a\\u043e\\u0439\",\"\\u041c\\u0421\\u041a\\u041e\",\"\\u0442\\u044e\\u0440\\u0435\\u043c\\u0449\\u0438\\u0446\\u0435\",\"\\u043b\\u0443\\u0434\\u0438\\u043b\\u044c\\u0449\\u0438\\u043a\\u043e\\u043c\",\"\\u0421\\u0432\\u043e\\u043f\\u0435\\u0440\",\"\\u0431\\u043e\\u043d\\u0434\\u0430\\u0440\\u0438\",\"\\u0420\\u0438\\u043c\\u0438\\u043d\",\"\\u043f\\u0440\\u043e\\u0432\\u0438\\u0434\\u0435\\u043d\\u0438\\u0438\",\"\\u042d\\u041a\\u0420\\u0410\\u041d\\u041e\\u0412\",\"\\u0430\\u043a\\u0441\\u0435\\u0441\\u0441\\u0443\\u0430\\u0440\\u0430\\u0445\",\"\\u0441\\u0443\\u0431\\u0430\\u0440\\u0435\\u043d\\u0434\\u0430\\u0442\\u043e\\u0440\\u043e\\u043c\",\"\\u0441\\u0442\\u0438\\u043b\\u0443\\u0441\\u043e\\u043c\",\"\\u0430\\u0441\\u0442\\u0440\\u043e\\u043d\\u043e\\u043c\\u0430\\u043c\\u0438\",\"\\u0440\\u0430\\u0437\\u0433\\u0430\\u0434\\u043a\\u0430\",\"\\u0441\\u043e\\u0431\\u044b\\u0442\\u0438\\u044f\",\"\\u0430\\u043c\\u0435\\u0431\\u0443\",\"\\u043d\\u0430\\u043a\\u043e\\u043f\\u043b\\u0435\\u043d\\u0438\\u0439\",\"\\u0444\\u0443\\u043d\\u043a\\u0446\\u0438\\u044e\",\"\\u0410\\u0443\\u0442\\u0441\\u0430\\u0439\\u0434\\u0435\\u0440\",\"\\u0433\\u0443\\u043c\\u0430\\u043d\\u0438\\u0442\\u0430\\u0440\\u0438\\u044f\\u043c\\u0438\",\"\\u0441\\u0434\\u0443\\u0432\\u0430\\u043d\\u0438\\u044f\",\"\\u043f\\u0430\\u043f\\u043e\\u0447\\u043a\\u0443\",\"\\u0424\\u0435\\u0447\\u0438\\u043d\\u0435\",\"\\u0417\\u0410\\u041f\\u0420\\u0415\\u0429\\u0415\\u041d\\u0418\\u0415\",\"\\u0421\\u0438\\u0442\\u0443\\u0430\\u0446\\u0438\\u0438\",\"\\u0441\\u0443\\u043d\\u043d\\u0438\\u0437\\u043c\\u0430\",\"\\u0432\\u043d\\u0435\\u0437\\u0430\\u043f\\u043d\\u043e\\u0441\\u0442\\u044c\\u044e\",\"\\u041c\\u0430\\u0441\\u0441\\u0443\",\"\\u044d\\u043a\\u0441\\u043f\\u043e\\u043d\\u0430\\u0442\\u0430\\u043c\\u0438\",\"\\u0415\\u0432\\u0440\\u043e\\u043f\\u0435\\u0439\\u0446\\u0443\",\"\\u0425\\u043e\\u0440\\u044c\\u043a\\u0443\",\"\\u0438\\u043d\\u0441\\u0430\\u0439\\u0434\\u0430\",\"\\u041a\\u043e\\u0437\\u043b\\u043e\\u0434\\u0443\\u044f\",\"\\u0414\\u043e\\u0437\\u043d\\u0430\\u043d\\u0438\\u044f\",\"\\u043c\\u043e\\u043b\\u0447\\u0430\\u043d\\u0438\\u044f\",\"\\u0441\\u0443\\u0434\\u043e\\u0432\\u043e\\u0434\\u0438\\u0442\\u0435\\u043b\\u044f\",\"\\u043c\\u043d\\u043e\\u0433\\u043e\\u0432\\u0430\\u043b\\u0435\\u043d\\u0442\\u043d\\u043e\\u0441\\u0442\\u0438\",\"\\u0441\\u043d\\u0435\\u0441\\u0435\\u043d\\u0438\\u0435\",\"\\u0412\\u0438\\u0434\\u0435\",\"\\u0410\\u043a\\u043a\\u0430\\u0443\\u043d\\u0442\\u044b\",\"\\u043a\\u0430\\u0440\\u0442\\u0438\\u0440\\u043e\\u0432\\u0430\\u043d\\u0438\\u044f\",\"\\u041c\\u0435\\u043b\\u0430\\u043d\\u0438\\u0438\",\"\\u0417\\u0438\\u043d\\u043e\\u0432\\u044c\\u0435\\u0432\\u0443\",\"\\u041f\\u0440\\u043e\\u0440\\u0430\\u0431\\u043e\\u0442\\u043a\\u0438\",\"\\u041c\\u0430\\u043b\\u0430\\u0432\\u0438\\u0439\\u0446\\u044b\",\"\\u0430\\u0432\\u0443\\u0430\\u0440\\u043e\\u0432\",\"\\u0430\\u043a\\u043a\\u0440\\u0435\\u0434\\u0438\\u0442\\u0430\\u0446\\u0438\\u0438\",\"\\u0438\\u0441\\u0442\\u0435\\u0446\",\"\\u0423\\u0448\\u043a\\u0430\\u043b\\u043e\\u0432\\u044b\\u043c\",\"\\u0433\\u043b\\u044f\\u043d\\u0446\\u0435\\u043c\",\"\\u0412\\u0438\\u0444\\u0430\\u043d\\u0438\\u044f\",\"\\u0440\\u043e\\u0434\\u0438\\u043d\\u0430\",\"\\u0417\\u0430\\u0441\\u0442\\u0443\\u043f\\u043d\\u0438\\u0446\\u0430\",\"\\u043a\\u0430\\u0445\\u0435\\u043a\\u0441\\u0438\\u044e\",\"\\u041f\\u043e\\u0445\\u043e\\u0436\\u0434\\u0435\\u043d\\u0438\\u0439\",\"\\u0426\\u0438\\u043a\\u043b\\u043e\\u0438\\u0434\\u0435\",\"\\u0448\\u0438\\u0437\\u043e\\u0444\\u0440\\u0435\\u043d\\u0438\\u0435\\u0439\",\"\\u041c\\u043e\\u0434\\u0438\\u0444\\u0438\\u043a\\u0430\\u0442\\u043e\\u0440\\u0443\",\"\\u041f\\u041e\\u0421\\u0422\\u0410\\u0412\\u041a\\u0410\\u0425\",\"\\u043f\\u043b\\u0430\\u0442\\u0430\\u043d\\u044b\",\"\\u041d\\u0435\\u043e\\u0441\\u043d\\u043e\\u0432\\u0430\\u0442\\u0435\\u043b\\u044c\\u043d\\u043e\\u0441\\u0442\\u044c\",\"\\u0421\\u0432\\u0438\\u043d\\u0430\\u0440\\u043d\\u0438\\u043a\\u043e\\u0432\",\"\\u0444\\u0430\\u0440\\u043c\\u0430\\u043a\\u043e\\u043b\\u043e\\u0433\\u043e\\u043c\",\"\\u0410\\u043b\\u0435\\u0441\\u043a\\u0435\\u0440\\u043e\\u0432\\u0443\",\"\\u044d\\u043b\\u043b\\u0438\\u043d\\u0433\\u0443\",\"\\u043d\\u043e\\u0441\",\"\\u0443\\u043f\\u043e\\u0432\\u0430\\u043d\\u0438\\u0435\",\"\\u0410\\u0440\\u0445\\u0435\\u043e\\u043b\\u043e\\u0433\\u043e\",\"\\u041b\\u0430\\u043d\\u044c\",\"\\u0416\\u0430\\u0432\\u043d\\u0435\\u043d\\u043a\\u043e\",\"\\u0414\\u041e\\u0421\\u0422\\u041e\\u042f\\u041d\\u0418\\u042f\",\"\\u0437\\u043c\\u0435\\u044e\\u0448\\u043d\\u0438\\u043a\",\"\\u041d\\u0430\\u0441\\u0435\\u0447\\u043a\\u0430\",\"\\u041d\\u0435\\u0441\\u043f\\u0440\\u0430\\u0432\\u0435\\u0434\\u043b\\u0438\\u0432\\u043e\\u0441\\u0442\\u044c\",\"\\u0434\\u043e\\u043a\\u0443\\u043c\\u0435\\u043d\\u0442\\u0430\\u0446\\u0438\\u044e\",\"\\u044d\\u0442\\u0430\\u0436\\u0435\\u0440\\u043a\\u0430\\u043c\\u0438\",\"\\u043f\\u0435\\u0441\\u0447\\u0430\\u043d\\u043e\\u043a\",\"\\u0421\\u0442\\u0430\\u0441\\u043e\\u0432\",\"\\u0441\\u0432\\u0438\\u043d\\u0430\\u0440\\u043d\\u0438\\u043a\\u0435\",\"\\u041d\\u041e\\u0421\\u0418\\u0422\\u0415\\u041b\\u042f\\u0425\",\"\\u0430\\u043a\\u0442\\u0438\\u0432\",\"\\u0436\\u0438\\u043b\\u044c\\u044f\",\"\\u0411\\u043e\\u0440\\u043e\\u0434\\u0438\\u0449\\u0430\",\"\\u043f\\u0440\\u0435\\u0441\\u0442\\u043e\\u043b\\u043e\\u043d\\u0430\\u0441\\u043b\\u0435\\u0434\\u043d\\u0438\\u043a\\u043e\\u043c\",\"\\u0414\\u0430\\u0440\\u0440\\u0435\\u043b\",\"\\u0414\\u0436\\u0443\\u043c\\u043a\\u043e\\u0432\\u0430\",\"\\u0433\\u043e\\u0441\\u0442\\u044f\\u043c\",\"\\u041a\\u043e\\u043c\\u043d\\u0430\\u0442\\u043a\\u0430\",\"\\u0428\\u043e\\u043f\\u0435\\u043d\\u0430\",\"\\u0443\\u043c\\u0438\\u043b\\u043e\\u0441\\u0442\\u0438\\u0432\\u043b\\u0435\\u043d\\u0438\\u0438\",\"\\u041f\\u0420\\u041e\\u0411\\u041e\\u042f\\u0425\",\"\\u0432\\u0435\\u0431\\u0441\\u0430\\u0439\\u0442\\u0430\\u043c\\u0438\",\"\\u041f\\u0435\\u0440\\u0432\\u043e\\u0441\\u0432\\u044f\\u0449\\u0435\\u043d\\u043d\\u0438\\u043a\\u043e\\u0432\",\"\\u043f\\u043e\\u0434\\u0437\\u0430\\u0449\\u0438\\u0442\\u043d\\u043e\\u043c\\u0443\",\"\\u0420\\u0435\\u0444\\u043b\\u0435\\u043a\\u0441\\u044b\",\"\\u0433\\u043d\\u0435\\u0437\\u0434\",\"\\u0433\\u0432\\u0430\\u0442\\u0435\\u043c\\u0430\\u043b\\u044c\\u0446\\u0430\\u043c\",\"\\u0428\\u0422\\u0410\\u0411-\\u041a\\u0412\\u0410\\u0420\\u0422\\u0418\\u0420\\u0410\\u0425\",\"\\u0440\\u0443\\u0431\\u043a\\u0438\",\"\\u0411\\u0440\\u0438\\u0434\\u0436\\u0438\\u0442\",\"\\u0432\\u0441\\u0445\\u043e\\u0434\\u0430\\u043c\",\"\\u0414\\u0432\\u0435\\u0440\\u0446\\u044b\",\"\\u0437\\u043d\\u0430\\u043a\\u043e\\u043c\\u0441\\u0442\\u0432\\u0435\",\"\\u0437\\u0430\\u043b\\u043e\\u0436\\u043d\\u0438\\u0446\\u0430\\u043c\\u0438\",\"\\u043e\\u0441\\u0432\\u043e\\u0435\\u043d\\u0438\\u0438\",\"\\u041f\\u0440\\u0438\\u0431\\u044b\\u043b\\u044c\\u044e\",\"\\u0434\\u0443\\u043d\\u043e\\u0432\\u0435\\u043d\\u0438\\u044e\",\"\\u0442\\u0435\\u043b\\u0435\\u043a\\u043e\\u043c\\u043c\\u0443\\u043d\\u0438\\u043a\\u0430\\u0446\\u0438\\u044f\\u043c\",\"\\u0412\\u043b\\u0430\\u0441\\u0442\\u0438\\u0442\\u0435\\u043b\\u0438\",\"\\u041a\\u0438\\u0440\\u043e\\u0439\",\"\\u0420\\u0430\\u0435\\u0432\\u0441\\u043a\\u043e\\u0439\",\"\\u043d\\u0435\\u043f\\u0440\\u0438\\u043c\\u0435\\u043d\\u0438\\u043c\\u043e\\u0441\\u0442\\u0438\",\"\\u043e\\u0431\\u043e\\u043d\\u044f\\u043d\\u0438\\u044e\",\"\\u0421\\u0435\\u043a\\u0440\\u0435\\u0442\\u0435\\u0440\",\"\\u043f\\u0440\\u0438\\u044e\\u0442\\u0430\\u043c\",\"\\u0441\\u0441\\u043e\\u0440\\u043e\\u0439\",\"\\u0433\\u043e\\u043d\\u0449\\u0438\\u043a\\u043e\\u0432\",\"\\u043f\\u043e\\u0434\\u0437\\u0430\\u0433\\u043e\\u043b\\u043e\\u0432\\u043a\\u0438\",\"\\u0431\\u0430\\u043b\\u0435\\u0442\\u043e\\u0432\",\"\\u0413\\u041e\\u0414\\u0415\",\"\\u0410\\u0441\\u043b\\u0430\\u043c\\u0431\\u0435\\u043a\\u0443\",\"\\u043c\\u0435\\u0440\\u0438\\u0434\\u0438\\u0430\\u043d\\u0430\\u043c\",\"\\u043a\\u0430\\u043b\\u0438\\u0431\\u0440\\u0435\",\"\\u0441\\u0443\\u0448\\u0438\\u043b\\u043a\\u0438\",\"\\u042d\\u041c\",\"\\u043d\\u0435\\u0438\\u0441\\u043f\\u0440\\u0430\\u0432\\u043d\\u043e\\u0441\\u0442\\u044f\\u043c\",\"\\u0411\\u0440\\u0438\\u0441\\u0442\\u043e\\u043b\\u0435\\u043c\",\"\\u041f\\u043b\\u0430\\u0442\\u0435\\u043b\\u044c\\u0449\\u0438\\u043a\\u0430\\u043c\\u0438\",\"\\u043f\\u0440\\u0435\\u0434\\u0441\\u0442\\u043e\\u044f\\u0442\\u0435\\u043b\\u0435\\u0439\",\"\\u0417\\u0415\\u0420\\u041a\\u0410\\u041b\\u0415\",\"\\u0437\\u0430\\u0442\\u0430\\u0447\\u0438\\u0432\\u0430\\u043d\\u0438\\u0438\",\"\\u043f\\u0435\\u0440\\u0435\\u0432\\u044f\\u0437\\u044c\\u044e\",\"\\u0437\\u0430\\u043f\\u0430\\u0437\\u0434\\u044b\\u0432\\u0430\\u043d\\u0438\\u044e\",\"\\u042f\\u0440\\u043e\\u0448\\u0432\\u043e\\u043c\",\"\\u0421\\u0430\\u043d\\u0441\\u043e\\u043c\",\"\\u0432\\u0435\\u0449\\u0434\\u043e\\u043a\",\"\\u0432\\u0430\\u043b\\u044c\\u0446\\u043e\\u0432\\u043a\\u0438\",\"\\u0442\\u044b\\u0441\\u044f\\u0447\\u043d\\u0430\\u044f\",\"\\u0413\\u041c\\u041a \\u201c\\u041d\\u043e\\u0440\\u0438\\u043b\\u044c\\u0441\\u043a\\u0438\\u0439 \\u043d\\u0438\\u043a\\u0435\\u043b\\u044c\\u201d\",\"\\u0432\\u044b\\u0434\\u0443\\u043c\\u0449\\u0438\\u043a\\u043e\\u0432\",\"\\u043c\\u0451\\u0440\\u0442\\u0432\\u044b\\u043c\\u0438\",\"\\u042e\\u0440\\u0447\\u0435\\u043d\\u043a\\u043e\",\"\\u043f\\u0440\\u043e\\u0434\\u043e\\u043b\\u0436\\u0430\\u0442\\u0435\\u043b\\u044c\",\"\\u0442\\u0440\\u043e\\u043c\\u0431\\u044b\",\"\\u0442\\u0435\\u043d\\u043d\\u0438\\u0441\\u0443\",\"\\u0421\\u0430\\u043c\\u043e\\u043e\\u0431\\u0440\\u0430\\u0437\\u043e\\u0432\\u0430\\u043d\\u0438\\u0435\",\"\\u0424\\u0438\\u043b\\u0438\\u043c\\u043e\\u043d\\u043e\\u0432\",\"\\u0442\\u0430\\u0438\\u043d\\u0441\\u0442\\u0432\\u0430\\u0445\",\"\\u0441\\u0442\\u0438\\u043b\\u0438\\u0437\\u0430\\u0446\\u0438\\u044f\",\"\\u0410\\u043d\\u0433\\u0438\\u043b\\u044c\\u044e\",\"\\u0425\\u0430\\u0440\\u0442\\u0444\\u043e\\u0440\\u0434\\u0448\\u0438\\u0440\\u0430\",\"\\u0444\\u0438\\u0442\\u0438\\u043d\\u0433\\u0430\\u043c\",\"\\u043a\\u0430\\u0437\\u0430\\u043a\\u0430\\u0445\",\"\\u043a\\u043e\\u0441\\u043f\\u043e\\u043d\\u0441\\u043e\\u0440\",\"\\u0434\\u043d\\u044f\\u0445\",\"\\u0447\\u0435\\u043b\\u043e\\u0432\\u0435\\u0447\\u043a\\u0435\",\"\\u041f\\u0440\\u0438\\u043c\\u0430\\u043d\\u043a\\u043e\\u0439\",\"\\u043e\\u0442\\u0442\\u0438\\u0441\\u043a\\u0438\",\"\\u0431\\u0435\\u0441\\u0441\\u0435\\u0440\\u0434\\u0435\\u0447\\u0438\\u0438\",\"\\u0421\\u0443\\u0431\\u043f\\u0440\\u043e\\u0434\\u0443\\u043a\\u0442\\u0430\\u043c\\u0438\",\"\\u0448\\u043d\\u0443\\u0440\\u043e\\u0432\\u0430\\u043d\\u0438\\u044f\",\"\\u043f\\u043e\\u0434\\u0443\\u0448\\u043a\\u0430\\u043c\",\"\\u0418\\u0441\\u0444\\u0430\\u0445\\u0430\\u043d\\u0435\",\"\\u0421\\u041b\\u0410\\u0413\\u0410\\u0415\\u041c\\u042b\\u0415\",\"\\u0431\\u0430\\u043a\\u0443\\u043d\\u0438\\u0441\\u0442\\u0430\\u043c\",\"\\u0441\\u0435\\u0442\\u043e\\u0432\\u0430\\u043d\\u0438\\u044f\\u043c\\u0438\",\"\\u041f\\u043e\\u043a\\u0440\\u0430\\u0441\\u043a\\u0430\",\"\\u0444\\u0435\\u0442\\u0438\\u0448\\u0438\\u0437\\u043c\\u043e\\u043c\",\"\\u0411\\u0430\\u0440\\u044b\\u043d\\u044f\",\"\\u0441\\u0438\\u0440\\u0438\\u0439\\u0446\\u044b\",\"\\u0422\\u0435\\u0445\\u043d\\u0438\\u043a\\u043e\",\"\\u0417\\u043d\\u0430\\u043c\\u0435\\u043d\\u0430\\u0442\\u0435\\u043b\\u044c\",\"\\u043d\\u0435\\u0443\\u043a\\u043e\\u0441\\u043d\\u0438\\u0442\\u0435\\u043b\\u044c\\u043d\\u043e\\u0441\\u0442\\u044c\\u044e\",\"\\u0422\\u0440\\u0430\\u0432\\u043e\",\"\\u041f\\u0430\\u0442\\u0440\\u0438\\u043a\\u0430\",\"\\u0438\\u043d\\u0434\\u043e\\u043d\\u0435\\u0437\\u0438\\u0439\\u0446\\u0430\\u043c\\u0438\",\"\\u0442\\u0435\\u0441\\u0435\\u043c\\u043a\\u0443\",\"\\u0414\\u0432\\u0443\\u044f\\u0437\\u044b\\u0447\\u0438\\u0435\",\"\\u041a\\u043b\\u0435\\u043f\\u0442\\u043e\\u043c\\u0430\\u043d\\u044b\",\"\\u041c\\u041e\\u0422\\u041e\\u0426\\u0418\\u041a\\u041b\\u041e\\u0412\",\"\\u0431\\u043b\\u044d\\u043a\\u0434\\u0436\\u0435\\u043a\\u043e\\u043c\",\"\\u0418\\u0437\\u0431\\u0440\\u0430\\u043d\\u043d\\u043e\\u0441\\u0442\\u0438\",\"\\u0430\\u043a\\u0442\\u0438\\u0432\\u043d\\u043e\\u0441\\u0442\\u044c\\u044e\",\"\\u0441\\u0447\\u0438\\u0442\\u044b\\u0432\\u0430\\u043d\\u0438\\u0438\",\"\\u0445\\u0440\\u0430\\u0431\\u0440\\u0435\\u0446\\u0430\\u043c\\u0438\",\"\\u041a\\u043e\\u043b\\u0435\\u0439\\u043d\\u0438\\u043a\\u043e\\u0432\\u0430\",\"\\u0412\\u044b\\u043a\\u043b\\u044e\\u0447\\u0430\\u0442\\u0435\\u043b\\u0438\",\"\\u0422\\u0423\\u0420\\u041d\\u0418\\u0420\",\"\\u0441\\u0442\\u0440\\u0430\\u043d\\u043d\\u0438\\u0446\\u0430\",\"\\u041c\\u043e\\u0437\\u0433\\u043e\\u0432\\u0430\\u044f\",\"\\u042d\\u043f\\u043e\\u043a\\u0441\\u0438\\u0434\\u044b\",\"\\u0421\\u0423\\u041c\\u0415\\u0420\\u041a\\u0418\",\"\\u0430\\u0441\\u043f\\u0438\\u0440\\u0430\\u043d\\u0442\\u0443\\u0440\\u0430\",\"\\u0441\\u0442\\u0435\\u0441\\u043d\\u0435\\u043d\\u043d\\u043e\\u0441\\u0442\\u044c\\u044e\",\"\\u0414\\u041e\\u0421\\u0422\\u041e\\u042f\\u041d\\u0418\\u0415\\u041c\",\"\\u0418\\u0436\\u0435\\u0432\\u0441\\u043a\\u0435\",\"\\u042d\\u0432\\u043e\\u043b\\u044e\\u0446\\u0438\\u0435\\u0439\",\"\\u0421\\u0432\\u0435\\u0442\\u043e\\u0431\\u043e\\u044f\\u0437\\u043d\\u044c\",\"\\u0442\\u0435\\u0442\\u0435\\u0447\\u043a\\u0430\",\"\\u0411\\u0443\\u043b\",\"\\u0441\\u043a\\u0430\\u043d\\u0434\\u0430\\u043b\\u0438\\u0441\\u0442\\u044b\",\"\\u041b\\u0438\\u043a\\u0435\",\"\\u043f\\u043e\\u043b\\u0434\\u044e\\u0436\\u0438\\u043d\\u044b\",\"\\u0441\\u043c\\u0435\\u0436\\u043d\\u043e\\u0441\\u0442\\u044c\\u044e\",\"\\u043c\\u0438\\u043a\\u0440\\u043e\\u0444\\u0438\\u043b\\u044c\\u043c\\u0430\\u043c\\u0438\",\"\\u041b\\u0430\\u0432\\u0440\\u043e\\u0432\",\"\\u0441\\u0443\\u0434\\u0451\\u043d\\u044b\\u0448\\u043a\\u0430\",\"\\u043f\\u043e\\u0441\\u0442\\u0430\\u043d\\u043e\\u0432\\u043a\\u0435\",\"\\u041e\\u0422\\u0411\\u041e\\u0420\\u041e\\u041c\",\"\\u0411\\u0435\\u0441\\u0441\\u043c\\u0435\\u0440\\u0442\\u044c\\u0435\",\"\\u041a\\u0410\\u0417\\u0410\\u0425\\u0421\\u0422\\u0410\\u041d\",\"\\u0424\\u0438\\u043b\\u044c\\u0442\\u0440\\u0430\\u0446\\u0438\\u0438\",\"\\u041a\\u041e\\u041c\\u041f\\u041b\\u0415\\u041a\\u0422\\u0410\\u0425\",\"\\u0421\\u0432\\u0435\\u0440\\u0434\\u043b\\u043e\\u0432\\u0441\\u043a\\u0430\",\"\\u041d\\u0435\\u0443\\u044f\\u0437\\u0432\\u0438\\u043c\\u043e\\u0441\\u0442\\u044c\",\"\\u0413\\u043e\\u043b\\u0434\\u0448\\u0442\\u0435\\u0439\\u043d\\u0443\",\"\\u0422\\u0420\\u041e\\u0418\",\"\\u043f\\u0440\\u043e\\u043a\\u0440\\u0443\\u0447\\u0438\\u0432\\u0430\\u043d\\u0438\\u0435\\u043c\",\"\\u041d\\u0443\\u043d\\u0430\\u0432\\u0443\\u0442\\u0435\",\"\\u0448\\u0442\\u044b\\u0440\\u044c\\u043a\\u0430\",\"\\u043f\\u043d\\u044f\\u043c\",\"\\u0431\\u0440\\u044e\\u043d\\u0435\\u0442\\u0430\",\"\\u0434\\u043e\\u043c\\u0438\\u043d\\u0438\\u043e\\u043d\\u044b\",\"\\u043f\\u0430\\u0440\\u043a\\u043e\\u0432\\u043a\\u0443\",\"\\u041c\\u0410\\u0411\",\"\\u043d\\u0430\\u0448\\u0438\\u0432\\u043a\\u0443\",\"\\u0433\\u0438\\u043c\\u043d\\u0430\\u0441\\u0442\\u0443\",\"\\u0434\\u0435\\u043b\\u044c\\u0446\\u043e\\u0432\",\"\\u0424\\u0430\\u043b\\u043b\\u043e\\u0441\",\"\\u042e\\u0433\\u043e\\u0441\\u043b\\u0430\\u0432\\u0438\\u0435\\u0439\",\"\\u0444\\u0435\\u043c\\u0438\\u043d\\u0438\\u0441\\u0442\\u0430\",\"\\u0431\\u0438\\u0444\\u0435\\u043d\\u0438\\u043b\\u044b\",\"\\u0434\\u043e\\u0431\\u0440\\u043e\\u043c\",\"\\u0431\\u0440\\u0435\\u0432\\u043d\\u044b\\u0448\\u043a\\u0435\",\"\\u0443\\u0431\\u043e\\u0440\\u0449\\u0438\\u043a\\u0443\",\"\\u042e\\u0441\\u0442\\u0430\\u0441\\u0430\",\"\\u0447\\u0435\\u043b\\u043e\\u0432\\u0435\\u043a\\u043e\\u043d\\u0435\\u043d\\u0430\\u0432\\u0438\\u0441\\u0442\\u043d\\u0438\\u0447\\u0435\\u0441\\u0442\\u0432\\u0430\",\"\\u043c\\u0433\\u043d\\u043e\\u0432\\u0435\\u043d\\u044c\\u0435\",\"\\u0423\\u043f\\u0440\\u0430\\u0432\\u043b\\u0435\\u043d\\u0438\\u0439\",\"\\u041f\\u043e\\u0434\\u0437\\u0430\\u0442\\u044b\\u043b\\u044c\\u043d\\u0438\\u043a\",\"\\u041b\\u0438\\u0447\\u0438\\u043a\\u043e\\u0432\\u0438\\u0447\\u0435\\u0439\",\"\\u0437\\u0430\\u0434\\u0430\\u043c\",\"\\u0442\\u043e\\u043a\\u0441\\u0438\\u043a\\u043e\\u043c\\u0430\\u043d\\u0430\",\"\\u041f\\u043e\\u043a\\u0430\\u044f\\u043d\\u0438\\u0435\\u043c\",\"\\u0410\\u043f\\u043e\\u0433\\u0435\\u0439\",\"\\u043a\\u0440\\u0443\\u0448\\u0435\\u043d\\u0438\\u044f\\u0445\",\"\\u0414\\u0443\\u0431\\u0440\\u043e\\u0432\\u043a\\u0438\",\"\\u0442\\u043e\\u043b\\u0447\\u0435\\u044f\",\"\\u0448\\u0435\\u0439\\u043a\\u0430\\u0445\",\"\\u0434\\u043e\\u0441\\u0442\\u043e\\u044f\\u043d\\u0438\\u0435\\u043c\",\"\\u0427\\u0435\\u0440\\u0442\\u0435\\u0436\\u0435\",\"\\u0434\\u0435\\u0437\\u043e\\u0434\\u043e\\u0440\\u0430\\u043d\\u0442\\u043e\\u043c\",\"\\u0410\\u043b\\u0435\\u043d\\u0430\",\"\\u0441\\u0443\\u0431\\u0441\\u0442\\u0438\\u0442\\u0443\\u0442\\u043e\\u0432\",\"\\u0412\\u0438\\u0441\\u043b\\u044b\",\"\\u0431\\u043b\\u0435\\u0444\\u043e\\u0432\\u0430\\u043d\\u0438\\u044f\",\"\\u0434\\u0435\\u0432\\u0443\\u0448\\u043a\\u0443\",\"\\u0434\\u043e\\u0431\\u0440\\u043e\\u0432\\u043e\\u043b\\u044c\\u0446\\u044b\",\"\\u0412\\u041b\\u0418\\u0412\\u0410\\u041d\\u0418\\u042f\",\"\\u041c\\u0418\\u041d\\u0415\\u0420\\u0410\\u041b\\u041e\\u0413\\u0418\\u0418\",\"\\u043f\\u0440\\u043e\\u0436\\u0435\\u043a\\u0442\\u043e\\u0432\",\"\\u041a\\u0443\\u0448\\u043c\\u0430\\u043d\\u0443\",\"\\u043c\\u0443\\u0441\\u043b\\u0438\\u043d\\u0430\",\"\\u0422\\u0430\\u0443\\u043d\\u0441\\u0432\\u0438\\u043b\\u043b\\u0435\",\"\\u0440\\u043e\\u0441\\u0441\\u0438\\u044f\\u043d\\u043a\\u0430\\u043c\\u0438\",\"\\u0431\\u0438\\u043b\\u0431\\u043e\\u0440\\u0434\\u0430\\u043c\\u0438\",\"\\u043b\\u0438\\u0446\\u0435\\u0438\\u0441\\u0442\",\"\\u0410\\u0442\\u0430\\u043c\\u0430\\u043d\\u0441\\u043a\\u043e\\u0439\",\"\\u041c\\u0430\\u0439\\u043c\\u0430\",\"\\u041a\\u043e\\u043c\\u043c\\u0443\\u0442\\u0430\\u0442\\u043e\\u0440\\u0443\",\"\\u0440\\u0430\\u0437\\u0434\\u0443\\u0442\\u0438\\u0439\",\"\\u043f\\u0430\\u043b\\u0430\\u043d\\u043a\\u0438\\u043d\\u043e\\u0432\",\"\\u041b\\u0438\\u043d\\u043a\\u043e\\u043b\\u044c\\u043d\\u043e\\u043c\",\"\\u0441\\u0430\\u043c\\u043e\\u0434\\u0435\\u0440\\u0436\\u0430\\u0432\\u0438\\u0435\",\"\\u0410\\u0440\\u0445\\u044b\\u0437\\u0435\",\"\\u0412\\u0435\\u0441\\u0442\\u043e\\u0447\\u043a\\u0438\",\"\\u0412\\u043e\\u043b\\u043e\\u0433\\u0434\\u043e\\u0439\",\"\\u0434\\u043e\\u043a\\u0443\\u043c\\u0435\\u043d\\u0442\\u0435\",\"\\u0441\\u0435\\u043a\\u044c\\u044e\\u0440\\u0438\\u0442\\u0438\\u0437\\u0430\\u0446\\u0438\\u044e\",\"\\u0410\\u0431\\u0438\\u0434\\u0438\\u043d\\u0443\",\"\\u0433\\u0430\\u043b\\u0430\\u043a\\u0442\\u0438\\u043a\\u0430\\u0445\",\"\\u041a\\u041b\\u041e\\u0414\\u0410\",\"\\u043f\\u043e\\u043b\\u043e\\u0432\\u043e\\u0434\\u044c\\u0435\\u043c\",\"\\u0426\\u043e\\u0440\\u043d\\u0430\",\"\\u043f\\u043e\\u0440\\u044b\\u0432\\u0430\",\"\\u0420\\u0423\\u0411\",\"\\u0433\\u043b\\u043e\\u0441\\u0441\\u0430\\u0440\\u0438\\u0439\",\"\\u043d\\u0435\\u0432\\u0440\\u0430\\u043b\\u0433\\u0438\\u0439\",\"\\u043d\\u0430\\u0440\\u0443\\u0448\\u0438\\u0442\\u0435\\u043b\\u044f\\u043c\",\"\\u041a\\u043e\\u0440\\u0437\\u0438\\u043a\",\"\\u0435\\u0432\\u0440\\u043e\\u043a\\u0440\\u0435\\u0434\\u0438\\u0442\\u043e\\u0432\",\"\\u0417\\u0430\\u0447\\u0438\\u043d\\u0449\\u0438\\u043a\\u0430\\u043c\",\"\\u0425\\u0418\\u0420\\u0423\\u0420\\u0413\\u0418\\u042f\",\"\\u0421\\u0435\\u0433\\u043c\\u0435\\u043d\\u0442\\u0430\\u0446\\u0438\\u044f\",\"\\u0438\\u0440\\u0440\\u0438\\u0433\\u0430\\u0446\\u0438\\u0435\\u0439\",\"\\u0441\\u0430\\u043c\\u043e\\u043b\\u0435\\u0442\\u0430\\u043c\",\"\\u0422\\u0440\\u0438\\u043c\\u0435\\u0441\\u0442\\u0440\\u044b\",\"\\u043f\\u0435\\u0440\\u0441\\u043f\\u0435\\u043a\\u0442\\u0438\\u0432\\u0430\\u043c\\u0438\",\"\\u0440\\u0430\\u0441\\u0447\\u0451\\u0442\\u0430\\u0445\",\"\\u0434\\u043e\\u0440\\u0430\\u0431\\u043e\\u0442\\u043a\\u043e\\u0439\",\"\\u041e\\u0431\\u043c\\u043e\\u043b\\u0432\\u043a\\u0438\",\"\\u041e\\u0431\\u0432\\u0438\\u043d\\u0438\\u0442\\u0435\\u043b\\u044c\\u043d\\u0438\\u0446\\u0430\",\"\\u043f\\u0435\\u0440\\u0435\\u043a\\u043b\\u0430\\u0434\\u0438\\u043d\\u0430\",\"\\u043a\\u0430\\u0440\\u0430\\u0442\\u0435\\u043b\\u0438\",\"\\u0420\\u0430\\u0441\\u043f\\u043b\\u044b\\u0432\\u0447\\u0430\\u0442\\u043e\\u0441\\u0442\\u044c\",\"\\u043e\\u0434\\u0438\\u043d\\u043e\\u0447\\u043a\\u0430\",\"\\u041e\\u0441\\u0438\\u043f\\u043e\\u0432\\u0438\\u0447\",\"\\u041c\\u044c\\u044e\\u0442\\u0435\\u043a\\u0441\",\"\\u043e\\u0442\\u0441\\u0442\\u0430\\u0432\\u043d\\u0438\\u043a\\u043e\\u0432\",\"\\u0415\\u0420\\u0415\\u041c\\u0418\\u041d\",\"\\u0438\\u043d\\u0441\\u0442\\u0440\\u0443\\u043c\\u0435\\u043d\\u0442\\u0430\\u043b\\u044c\\u0449\\u0438\\u043a\\u0443\",\"\\u0412\\u042b\\u0425\\u041e\\u0414\\u041e\\u0412\",\"\\u043f\\u0440\\u0435\\u0434\\u0430\\u043d\\u0438\\u0439\",\"\\u0438\\u043d\\u043a\\u043e\\u0440\\u043f\\u043e\\u0440\\u0438\\u0440\\u043e\\u0432\\u0430\\u043d\\u0438\\u0438\",\"\\u0410\\u0432\\u0430\\u043d\\u0437\\u0430\\u043b\\u0435\",\"\\u0438\\u0441\\u043f\\u0430\\u0440\\u0435\\u043d\\u0438\\u0439\",\"\\u041d\\u043e\\u0432\\u043e\\u0440\\u043e\\u0441\\u0441\\u0438\\u0439\\u0441\\u043a\\u043e\\u043c\",\"\\u0411\\u043e\\u0431\\u0440\\u0438\\u043d\\u0441\\u043a\\u0438\\u0445\",\"\\u0437\\u0432\\u0451\\u0437\\u0434\\u044b\",\"\\u0441\\u043a\\u043e\\u0440\\u043e\\u0441\\u0442\\u0438\",\"\\u0414\\u0438\\u043d\\u044b\",\"\\u043e\\u0441\\u0442\\u0440\\u043e\\u043b\\u0438\\u0441\\u0442\\u044b\",\"\\u0434\\u0435\\u043c\\u0443\\u043b\\u044c\\u0442\\u0438\\u043f\\u043b\\u0435\\u043a\\u0441\\u0438\\u0440\\u043e\\u0432\\u0430\\u043d\\u0438\\u0435\\u043c\",\"\\u0425\\u0430\\u0440\\u043b\\u0430\\u043d\\u0430\",\"\\u0421\\u0441\\u0443\\u0434\",\"\\u043d\\u0435\\u043e\\u0431\\u0445\\u043e\\u0434\\u0438\\u043c\\u043e\\u0441\\u0442\\u0435\\u0439\",\"\\u043e\\u043f\\u0446\\u0438\\u0438\",\"\\u041e\\u043f\\u043e\\u043b\\u0447\\u0435\\u043d\\u0438\\u044f\",\"\\u041a\\u0410\\u041b\\u042c\\u0426\\u0418\\u0419\",\"\\u0441\\u0430\\u043b\\u0444\\u0435\\u0442\\u043a\\u0430\\u043c\",\"\\u0411\\u041b\\u0415\\u0424\",\"\\u043f\\u0438\\u0434\\u043e\\u0440\\u0430\",\"\\u0422\\u0420\\u0415\\u0423\\u0413\\u041e\\u041b\\u042c\\u041d\\u0418\\u041a\\u0418\",\"\\u0440\\u0430\\u0437\\u043c\\u044b\\u043a\\u0430\\u043d\\u0438\\u044e\",\"\\u0421\\u043a\\u043b\\u043e\\u043d\\u043d\\u043e\\u0441\\u0442\\u044c\",\"\\u0421\\u0438\\u0441\\u043b\\u0435\\u0439\",\"\\u0421\\u0430\\u043c\\u043e\\u0443\\u0431\\u0438\\u0439\\u0446\\u0435\",\"\\u043f\\u043e\\u043f\\u0443\\u0440\\u0440\\u0438\",\"\\u0420\\u0438\\u0441\\u043e\\u0432\\u043a\\u0430\",\"\\u041c\\u0430\\u0440\\u0434\\u0436\\u0438\",\"\\u0441\\u043e\\u0431\\u0438\\u0440\\u0430\\u043d\\u0438\\u0435\\u043c\",\"\\u0430\\u0432\\u0442\\u043e\\u0441\\u0442\\u0440\\u0430\\u0434\\u0430\\u043c\\u0438\",\"\\u041c\\u0430\\u043b\\u044c\\u0447\\u0443\\u0433\\u0438\\u043d\\u0430\",\"\\u0420\\u0438\\u0441\\u0443\\u043d\\u043a\\u0430\\u043c\",\"\\u0441\\u0443\\u043f\\u0435\\u0440\\u043e\\u0431\\u043b\\u043e\\u0436\\u043a\\u0430\\u043c\\u0438\",\"\\u043f\\u043e\\u0434\\u0432\\u0438\\u0436\\u043d\\u0438\\u043a\\u0430\\u043c\",\"\\u043f\\u0430\\u0440\\u0441\\u0435\\u0440\\u0430\",\"\\u041e\\u0442\\u0434\\u0435\\u043b\\u043a\\u0443\",\"\\u0410\\u0440\\u043a\\u0430\\u043d\\u0437\\u0430\\u0441\\u043e\\u043c\",\"\\u0440\\u0435\\u043d\\u0435\\u0433\\u0430\\u0442\\u043e\\u0432\",\"\\u043a\\u043e\\u043c\\u043f\\u0440\\u043e\\u043c\\u0438\\u0441\\u0441\\u043e\\u0432\",\"\\u041f\\u041e\\u041b\\u0415\\u0417\\u041d\\u041e\\u0421\\u0422\\u042c\",\"\\u0411\\u043e\\u0433\\u0430\\u0440\\u0442\",\"\\u043f\\u0440\\u0438\\u0441\\u043f\\u043e\\u0441\\u043e\\u0431\\u043b\\u0435\\u043d\\u0438\\u044e\",\"\\u0441\\u0435\\u0431\\u044f\\u043b\\u044e\\u0431\\u0446\\u044b\",\"\\u041a\\u0410\\u041f\\u0418\\u041b\\u041b\\u042f\\u0420\\u0410\",\"\\u041f\\u0440\\u0435\\u0434\\u0441\\u043a\\u0430\\u0437\\u0430\\u043d\\u0438\\u0439\",\"\\u0441\\u0442\\u0440\\u0430\\u0448\\u0438\\u043b\\u0438\\u0449\\u0435\\u043c\",\"\\u043a\\u0438\\u043b\\u0442\\u0430\\u0445\",\"\\u0426\\u0438\\u0446\\u0435\\u0440\\u043e\\u043d\\u0443\",\"\\u0414\\u0436\\u0430\\u043b\\u0430\",\"\\u043a\\u043e\\u043d\\u0434\\u0438\\u0446\\u0438\\u043e\\u043d\\u0435\\u0440\\u044b\",\"\\u0411\\u0435\\u0434\\u0441\\u0442\\u0432\\u0435\\u043d\\u043d\\u043e\\u0441\\u0442\\u044c\",\"\\u043f\\u0440\\u0430\\u0431\\u0430\\u0431\\u0443\\u0448\\u043a\\u0435\",\"\\u0441\\u0445\\u0435\\u043c\\u0430\\u0442\\u0438\\u0447\\u043d\\u043e\\u0441\\u0442\\u044c\\u044e\",\"\\u0443\\u043d\\u0438\\u0444\\u0438\\u043a\\u0430\\u0446\\u0438\\u044f\",\"\\u043a\\u043e\\u0441\\u0438\\u043d\\u0443\\u0441\\u044b\",\"\\u0410\\u043d\\u0433\\u043e\\u043b\\u0443\",\"\\u041a\\u043e\\u0441\\u043c\\u043e\\u0434\\u0435\\u043c\\u044c\\u044f\\u043d\\u0441\\u043a\\u0438\\u0445\",\"\\u041f\\u043e\\u0440\\u0443\\u0447\\u0438\\u0442\\u0435\\u043b\\u044c\\u0441\\u0442\\u0432\\u0430\",\"\\u0413\\u0440\\u0438\\u0444\\u0444\\u0438\\u0442\\u0441\\u0443\",\"\\u043a\\u0443\\u043f\\u0430\\u043b\\u044c\\u043d\\u044f\\u043c\\u0438\",\"\\u0417\\u0412\\u0415\\u0417\\u0414\\u0423\",\"\\u0442\\u0440\\u0438\\u0433\\u043e\\u043d\\u043e\\u043c\\u0435\\u0442\\u0440\\u0438\\u044e\",\"\\u0413\\u0438\\u0434\\u0440\\u0430\\u043d\\u0442\",\"\\u0431\\u0440\\u0435\\u043d\\u0447\\u0430\\u043d\\u0438\\u044e\",\"\\u0421\\u0430\\u0431\\u0440\\u0438\\u043d\",\"\\u0423\\u0447\\u0440\\u0435\\u0436\\u0434\\u0435\\u043d\\u0438\\u044f\\u043c\\u0438\",\"\\u0442\\u0440\\u0430\\u043d\\u0441\\u0438\\u0432\\u0435\\u0440\\u0430\\u043c\",\"\\u041d\\u0438\\u043d\\u0430\\u0435\\u0432\\u0448\\u0435\\u0439\",\"\\u0422\\u0443\\u043b\\u043b\\u0438\\u0435\\u043c\",\"\\u043f\\u043e\\u0434\\u0432\\u043e\\u0440\\u043e\\u0442\\u043d\\u044f\",\"\\u0431\\u0435\\u0437\\u0443\\u043f\\u0440\\u0435\\u0447\\u043d\\u043e\\u0441\\u0442\\u044c\\u044e\",\"\\u043b\\u0430\\u0446\\u043a\\u0430\\u043d\\u043e\\u043c\",\"\\u0423\\u0421\\u0422\\u0420\\u041e\\u0419\\u0421\\u0422\\u0412\\u0415\",\"\\u041c\\u0438\\u043b\\u0430\\u043d\",\"\\u0432\\u0438\\u043d\\u043e\\u043a\\u0443\\u0440\\u0435\\u043d\\u0438\\u044e\",\"\\u0418\\u043d\\u0442\\u0435\\u0433\\u0440\\u0438\\u0440\\u043e\\u0432\\u0430\\u043d\\u0438\\u0435\",\"\\u041e\\u0442\\u043a\\u0430\\u0437\\u043e\\u0443\\u0441\\u0442\\u043e\\u0439\\u0447\\u0438\\u0432\\u043e\\u0441\\u0442\\u044c\",\"\\u0434\\u0438\\u0444\\u0444\\u0435\\u0440\\u0435\\u043d\\u0446\\u0438\\u0430\\u0442\\u043e\\u0440\\u044b\",\"\\u043f\\u043e\\u0441\\u0442\\u0430\\u043d\\u043e\\u0432\\u0449\\u0438\\u043a\\u0443\",\"\\u0412\\u043b\\u0430\\u0434\\u0438\\u043b\\u0435\\u043d\",\"\\u0414\\u0440\\u043e\\u0441\\u0441\\u0435\\u043b\\u044c\",\"\\u043f\\u0440\\u043e\\u0440\\u043e\\u0447\\u0435\\u0441\\u0442\\u0432\\u0430\\u043c\\u0438\",\"\\u0434\\u0435\\u0437\\u0438\\u043d\\u0444\\u043e\\u0440\\u043c\\u0430\\u0446\\u0438\\u0435\\u0439\",\"\\u0424\\u0430\\u043b\\u0435\\u0441\\u0443\",\"\\u043a\\u043e\\u043d\\u0432\\u043e\\u044f\\u0445\",\"\\u0414\\u0437\\u0435\\u0440\\u0436\\u0438\\u043d\\u0441\\u043a\\u043e\\u043c\\u0443\",\"\\u0444\\u0435\\u0445\\u0442\\u043e\\u0432\\u0430\\u043b\\u044c\\u0449\\u0438\\u043a\\u0430\\u043c\",\"\\u043f\\u0430\\u0440\\u0430\\u043b\\u043b\\u0435\\u043b\\u0435\\u043f\\u0438\\u043f\\u0435\\u0434\\u0430\\u0445\",\"\\u0416\\u0443\\u0440\\u0430\\u0432\\u043b\\u0435\\u0432\\u0443\",\"\\u041c\\u0441\\u0442\\u0438\\u0441\\u043b\\u0430\\u0432\",\"\\u0430\\u043d\\u0435\\u0432\\u0440\\u0438\\u0437\\u043c\\u0430\\u043c\\u0438\",\"\\u044d\\u0440\\u0437\\u0430\\u0446\\u0435\\u043c\",\"\\u041e\\u0442\\u0447\\u0451\\u0442\\u0430\",\"\\u041f\\u0440\\u0435\\u043e\\u0431\\u0440\\u0430\\u0437\\u043e\\u0432\\u0430\\u0442\\u0435\\u043b\\u044f\",\"\\u043d\\u043e\\u0440\\u043d\\u044b\",\"\\u0421\\u0430\\u043b\\u044b\\u043d\\u0441\\u043a\\u0438\\u0439\",\"\\u0423\\u041a\\u0423\\u0421\\u0410\",\"\\u043d\\u043e\\u043c\\u0435\\u0440\\u043e\\u043d\\u0430\\u0431\\u0438\\u0440\\u0430\\u0442\\u0435\\u043b\\u044f\",\"\\u043d\\u043e\\u0432\\u043e\\u043a\\u0430\\u0438\\u043d\\u043e\\u043c\",\"\\u043c\\u0443\\u0436\\u0447\\u0438\\u043d\\u0435\",\"\\u0431\\u043e\\u0436\\u0435\\u0441\\u0442\\u0432\",\"\\u0410\\u0440\\u043a\\u0430\\u0434\\u044c\\u0435\\u0432\\u043d\\u0430\",\"\\u041a\\u0430\\u043b\\u0435\\u0434\\u0438\\u043d\",\"\\u043f\\u0438\\u0441\\u0430\\u043d\\u0438\\u0435\\u043c\",\"\\u041c\\u0430\\u0440\\u0438\\u0439\",\"\\u041f\\u0440\\u043e\\u0442\\u0430\\u0433\\u043e\\u0440\",\"\\u043c\\u0430\\u043d\\u0434\\u0440\\u0430\\u0433\\u043e\\u0440\\u0435\",\"\\u041a\\u043b\\u0430\\u0443\\u0437\\u0443\\u043b\\u044b\",\"\\u041e\\u0411\\u0414\\u0423\\u041c\\u042b\\u0412\\u0410\\u041d\\u0418\\u0415\",\"\\u043a\\u043e\\u043d\\u0432\\u043e\\u0438\\u0440\",\"\\u0420\\u0430\\u0441\\u0442\\u044f\\u043f\\u0430\",\"\\u041a\\u043e\\u0441\\u044b\\u0433\\u0438\\u043d\\u0443\",\"\\u041b\\u044e\\u0431\\u043e\\u0432\\u043d\\u0438\\u0446\\u0430\\u043c\\u0438\",\"\\u043f\\u0430\\u0441\\u0442\\u043e\\u0440\\u0430\\u043b\\u044c\\u044e\",\"\\u0441\\u043f\\u0430\\u0440\\u0440\\u0438\\u043d\\u0433\\u0443\",\"\\u0422\\u043a\\u0430\\u043b\\u0438\\u0447\\u0435\\u0432\\u044b\",\"\\u043c\\u0430\\u0445\\u0438\\u043d\\u043e\\u0439\",\"\\u0441\\u043f\\u0435\\u0446\\u0438\\u0430\\u043b\\u0438\\u0437\\u0430\\u0446\\u0438\\u0438\",\"\\u0411\\u043e\\u0441\\u043d\\u0438\\u0435\\u0439\",\"\\u0422\\u0440\\u044f\\u043f\\u043e\\u043a\",\"\\u0420\\u0430\\u0434\\u0438\\u043e\\u043f\\u0435\\u0440\\u0435\\u0434\\u0430\\u0447\\u0438\",\"\\u0433\\u0438\\u043f\\u0435\\u0440\\u0442\\u0440\\u043e\\u0444\\u0438\\u0438\",\"\\u041b\\u0430\\u0437\\u0443\\u043d\\u044c\\u043a\\u0438\\u0439\",\"\\u041f\\u043e\\u043a\\u0430\\u044f\\u043d\\u0438\\u044f\"],\"x\":{\"__ndarray__\":\"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\",\"dtype\":\"float32\",\"shape\":[1000]},\"y\":{\"__ndarray__\":\"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\",\"dtype\":\"float32\",\"shape\":[1000]}},\"selected\":{\"id\":\"24642ab5-c546-4feb-b078-50560c43c5ea\",\"type\":\"Selection\"},\"selection_policy\":{\"id\":\"bac39483-1893-4b6e-8173-1bb09f2276a5\",\"type\":\"UnionRenderers\"}},\"id\":\"5c8c5475-8dad-4a44-baed-32a1e3803647\",\"type\":\"ColumnDataSource\"},{\"attributes\":{\"source\":{\"id\":\"5c8c5475-8dad-4a44-baed-32a1e3803647\",\"type\":\"ColumnDataSource\"}},\"id\":\"0e8a0fe8-fb5d-443f-9c89-191b7770fd53\",\"type\":\"CDSView\"},{\"attributes\":{\"fill_alpha\":{\"value\":0.1},\"fill_color\":{\"value\":\"#1f77b4\"},\"line_alpha\":{\"value\":0.1},\"line_color\":{\"value\":\"#1f77b4\"},\"size\":{\"units\":\"screen\",\"value\":10},\"x\":{\"field\":\"x\"},\"y\":{\"field\":\"y\"}},\"id\":\"1b43d098-8d13-4ba8-a5c0-91e31c26dc72\",\"type\":\"Circle\"},{\"attributes\":{\"callback\":null},\"id\":\"1b207f49-8dc2-4a1c-a341-2a7efbd81944\",\"type\":\"DataRange1d\"},{\"attributes\":{\"formatter\":{\"id\":\"7ec4142e-e755-4de5-9858-da874213775d\",\"type\":\"BasicTickFormatter\"},\"plot\":{\"id\":\"9ddd577e-f47e-4c8f-bc6f-b8a3be80b578\",\"subtype\":\"Figure\",\"type\":\"Plot\"},\"ticker\":{\"id\":\"b66e77dc-732a-475d-9e58-bd9bd6ce114b\",\"type\":\"BasicTicker\"}},\"id\":\"ea0b916d-4c47-462b-819e-21ad800fc020\",\"type\":\"LinearAxis\"},{\"attributes\":{},\"id\":\"c18dfa55-89bc-49de-8c7a-6a671565da9e\",\"type\":\"WheelZoomTool\"},{\"attributes\":{},\"id\":\"dffbede7-5bdf-483b-a021-f28eca7c2b8f\",\"type\":\"BasicTicker\"},{\"attributes\":{},\"id\":\"678eeabf-7d09-4876-821a-bb65db4f0aaf\",\"type\":\"HelpTool\"},{\"attributes\":{\"data_source\":{\"id\":\"5c8c5475-8dad-4a44-baed-32a1e3803647\",\"type\":\"ColumnDataSource\"},\"glyph\":{\"id\":\"04a26070-6c7a-4fdb-ab55-3720d5b97db4\",\"type\":\"Circle\"},\"hover_glyph\":null,\"muted_glyph\":null,\"nonselection_glyph\":{\"id\":\"1b43d098-8d13-4ba8-a5c0-91e31c26dc72\",\"type\":\"Circle\"},\"selection_glyph\":null,\"view\":{\"id\":\"0e8a0fe8-fb5d-443f-9c89-191b7770fd53\",\"type\":\"CDSView\"}},\"id\":\"c9957529-451d-4969-ab33-b05e5f3c2e4e\",\"type\":\"GlyphRenderer\"},{\"attributes\":{\"plot\":null,\"text\":\"\"},\"id\":\"3986aabb-0880-4a17-881e-00fed7b8e807\",\"type\":\"Title\"},{\"attributes\":{},\"id\":\"b66e77dc-732a-475d-9e58-bd9bd6ce114b\",\"type\":\"BasicTicker\"},{\"attributes\":{\"dimension\":1,\"plot\":{\"id\":\"9ddd577e-f47e-4c8f-bc6f-b8a3be80b578\",\"subtype\":\"Figure\",\"type\":\"Plot\"},\"ticker\":{\"id\":\"b66e77dc-732a-475d-9e58-bd9bd6ce114b\",\"type\":\"BasicTicker\"}},\"id\":\"813e350a-cca0-4509-9c62-42a1b4d9867f\",\"type\":\"Grid\"},{\"attributes\":{\"fill_alpha\":{\"value\":0.25},\"fill_color\":{\"field\":\"color\"},\"line_alpha\":{\"value\":0.25},\"line_color\":{\"field\":\"color\"},\"size\":{\"units\":\"screen\",\"value\":10},\"x\":{\"field\":\"x\"},\"y\":{\"field\":\"y\"}},\"id\":\"04a26070-6c7a-4fdb-ab55-3720d5b97db4\",\"type\":\"Circle\"},{\"attributes\":{},\"id\":\"24657c09-02aa-4c84-80ac-af3feca126f8\",\"type\":\"ResetTool\"},{\"attributes\":{},\"id\":\"bac39483-1893-4b6e-8173-1bb09f2276a5\",\"type\":\"UnionRenderers\"}],\"root_ids\":[\"9ddd577e-f47e-4c8f-bc6f-b8a3be80b578\"]},\"title\":\"Bokeh Application\",\"version\":\"0.13.0\"}};\n",
              "  var render_items = [{\"docid\":\"b4d3a5ac-ce63-43a4-b5b9-52e2a69bb8c5\",\"roots\":{\"9ddd577e-f47e-4c8f-bc6f-b8a3be80b578\":\"99a41773-e357-46bf-b533-f1f13e728aed\"}}];\n",
              "  root.Bokeh.embed.embed_items_notebook(docs_json, render_items);\n",
              "\n",
              "  }\n",
              "  if (root.Bokeh !== undefined) {\n",
              "    embed_document(root);\n",
              "  } else {\n",
              "    var attempts = 0;\n",
              "    var timer = setInterval(function(root) {\n",
              "      if (root.Bokeh !== undefined) {\n",
              "        embed_document(root);\n",
              "        clearInterval(timer);\n",
              "      }\n",
              "      attempts++;\n",
              "      if (attempts > 100) {\n",
              "        console.log(\"Bokeh: ERROR: Unable to run BokehJS code because BokehJS library is missing\")\n",
              "        clearInterval(timer);\n",
              "      }\n",
              "    }, 10, root)\n",
              "  }\n",
              "})(window);"
            ],
            "application/vnd.bokehjs_exec.v0+json": ""
          },
          "metadata": {
            "tags": [],
            "application/vnd.bokehjs_exec.v0+json": {
              "id": "9ddd577e-f47e-4c8f-bc6f-b8a3be80b578"
            }
          }
        }
      ]
    },
    {
      "cell_type": "markdown",
      "metadata": {
        "id": "xOt1tcOkvDBY",
        "colab_type": "text"
      },
      "source": [
        "### Визуализация полученных свёрток"
      ]
    },
    {
      "cell_type": "markdown",
      "metadata": {
        "id": "tljoUWceE2lH",
        "colab_type": "text"
      },
      "source": [
        "Кроме всего прочего у нас тут логистическая регрессия сверху. Можно визуализировать ее также, как в eli5.\n",
        "\n",
        "**Задание** Добиться этого."
      ]
    },
    {
      "cell_type": "code",
      "metadata": {
        "id": "mJpHT_YkLvCf",
        "colab_type": "code",
        "colab": {}
      },
      "source": [
        "model.eval()\n",
        "\n",
        "word = 'Смирнов'"
      ],
      "execution_count": null,
      "outputs": []
    },
    {
      "cell_type": "markdown",
      "metadata": {
        "id": "LNMXpgh8FNIo",
        "colab_type": "text"
      },
      "source": [
        "Посчитайте вероятность, что слово - фамилия."
      ]
    },
    {
      "cell_type": "code",
      "metadata": {
        "id": "Hl-VZs1mFKxM",
        "colab_type": "code",
        "colab": {}
      },
      "source": [
        "inputs = word -> LongTensor\n",
        "prob = torch.sigmoid(model(inputs)).item()"
      ],
      "execution_count": null,
      "outputs": []
    },
    {
      "cell_type": "markdown",
      "metadata": {
        "id": "Y2SZi1FIFj6o",
        "colab_type": "text"
      },
      "source": [
        "Посчитайте результат свертки и пулинга"
      ]
    },
    {
      "cell_type": "code",
      "metadata": {
        "id": "-1SdKbDFFhOk",
        "colab_type": "code",
        "colab": {}
      },
      "source": [
        "convs = ...\n",
        "maxs, positions = convs.squeeze().max(-1)"
      ],
      "execution_count": null,
      "outputs": []
    },
    {
      "cell_type": "markdown",
      "metadata": {
        "id": "JLTu8mlfFtXJ",
        "colab_type": "text"
      },
      "source": [
        "Домножьте выход пулинга на веса выходного слоя"
      ]
    },
    {
      "cell_type": "code",
      "metadata": {
        "id": "ZRMkbFXdFwys",
        "colab_type": "code",
        "colab": {}
      },
      "source": [
        "linear_weights = ..."
      ],
      "execution_count": null,
      "outputs": []
    },
    {
      "cell_type": "markdown",
      "metadata": {
        "id": "qV3dK-IzGFXh",
        "colab_type": "text"
      },
      "source": [
        "Посчитайте веса символов: каждый фильтр прикладывается к какой-то позиции - прибавим его вес к накрываемым символам."
      ]
    },
    {
      "cell_type": "code",
      "metadata": {
        "id": "E0y8epEgGEU8",
        "colab_type": "code",
        "colab": {}
      },
      "source": [
        "symb_weights = ..."
      ],
      "execution_count": null,
      "outputs": []
    },
    {
      "cell_type": "markdown",
      "metadata": {
        "id": "utVltLCUGXTy",
        "colab_type": "text"
      },
      "source": [
        "Визуализируем это:"
      ]
    },
    {
      "cell_type": "code",
      "metadata": {
        "id": "I2UKjz86F7fz",
        "colab_type": "code",
        "colab": {}
      },
      "source": [
        "from IPython.core.display import HTML\n",
        "\n",
        "def get_color_hex(weight):\n",
        "    cmap = plt.get_cmap(\"RdYlGn\")\n",
        "    rgba = cmap(weight, bytes=True)\n",
        "    return '#%02X%02X%02X' % rgba[:3]\n",
        "\n",
        "symb_template = '<span style=\"background-color: {color_hex}\">{symb}</span>'\n",
        "res = '<p>P(surname) = {:.2%}</p>'.format(prob)\n",
        "for symb, weight in zip(word, symb_weights):\n",
        "    res += symb_template.format(color_hex=get_color_hex(weight), symb=symb)\n",
        "res = '<p>' + res + '</p>'\n",
        "\n",
        "HTML(res)"
      ],
      "execution_count": null,
      "outputs": []
    },
    {
      "cell_type": "markdown",
      "metadata": {
        "id": "mGhfZsleGZi0",
        "colab_type": "text"
      },
      "source": [
        "Объединим все в функции:"
      ]
    },
    {
      "cell_type": "code",
      "metadata": {
        "id": "PUi51X4fQIIT",
        "colab_type": "code",
        "colab": {}
      },
      "source": [
        "def calc_weights(word):\n",
        "    <calc>\n",
        "    \n",
        "    return prob, symb_weights\n",
        "\n",
        "def visualize(word):\n",
        "    prob, symb_weights = calc_weights(word)\n",
        "    \n",
        "    symb_template = '<span style=\"background-color: {color_hex}\">{symb}</span>'\n",
        "    res = '<p>P(surname) = {:.2%}</p>'.format(prob)\n",
        "    for symb, weight in zip(word, symb_weights):\n",
        "        res += symb_template.format(color_hex=get_color_hex(weight), symb=symb)\n",
        "    res = '<p>' + res + '</p>'\n",
        "    return HTML(res)\n",
        "\n",
        "\n",
        "visualize('Королев')"
      ],
      "execution_count": null,
      "outputs": []
    },
    {
      "cell_type": "markdown",
      "metadata": {
        "id": "eXee135DEJuy",
        "colab_type": "text"
      },
      "source": [
        "## Улучшение модели"
      ]
    },
    {
      "cell_type": "markdown",
      "metadata": {
        "id": "k2_8bNRyG3CF",
        "colab_type": "text"
      },
      "source": [
        "**Задание** Для улучшение стабильности модели стоит добавить дропаут `nn.Dropout` - способ занулять часть весов на каждой эпохе для регуляризации модели. Попробуйте добавить его после эмбеддингов и после свертки (а можно еще где-нибудь).\n",
        "\n",
        "![](https://cdn-images-1.medium.com/max/1044/1*iWQzxhVlvadk6VAJjsgXgg.png)\n",
        "\n",
        "\n",
        "**Задание** Другой способ регуляризовывать модель - использовать BatchNormalization (`nn.BatchNorm2d`). Попробуйте добавить его после свертки.\n",
        "\n",
        "**Задание** Еще способ улучшить модель - добавить сверток. Реализуйте модель как на картинке в начале ноутбука: со свертками на 2, 3, 4 символа."
      ]
    },
    {
      "cell_type": "markdown",
      "metadata": {
        "id": "qstoDysVsSQ2",
        "colab_type": "text"
      },
      "source": [
        "**Задание** Различают Narrow и Wide свёртки - по сути, добавляется ли нулевой паддинг или нет. Для текстов эта разница выглядит так:  \n",
        "![narrow_vs_wide](https://image.ibb.co/eqGZaS/2018_03_28_11_23_17.png)\n",
        "*From Neural Network Methods in Natural Language Processing.*\n",
        "\n",
        "Слева - паддинг отсутствует, справа - есть. Попробуйте добавить паддинг и посмотреть, что получится. Потенциально он поможет выучить хорошие префиксы слова."
      ]
    },
    {
      "cell_type": "markdown",
      "metadata": {
        "id": "v39_tgnMnr0J",
        "colab_type": "text"
      },
      "source": [
        "# Дополнительные материалы\n",
        "\n",
        "## Почитать\n",
        "\n",
        "### Основы\n",
        "[Convolutional Neural Networks, cs231n](http://cs231n.github.io/convolutional-networks/)  \n",
        "[Understanding Convolutions, Christopher Olah](http://colah.github.io/posts/2014-07-Understanding-Convolutions/)  \n",
        "[Understanding Convolutional Neural Networks for NLP, Denny Britz](http://www.wildml.com/2015/11/understanding-convolutional-neural-networks-for-nlp/)\n",
        "\n",
        "### Статьи\n",
        "[Character-Aware Neural Language Models, Yoon Kim et al, 2015](https://arxiv.org/abs/1508.06615)  \n",
        "[Character-level Convolutional Networks for Text Classification, Zhang et al., 2015](https://arxiv.org/abs/1509.01626)  \n",
        "[A Sensitivity Analysis of (and Practitioners' Guide to) Convolutional Neural Networks for Sentence Classification Zhang et al., 2015](https://arxiv.org/abs/1510.03820)\n",
        "[Learning Character-level Representations for Part-of-Speech Tagging, dos Santos et al, 2014](http://proceedings.mlr.press/v32/santos14.pdf)\n",
        "\n",
        "## Посмотреть\n",
        "[cs224n \"Lecture 13: Convolutional Neural Networks\"](https://www.youtube.com/watch?v=Lg6MZw_OOLI)"
      ]
    },
    {
      "cell_type": "markdown",
      "metadata": {
        "id": "5JwcvGNSIJs4",
        "colab_type": "text"
      },
      "source": [
        "# Сдача задания\n",
        "\n",
        "[Форма](https://goo.gl/forms/FfMnyNGI2P4xo0QD3)"
      ]
    }
  ]
}