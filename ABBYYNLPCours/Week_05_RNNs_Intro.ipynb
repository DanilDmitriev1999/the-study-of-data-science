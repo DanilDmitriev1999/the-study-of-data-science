{
  "nbformat": 4,
  "nbformat_minor": 0,
  "metadata": {
    "colab": {
      "name": "Week 05 - RNNs Intro.ipynb",
      "provenance": [],
      "collapsed_sections": []
    },
    "kernelspec": {
      "name": "python3",
      "display_name": "Python 3"
    },
    "accelerator": "GPU"
  },
  "cells": [
    {
      "cell_type": "code",
      "metadata": {
        "id": "YfeVtEQwRmsR",
        "colab_type": "code",
        "colab": {
          "base_uri": "https://localhost:8080/",
          "height": 102
        },
        "outputId": "4a804251-8c9a-47e6-bc31-c1239f999831"
      },
      "source": [
        "!pip3 -qq install torch==0.4.1\n",
        "!pip install -qq bokeh==0.13.0\n",
        "!wget -O surnames.txt -qq --no-check-certificate \"https://drive.google.com/uc?export=download&id=1ji7dhr9FojPeV51dDlKRERIqr3vdZfhu\""
      ],
      "execution_count": 1,
      "outputs": [
        {
          "output_type": "stream",
          "text": [
            "\u001b[K     |████████████████████████████████| 519.5MB 32kB/s \n",
            "\u001b[31mERROR: torchvision 0.6.1+cu101 has requirement torch==1.5.1, but you'll have torch 0.4.1 which is incompatible.\u001b[0m\n",
            "\u001b[31mERROR: fastai 1.0.61 has requirement torch>=1.0.0, but you'll have torch 0.4.1 which is incompatible.\u001b[0m\n",
            "\u001b[K     |████████████████████████████████| 16.0MB 209kB/s \n",
            "\u001b[?25h  Building wheel for bokeh (setup.py) ... \u001b[?25l\u001b[?25hdone\n"
          ],
          "name": "stdout"
        }
      ]
    },
    {
      "cell_type": "code",
      "metadata": {
        "id": "YKoTq9xW-PdW",
        "colab_type": "code",
        "colab": {}
      },
      "source": [
        "import numpy as np\n",
        "\n",
        "import torch\n",
        "import torch.nn as nn\n",
        "import torch.nn.functional as F\n",
        "import torch.optim as optim\n",
        "\n",
        "\n",
        "if torch.cuda.is_available():\n",
        "    from torch.cuda import FloatTensor, LongTensor\n",
        "else:\n",
        "    from torch import FloatTensor, LongTensor\n",
        "\n",
        "np.random.seed(42)"
      ],
      "execution_count": 2,
      "outputs": []
    },
    {
      "cell_type": "markdown",
      "metadata": {
        "id": "_Q5wMjxQMeQS",
        "colab_type": "text"
      },
      "source": [
        "# Рекуррентные нейронные сети, часть 1"
      ]
    },
    {
      "cell_type": "markdown",
      "metadata": {
        "id": "NY5-j_RsRzxa",
        "colab_type": "text"
      },
      "source": [
        "## Классификация фамилий\n",
        "\n",
        "Теперь - по языкам:"
      ]
    },
    {
      "cell_type": "code",
      "metadata": {
        "id": "TPPJoWEpSN_B",
        "colab_type": "code",
        "colab": {
          "base_uri": "https://localhost:8080/",
          "height": 187
        },
        "outputId": "101ba285-0752-4ccb-f8a5-8252887edda9"
      },
      "source": [
        "data, labels = [], []\n",
        "with open('surnames.txt') as f:\n",
        "    for line in f:\n",
        "        surname, lang = line.strip().split('\\t')\n",
        "        data.append(surname)\n",
        "        labels.append(lang)\n",
        "\n",
        "for i in np.random.randint(0, len(data), 10):\n",
        "    print(data[i], labels[i])"
      ],
      "execution_count": 3,
      "outputs": [
        {
          "output_type": "stream",
          "text": [
            "Mikhnev Russian\n",
            "Morcos Arabic\n",
            "Morrow English\n",
            "Berezinsky Russian\n",
            "Badyaev Russian\n",
            "Teale English\n",
            "Prigorodov Russian\n",
            "Greening English\n",
            "Jankevich Russian\n",
            "Bahin Russian\n"
          ],
          "name": "stdout"
        }
      ]
    },
    {
      "cell_type": "markdown",
      "metadata": {
        "id": "6bVJlxzYhWuf",
        "colab_type": "text"
      },
      "source": [
        "### Разминка\n",
        "\n",
        "Проверьте свои знания - попробуйте самостоятельно предсказать, к какому языку относится фамилия :)"
      ]
    },
    {
      "cell_type": "code",
      "metadata": {
        "id": "G7JquuckaAGb",
        "colab_type": "code",
        "colab": {}
      },
      "source": [
        "from sklearn.utils.class_weight import compute_class_weight\n",
        "\n",
        "def test_generator():\n",
        "    classes = np.unique(labels)\n",
        "    weights = compute_class_weight('balanced', classes, labels)\n",
        "    classes = {label: ind for ind, label in enumerate(classes)}\n",
        "\n",
        "    probs = np.array([weights[classes[label]] for label in labels])\n",
        "    probs /= probs.sum()\n",
        "\n",
        "    ind = np.random.choice(np.arange(len(data)), p=probs)\n",
        "    yield data[ind]\n",
        "    \n",
        "    while True:\n",
        "        new_ind = np.random.choice(np.arange(len(data)), p=probs)\n",
        "        yield labels[ind], data[new_ind]\n",
        "        ind = new_ind\n",
        "        \n",
        "gen = test_generator()\n",
        "question = next(gen)"
      ],
      "execution_count": 4,
      "outputs": []
    },
    {
      "cell_type": "markdown",
      "metadata": {
        "id": "1KNeNxm1hsKs",
        "colab_type": "text"
      },
      "source": [
        "Запускайте, смотрите на фамилию, которая выведется - и выбирайте язык в выпадающем списке."
      ]
    },
    {
      "cell_type": "code",
      "metadata": {
        "id": "-Q3OSXpAY8BS",
        "colab_type": "code",
        "cellView": "form",
        "colab": {
          "base_uri": "https://localhost:8080/",
          "height": 51
        },
        "outputId": "e02866a0-0fe6-487a-d69e-ecb737b72974"
      },
      "source": [
        "#@title Проверим себя (или адекватность данных) { run: \"auto\" }\n",
        "answer = \"Arabic\" #@param [\"Arabic\", \"Chinese\", \"Czech\", \"Dutch\", \"English\", \"French\", \"German\", \"Greek\", \"Irish\", \"Italian\", \"Japanese\", \"Korean\", \"Polish\", \"Portuguese\", \"Russian\", \"Scottish\", \"Spanish\", \"Vietnamese\"]\n",
        "\n",
        "correct_answer, question = next(gen)\n",
        "\n",
        "if 'correct_count' not in globals():\n",
        "    correct_count = 0\n",
        "    total_count = 0\n",
        "else:\n",
        "    if answer == correct_answer:\n",
        "        print('You are correct', end=' ')\n",
        "        correct_count += 1\n",
        "    else:\n",
        "        print(\"No, it's\", correct_answer, end=' ')\n",
        "\n",
        "    total_count += 1\n",
        "    print('({} / {})'.format(correct_count, total_count))\n",
        "    \n",
        "print('Next surname:', question)"
      ],
      "execution_count": 8,
      "outputs": [
        {
          "output_type": "stream",
          "text": [
            "No, it's Polish (0 / 3)\n",
            "Next surname: Ubina\n"
          ],
          "name": "stdout"
        }
      ]
    },
    {
      "cell_type": "markdown",
      "metadata": {
        "id": "kksnv1pN-2sW",
        "colab_type": "text"
      },
      "source": [
        "я проиграл, блин!"
      ]
    },
    {
      "cell_type": "markdown",
      "metadata": {
        "id": "5Yz20u6dhll0",
        "colab_type": "text"
      },
      "source": [
        "### Разбиение данных"
      ]
    },
    {
      "cell_type": "markdown",
      "metadata": {
        "id": "LfP4Sb68TWlY",
        "colab_type": "text"
      },
      "source": [
        "Для начала нужно построить сплит данных на трейн/тест. Сложность в том, что классы распределены неравномерны, а отрезать нужно от каждого класса пропорциональное количество данных на тест. Для этого нужно использовать `stratify` параметр функции `train_test_split` (либо `StratifiedShuffleSplit`, либо, при большом желании, `GroupShuffleSplit`)."
      ]
    },
    {
      "cell_type": "code",
      "metadata": {
        "id": "1eE-s7q7RmAM",
        "colab_type": "code",
        "colab": {}
      },
      "source": [
        "from sklearn.model_selection import train_test_split\n",
        "\n",
        "data_train, data_test, labels_train, labels_test = train_test_split(\n",
        "    data, labels, test_size=0.3, stratify=labels, random_state=42\n",
        ")"
      ],
      "execution_count": 9,
      "outputs": []
    },
    {
      "cell_type": "code",
      "metadata": {
        "id": "uzX5zHobUHc0",
        "colab_type": "code",
        "colab": {
          "base_uri": "https://localhost:8080/",
          "height": 320
        },
        "outputId": "b3f8ad35-15d0-45e4-bd87-2a1f9579ad3e"
      },
      "source": [
        "import matplotlib.pyplot as plt\n",
        "%matplotlib inline\n",
        "\n",
        "from collections import Counter\n",
        "\n",
        "langs = set(labels)\n",
        "\n",
        "train_distribution = Counter(labels_train)\n",
        "train_distribution = [train_distribution[lang] for lang in langs]\n",
        "\n",
        "test_distribution = Counter(labels_test)\n",
        "test_distribution = [test_distribution[lang] for lang in langs]\n",
        "\n",
        "plt.figure(figsize=(17, 5))\n",
        "\n",
        "bar_width = 0.35\n",
        "plt.bar(np.arange(len(langs)), train_distribution, bar_width, align='center', alpha=0.5, label='train')\n",
        "plt.bar(np.arange(len(langs)) + bar_width, test_distribution, bar_width, align='center', alpha=0.5, label='test')\n",
        "plt.xticks(np.arange(len(langs)) + bar_width / 2, langs)\n",
        "plt.legend()\n",
        "    \n",
        "plt.show()"
      ],
      "execution_count": 10,
      "outputs": [
        {
          "output_type": "display_data",
          "data": {
            "image/png": "[encoded data removed]",
            "text/plain": [
              "<Figure size 1224x360 with 1 Axes>"
            ]
          },
          "metadata": {
            "tags": [],
            "needs_background": "light"
          }
        }
      ]
    },
    {
      "cell_type": "markdown",
      "metadata": {
        "id": "MgmDagAq5-mm",
        "colab_type": "text"
      },
      "source": [
        "### Бейзлайн"
      ]
    },
    {
      "cell_type": "markdown",
      "metadata": {
        "id": "pDgB4iVCWbNE",
        "colab_type": "text"
      },
      "source": [
        "Всегда надо начинать с бейзлайна - воспользуемся нашей любимой парой vectorizer-logistic regression:"
      ]
    },
    {
      "cell_type": "code",
      "metadata": {
        "id": "PLxUE4thXyV2",
        "colab_type": "code",
        "colab": {
          "base_uri": "https://localhost:8080/",
          "height": 493
        },
        "outputId": "2b07b0a3-7c32-4bd9-fbd7-ee51d9dfe50e"
      },
      "source": [
        "from sklearn.feature_extraction.text import CountVectorizer\n",
        "from sklearn.linear_model import LogisticRegression\n",
        "from sklearn.pipeline import Pipeline\n",
        "\n",
        "model = Pipeline([\n",
        "    ('vectorizer', CountVectorizer(analyzer='char', ngram_range=(1, 4))),\n",
        "    ('log_regression', LogisticRegression())\n",
        "])\n",
        "\n",
        "model.fit(data_train, labels_train)"
      ],
      "execution_count": 11,
      "outputs": [
        {
          "output_type": "stream",
          "text": [
            "/usr/local/lib/python3.6/dist-packages/sklearn/linear_model/_logistic.py:940: ConvergenceWarning: lbfgs failed to converge (status=1):\n",
            "STOP: TOTAL NO. of ITERATIONS REACHED LIMIT.\n",
            "\n",
            "Increase the number of iterations (max_iter) or scale the data as shown in:\n",
            "    https://scikit-learn.org/stable/modules/preprocessing.html\n",
            "Please also refer to the documentation for alternative solver options:\n",
            "    https://scikit-learn.org/stable/modules/linear_model.html#logistic-regression\n",
            "  extra_warning_msg=_LOGISTIC_SOLVER_CONVERGENCE_MSG)\n"
          ],
          "name": "stderr"
        },
        {
          "output_type": "execute_result",
          "data": {
            "text/plain": [
              "Pipeline(memory=None,\n",
              "         steps=[('vectorizer',\n",
              "                 CountVectorizer(analyzer='char', binary=False,\n",
              "                                 decode_error='strict',\n",
              "                                 dtype=<class 'numpy.int64'>, encoding='utf-8',\n",
              "                                 input='content', lowercase=True, max_df=1.0,\n",
              "                                 max_features=None, min_df=1,\n",
              "                                 ngram_range=(1, 4), preprocessor=None,\n",
              "                                 stop_words=None, strip_accents=None,\n",
              "                                 token_pattern='(?u)\\\\b\\\\w\\\\w+\\\\b',\n",
              "                                 tokenizer=None, vocabulary=None)),\n",
              "                ('log_regression',\n",
              "                 LogisticRegression(C=1.0, class_weight=None, dual=False,\n",
              "                                    fit_intercept=True, intercept_scaling=1,\n",
              "                                    l1_ratio=None, max_iter=100,\n",
              "                                    multi_class='auto', n_jobs=None,\n",
              "                                    penalty='l2', random_state=None,\n",
              "                                    solver='lbfgs', tol=0.0001, verbose=0,\n",
              "                                    warm_start=False))],\n",
              "         verbose=False)"
            ]
          },
          "metadata": {
            "tags": []
          },
          "execution_count": 11
        }
      ]
    },
    {
      "cell_type": "markdown",
      "metadata": {
        "id": "wz9ngs_lWn3p",
        "colab_type": "text"
      },
      "source": [
        "Какие метрики будем считать? Тут многоклассовая классификация, поэтому всё очень неоднозначно.\n",
        "\n",
        "Имеет смысл посмотреть на accuracy и на F1-score'ы для каждого класса."
      ]
    },
    {
      "cell_type": "code",
      "metadata": {
        "id": "OJZt8sKM6zEA",
        "colab_type": "code",
        "colab": {
          "base_uri": "https://localhost:8080/",
          "height": 476
        },
        "outputId": "4d60338f-4793-4ed8-fec0-2c8b4d7f51d1"
      },
      "source": [
        "from sklearn.metrics import accuracy_score, confusion_matrix, classification_report\n",
        "\n",
        "preds = model.predict(data_test)\n",
        "\n",
        "print('Accuracy = {:.2%}'.format(accuracy_score(labels_test, preds)))\n",
        "print('Classification report:')\n",
        "print(classification_report(labels_test, preds))"
      ],
      "execution_count": 12,
      "outputs": [
        {
          "output_type": "stream",
          "text": [
            "Accuracy = 83.18%\n",
            "Classification report:\n",
            "              precision    recall  f1-score   support\n",
            "\n",
            "      Arabic       0.91      1.00      0.95       600\n",
            "     Chinese       0.57      0.55      0.56        80\n",
            "       Czech       0.56      0.33      0.41       156\n",
            "       Dutch       0.85      0.49      0.62        89\n",
            "     English       0.72      0.83      0.77      1101\n",
            "      French       0.45      0.22      0.29        83\n",
            "      German       0.60      0.52      0.56       217\n",
            "       Greek       0.87      0.66      0.75        61\n",
            "       Irish       0.55      0.44      0.49        70\n",
            "     Italian       0.72      0.71      0.71       213\n",
            "    Japanese       0.90      0.89      0.90       297\n",
            "      Korean       0.33      0.29      0.31        28\n",
            "      Polish       0.65      0.36      0.46        42\n",
            "  Portuguese       0.19      0.14      0.16        22\n",
            "     Russian       0.93      0.95      0.94      2823\n",
            "    Scottish       0.00      0.00      0.00        30\n",
            "     Spanish       0.46      0.28      0.35        89\n",
            "  Vietnamese       0.43      0.27      0.33        22\n",
            "\n",
            "    accuracy                           0.83      6023\n",
            "   macro avg       0.59      0.50      0.53      6023\n",
            "weighted avg       0.82      0.83      0.82      6023\n",
            "\n"
          ],
          "name": "stdout"
        }
      ]
    },
    {
      "cell_type": "markdown",
      "metadata": {
        "id": "VNRhUTNaW45M",
        "colab_type": "text"
      },
      "source": [
        "F1-score'ы можно агрегировать разными способами:\n",
        "- weighted - это как посчитал classification_report - если нам важнее предсказывать хорошо более частотные фамилии\n",
        "- macro - простое усреднение - если важно предсказывать все, независимо от того, сколько каждого класса в тестовой выборке\n",
        "- micro - обычный подсчет F1-score по суммам всех true positive, false positive и false negative\n",
        "\n",
        "Weighted и micro - две метрики, учитывающие дисбаланс классов. Но в нашем случае неочевидно, есть ли дисбаланс, да?"
      ]
    },
    {
      "cell_type": "code",
      "metadata": {
        "id": "I0SwCbWN8ZQd",
        "colab_type": "code",
        "colab": {
          "base_uri": "https://localhost:8080/",
          "height": 538
        },
        "outputId": "aad1ef1e-f0cf-4b3d-aba2-097df58fe894"
      },
      "source": [
        "import matplotlib.ticker as ticker\n",
        "\n",
        "label_names = list(set(labels_test))\n",
        "confusion = confusion_matrix(labels_test, preds, labels=label_names).astype(np.float)\n",
        "confusion /= confusion.sum(axis=-1, keepdims=True)\n",
        "\n",
        "fig = plt.figure(figsize=(9, 9))\n",
        "ax = fig.add_subplot(111)\n",
        "cax = ax.matshow(confusion, cmap='Reds')\n",
        "fig.colorbar(cax)\n",
        "\n",
        "ax.set_xticklabels([''] + label_names, rotation=45)\n",
        "ax.set_yticklabels([''] + label_names)\n",
        "\n",
        "ax.xaxis.set_major_locator(ticker.MultipleLocator(1))\n",
        "ax.yaxis.set_major_locator(ticker.MultipleLocator(1))\n",
        "\n",
        "plt.show()"
      ],
      "execution_count": 13,
      "outputs": [
        {
          "output_type": "display_data",
          "data": {
            "image/png": "[encoded data removed]",
            "text/plain": [
              "<Figure size 648x648 with 2 Axes>"
            ]
          },
          "metadata": {
            "tags": [],
            "needs_background": "light"
          }
        }
      ]
    },
    {
      "cell_type": "markdown",
      "metadata": {
        "id": "qo0lsnzV-i-P",
        "colab_type": "text"
      },
      "source": [
        "## Simple RNN"
      ]
    },
    {
      "cell_type": "markdown",
      "metadata": {
        "id": "Hb4_VaBIMVFD",
        "colab_type": "text"
      },
      "source": [
        "Основная прелесть RNN - расшаренные параметры. Посмотрите на картинку:\n",
        "\n",
        "![RNN types](http://karpathy.github.io/assets/rnn/diags.jpeg)\n",
        "\n",
        "*From [(The Unreasonable Effectiveness of Recurrent Neural Networks)](http://karpathy.github.io/2015/05/21/rnn-effectiveness/)*\n",
        "\n",
        "Первый пример - это обычная полносвязная сеть. Каждый следующий демонстрирует обработку некоторой последовательности произвольной длины (красные прямоугольнички) и генерацию выходной последовательности, также произвольной длины (синие прямоугольники).\n",
        "\n",
        "При этом зеленые прямоугольники в каждом рисунке - это одни и те же веса. Получается, мы, с одной стороны, обучаем очень-очень глубокую сеть (если посмотреть на неё перевернутую), а с другой - строго ограниченное количество параметров.\n",
        "\n",
        "---\n",
        "Напишем сразу простую RNN!\n",
        "\n",
        "Напомню, делает она примерно вот это:\n",
        "\n",
        "![rnn-unrolled](http://colah.github.io/posts/2015-08-Understanding-LSTMs/img/RNN-unrolled.png)\n",
        "\n",
        "*From [(Understanding LSTM Networks)](http://colah.github.io/posts/2015-08-Understanding-LSTMs)*\n",
        "\n",
        "Вообще говоря, можно придумать много вариаций на тему такой реализации. В нашем случае, обработка будет такой:\n",
        "$$h_t = tanh(W_h [h_{t-1}; x_t] + b_h)$$\n",
        "\n",
        "$h_{t-1}$ - скрытое состояние, полученное на предыдущем шаге, $x_t$ - входной вектор. $[h_{t-1}; x_t]$ - простая конкатенация векторов. Всё как на картинке!\n",
        "\n",
        "Проверим нашу сеть на очень простой задаче: заставим её говорить индекс первого элемента в последовательности.\n",
        "\n",
        "Т.е. для последовательности `[1, 2, 1, 3]` сеть должна предсказывать `1`.\n",
        "\n",
        "Начнем с генерации батча."
      ]
    },
    {
      "cell_type": "code",
      "metadata": {
        "id": "yOI4JGgHT-z3",
        "colab_type": "code",
        "colab": {
          "base_uri": "https://localhost:8080/",
          "height": 629
        },
        "outputId": "f5297da0-f896-4a81-c9cf-7c9dec5f9c3a"
      },
      "source": [
        "def generate_data(batch_size=128, seq_len=5):\n",
        "    data = torch.randint(0, 10, size=(seq_len, batch_size), dtype=torch.long)\n",
        "    return data, data[0]\n",
        "\n",
        "X_val, y_val = generate_data()\n",
        "X_val, y_val"
      ],
      "execution_count": 14,
      "outputs": [
        {
          "output_type": "execute_result",
          "data": {
            "text/plain": [
              "(tensor([[2, 5, 1, 5, 1, 3, 4, 8, 3, 1, 1, 6, 3, 7, 9, 9, 4, 3, 8, 8, 0, 9, 5, 0,\n",
              "          4, 4, 7, 2, 9, 7, 5, 5, 6, 6, 5, 0, 6, 1, 3, 0, 9, 0, 8, 6, 2, 1, 6, 3,\n",
              "          5, 8, 8, 8, 8, 0, 9, 8, 0, 2, 4, 5, 4, 6, 9, 5, 5, 6, 2, 1, 1, 6, 1, 5,\n",
              "          0, 4, 3, 9, 6, 9, 3, 3, 6, 1, 8, 3, 7, 8, 6, 4, 3, 5, 2, 2, 9, 4, 1, 9,\n",
              "          9, 5, 6, 7, 8, 8, 7, 4, 7, 8, 5, 6, 0, 5, 8, 0, 9, 6, 2, 1, 0, 5, 1, 9,\n",
              "          6, 9, 3, 4, 9, 5, 9, 7],\n",
              "         [7, 2, 8, 2, 0, 7, 6, 0, 9, 0, 8, 6, 9, 2, 9, 1, 7, 6, 6, 0, 8, 8, 4, 4,\n",
              "          7, 9, 1, 7, 2, 2, 6, 0, 9, 5, 3, 4, 0, 5, 2, 0, 9, 4, 9, 7, 6, 1, 0, 6,\n",
              "          5, 2, 3, 9, 3, 0, 4, 6, 7, 5, 6, 2, 1, 5, 8, 4, 9, 8, 8, 1, 8, 1, 7, 6,\n",
              "          1, 3, 0, 0, 0, 3, 9, 0, 9, 3, 3, 0, 7, 3, 1, 5, 3, 3, 2, 6, 7, 1, 8, 9,\n",
              "          4, 1, 4, 4, 0, 1, 3, 1, 4, 7, 4, 3, 1, 8, 6, 9, 5, 3, 4, 0, 0, 0, 5, 8,\n",
              "          6, 9, 0, 6, 9, 6, 2, 2],\n",
              "         [1, 3, 0, 5, 2, 0, 6, 1, 1, 4, 6, 0, 1, 7, 6, 7, 0, 9, 3, 4, 4, 5, 8, 2,\n",
              "          8, 4, 4, 5, 1, 2, 8, 3, 3, 9, 0, 5, 1, 8, 2, 3, 3, 1, 9, 6, 2, 5, 4, 5,\n",
              "          5, 7, 1, 8, 0, 9, 7, 4, 7, 2, 8, 6, 7, 5, 6, 3, 2, 3, 1, 9, 3, 2, 0, 2,\n",
              "          4, 6, 3, 8, 9, 6, 8, 1, 6, 1, 5, 2, 2, 2, 1, 2, 6, 0, 7, 4, 1, 6, 6, 8,\n",
              "          8, 9, 9, 4, 9, 3, 9, 0, 4, 8, 9, 0, 9, 8, 7, 3, 9, 0, 5, 3, 8, 2, 6, 4,\n",
              "          8, 7, 1, 7, 5, 5, 7, 6],\n",
              "         [8, 4, 7, 5, 3, 8, 3, 3, 8, 5, 2, 9, 4, 0, 9, 9, 0, 7, 0, 7, 9, 1, 2, 8,\n",
              "          0, 2, 6, 9, 1, 9, 4, 5, 6, 5, 4, 7, 4, 8, 2, 2, 6, 6, 2, 3, 2, 6, 9, 9,\n",
              "          0, 0, 5, 7, 0, 4, 3, 5, 1, 1, 2, 2, 0, 0, 5, 5, 3, 0, 7, 9, 3, 0, 1, 7,\n",
              "          8, 1, 7, 8, 3, 9, 9, 6, 5, 5, 3, 9, 2, 1, 3, 0, 3, 2, 9, 5, 0, 6, 4, 8,\n",
              "          9, 5, 6, 6, 8, 4, 1, 7, 3, 8, 5, 7, 1, 2, 0, 7, 5, 1, 6, 1, 4, 5, 1, 0,\n",
              "          7, 3, 3, 2, 6, 1, 3, 5],\n",
              "         [4, 8, 5, 7, 0, 9, 9, 6, 2, 1, 2, 1, 3, 2, 0, 5, 8, 1, 3, 7, 1, 3, 4, 5,\n",
              "          6, 5, 0, 5, 4, 4, 4, 7, 4, 0, 8, 4, 3, 6, 2, 5, 9, 5, 6, 9, 3, 1, 0, 8,\n",
              "          9, 1, 3, 0, 8, 0, 4, 5, 1, 0, 1, 1, 0, 0, 0, 6, 0, 5, 2, 8, 5, 3, 9, 1,\n",
              "          5, 7, 0, 7, 2, 9, 8, 6, 2, 4, 2, 3, 6, 2, 5, 8, 7, 6, 7, 5, 0, 8, 8, 3,\n",
              "          5, 5, 5, 2, 5, 4, 0, 5, 3, 3, 2, 7, 1, 4, 1, 6, 2, 3, 2, 7, 9, 6, 8, 6,\n",
              "          8, 7, 6, 1, 3, 8, 0, 2]]),\n",
              " tensor([2, 5, 1, 5, 1, 3, 4, 8, 3, 1, 1, 6, 3, 7, 9, 9, 4, 3, 8, 8, 0, 9, 5, 0,\n",
              "         4, 4, 7, 2, 9, 7, 5, 5, 6, 6, 5, 0, 6, 1, 3, 0, 9, 0, 8, 6, 2, 1, 6, 3,\n",
              "         5, 8, 8, 8, 8, 0, 9, 8, 0, 2, 4, 5, 4, 6, 9, 5, 5, 6, 2, 1, 1, 6, 1, 5,\n",
              "         0, 4, 3, 9, 6, 9, 3, 3, 6, 1, 8, 3, 7, 8, 6, 4, 3, 5, 2, 2, 9, 4, 1, 9,\n",
              "         9, 5, 6, 7, 8, 8, 7, 4, 7, 8, 5, 6, 0, 5, 8, 0, 9, 6, 2, 1, 0, 5, 1, 9,\n",
              "         6, 9, 3, 4, 9, 5, 9, 7]))"
            ]
          },
          "metadata": {
            "tags": []
          },
          "execution_count": 14
        }
      ]
    },
    {
      "cell_type": "markdown",
      "metadata": {
        "id": "EQ0Gsr4SFNtB",
        "colab_type": "text"
      },
      "source": [
        "Обратите внимание, что батч имеет размерность `(sequence_length, batch_size, input_size)`. Все `RNN` в pytorch работают с таким форматом по умолчанию.\n",
        "\n",
        "Сделано это из соображений производительности, но при желании можно поменять такое поведение с помощью аргумента `batch_first`."
      ]
    },
    {
      "cell_type": "markdown",
      "metadata": {
        "id": "PqS7HPRhZSBC",
        "colab_type": "text"
      },
      "source": [
        "**Задание** Реализуйте класс `SimpleRNN`, выполняющий рассчеты по формуле выше."
      ]
    },
    {
      "cell_type": "code",
      "metadata": {
        "id": "ed1b2TUvZRs0",
        "colab_type": "code",
        "colab": {}
      },
      "source": [
        "class SimpleRNN(nn.Module):\n",
        "    def __init__(self, input_size, hidden_size):\n",
        "        super().__init__()\n",
        "\n",
        "        self._hidden_size = hidden_size\n",
        "        self._linear = nn.Linear(hidden_size+input_size, hidden_size)\n",
        "\n",
        "    def forward(self, inputs, hidden=None):\n",
        "        seq_len, batch_size = inputs.shape[:2]\n",
        "        if hidden is None:\n",
        "            hidden = inputs.new_zeros((batch_size, self._hidden_size))\n",
        "         \n",
        "        for i in range(seq_len):\n",
        "            hidden = torch.cat((hidden, inputs[i]), dim=1)\n",
        "            hidden = self._linear(hidden)\n",
        "            hidden = torch.tanh(hidden)\n",
        "        return hidden"
      ],
      "execution_count": 23,
      "outputs": []
    },
    {
      "cell_type": "markdown",
      "metadata": {
        "id": "KS2xw2YIZ_EU",
        "colab_type": "text"
      },
      "source": [
        "Должно стать понятно, почему полезно иметь первой размерностью seq_len - нужно уметь брать `inputs[i]` - подбатч, относящийся к данному таймстемпу. Если бы данные были расположены по-другому, эта операция была бы сильно дороже.\n",
        "\n",
        "**Задание** Реализуйте класс `MemorizerModel`, с последовательностью операций `Embedding -> SimpleRNN -> Linear`. Можно использовать `nn.Sequential`\n",
        "\n",
        "Чтобы сделать эмбеддинги, можно воспользоваться `nn.Embedding.from_pretrained`. Для простоты будем делать one-hot-encoding представление - для этого нужно просто инициализировать сеть единичной матрицей `torch.eye(N)`."
      ]
    },
    {
      "cell_type": "code",
      "metadata": {
        "id": "aEUr4Xa9Z81I",
        "colab_type": "code",
        "colab": {}
      },
      "source": [
        "# u can use nn.Sequential too\n",
        "class MemorizerModel(nn.Module):\n",
        "    def __init__(self, hidden_size):\n",
        "        super().__init__()\n",
        "        vocab_size = 10\n",
        "        self._fit_predict = nn.Sequential(\n",
        "            nn.Embedding.from_pretrained(torch.eye(vocab_size)),\n",
        "            SimpleRNN(vocab_size, hidden_size),\n",
        "            nn.Linear(hidden_size, vocab_size),\n",
        "        )\n",
        "        # self._embedding = nn.Embedding.from_pretrained(torch.eye(10))\n",
        "        # self._rnn = SimpleRNN(vocab_size, hidden_size)\n",
        "        # self._linear = nn.Linear(hidden_size, vocab_size)\n",
        "\n",
        "    def forward(self, inputs):\n",
        "        output = self._fit_predict(inputs)\n",
        "        return output"
      ],
      "execution_count": 19,
      "outputs": []
    },
    {
      "cell_type": "markdown",
      "metadata": {
        "id": "eiDRoQWDawaW",
        "colab_type": "text"
      },
      "source": [
        "Запустим обучение:"
      ]
    },
    {
      "cell_type": "code",
      "metadata": {
        "id": "IbVk7zUjUQ_v",
        "colab_type": "code",
        "colab": {
          "base_uri": "https://localhost:8080/",
          "height": 187
        },
        "outputId": "c2594e14-0742-49cd-d611-270e760c332c"
      },
      "source": [
        "rnn = MemorizerModel(hidden_size=32)\n",
        "\n",
        "criterion = nn.CrossEntropyLoss()\n",
        "optimizer = torch.optim.Adam(rnn.parameters())\n",
        "\n",
        "total_loss = 0\n",
        "epochs_count = 1000\n",
        "for epoch_ind in range(epochs_count):\n",
        "    X_train, y_train = generate_data(seq_len=25)\n",
        "    \n",
        "    optimizer.zero_grad()\n",
        "    rnn.train()\n",
        "    \n",
        "    logits = rnn(X_train)\n",
        "\n",
        "    loss = criterion(logits, y_train)\n",
        "    loss.backward()\n",
        "    optimizer.step()\n",
        "    \n",
        "    total_loss += loss.item()\n",
        "    \n",
        "    if (epoch_ind + 1) % 100 == 0:\n",
        "        rnn.eval()\n",
        "        \n",
        "        with torch.no_grad():\n",
        "            logits = rnn(X_val)\n",
        "            val_loss = criterion(logits, y_val)\n",
        "            print('[{}/{}] Train: {:.3f} Val: {:.3f}'.format(epoch_ind + 1, epochs_count, \n",
        "                                                             total_loss / 100, val_loss.item()))\n",
        "            total_loss = 0"
      ],
      "execution_count": 24,
      "outputs": [
        {
          "output_type": "stream",
          "text": [
            "[100/1000] Train: 2.305 Val: 2.301\n",
            "[200/1000] Train: 2.304 Val: 2.302\n",
            "[300/1000] Train: 2.303 Val: 2.298\n",
            "[400/1000] Train: 2.303 Val: 2.302\n",
            "[500/1000] Train: 2.304 Val: 2.303\n",
            "[600/1000] Train: 2.304 Val: 2.302\n",
            "[700/1000] Train: 2.303 Val: 2.301\n",
            "[800/1000] Train: 2.304 Val: 2.304\n",
            "[900/1000] Train: 2.303 Val: 2.303\n",
            "[1000/1000] Train: 2.303 Val: 2.303\n"
          ],
          "name": "stdout"
        }
      ]
    },
    {
      "cell_type": "markdown",
      "metadata": {
        "id": "dQJg3FROIq4v",
        "colab_type": "text"
      },
      "source": [
        "**Задание** Посмотрите на то, как влияет длина последовательности на работу сети. \n",
        "\n",
        "Во-первых, посмотрите, с какой длиной сеть в состоянии учиться. Во-вторых, попробуйте обучить сеть с небольшой длиной последовательности, а потом применять её к более длинным.\n",
        "\n",
        "**Задание** Утверждается, что `relu` подходит для RNN лучше. Попробуйте и её."
      ]
    },
    {
      "cell_type": "code",
      "metadata": {
        "id": "xDJM5I1ZBgKK",
        "colab_type": "code",
        "colab": {}
      },
      "source": [
        ""
      ],
      "execution_count": null,
      "outputs": []
    },
    {
      "cell_type": "markdown",
      "metadata": {
        "id": "nSHNuT5b61Ky",
        "colab_type": "text"
      },
      "source": [
        "## Обучение RNN'ок\n",
        "\n",
        "![bptt](https://image.ibb.co/cEYkw9/rnn_bptt_with_gradients.png)  \n",
        "*From [Recurrent Neural Networks Tutorial, Part 3 – Backpropagation Through Time and Vanishing Gradients](http://www.wildml.com/2015/10/recurrent-neural-networks-tutorial-part-3-backpropagation-through-time-and-vanishing-gradients/)*\n",
        "\n",
        "Если всё пошло по плану, мы должны были посмотреть на то, как RNN'ки забывают. \n",
        "\n",
        "Чтобы понять причину, стоит вспомнить, как именно происходит обучение RNN, например, здесь: [Backpropagation Through Time and Vanishing Gradients](http://www.wildml.com/2015/10/recurrent-neural-networks-tutorial-part-3-backpropagation-through-time-and-vanishing-gradients/) или здесь - [Vanishing Gradients & LSTMs](http://harinisuresh.com/2016/10/09/lstms/).\n",
        "\n",
        "Если кратко, одна из проблем обучения рекуррентных сетей - *взрыв градиентов*. Она проявляется, когда матрица весов такова, что увеличивает норму вектора градиента при обратном проходе. В результате норма градиента экспоненциально растет и он \"взрывается\". \n",
        "\n",
        "Эту проблему можно решить с помощью клипинга градиентов: `nn.utils.clip_grad_norm_(rnn.parameters(), 1.)`."
      ]
    },
    {
      "cell_type": "markdown",
      "metadata": {
        "id": "13x5erUgTjDC",
        "colab_type": "text"
      },
      "source": [
        "## LSTM и GRU\n",
        "\n"
      ]
    },
    {
      "cell_type": "markdown",
      "metadata": {
        "id": "PAjZh9YkYAMH",
        "colab_type": "text"
      },
      "source": [
        "\n",
        "\n",
        "Другая проблема - *затухание градиентов*. Она связана наоборот - с экспоненциальным затуханием градиентов. И вот её решают уже более сложными способами. \n",
        "\n",
        "А именно - используют gate'овые архитектуры.\n",
        "\n",
        "Идея gate'а простая, но важная, используются они далеко не только в рекуррентных сетях.\n",
        "\n",
        "Если посмотреть на то, как работает наша SimpleRNN, можно заметить, что каждый раз память (т.е. $h_t$) перезаписывается. Хочется иметь возможность сделать эту перезапись контролируемой: не отбрасывать какую-то важную инфомацию из вектора.\n",
        "\n",
        "Заведем для этого вектор $g \\in \\{0,1\\}^n$, который будет говорить, какие ячейки $h_{t-1}$ хорошие, а вместо каких стоит подставить новые значения:\n",
        "$$h_t = g \\odot f(x_t, h_{t-1}) + (1 - g) \\odot h_{t-1}.$$\n",
        "\n",
        "Например:\n",
        "$$\n",
        " \\begin{bmatrix}\n",
        "  8 \\\\\n",
        "  11 \\\\\n",
        "  3 \\\\\n",
        "  7\n",
        " \\end{bmatrix} =\n",
        " \\begin{bmatrix}\n",
        "  0 \\\\\n",
        "  1 \\\\\n",
        "  0 \\\\\n",
        "  0\n",
        " \\end{bmatrix}\n",
        " \\odot\n",
        "  \\begin{bmatrix}\n",
        "  7 \\\\\n",
        "  11 \\\\\n",
        "  6 \\\\\n",
        "  5\n",
        " \\end{bmatrix}\n",
        " +\n",
        "  \\begin{bmatrix}\n",
        "  1 \\\\\n",
        "  0 \\\\\n",
        "  1 \\\\\n",
        "  1\n",
        " \\end{bmatrix}\n",
        " \\odot\n",
        "  \\begin{bmatrix}\n",
        "  8 \\\\\n",
        "  5 \\\\\n",
        "  3 \\\\\n",
        "  7\n",
        " \\end{bmatrix}\n",
        "$$\n",
        "\n",
        "Чтобы добиться дифференцируемости, будем использовать сигмоиду: $\\sigma(f(x_t, h_{t-1}))$.\n",
        "\n",
        "В результате сеть будет сама, глядя на входы, решать, какие ячейки своей памяти и насколько стоит перезаписывать.\n",
        "\n",
        "### LSTM\n",
        "\n",
        "Кажется, первой архитектурой, применившей данной механизм, стал LSTM (Long Short-Term Memory).\n",
        "\n",
        "В ней у нас к $h_{t-1}$ добавляется ещё и $c_{t-1}$: $h_{t-1}$ - это всё то же скрытое состояния полученное на предыдущем шаге, а $c_{t-1}$ - это вектор памяти.\n",
        "\n",
        "Схематично - как-то так:\n",
        "![](http://colah.github.io/posts/2015-08-Understanding-LSTMs/img/LSTM3-chain.png)  \n",
        "*From [(Understanding LSTM Networks)](http://colah.github.io/posts/2015-08-Understanding-LSTMs)*\n",
        "\n",
        "\n",
        "Для начала мы можем точно так же, как и раньше посчитать новое скрытое состояние (обозначим его $\\tilde c_{t}$):\n",
        "$$\\tilde c_{t} = tanh(W_h [h_{t-1}; x_t] + b_h)$$\n",
        "\n",
        "В обычных RNN мы бы просто перезаписали этим значением сторое скрытое состояние. А теперь мы хотим понять, насколько нам нужна информация из $c_{t-1}$ и из $\\tilde c_{t}$. \n",
        "\n",
        "Оценим её сигмоидами:\n",
        "$$f = \\sigma(W_f [h_{t-1}; x_t] + b_f),$$\n",
        "$$i = \\sigma(W_i [h_{t-1}; x_t] + b_i).$$\n",
        "\n",
        "Первая - про то, насколько хочется забыть старую информацию. Вторая - насколько интересна новая. Тогда\n",
        "$$c_t = f \\odot c_{t-1} + i \\odot \\tilde c_t.$$\n",
        "\n",
        "Новое скрытое состояние мы также взвесим:\n",
        "$$o = \\sigma(W_o [h_{t-1}; x_t] + b_o),$$\n",
        "$$h_t = o \\odot tanh(c_t).$$\n",
        "\n",
        "Еще одна картинка:\n",
        "![](https://image.ibb.co/e6HQUU/details.png)  \n",
        "*From [Vanishing Gradients & LSTMs](http://harinisuresh.com/2016/10/09/lstms/)*\n",
        "\n",
        "Почему проблема затухающих градиентов решается? Потому что посмотрите на производную $\\frac{\\partial c_t}{\\partial c_{t-1}}$. Она пропорциональна гейту $f$. Если $f=1$ - градиенты текут без изменений. Иначе - ну, сеть сама учится, когда ей хочется что-то забыть.\n",
        "\n",
        "Настоятельно рекомендуется почитать статью: [Understanding LSTM Networks](http://colah.github.io/posts/2015-08-Understanding-LSTMs/) для более подробного ознакомления и прикольных картинок.\n",
        "\n",
        "Зачем я выписал эти формулы? Главное - чтобы показать, насколько больше параметров нужно учить в LSTM по сравнению с обычным RNN. В четыре раза больше!\n",
        "\n",
        "Для тех, кто заснул - [видео, как забывает RNN (нижняя часть)](https://www.youtube.com/watch?v=mLxsbWAYIpw)"
      ]
    },
    {
      "cell_type": "markdown",
      "metadata": {
        "id": "_9KWgbwQMatn",
        "colab_type": "text"
      },
      "source": [
        "## Предобработка данных"
      ]
    },
    {
      "cell_type": "code",
      "metadata": {
        "id": "q7-fQPwJUKtV",
        "colab_type": "code",
        "colab": {}
      },
      "source": [
        "symbols = set(symb for word in data_train for symb in word)\n",
        "char2ind = {symb: ind + 1 for ind, symb in enumerate(symbols)}\n",
        "char2ind[''] = 0\n",
        "\n",
        "lang2ind = {lang: ind for ind, lang in enumerate(set(labels_train))}"
      ],
      "execution_count": 25,
      "outputs": []
    },
    {
      "cell_type": "markdown",
      "metadata": {
        "id": "dcFgEy7YeFw0",
        "colab_type": "text"
      },
      "source": [
        "Сконвертируем датасет.\n",
        "\n",
        "**Задание** Напишите генератор батчей, который будет на лету выбирать случайный набор слов и конвертировать их в матрицы."
      ]
    },
    {
      "cell_type": "code",
      "metadata": {
        "id": "BWWClVsTRVuA",
        "colab_type": "code",
        "colab": {}
      },
      "source": [
        "def iterate_batches(data, labels, char2ind, lang2ind, batch_size):\n",
        "    # let's do the conversion part first\n",
        "    labels = np.array([lang2ind[label] for label in labels])\n",
        "    data = [[char2ind.get(symb, 0) for symb in word] for word in data]\n",
        "    \n",
        "    indices = np.arange(len(data))\n",
        "    np.random.shuffle(indices)\n",
        "    \n",
        "    for start in range(0, len(data), batch_size):\n",
        "        end = min(start + batch_size, len(data))\n",
        "        \n",
        "        batch_indices = indices[start: end]\n",
        "        \n",
        "        max_word_len = max(len(data[ind]) for ind in batch_indices)\n",
        "        X = np.zeros((max_word_len, len(batch_indices)))\n",
        "        \n",
        "        for i, batch_idx in enumerate(batch_indices):\n",
        "            X[:len(data[batch_idx]), i] = data[batch_idx]\n",
        "            \n",
        "        yield X, labels[batch_indices]"
      ],
      "execution_count": 26,
      "outputs": []
    },
    {
      "cell_type": "markdown",
      "metadata": {
        "id": "CfeR4B_hbH9P",
        "colab_type": "text"
      },
      "source": [
        "Лень передавать `char2ind, lang2ind`:"
      ]
    },
    {
      "cell_type": "code",
      "metadata": {
        "id": "uA-_jRNdaCM3",
        "colab_type": "code",
        "colab": {}
      },
      "source": [
        "from functools import partial\n",
        "\n",
        "iterate_batches = partial(iterate_batches, char2ind=char2ind, lang2ind=lang2ind)"
      ],
      "execution_count": 27,
      "outputs": []
    },
    {
      "cell_type": "code",
      "metadata": {
        "id": "HD5i7WmTVlGk",
        "colab_type": "code",
        "colab": {
          "base_uri": "https://localhost:8080/",
          "height": 221
        },
        "outputId": "f37c0814-54fd-4122-a1a0-b09a56e2ef73"
      },
      "source": [
        "next(iterate_batches(data, labels, batch_size=8))"
      ],
      "execution_count": 28,
      "outputs": [
        {
          "output_type": "execute_result",
          "data": {
            "text/plain": [
              "(array([[30., 30., 75., 30.,  5., 30.,  1., 85.],\n",
              "        [56., 34.,  3., 57., 48., 37., 53., 53.],\n",
              "        [13.,  7., 48., 81., 34., 48., 39., 29.],\n",
              "        [48.,  3., 15., 34., 34., 13., 63., 59.],\n",
              "        [ 0.,  0., 15.,  3., 53.,  0., 67., 14.],\n",
              "        [ 0.,  0., 48., 56.,  0.,  0., 81., 53.],\n",
              "        [ 0.,  0., 67., 15.,  0.,  0., 15., 34.],\n",
              "        [ 0.,  0.,  0.,  0.,  0.,  0., 48.,  0.],\n",
              "        [ 0.,  0.,  0.,  0.,  0.,  0., 74.,  0.],\n",
              "        [ 0.,  0.,  0.,  0.,  0.,  0., 53.,  0.],\n",
              "        [ 0.,  0.,  0.,  0.,  0.,  0., 29.,  0.]]),\n",
              " array([10,  1,  3, 14, 11,  3,  7,  3]))"
            ]
          },
          "metadata": {
            "tags": []
          },
          "execution_count": 28
        }
      ]
    },
    {
      "cell_type": "code",
      "metadata": {
        "id": "FvPRAeA0DO36",
        "colab_type": "code",
        "colab": {}
      },
      "source": [
        "test = next(iterate_batches(data, labels, batch_size=8))[0]"
      ],
      "execution_count": 31,
      "outputs": []
    },
    {
      "cell_type": "markdown",
      "metadata": {
        "id": "dnkAUetgs6Tr",
        "colab_type": "text"
      },
      "source": [
        "**Задание** Реализуйте простую модель на `SimpleRNN`."
      ]
    },
    {
      "cell_type": "code",
      "metadata": {
        "id": "Zk3OSidVS_px",
        "colab_type": "code",
        "colab": {}
      },
      "source": [
        "class SurnamesClassifier(nn.Module):\n",
        "    def __init__(self, vocab_size, emb_dim, lstm_hidden_dim, classes_count):\n",
        "        super().__init__()\n",
        "        \n",
        "        self._embedding = nn.Embedding(vocab_size, emb_dim)\n",
        "        self._rnn = SimpleRNN(emb_dim, lstm_hidden_dim)\n",
        "        self._linear = nn.Linear(lstm_hidden_dim, classes_count)\n",
        "            \n",
        "    def forward(self, inputs):\n",
        "        'embed(inputs) -> prediction'\n",
        "        emb = self.embed(inputs)\n",
        "        output = self._linear(emb)\n",
        "        return output\n",
        "    \n",
        "    def embed(self, inputs):\n",
        "        'inputs -> word embedding'\n",
        "        emb = self._embedding(inputs)\n",
        "        rnn_out = self._rnn(emb)\n",
        "        return rnn_out\n"
      ],
      "execution_count": 70,
      "outputs": []
    },
    {
      "cell_type": "code",
      "metadata": {
        "id": "1vXN-QIrZs95",
        "colab_type": "code",
        "colab": {}
      },
      "source": [
        "import math\n",
        "import time\n",
        "\n",
        "def do_epoch(model, criterion, data, batch_size, optimizer=None):  \n",
        "    epoch_loss = 0.\n",
        "    \n",
        "    is_train = not optimizer is None\n",
        "    model.train(is_train)\n",
        "    \n",
        "    data, labels = data\n",
        "    batchs_count = math.ceil(len(data) / batch_size)\n",
        "    \n",
        "    with torch.autograd.set_grad_enabled(is_train):\n",
        "        for i, (X_batch, y_batch) in enumerate(iterate_batches(data, labels, batch_size=batch_size)):\n",
        "            X_batch, y_batch = LongTensor(X_batch), LongTensor(y_batch)\n",
        "\n",
        "            logits = model(X_batch)\n",
        "            loss = criterion(logits, y_batch)\n",
        "            epoch_loss += loss.item()\n",
        "\n",
        "            if is_train:\n",
        "                optimizer.zero_grad()\n",
        "                loss.backward()\n",
        "                nn.utils.clip_grad_norm_(model.parameters(), 1.)\n",
        "                optimizer.step()\n",
        "\n",
        "            print('\\r[{} / {}]: Loss = {:.4f}'.format(i, batchs_count, loss.item()), end='')\n",
        "                \n",
        "    return epoch_loss / batchs_count\n",
        "\n",
        "def fit(model, criterion, optimizer, train_data, epochs_count=1, \n",
        "        batch_size=32, val_data=None, val_batch_size=None):\n",
        "    if not val_data is None and val_batch_size is None:\n",
        "        val_batch_size = batch_size\n",
        "        \n",
        "    for epoch in range(epochs_count):\n",
        "        start_time = time.time()\n",
        "        train_loss = do_epoch(model, criterion, train_data, batch_size, optimizer)\n",
        "        \n",
        "        output_info = '\\rEpoch {} / {}, Epoch Time = {:.2f}s: Train Loss = {:.4f}'\n",
        "        if not val_data is None:\n",
        "            val_loss = do_epoch(model, criterion, val_data, val_batch_size, None)\n",
        "            \n",
        "            epoch_time = time.time() - start_time\n",
        "            output_info += ', Val Loss = {:.4f}'\n",
        "            print(output_info.format(epoch+1, epochs_count, epoch_time, train_loss, val_loss))\n",
        "        else:\n",
        "            epoch_time = time.time() - start_time\n",
        "            print(output_info.format(epoch+1, epochs_count, epoch_time, train_loss))"
      ],
      "execution_count": 71,
      "outputs": []
    },
    {
      "cell_type": "code",
      "metadata": {
        "id": "x9vBDF2gbypR",
        "colab_type": "code",
        "colab": {
          "base_uri": "https://localhost:8080/",
          "height": 867
        },
        "outputId": "97f12533-1d9c-4fde-ef95-80b1ef77053a"
      },
      "source": [
        "model = SurnamesClassifier(vocab_size=len(char2ind), emb_dim=16, lstm_hidden_dim=64, classes_count=len(lang2ind)).cuda()\n",
        "\n",
        "criterion = nn.CrossEntropyLoss().cuda()\n",
        "optimizer = optim.Adam(model.parameters())\n",
        "\n",
        "fit(model, criterion, optimizer, epochs_count=50, batch_size=128, train_data=(data_train, labels_train),\n",
        "    val_data=(data_test, labels_test), val_batch_size=512)"
      ],
      "execution_count": 72,
      "outputs": [
        {
          "output_type": "stream",
          "text": [
            "Epoch 1 / 50, Epoch Time = 0.58s: Train Loss = 1.9451, Val Loss = 1.8438\n",
            "Epoch 2 / 50, Epoch Time = 0.57s: Train Loss = 1.8470, Val Loss = 1.8480\n",
            "Epoch 3 / 50, Epoch Time = 0.56s: Train Loss = 1.7826, Val Loss = 1.8949\n",
            "Epoch 4 / 50, Epoch Time = 0.66s: Train Loss = 1.5914, Val Loss = 1.6423\n",
            "Epoch 5 / 50, Epoch Time = 0.56s: Train Loss = 1.5187, Val Loss = 1.4669\n",
            "Epoch 6 / 50, Epoch Time = 0.56s: Train Loss = 1.4778, Val Loss = 1.4707\n",
            "Epoch 7 / 50, Epoch Time = 0.56s: Train Loss = 1.4741, Val Loss = 1.4528\n",
            "Epoch 8 / 50, Epoch Time = 0.58s: Train Loss = 1.4310, Val Loss = 1.4263\n",
            "Epoch 9 / 50, Epoch Time = 0.57s: Train Loss = 1.4156, Val Loss = 1.5143\n",
            "Epoch 10 / 50, Epoch Time = 0.57s: Train Loss = 1.3732, Val Loss = 1.3518\n",
            "Epoch 11 / 50, Epoch Time = 0.66s: Train Loss = 1.3467, Val Loss = 1.3375\n",
            "Epoch 12 / 50, Epoch Time = 0.56s: Train Loss = 1.2916, Val Loss = 1.2793\n",
            "Epoch 13 / 50, Epoch Time = 0.56s: Train Loss = 1.2608, Val Loss = 1.2569\n",
            "Epoch 14 / 50, Epoch Time = 0.56s: Train Loss = 1.2246, Val Loss = 1.2396\n",
            "Epoch 15 / 50, Epoch Time = 0.55s: Train Loss = 1.2129, Val Loss = 1.2252\n",
            "Epoch 16 / 50, Epoch Time = 0.56s: Train Loss = 1.1778, Val Loss = 1.2021\n",
            "Epoch 17 / 50, Epoch Time = 0.56s: Train Loss = 1.1521, Val Loss = 1.2461\n",
            "Epoch 18 / 50, Epoch Time = 0.64s: Train Loss = 1.1198, Val Loss = 1.2937\n",
            "Epoch 19 / 50, Epoch Time = 0.56s: Train Loss = 1.1091, Val Loss = 1.1859\n",
            "Epoch 20 / 50, Epoch Time = 0.59s: Train Loss = 1.0818, Val Loss = 1.1258\n",
            "Epoch 21 / 50, Epoch Time = 0.56s: Train Loss = 1.0627, Val Loss = 1.1182\n",
            "Epoch 22 / 50, Epoch Time = 0.58s: Train Loss = 1.0392, Val Loss = 1.1027\n",
            "Epoch 23 / 50, Epoch Time = 0.58s: Train Loss = 1.0214, Val Loss = 1.0681\n",
            "Epoch 24 / 50, Epoch Time = 0.66s: Train Loss = 1.0011, Val Loss = 1.1132\n",
            "Epoch 25 / 50, Epoch Time = 0.56s: Train Loss = 0.9719, Val Loss = 1.0232\n",
            "Epoch 26 / 50, Epoch Time = 0.57s: Train Loss = 0.9548, Val Loss = 0.9921\n",
            "Epoch 27 / 50, Epoch Time = 0.56s: Train Loss = 0.9277, Val Loss = 0.9844\n",
            "Epoch 28 / 50, Epoch Time = 0.56s: Train Loss = 0.9171, Val Loss = 1.0221\n",
            "Epoch 29 / 50, Epoch Time = 0.56s: Train Loss = 0.9061, Val Loss = 0.9580\n",
            "Epoch 30 / 50, Epoch Time = 0.65s: Train Loss = 0.8839, Val Loss = 0.9679\n",
            "Epoch 31 / 50, Epoch Time = 0.56s: Train Loss = 0.8740, Val Loss = 0.9784\n",
            "Epoch 32 / 50, Epoch Time = 0.56s: Train Loss = 0.8639, Val Loss = 0.9715\n",
            "Epoch 33 / 50, Epoch Time = 0.56s: Train Loss = 0.8448, Val Loss = 1.0180\n",
            "Epoch 34 / 50, Epoch Time = 0.56s: Train Loss = 0.8397, Val Loss = 0.9306\n",
            "Epoch 35 / 50, Epoch Time = 0.57s: Train Loss = 0.8283, Val Loss = 0.9477\n",
            "Epoch 36 / 50, Epoch Time = 0.55s: Train Loss = 0.8209, Val Loss = 0.9372\n",
            "Epoch 37 / 50, Epoch Time = 0.65s: Train Loss = 0.8106, Val Loss = 0.9442\n",
            "Epoch 38 / 50, Epoch Time = 0.56s: Train Loss = 0.8078, Val Loss = 0.9049\n",
            "Epoch 39 / 50, Epoch Time = 0.58s: Train Loss = 0.7992, Val Loss = 0.9285\n",
            "Epoch 40 / 50, Epoch Time = 0.57s: Train Loss = 0.7879, Val Loss = 0.9283\n",
            "Epoch 41 / 50, Epoch Time = 0.55s: Train Loss = 0.7838, Val Loss = 0.9308\n",
            "Epoch 42 / 50, Epoch Time = 0.58s: Train Loss = 0.7682, Val Loss = 0.9978\n",
            "Epoch 43 / 50, Epoch Time = 0.55s: Train Loss = 0.7762, Val Loss = 0.9533\n",
            "Epoch 44 / 50, Epoch Time = 0.65s: Train Loss = 0.7709, Val Loss = 0.8961\n",
            "Epoch 45 / 50, Epoch Time = 0.57s: Train Loss = 0.7567, Val Loss = 0.9594\n",
            "Epoch 46 / 50, Epoch Time = 0.57s: Train Loss = 0.7605, Val Loss = 0.9209\n",
            "Epoch 47 / 50, Epoch Time = 0.56s: Train Loss = 0.7536, Val Loss = 0.9524\n",
            "Epoch 48 / 50, Epoch Time = 0.56s: Train Loss = 0.7385, Val Loss = 0.9773\n",
            "Epoch 49 / 50, Epoch Time = 0.55s: Train Loss = 0.7291, Val Loss = 0.9001\n",
            "Epoch 50 / 50, Epoch Time = 0.66s: Train Loss = 0.7328, Val Loss = 0.9091\n"
          ],
          "name": "stdout"
        }
      ]
    },
    {
      "cell_type": "markdown",
      "metadata": {
        "id": "jC76XyGjigFx",
        "colab_type": "text"
      },
      "source": [
        "**Задание** Напишите функцию для тестирования полученной сети: пусть она принимает слово и говорит, в каком языке с какой вероятностью это может быть фамилией."
      ]
    },
    {
      "cell_type": "code",
      "metadata": {
        "id": "gsGNbpBVJ3xO",
        "colab_type": "code",
        "colab": {}
      },
      "source": [
        "def get_logits(surname):\n",
        "    surname = [[char2ind.get(symb, 0) for symb in surname]]\n",
        "    X = torch.cuda.LongTensor(surname)\n",
        "    X = X.permute((1, 0))\n",
        "    return torch.argmax(model(X), dim=1)"
      ],
      "execution_count": 55,
      "outputs": []
    },
    {
      "cell_type": "code",
      "metadata": {
        "id": "FRL1iWA3E5G1",
        "colab_type": "code",
        "colab": {
          "base_uri": "https://localhost:8080/",
          "height": 34
        },
        "outputId": "4d5c98aa-d4a3-4480-e8e4-f435a8435aa3"
      },
      "source": [
        "get_logits('Дмитриев')"
      ],
      "execution_count": 56,
      "outputs": [
        {
          "output_type": "execute_result",
          "data": {
            "text/plain": [
              "tensor([6], device='cuda:0')"
            ]
          },
          "metadata": {
            "tags": []
          },
          "execution_count": 56
        }
      ]
    },
    {
      "cell_type": "markdown",
      "metadata": {
        "id": "aWqOPgdbIYcl",
        "colab_type": "text"
      },
      "source": [
        "**Задание** Оцените качество модели."
      ]
    },
    {
      "cell_type": "code",
      "metadata": {
        "id": "dT2QE6IycXo9",
        "colab_type": "code",
        "colab": {
          "base_uri": "https://localhost:8080/",
          "height": 530
        },
        "outputId": "8685b367-9213-4b0a-828a-27a292ecc6b6"
      },
      "source": [
        "model.eval()\n",
        "\n",
        "y_test, y_pred = [], []\n",
        "X_test, y_test = next(iterate_batches(data_test, labels_test, batch_size=len(data_test)))\n",
        "X_test = LongTensor(X_test)\n",
        "y_pred = torch.argmax(model(X_test), dim=1)\n",
        "\n",
        "print('Accuracy = {:.2%}'.format(accuracy_score(y_test, y_pred)))\n",
        "print('Classification report:')\n",
        "print(classification_report(y_test, y_pred, \n",
        "                            target_names=[lang for lang, _ in sorted(lang2ind.items(), key=lambda x: x[1])]))"
      ],
      "execution_count": 57,
      "outputs": [
        {
          "output_type": "stream",
          "text": [
            "Accuracy = 73.65%\n",
            "Classification report:\n",
            "              precision    recall  f1-score   support\n",
            "\n",
            "       Czech       0.13      0.23      0.17       156\n",
            "       Dutch       0.00      0.00      0.00        89\n",
            "     English       0.71      0.71      0.71      1101\n",
            "      Arabic       0.96      0.92      0.94       600\n",
            "      Korean       1.00      0.04      0.07        28\n",
            "     Italian       0.41      0.60      0.48       213\n",
            "     Chinese       0.27      0.80      0.41        80\n",
            "       Greek       0.00      0.00      0.00        61\n",
            "      Polish       0.00      0.00      0.00        42\n",
            "      French       0.00      0.00      0.00        83\n",
            "    Japanese       0.80      0.72      0.76       297\n",
            "     Spanish       0.06      0.02      0.03        89\n",
            "       Irish       1.00      0.01      0.03        70\n",
            "      German       0.22      0.29      0.25       217\n",
            "     Russian       0.89      0.92      0.90      2823\n",
            "  Vietnamese       0.00      0.00      0.00        22\n",
            "  Portuguese       0.00      0.00      0.00        22\n",
            "    Scottish       0.00      0.00      0.00        30\n",
            "\n",
            "    accuracy                           0.74      6023\n",
            "   macro avg       0.36      0.29      0.26      6023\n",
            "weighted avg       0.73      0.74      0.72      6023\n",
            "\n"
          ],
          "name": "stdout"
        },
        {
          "output_type": "stream",
          "text": [
            "/usr/local/lib/python3.6/dist-packages/sklearn/metrics/_classification.py:1272: UndefinedMetricWarning: Precision and F-score are ill-defined and being set to 0.0 in labels with no predicted samples. Use `zero_division` parameter to control this behavior.\n",
            "  _warn_prf(average, modifier, msg_start, len(result))\n"
          ],
          "name": "stderr"
        }
      ]
    },
    {
      "cell_type": "markdown",
      "metadata": {
        "id": "B_FZ9x0NInft",
        "colab_type": "text"
      },
      "source": [
        "## Визуализация эмбеддингов"
      ]
    },
    {
      "cell_type": "code",
      "metadata": {
        "id": "bJkyBV2bAK05",
        "colab_type": "code",
        "colab": {}
      },
      "source": [
        "import bokeh.models as bm, bokeh.plotting as pl\n",
        "from bokeh.colors import RGB\n",
        "from bokeh.io import output_notebook\n",
        "\n",
        "# from sklearn.manifold import TSNE\n",
        "import umap\n",
        "from sklearn.preprocessing import scale\n",
        "\n",
        "\n",
        "def draw_vectors(x, y, radius=10, alpha=0.25, color='blue',\n",
        "                 width=600, height=400, show=True, **kwargs):\n",
        "    \"\"\" draws an interactive plot for data points with auxilirary info on hover \"\"\"\n",
        "    output_notebook()\n",
        "    \n",
        "    if isinstance(color, str): \n",
        "        color = [color] * len(x)\n",
        "    if isinstance(color, np.ndarray):\n",
        "        color = [RGB(*x[:3]) for x in color]\n",
        "    print(color)\n",
        "    data_source = bm.ColumnDataSource({ 'x' : x, 'y' : y, 'color': color, **kwargs })\n",
        "\n",
        "    fig = pl.figure(active_scroll='wheel_zoom', width=width, height=height)\n",
        "    fig.scatter('x', 'y', size=radius, color='color', alpha=alpha, source=data_source)\n",
        "\n",
        "    fig.add_tools(bm.HoverTool(tooltips=[(key, \"@\" + key) for key in kwargs.keys()]))\n",
        "    if show: \n",
        "        pl.show(fig)\n",
        "    return fig\n",
        "\n",
        "\n",
        "def get_tsne_projection(word_vectors):\n",
        "    tsne = umap.UMAP(n_components=2, verbose=100)\n",
        "    return scale(tsne.fit_transform(word_vectors))\n",
        "    \n",
        "    \n",
        "def visualize_embeddings(embeddings, token, colors):\n",
        "    tsne = get_tsne_projection(embeddings)\n",
        "    draw_vectors(tsne[:, 0], tsne[:, 1], color=colors, token=token)"
      ],
      "execution_count": 67,
      "outputs": []
    },
    {
      "cell_type": "markdown",
      "metadata": {
        "id": "1u-74cv7IrH9",
        "colab_type": "text"
      },
      "source": [
        "Мы опять получили эмбеддинги - символьного уровня теперь.\n",
        "\n",
        "Хочется на них посмотреть\n",
        "\n",
        "**Задание** Посчитайте векторы для случайных слов и выведите их."
      ]
    },
    {
      "cell_type": "code",
      "metadata": {
        "id": "jt6LsI0NAPAm",
        "colab_type": "code",
        "colab": {
          "base_uri": "https://localhost:8080/",
          "height": 930
        },
        "outputId": "90ea871e-cdbd-4ea9-9f5a-d79759c940ae"
      },
      "source": [
        "word_indices = np.random.choice(np.arange(len(data_test)), 1000, replace=False)\n",
        "words = [data_test[ind] for ind in word_indices]\n",
        "word_labels = [labels_test[ind] for ind in word_indices]\n",
        "\n",
        "model.eval()\n",
        "X_batch, y_batch = next(iterate_batches(words, word_labels, batch_size=1000))\n",
        "embeddings = model.embed(LongTensor(X_batch)).detach().cpu().numpy()\n",
        "\n",
        "colors = plt.cm.tab20(y_batch) * 255\n",
        "\n",
        "visualize_embeddings(embeddings, words, colors)"
      ],
      "execution_count": 73,
      "outputs": [
        {
          "output_type": "stream",
          "text": [
            "UMAP(a=None, angular_rp_forest=False, b=None,\n",
            "     force_approximation_algorithm=False, init='spectral', learning_rate=1.0,\n",
            "     local_connectivity=1.0, low_memory=False, metric='euclidean',\n",
            "     metric_kwds=None, min_dist=0.1, n_components=2, n_epochs=None,\n",
            "     n_neighbors=15, negative_sample_rate=5, output_metric='euclidean',\n",
            "     output_metric_kwds=None, random_state=None, repulsion_strength=1.0,\n",
            "     set_op_mix_ratio=1.0, spread=1.0, target_metric='categorical',\n",
            "     target_metric_kwds=None, target_n_neighbors=-1, target_weight=0.5,\n",
            "     transform_queue_size=4.0, transform_seed=42, unique=False, verbose=100)\n",
            "Construct fuzzy simplicial set\n",
            "Wed Jul 15 20:16:03 2020 Finding Nearest Neighbors\n",
            "Wed Jul 15 20:16:05 2020 Finished Nearest Neighbor Search\n",
            "Wed Jul 15 20:16:06 2020 Construct embedding\n",
            "\tcompleted  0  /  500 epochs\n",
            "\tcompleted  50  /  500 epochs\n",
            "\tcompleted  100  /  500 epochs\n",
            "\tcompleted  150  /  500 epochs\n",
            "\tcompleted  200  /  500 epochs\n",
            "\tcompleted  250  /  500 epochs\n",
            "\tcompleted  300  /  500 epochs\n",
            "\tcompleted  350  /  500 epochs\n",
            "\tcompleted  400  /  500 epochs\n",
            "\tcompleted  450  /  500 epochs\n",
            "Wed Jul 15 20:16:10 2020 Finished embedding\n",
            "[rgb(255, 127, 14), rgb(127, 127, 127), rgb(127, 127, 127), rgb(255, 127, 14), rgb(255, 152, 150), rgb(31, 119, 180), rgb(227, 119, 194), rgb(140, 86, 75), rgb(127, 127, 127), rgb(127, 127, 127), rgb(127, 127, 127), rgb(127, 127, 127), rgb(196, 156, 148), rgb(127, 127, 127), rgb(255, 187, 120), rgb(127, 127, 127), rgb(255, 127, 14), rgb(127, 127, 127), rgb(255, 187, 120), rgb(127, 127, 127), rgb(255, 187, 120), rgb(255, 127, 14), rgb(255, 187, 120), rgb(127, 127, 127), rgb(255, 127, 14), rgb(140, 86, 75), rgb(247, 182, 210), rgb(140, 86, 75), rgb(255, 127, 14), rgb(127, 127, 127), rgb(255, 127, 14), rgb(255, 127, 14), rgb(127, 127, 127), rgb(152, 223, 138), rgb(127, 127, 127), rgb(255, 127, 14), rgb(255, 187, 120), rgb(127, 127, 127), rgb(127, 127, 127), rgb(127, 127, 127), rgb(127, 127, 127), rgb(127, 127, 127), rgb(127, 127, 127), rgb(127, 127, 127), rgb(152, 223, 138), rgb(247, 182, 210), rgb(127, 127, 127), rgb(127, 127, 127), rgb(127, 127, 127), rgb(127, 127, 127), rgb(127, 127, 127), rgb(127, 127, 127), rgb(127, 127, 127), rgb(196, 156, 148), rgb(127, 127, 127), rgb(127, 127, 127), rgb(127, 127, 127), rgb(31, 119, 180), rgb(127, 127, 127), rgb(31, 119, 180), rgb(127, 127, 127), rgb(127, 127, 127), rgb(255, 187, 120), rgb(255, 187, 120), rgb(127, 127, 127), rgb(140, 86, 75), rgb(127, 127, 127), rgb(127, 127, 127), rgb(127, 127, 127), rgb(127, 127, 127), rgb(31, 119, 180), rgb(255, 127, 14), rgb(255, 127, 14), rgb(127, 127, 127), rgb(127, 127, 127), rgb(247, 182, 210), rgb(140, 86, 75), rgb(127, 127, 127), rgb(127, 127, 127), rgb(31, 119, 180), rgb(127, 127, 127), rgb(127, 127, 127), rgb(127, 127, 127), rgb(127, 127, 127), rgb(214, 39, 40), rgb(127, 127, 127), rgb(255, 187, 120), rgb(31, 119, 180), rgb(127, 127, 127), rgb(255, 187, 120), rgb(127, 127, 127), rgb(127, 127, 127), rgb(152, 223, 138), rgb(255, 187, 120), rgb(247, 182, 210), rgb(255, 187, 120), rgb(127, 127, 127), rgb(255, 127, 14), rgb(255, 127, 14), rgb(255, 187, 120), rgb(255, 187, 120), rgb(127, 127, 127), rgb(255, 127, 14), rgb(127, 127, 127), rgb(255, 187, 120), rgb(255, 127, 14), rgb(255, 127, 14), rgb(255, 127, 14), rgb(255, 127, 14), rgb(31, 119, 180), rgb(127, 127, 127), rgb(127, 127, 127), rgb(127, 127, 127), rgb(127, 127, 127), rgb(247, 182, 210), rgb(255, 187, 120), rgb(127, 127, 127), rgb(127, 127, 127), rgb(214, 39, 40), rgb(255, 187, 120), rgb(214, 39, 40), rgb(247, 182, 210), rgb(255, 187, 120), rgb(127, 127, 127), rgb(127, 127, 127), rgb(255, 127, 14), rgb(140, 86, 75), rgb(127, 127, 127), rgb(127, 127, 127), rgb(127, 127, 127), rgb(127, 127, 127), rgb(247, 182, 210), rgb(247, 182, 210), rgb(127, 127, 127), rgb(127, 127, 127), rgb(255, 127, 14), rgb(127, 127, 127), rgb(214, 39, 40), rgb(255, 127, 14), rgb(140, 86, 75), rgb(127, 127, 127), rgb(255, 127, 14), rgb(127, 127, 127), rgb(247, 182, 210), rgb(127, 127, 127), rgb(127, 127, 127), rgb(255, 187, 120), rgb(255, 187, 120), rgb(255, 127, 14), rgb(127, 127, 127), rgb(174, 199, 232), rgb(140, 86, 75), rgb(127, 127, 127), rgb(255, 187, 120), rgb(127, 127, 127), rgb(255, 127, 14), rgb(127, 127, 127), rgb(219, 219, 141), rgb(255, 187, 120), rgb(255, 187, 120), rgb(255, 187, 120), rgb(127, 127, 127), rgb(127, 127, 127), rgb(127, 127, 127), rgb(127, 127, 127), rgb(255, 127, 14), rgb(127, 127, 127), rgb(140, 86, 75), rgb(127, 127, 127), rgb(127, 127, 127), rgb(255, 187, 120), rgb(247, 182, 210), rgb(127, 127, 127), rgb(127, 127, 127), rgb(127, 127, 127), rgb(127, 127, 127), rgb(127, 127, 127), rgb(127, 127, 127), rgb(152, 223, 138), rgb(255, 127, 14), rgb(152, 223, 138), rgb(255, 187, 120), rgb(127, 127, 127), rgb(255, 187, 120), rgb(127, 127, 127), rgb(247, 182, 210), rgb(255, 127, 14), rgb(127, 127, 127), rgb(255, 127, 14), rgb(127, 127, 127), rgb(127, 127, 127), rgb(127, 127, 127), rgb(255, 127, 14), rgb(140, 86, 75), rgb(255, 127, 14), rgb(127, 127, 127), rgb(255, 127, 14), rgb(127, 127, 127), rgb(127, 127, 127), rgb(255, 187, 120), rgb(255, 187, 120), rgb(127, 127, 127), rgb(127, 127, 127), rgb(197, 176, 213), rgb(127, 127, 127), rgb(255, 187, 120), rgb(127, 127, 127), rgb(255, 187, 120), rgb(127, 127, 127), rgb(255, 187, 120), rgb(127, 127, 127), rgb(140, 86, 75), rgb(31, 119, 180), rgb(148, 103, 189), rgb(127, 127, 127), rgb(127, 127, 127), rgb(152, 223, 138), rgb(247, 182, 210), rgb(127, 127, 127), rgb(255, 127, 14), rgb(148, 103, 189), rgb(197, 176, 213), rgb(127, 127, 127), rgb(127, 127, 127), rgb(247, 182, 210), rgb(247, 182, 210), rgb(255, 127, 14), rgb(127, 127, 127), rgb(127, 127, 127), rgb(127, 127, 127), rgb(127, 127, 127), rgb(127, 127, 127), rgb(127, 127, 127), rgb(127, 127, 127), rgb(255, 127, 14), rgb(127, 127, 127), rgb(127, 127, 127), rgb(127, 127, 127), rgb(214, 39, 40), rgb(255, 127, 14), rgb(127, 127, 127), rgb(127, 127, 127), rgb(152, 223, 138), rgb(127, 127, 127), rgb(255, 127, 14), rgb(127, 127, 127), rgb(255, 127, 14), rgb(255, 127, 14), rgb(255, 127, 14), rgb(255, 127, 14), rgb(31, 119, 180), rgb(255, 127, 14), rgb(127, 127, 127), rgb(127, 127, 127), rgb(127, 127, 127), rgb(255, 187, 120), rgb(127, 127, 127), rgb(140, 86, 75), rgb(127, 127, 127), rgb(127, 127, 127), rgb(199, 199, 199), rgb(255, 127, 14), rgb(127, 127, 127), rgb(127, 127, 127), rgb(255, 187, 120), rgb(247, 182, 210), rgb(152, 223, 138), rgb(255, 127, 14), rgb(255, 187, 120), rgb(127, 127, 127), rgb(127, 127, 127), rgb(127, 127, 127), rgb(247, 182, 210), rgb(152, 223, 138), rgb(255, 127, 14), rgb(127, 127, 127), rgb(127, 127, 127), rgb(127, 127, 127), rgb(127, 127, 127), rgb(174, 199, 232), rgb(127, 127, 127), rgb(255, 127, 14), rgb(127, 127, 127), rgb(255, 127, 14), rgb(127, 127, 127), rgb(127, 127, 127), rgb(127, 127, 127), rgb(127, 127, 127), rgb(255, 187, 120), rgb(196, 156, 148), rgb(127, 127, 127), rgb(127, 127, 127), rgb(140, 86, 75), rgb(127, 127, 127), rgb(127, 127, 127), rgb(255, 187, 120), rgb(247, 182, 210), rgb(255, 187, 120), rgb(255, 127, 14), rgb(127, 127, 127), rgb(196, 156, 148), rgb(127, 127, 127), rgb(127, 127, 127), rgb(227, 119, 194), rgb(127, 127, 127), rgb(255, 187, 120), rgb(255, 187, 120), rgb(127, 127, 127), rgb(255, 187, 120), rgb(127, 127, 127), rgb(255, 127, 14), rgb(255, 127, 14), rgb(127, 127, 127), rgb(214, 39, 40), rgb(127, 127, 127), rgb(127, 127, 127), rgb(174, 199, 232), rgb(255, 187, 120), rgb(255, 127, 14), rgb(255, 187, 120), rgb(196, 156, 148), rgb(255, 187, 120), rgb(127, 127, 127), rgb(127, 127, 127), rgb(127, 127, 127), rgb(127, 127, 127), rgb(127, 127, 127), rgb(247, 182, 210), rgb(140, 86, 75), rgb(127, 127, 127), rgb(188, 189, 34), rgb(127, 127, 127), rgb(127, 127, 127), rgb(219, 219, 141), rgb(255, 152, 150), rgb(127, 127, 127), rgb(196, 156, 148), rgb(255, 127, 14), rgb(127, 127, 127), rgb(196, 156, 148), rgb(127, 127, 127), rgb(127, 127, 127), rgb(174, 199, 232), rgb(127, 127, 127), rgb(255, 127, 14), rgb(197, 176, 213), rgb(127, 127, 127), rgb(214, 39, 40), rgb(227, 119, 194), rgb(255, 187, 120), rgb(196, 156, 148), rgb(152, 223, 138), rgb(127, 127, 127), rgb(127, 127, 127), rgb(255, 127, 14), rgb(127, 127, 127), rgb(197, 176, 213), rgb(255, 127, 14), rgb(127, 127, 127), rgb(127, 127, 127), rgb(255, 187, 120), rgb(127, 127, 127), rgb(127, 127, 127), rgb(127, 127, 127), rgb(255, 187, 120), rgb(255, 127, 14), rgb(255, 187, 120), rgb(127, 127, 127), rgb(255, 127, 14), rgb(31, 119, 180), rgb(255, 127, 14), rgb(255, 187, 120), rgb(127, 127, 127), rgb(127, 127, 127), rgb(127, 127, 127), rgb(247, 182, 210), rgb(127, 127, 127), rgb(255, 187, 120), rgb(127, 127, 127), rgb(197, 176, 213), rgb(255, 127, 14), rgb(127, 127, 127), rgb(127, 127, 127), rgb(127, 127, 127), rgb(127, 127, 127), rgb(127, 127, 127), rgb(127, 127, 127), rgb(140, 86, 75), rgb(255, 127, 14), rgb(127, 127, 127), rgb(247, 182, 210), rgb(255, 187, 120), rgb(127, 127, 127), rgb(127, 127, 127), rgb(127, 127, 127), rgb(255, 187, 120), rgb(196, 156, 148), rgb(214, 39, 40), rgb(214, 39, 40), rgb(127, 127, 127), rgb(127, 127, 127), rgb(127, 127, 127), rgb(127, 127, 127), rgb(127, 127, 127), rgb(255, 187, 120), rgb(127, 127, 127), rgb(127, 127, 127), rgb(127, 127, 127), rgb(214, 39, 40), rgb(255, 127, 14), rgb(255, 127, 14), rgb(127, 127, 127), rgb(255, 127, 14), rgb(255, 127, 14), rgb(127, 127, 127), rgb(255, 187, 120), rgb(255, 187, 120), rgb(227, 119, 194), rgb(255, 187, 120), rgb(255, 187, 120), rgb(148, 103, 189), rgb(127, 127, 127), rgb(127, 127, 127), rgb(255, 127, 14), rgb(255, 127, 14), rgb(127, 127, 127), rgb(255, 187, 120), rgb(255, 127, 14), rgb(127, 127, 127), rgb(214, 39, 40), rgb(255, 127, 14), rgb(255, 127, 14), rgb(127, 127, 127), rgb(127, 127, 127), rgb(255, 187, 120), rgb(148, 103, 189), rgb(127, 127, 127), rgb(255, 187, 120), rgb(188, 189, 34), rgb(255, 127, 14), rgb(255, 127, 14), rgb(140, 86, 75), rgb(247, 182, 210), rgb(127, 127, 127), rgb(127, 127, 127), rgb(127, 127, 127), rgb(127, 127, 127), rgb(140, 86, 75), rgb(31, 119, 180), rgb(127, 127, 127), rgb(127, 127, 127), rgb(127, 127, 127), rgb(127, 127, 127), rgb(255, 127, 14), rgb(247, 182, 210), rgb(152, 223, 138), rgb(127, 127, 127), rgb(247, 182, 210), rgb(127, 127, 127), rgb(127, 127, 127), rgb(196, 156, 148), rgb(127, 127, 127), rgb(127, 127, 127), rgb(152, 223, 138), rgb(127, 127, 127), rgb(127, 127, 127), rgb(127, 127, 127), rgb(127, 127, 127), rgb(127, 127, 127), rgb(214, 39, 40), rgb(127, 127, 127), rgb(127, 127, 127), rgb(127, 127, 127), rgb(152, 223, 138), rgb(127, 127, 127), rgb(152, 223, 138), rgb(127, 127, 127), rgb(255, 187, 120), rgb(127, 127, 127), rgb(196, 156, 148), rgb(44, 160, 44), rgb(127, 127, 127), rgb(127, 127, 127), rgb(127, 127, 127), rgb(255, 127, 14), rgb(255, 127, 14), rgb(247, 182, 210), rgb(31, 119, 180), rgb(127, 127, 127), rgb(127, 127, 127), rgb(127, 127, 127), rgb(127, 127, 127), rgb(255, 187, 120), rgb(127, 127, 127), rgb(127, 127, 127), rgb(152, 223, 138), rgb(174, 199, 232), rgb(247, 182, 210), rgb(127, 127, 127), rgb(140, 86, 75), rgb(127, 127, 127), rgb(255, 127, 14), rgb(127, 127, 127), rgb(127, 127, 127), rgb(140, 86, 75), rgb(127, 127, 127), rgb(127, 127, 127), rgb(247, 182, 210), rgb(152, 223, 138), rgb(127, 127, 127), rgb(196, 156, 148), rgb(127, 127, 127), rgb(255, 127, 14), rgb(127, 127, 127), rgb(197, 176, 213), rgb(127, 127, 127), rgb(255, 127, 14), rgb(127, 127, 127), rgb(127, 127, 127), rgb(255, 187, 120), rgb(127, 127, 127), rgb(255, 127, 14), rgb(127, 127, 127), rgb(247, 182, 210), rgb(127, 127, 127), rgb(255, 127, 14), rgb(127, 127, 127), rgb(255, 152, 150), rgb(127, 127, 127), rgb(127, 127, 127), rgb(127, 127, 127), rgb(255, 187, 120), rgb(127, 127, 127), rgb(255, 187, 120), rgb(127, 127, 127), rgb(255, 127, 14), rgb(127, 127, 127), rgb(31, 119, 180), rgb(255, 187, 120), rgb(127, 127, 127), rgb(127, 127, 127), rgb(214, 39, 40), rgb(127, 127, 127), rgb(255, 127, 14), rgb(214, 39, 40), rgb(127, 127, 127), rgb(247, 182, 210), rgb(255, 127, 14), rgb(127, 127, 127), rgb(127, 127, 127), rgb(255, 127, 14), rgb(255, 187, 120), rgb(140, 86, 75), rgb(255, 187, 120), rgb(197, 176, 213), rgb(127, 127, 127), rgb(127, 127, 127), rgb(255, 127, 14), rgb(255, 187, 120), rgb(140, 86, 75), rgb(140, 86, 75), rgb(255, 187, 120), rgb(127, 127, 127), rgb(127, 127, 127), rgb(127, 127, 127), rgb(255, 127, 14), rgb(127, 127, 127), rgb(255, 127, 14), rgb(255, 127, 14), rgb(31, 119, 180), rgb(255, 127, 14), rgb(255, 127, 14), rgb(127, 127, 127), rgb(127, 127, 127), rgb(127, 127, 127), rgb(127, 127, 127), rgb(127, 127, 127), rgb(255, 187, 120), rgb(127, 127, 127), rgb(255, 127, 14), rgb(247, 182, 210), rgb(247, 182, 210), rgb(227, 119, 194), rgb(255, 187, 120), rgb(127, 127, 127), rgb(174, 199, 232), rgb(255, 127, 14), rgb(255, 127, 14), rgb(255, 127, 14), rgb(127, 127, 127), rgb(255, 127, 14), rgb(255, 127, 14), rgb(127, 127, 127), rgb(197, 176, 213), rgb(140, 86, 75), rgb(255, 127, 14), rgb(247, 182, 210), rgb(174, 199, 232), rgb(255, 127, 14), rgb(127, 127, 127), rgb(127, 127, 127), rgb(127, 127, 127), rgb(255, 187, 120), rgb(255, 127, 14), rgb(140, 86, 75), rgb(127, 127, 127), rgb(255, 127, 14), rgb(140, 86, 75), rgb(127, 127, 127), rgb(127, 127, 127), rgb(255, 127, 14), rgb(255, 187, 120), rgb(148, 103, 189), rgb(127, 127, 127), rgb(127, 127, 127), rgb(127, 127, 127), rgb(255, 127, 14), rgb(255, 127, 14), rgb(255, 127, 14), rgb(127, 127, 127), rgb(127, 127, 127), rgb(140, 86, 75), rgb(127, 127, 127), rgb(127, 127, 127), rgb(255, 127, 14), rgb(127, 127, 127), rgb(127, 127, 127), rgb(127, 127, 127), rgb(255, 187, 120), rgb(127, 127, 127), rgb(127, 127, 127), rgb(255, 127, 14), rgb(127, 127, 127), rgb(127, 127, 127), rgb(127, 127, 127), rgb(255, 127, 14), rgb(140, 86, 75), rgb(31, 119, 180), rgb(255, 127, 14), rgb(127, 127, 127), rgb(152, 223, 138), rgb(247, 182, 210), rgb(255, 187, 120), rgb(140, 86, 75), rgb(127, 127, 127), rgb(127, 127, 127), rgb(127, 127, 127), rgb(255, 187, 120), rgb(127, 127, 127), rgb(255, 187, 120), rgb(127, 127, 127), rgb(127, 127, 127), rgb(127, 127, 127), rgb(174, 199, 232), rgb(127, 127, 127), rgb(255, 127, 14), rgb(127, 127, 127), rgb(127, 127, 127), rgb(31, 119, 180), rgb(255, 187, 120), rgb(255, 187, 120), rgb(127, 127, 127), rgb(127, 127, 127), rgb(127, 127, 127), rgb(255, 127, 14), rgb(127, 127, 127), rgb(152, 223, 138), rgb(255, 127, 14), rgb(127, 127, 127), rgb(140, 86, 75), rgb(255, 127, 14), rgb(127, 127, 127), rgb(127, 127, 127), rgb(196, 156, 148), rgb(140, 86, 75), rgb(255, 127, 14), rgb(127, 127, 127), rgb(127, 127, 127), rgb(127, 127, 127), rgb(127, 127, 127), rgb(255, 187, 120), rgb(127, 127, 127), rgb(255, 127, 14), rgb(127, 127, 127), rgb(255, 187, 120), rgb(127, 127, 127), rgb(255, 127, 14), rgb(127, 127, 127), rgb(127, 127, 127), rgb(127, 127, 127), rgb(140, 86, 75), rgb(127, 127, 127), rgb(127, 127, 127), rgb(127, 127, 127), rgb(127, 127, 127), rgb(255, 127, 14), rgb(255, 127, 14), rgb(127, 127, 127), rgb(127, 127, 127), rgb(152, 223, 138), rgb(255, 127, 14), rgb(127, 127, 127), rgb(127, 127, 127), rgb(255, 127, 14), rgb(31, 119, 180), rgb(219, 219, 141), rgb(127, 127, 127), rgb(127, 127, 127), rgb(127, 127, 127), rgb(127, 127, 127), rgb(255, 127, 14), rgb(127, 127, 127), rgb(140, 86, 75), rgb(127, 127, 127), rgb(127, 127, 127), rgb(127, 127, 127), rgb(174, 199, 232), rgb(127, 127, 127), rgb(255, 187, 120), rgb(127, 127, 127), rgb(255, 127, 14), rgb(255, 127, 14), rgb(127, 127, 127), rgb(255, 127, 14), rgb(31, 119, 180), rgb(127, 127, 127), rgb(127, 127, 127), rgb(140, 86, 75), rgb(127, 127, 127), rgb(140, 86, 75), rgb(127, 127, 127), rgb(219, 219, 141), rgb(255, 127, 14), rgb(127, 127, 127), rgb(127, 127, 127), rgb(127, 127, 127), rgb(31, 119, 180), rgb(127, 127, 127), rgb(127, 127, 127), rgb(255, 127, 14), rgb(127, 127, 127), rgb(255, 127, 14), rgb(140, 86, 75), rgb(127, 127, 127), rgb(127, 127, 127), rgb(214, 39, 40), rgb(255, 127, 14), rgb(127, 127, 127), rgb(255, 187, 120), rgb(127, 127, 127), rgb(127, 127, 127), rgb(140, 86, 75), rgb(127, 127, 127), rgb(127, 127, 127), rgb(255, 187, 120), rgb(255, 187, 120), rgb(227, 119, 194), rgb(255, 127, 14), rgb(219, 219, 141), rgb(127, 127, 127), rgb(127, 127, 127), rgb(255, 127, 14), rgb(127, 127, 127), rgb(255, 127, 14), rgb(148, 103, 189), rgb(127, 127, 127), rgb(127, 127, 127), rgb(255, 187, 120), rgb(247, 182, 210), rgb(127, 127, 127), rgb(127, 127, 127), rgb(127, 127, 127), rgb(127, 127, 127), rgb(127, 127, 127), rgb(255, 127, 14), rgb(127, 127, 127), rgb(127, 127, 127), rgb(247, 182, 210), rgb(152, 223, 138), rgb(255, 127, 14), rgb(255, 127, 14), rgb(255, 127, 14), rgb(255, 152, 150), rgb(127, 127, 127), rgb(127, 127, 127), rgb(227, 119, 194), rgb(127, 127, 127), rgb(196, 156, 148), rgb(31, 119, 180), rgb(127, 127, 127), rgb(255, 127, 14), rgb(255, 127, 14), rgb(127, 127, 127), rgb(127, 127, 127), rgb(152, 223, 138), rgb(127, 127, 127), rgb(255, 152, 150), rgb(152, 223, 138), rgb(127, 127, 127), rgb(127, 127, 127), rgb(127, 127, 127), rgb(127, 127, 127), rgb(127, 127, 127), rgb(140, 86, 75), rgb(197, 176, 213), rgb(255, 187, 120), rgb(127, 127, 127), rgb(255, 127, 14), rgb(247, 182, 210), rgb(247, 182, 210), rgb(255, 127, 14), rgb(255, 127, 14), rgb(247, 182, 210), rgb(127, 127, 127), rgb(127, 127, 127), rgb(127, 127, 127), rgb(127, 127, 127), rgb(255, 187, 120), rgb(31, 119, 180), rgb(127, 127, 127), rgb(255, 127, 14), rgb(255, 187, 120), rgb(255, 127, 14), rgb(127, 127, 127), rgb(44, 160, 44), rgb(127, 127, 127), rgb(188, 189, 34), rgb(127, 127, 127), rgb(255, 127, 14), rgb(148, 103, 189), rgb(255, 187, 120), rgb(196, 156, 148), rgb(127, 127, 127), rgb(127, 127, 127), rgb(140, 86, 75), rgb(127, 127, 127), rgb(152, 223, 138), rgb(255, 127, 14), rgb(127, 127, 127), rgb(255, 127, 14), rgb(255, 127, 14), rgb(255, 127, 14), rgb(255, 127, 14), rgb(255, 127, 14), rgb(255, 187, 120), rgb(227, 119, 194), rgb(197, 176, 213), rgb(255, 187, 120), rgb(255, 187, 120), rgb(152, 223, 138), rgb(127, 127, 127), rgb(255, 127, 14), rgb(140, 86, 75), rgb(255, 187, 120), rgb(127, 127, 127), rgb(152, 223, 138), rgb(127, 127, 127), rgb(255, 127, 14), rgb(127, 127, 127), rgb(127, 127, 127), rgb(127, 127, 127), rgb(255, 127, 14), rgb(127, 127, 127), rgb(255, 127, 14), rgb(127, 127, 127), rgb(127, 127, 127), rgb(140, 86, 75), rgb(247, 182, 210), rgb(127, 127, 127), rgb(255, 187, 120), rgb(127, 127, 127), rgb(255, 187, 120), rgb(127, 127, 127), rgb(127, 127, 127), rgb(197, 176, 213), rgb(152, 223, 138), rgb(255, 127, 14), rgb(255, 127, 14), rgb(127, 127, 127), rgb(255, 127, 14), rgb(31, 119, 180), rgb(148, 103, 189), rgb(127, 127, 127), rgb(127, 127, 127), rgb(255, 187, 120), rgb(127, 127, 127), rgb(127, 127, 127), rgb(255, 187, 120), rgb(127, 127, 127), rgb(174, 199, 232), rgb(152, 223, 138), rgb(127, 127, 127), rgb(127, 127, 127), rgb(127, 127, 127), rgb(255, 127, 14), rgb(255, 127, 14), rgb(219, 219, 141), rgb(140, 86, 75), rgb(255, 187, 120), rgb(255, 152, 150), rgb(255, 127, 14), rgb(127, 127, 127), rgb(127, 127, 127), rgb(127, 127, 127), rgb(127, 127, 127), rgb(31, 119, 180), rgb(31, 119, 180), rgb(127, 127, 127), rgb(197, 176, 213), rgb(255, 127, 14), rgb(127, 127, 127), rgb(44, 160, 44), rgb(214, 39, 40), rgb(227, 119, 194), rgb(174, 199, 232), rgb(127, 127, 127), rgb(255, 127, 14), rgb(140, 86, 75), rgb(140, 86, 75), rgb(31, 119, 180), rgb(255, 187, 120), rgb(127, 127, 127), rgb(127, 127, 127), rgb(127, 127, 127), rgb(255, 127, 14), rgb(255, 127, 14), rgb(127, 127, 127), rgb(255, 127, 14), rgb(255, 187, 120), rgb(227, 119, 194), rgb(127, 127, 127), rgb(255, 127, 14), rgb(127, 127, 127), rgb(140, 86, 75), rgb(127, 127, 127), rgb(127, 127, 127), rgb(255, 187, 120), rgb(127, 127, 127), rgb(255, 187, 120), rgb(127, 127, 127), rgb(127, 127, 127), rgb(214, 39, 40), rgb(255, 127, 14), rgb(127, 127, 127), rgb(197, 176, 213), rgb(255, 187, 120), rgb(127, 127, 127), rgb(255, 127, 14), rgb(127, 127, 127), rgb(127, 127, 127), rgb(255, 127, 14), rgb(127, 127, 127), rgb(255, 187, 120), rgb(127, 127, 127), rgb(255, 127, 14), rgb(152, 223, 138), rgb(127, 127, 127), rgb(127, 127, 127), rgb(255, 127, 14), rgb(219, 219, 141), rgb(227, 119, 194), rgb(127, 127, 127), rgb(127, 127, 127), rgb(127, 127, 127), rgb(152, 223, 138), rgb(127, 127, 127), rgb(31, 119, 180), rgb(255, 187, 120), rgb(255, 127, 14), rgb(255, 127, 14), rgb(127, 127, 127), rgb(152, 223, 138), rgb(127, 127, 127), rgb(255, 127, 14), rgb(255, 127, 14), rgb(219, 219, 141), rgb(127, 127, 127), rgb(197, 176, 213), rgb(255, 127, 14), rgb(127, 127, 127), rgb(255, 187, 120), rgb(255, 187, 120), rgb(127, 127, 127), rgb(247, 182, 210), rgb(255, 127, 14), rgb(127, 127, 127), rgb(255, 127, 14), rgb(127, 127, 127), rgb(127, 127, 127), rgb(255, 127, 14), rgb(127, 127, 127), rgb(174, 199, 232), rgb(247, 182, 210), rgb(255, 127, 14), rgb(255, 127, 14), rgb(31, 119, 180), rgb(140, 86, 75), rgb(127, 127, 127), rgb(148, 103, 189), rgb(247, 182, 210)]\n"
          ],
          "name": "stdout"
        },
        {
          "output_type": "stream",
          "text": [
            "/usr/local/lib/python3.6/dist-packages/sklearn/preprocessing/_data.py:173: UserWarning: Numerical issues were encountered when centering the data and might not be solved. Dataset may contain too large values. You may need to prescale your features.\n",
            "  warnings.warn(\"Numerical issues were encountered \"\n",
            "/usr/local/lib/python3.6/dist-packages/sklearn/preprocessing/_data.py:190: UserWarning: Numerical issues were encountered when scaling the data and might not be solved. The standard deviation of the data is probably very close to 0. \n",
            "  warnings.warn(\"Numerical issues were encountered \"\n"
          ],
          "name": "stderr"
        },
        {
          "output_type": "display_data",
          "data": {
            "application/javascript": [
              "\n",
              "(function(root) {\n",
              "  function now() {\n",
              "    return new Date();\n",
              "  }\n",
              "\n",
              "  var force = true;\n",
              "\n",
              "  if (typeof (root._bokeh_onload_callbacks) === \"undefined\" || force === true) {\n",
              "    root._bokeh_onload_callbacks = [];\n",
              "    root._bokeh_is_loading = undefined;\n",
              "  }\n",
              "\n",
              "  var JS_MIME_TYPE = 'application/javascript';\n",
              "  var HTML_MIME_TYPE = 'text/html';\n",
              "  var EXEC_MIME_TYPE = 'application/vnd.bokehjs_exec.v0+json';\n",
              "  var CLASS_NAME = 'output_bokeh rendered_html';\n",
              "\n",
              "  /**\n",
              "   * Render data to the DOM node\n",
              "   */\n",
              "  function render(props, node) {\n",
              "    var script = document.createElement(\"script\");\n",
              "    node.appendChild(script);\n",
              "  }\n",
              "\n",
              "  /**\n",
              "   * Handle when an output is cleared or removed\n",
              "   */\n",
              "  function handleClearOutput(event, handle) {\n",
              "    var cell = handle.cell;\n",
              "\n",
              "    var id = cell.output_area._bokeh_element_id;\n",
              "    var server_id = cell.output_area._bokeh_server_id;\n",
              "    // Clean up Bokeh references\n",
              "    if (id != null && id in Bokeh.index) {\n",
              "      Bokeh.index[id].model.document.clear();\n",
              "      delete Bokeh.index[id];\n",
              "    }\n",
              "\n",
              "    if (server_id !== undefined) {\n",
              "      // Clean up Bokeh references\n",
              "      var cmd = \"from bokeh.io.state import curstate; print(curstate().uuid_to_server['\" + server_id + \"'].get_sessions()[0].document.roots[0]._id)\";\n",
              "      cell.notebook.kernel.execute(cmd, {\n",
              "        iopub: {\n",
              "          output: function(msg) {\n",
              "            var id = msg.content.text.trim();\n",
              "            if (id in Bokeh.index) {\n",
              "              Bokeh.index[id].model.document.clear();\n",
              "              delete Bokeh.index[id];\n",
              "            }\n",
              "          }\n",
              "        }\n",
              "      });\n",
              "      // Destroy server and session\n",
              "      var cmd = \"import bokeh.io.notebook as ion; ion.destroy_server('\" + server_id + \"')\";\n",
              "      cell.notebook.kernel.execute(cmd);\n",
              "    }\n",
              "  }\n",
              "\n",
              "  /**\n",
              "   * Handle when a new output is added\n",
              "   */\n",
              "  function handleAddOutput(event, handle) {\n",
              "    var output_area = handle.output_area;\n",
              "    var output = handle.output;\n",
              "\n",
              "    // limit handleAddOutput to display_data with EXEC_MIME_TYPE content only\n",
              "    if ((output.output_type != \"display_data\") || (!output.data.hasOwnProperty(EXEC_MIME_TYPE))) {\n",
              "      return\n",
              "    }\n",
              "\n",
              "    var toinsert = output_area.element.find(\".\" + CLASS_NAME.split(' ')[0]);\n",
              "\n",
              "    if (output.metadata[EXEC_MIME_TYPE][\"id\"] !== undefined) {\n",
              "      toinsert[toinsert.length - 1].firstChild.textContent = output.data[JS_MIME_TYPE];\n",
              "      // store reference to embed id on output_area\n",
              "      output_area._bokeh_element_id = output.metadata[EXEC_MIME_TYPE][\"id\"];\n",
              "    }\n",
              "    if (output.metadata[EXEC_MIME_TYPE][\"server_id\"] !== undefined) {\n",
              "      var bk_div = document.createElement(\"div\");\n",
              "      bk_div.innerHTML = output.data[HTML_MIME_TYPE];\n",
              "      var script_attrs = bk_div.children[0].attributes;\n",
              "      for (var i = 0; i < script_attrs.length; i++) {\n",
              "        toinsert[toinsert.length - 1].firstChild.setAttribute(script_attrs[i].name, script_attrs[i].value);\n",
              "      }\n",
              "      // store reference to server id on output_area\n",
              "      output_area._bokeh_server_id = output.metadata[EXEC_MIME_TYPE][\"server_id\"];\n",
              "    }\n",
              "  }\n",
              "\n",
              "  function register_renderer(events, OutputArea) {\n",
              "\n",
              "    function append_mime(data, metadata, element) {\n",
              "      // create a DOM node to render to\n",
              "      var toinsert = this.create_output_subarea(\n",
              "        metadata,\n",
              "        CLASS_NAME,\n",
              "        EXEC_MIME_TYPE\n",
              "      );\n",
              "      this.keyboard_manager.register_events(toinsert);\n",
              "      // Render to node\n",
              "      var props = {data: data, metadata: metadata[EXEC_MIME_TYPE]};\n",
              "      render(props, toinsert[toinsert.length - 1]);\n",
              "      element.append(toinsert);\n",
              "      return toinsert\n",
              "    }\n",
              "\n",
              "    /* Handle when an output is cleared or removed */\n",
              "    events.on('clear_output.CodeCell', handleClearOutput);\n",
              "    events.on('delete.Cell', handleClearOutput);\n",
              "\n",
              "    /* Handle when a new output is added */\n",
              "    events.on('output_added.OutputArea', handleAddOutput);\n",
              "\n",
              "    /**\n",
              "     * Register the mime type and append_mime function with output_area\n",
              "     */\n",
              "    OutputArea.prototype.register_mime_type(EXEC_MIME_TYPE, append_mime, {\n",
              "      /* Is output safe? */\n",
              "      safe: true,\n",
              "      /* Index of renderer in `output_area.display_order` */\n",
              "      index: 0\n",
              "    });\n",
              "  }\n",
              "\n",
              "  // register the mime type if in Jupyter Notebook environment and previously unregistered\n",
              "  if (root.Jupyter !== undefined) {\n",
              "    var events = require('base/js/events');\n",
              "    var OutputArea = require('notebook/js/outputarea').OutputArea;\n",
              "\n",
              "    if (OutputArea.prototype.mime_types().indexOf(EXEC_MIME_TYPE) == -1) {\n",
              "      register_renderer(events, OutputArea);\n",
              "    }\n",
              "  }\n",
              "\n",
              "  \n",
              "  if (typeof (root._bokeh_timeout) === \"undefined\" || force === true) {\n",
              "    root._bokeh_timeout = Date.now() + 5000;\n",
              "    root._bokeh_failed_load = false;\n",
              "  }\n",
              "\n",
              "  var NB_LOAD_WARNING = {'data': {'text/html':\n",
              "     \"<div style='background-color: #fdd'>\\n\"+\n",
              "     \"<p>\\n\"+\n",
              "     \"BokehJS does not appear to have successfully loaded. If loading BokehJS from CDN, this \\n\"+\n",
              "     \"may be due to a slow or bad network connection. Possible fixes:\\n\"+\n",
              "     \"</p>\\n\"+\n",
              "     \"<ul>\\n\"+\n",
              "     \"<li>re-rerun `output_notebook()` to attempt to load from CDN again, or</li>\\n\"+\n",
              "     \"<li>use INLINE resources instead, as so:</li>\\n\"+\n",
              "     \"</ul>\\n\"+\n",
              "     \"<code>\\n\"+\n",
              "     \"from bokeh.resources import INLINE\\n\"+\n",
              "     \"output_notebook(resources=INLINE)\\n\"+\n",
              "     \"</code>\\n\"+\n",
              "     \"</div>\"}};\n",
              "\n",
              "  function display_loaded() {\n",
              "    var el = document.getElementById(null);\n",
              "    if (el != null) {\n",
              "      el.textContent = \"BokehJS is loading...\";\n",
              "    }\n",
              "    if (root.Bokeh !== undefined) {\n",
              "      if (el != null) {\n",
              "        el.textContent = \"BokehJS \" + root.Bokeh.version + \" successfully loaded.\";\n",
              "      }\n",
              "    } else if (Date.now() < root._bokeh_timeout) {\n",
              "      setTimeout(display_loaded, 100)\n",
              "    }\n",
              "  }\n",
              "\n",
              "\n",
              "  function run_callbacks() {\n",
              "    try {\n",
              "      root._bokeh_onload_callbacks.forEach(function(callback) { callback() });\n",
              "    }\n",
              "    finally {\n",
              "      delete root._bokeh_onload_callbacks\n",
              "    }\n",
              "    console.info(\"Bokeh: all callbacks have finished\");\n",
              "  }\n",
              "\n",
              "  function load_libs(js_urls, callback) {\n",
              "    root._bokeh_onload_callbacks.push(callback);\n",
              "    if (root._bokeh_is_loading > 0) {\n",
              "      console.log(\"Bokeh: BokehJS is being loaded, scheduling callback at\", now());\n",
              "      return null;\n",
              "    }\n",
              "    if (js_urls == null || js_urls.length === 0) {\n",
              "      run_callbacks();\n",
              "      return null;\n",
              "    }\n",
              "    console.log(\"Bokeh: BokehJS not loaded, scheduling load and callback at\", now());\n",
              "    root._bokeh_is_loading = js_urls.length;\n",
              "    for (var i = 0; i < js_urls.length; i++) {\n",
              "      var url = js_urls[i];\n",
              "      var s = document.createElement('script');\n",
              "      s.src = url;\n",
              "      s.async = false;\n",
              "      s.onreadystatechange = s.onload = function() {\n",
              "        root._bokeh_is_loading--;\n",
              "        if (root._bokeh_is_loading === 0) {\n",
              "          console.log(\"Bokeh: all BokehJS libraries loaded\");\n",
              "          run_callbacks()\n",
              "        }\n",
              "      };\n",
              "      s.onerror = function() {\n",
              "        console.warn(\"failed to load library \" + url);\n",
              "      };\n",
              "      console.log(\"Bokeh: injecting script tag for BokehJS library: \", url);\n",
              "      document.getElementsByTagName(\"head\")[0].appendChild(s);\n",
              "    }\n",
              "  };\n",
              "\n",
              "  var js_urls = [\"https://cdn.pydata.org/bokeh/release/bokeh-0.13.0.min.js\", \"https://cdn.pydata.org/bokeh/release/bokeh-widgets-0.13.0.min.js\", \"https://cdn.pydata.org/bokeh/release/bokeh-tables-0.13.0.min.js\", \"https://cdn.pydata.org/bokeh/release/bokeh-gl-0.13.0.min.js\"];\n",
              "\n",
              "  var inline_js = [\n",
              "    function(Bokeh) {\n",
              "      Bokeh.set_log_level(\"info\");\n",
              "    },\n",
              "    \n",
              "    function(Bokeh) {\n",
              "      \n",
              "    },\n",
              "    function(Bokeh) {\n",
              "      console.log(\"Bokeh: injecting CSS: https://cdn.pydata.org/bokeh/release/bokeh-0.13.0.min.css\");\n",
              "      Bokeh.embed.inject_css(\"https://cdn.pydata.org/bokeh/release/bokeh-0.13.0.min.css\");\n",
              "      console.log(\"Bokeh: injecting CSS: https://cdn.pydata.org/bokeh/release/bokeh-widgets-0.13.0.min.css\");\n",
              "      Bokeh.embed.inject_css(\"https://cdn.pydata.org/bokeh/release/bokeh-widgets-0.13.0.min.css\");\n",
              "      console.log(\"Bokeh: injecting CSS: https://cdn.pydata.org/bokeh/release/bokeh-tables-0.13.0.min.css\");\n",
              "      Bokeh.embed.inject_css(\"https://cdn.pydata.org/bokeh/release/bokeh-tables-0.13.0.min.css\");\n",
              "    }\n",
              "  ];\n",
              "\n",
              "  function run_inline_js() {\n",
              "    \n",
              "    if ((root.Bokeh !== undefined) || (force === true)) {\n",
              "      for (var i = 0; i < inline_js.length; i++) {\n",
              "        inline_js[i].call(root, root.Bokeh);\n",
              "      }} else if (Date.now() < root._bokeh_timeout) {\n",
              "      setTimeout(run_inline_js, 100);\n",
              "    } else if (!root._bokeh_failed_load) {\n",
              "      console.log(\"Bokeh: BokehJS failed to load within specified timeout.\");\n",
              "      root._bokeh_failed_load = true;\n",
              "    } else if (force !== true) {\n",
              "      var cell = $(document.getElementById(null)).parents('.cell').data().cell;\n",
              "      cell.output_area.append_execute_result(NB_LOAD_WARNING)\n",
              "    }\n",
              "\n",
              "  }\n",
              "\n",
              "  if (root._bokeh_is_loading === 0) {\n",
              "    console.log(\"Bokeh: BokehJS loaded, going straight to plotting\");\n",
              "    run_inline_js();\n",
              "  } else {\n",
              "    load_libs(js_urls, function() {\n",
              "      console.log(\"Bokeh: BokehJS plotting callback run at\", now());\n",
              "      run_inline_js();\n",
              "    });\n",
              "  }\n",
              "}(window));"
            ],
            "application/vnd.bokehjs_load.v0+json": "\n(function(root) {\n  function now() {\n    return new Date();\n  }\n\n  var force = true;\n\n  if (typeof (root._bokeh_onload_callbacks) === \"undefined\" || force === true) {\n    root._bokeh_onload_callbacks = [];\n    root._bokeh_is_loading = undefined;\n  }\n\n  \n\n  \n  if (typeof (root._bokeh_timeout) === \"undefined\" || force === true) {\n    root._bokeh_timeout = Date.now() + 5000;\n    root._bokeh_failed_load = false;\n  }\n\n  var NB_LOAD_WARNING = {'data': {'text/html':\n     \"<div style='background-color: #fdd'>\\n\"+\n     \"<p>\\n\"+\n     \"BokehJS does not appear to have successfully loaded. If loading BokehJS from CDN, this \\n\"+\n     \"may be due to a slow or bad network connection. Possible fixes:\\n\"+\n     \"</p>\\n\"+\n     \"<ul>\\n\"+\n     \"<li>re-rerun `output_notebook()` to attempt to load from CDN again, or</li>\\n\"+\n     \"<li>use INLINE resources instead, as so:</li>\\n\"+\n     \"</ul>\\n\"+\n     \"<code>\\n\"+\n     \"from bokeh.resources import INLINE\\n\"+\n     \"output_notebook(resources=INLINE)\\n\"+\n     \"</code>\\n\"+\n     \"</div>\"}};\n\n  function display_loaded() {\n    var el = document.getElementById(null);\n    if (el != null) {\n      el.textContent = \"BokehJS is loading...\";\n    }\n    if (root.Bokeh !== undefined) {\n      if (el != null) {\n        el.textContent = \"BokehJS \" + root.Bokeh.version + \" successfully loaded.\";\n      }\n    } else if (Date.now() < root._bokeh_timeout) {\n      setTimeout(display_loaded, 100)\n    }\n  }\n\n\n  function run_callbacks() {\n    try {\n      root._bokeh_onload_callbacks.forEach(function(callback) { callback() });\n    }\n    finally {\n      delete root._bokeh_onload_callbacks\n    }\n    console.info(\"Bokeh: all callbacks have finished\");\n  }\n\n  function load_libs(js_urls, callback) {\n    root._bokeh_onload_callbacks.push(callback);\n    if (root._bokeh_is_loading > 0) {\n      console.log(\"Bokeh: BokehJS is being loaded, scheduling callback at\", now());\n      return null;\n    }\n    if (js_urls == null || js_urls.length === 0) {\n      run_callbacks();\n      return null;\n    }\n    console.log(\"Bokeh: BokehJS not loaded, scheduling load and callback at\", now());\n    root._bokeh_is_loading = js_urls.length;\n    for (var i = 0; i < js_urls.length; i++) {\n      var url = js_urls[i];\n      var s = document.createElement('script');\n      s.src = url;\n      s.async = false;\n      s.onreadystatechange = s.onload = function() {\n        root._bokeh_is_loading--;\n        if (root._bokeh_is_loading === 0) {\n          console.log(\"Bokeh: all BokehJS libraries loaded\");\n          run_callbacks()\n        }\n      };\n      s.onerror = function() {\n        console.warn(\"failed to load library \" + url);\n      };\n      console.log(\"Bokeh: injecting script tag for BokehJS library: \", url);\n      document.getElementsByTagName(\"head\")[0].appendChild(s);\n    }\n  };\n\n  var js_urls = [\"https://cdn.pydata.org/bokeh/release/bokeh-0.13.0.min.js\", \"https://cdn.pydata.org/bokeh/release/bokeh-widgets-0.13.0.min.js\", \"https://cdn.pydata.org/bokeh/release/bokeh-tables-0.13.0.min.js\", \"https://cdn.pydata.org/bokeh/release/bokeh-gl-0.13.0.min.js\"];\n\n  var inline_js = [\n    function(Bokeh) {\n      Bokeh.set_log_level(\"info\");\n    },\n    \n    function(Bokeh) {\n      \n    },\n    function(Bokeh) {\n      console.log(\"Bokeh: injecting CSS: https://cdn.pydata.org/bokeh/release/bokeh-0.13.0.min.css\");\n      Bokeh.embed.inject_css(\"https://cdn.pydata.org/bokeh/release/bokeh-0.13.0.min.css\");\n      console.log(\"Bokeh: injecting CSS: https://cdn.pydata.org/bokeh/release/bokeh-widgets-0.13.0.min.css\");\n      Bokeh.embed.inject_css(\"https://cdn.pydata.org/bokeh/release/bokeh-widgets-0.13.0.min.css\");\n      console.log(\"Bokeh: injecting CSS: https://cdn.pydata.org/bokeh/release/bokeh-tables-0.13.0.min.css\");\n      Bokeh.embed.inject_css(\"https://cdn.pydata.org/bokeh/release/bokeh-tables-0.13.0.min.css\");\n    }\n  ];\n\n  function run_inline_js() {\n    \n    if ((root.Bokeh !== undefined) || (force === true)) {\n      for (var i = 0; i < inline_js.length; i++) {\n        inline_js[i].call(root, root.Bokeh);\n      }} else if (Date.now() < root._bokeh_timeout) {\n      setTimeout(run_inline_js, 100);\n    } else if (!root._bokeh_failed_load) {\n      console.log(\"Bokeh: BokehJS failed to load within specified timeout.\");\n      root._bokeh_failed_load = true;\n    } else if (force !== true) {\n      var cell = $(document.getElementById(null)).parents('.cell').data().cell;\n      cell.output_area.append_execute_result(NB_LOAD_WARNING)\n    }\n\n  }\n\n  if (root._bokeh_is_loading === 0) {\n    console.log(\"Bokeh: BokehJS loaded, going straight to plotting\");\n    run_inline_js();\n  } else {\n    load_libs(js_urls, function() {\n      console.log(\"Bokeh: BokehJS plotting callback run at\", now());\n      run_inline_js();\n    });\n  }\n}(window));"
          },
          "metadata": {
            "tags": []
          }
        },
        {
          "output_type": "display_data",
          "data": {
            "text/html": [
              "\n",
              "\n",
              "\n",
              "\n",
              "\n",
              "\n",
              "  <div class=\"bk-root\" id=\"fc891116-5e51-4f60-a495-85c1b61c3c19\"></div>\n"
            ]
          },
          "metadata": {
            "tags": []
          }
        },
        {
          "output_type": "display_data",
          "data": {
            "application/javascript": [
              "(function(root) {\n",
              "  function embed_document(root) {\n",
              "    \n",
              "  var docs_json = {\"36d871fb-fc89-49e9-a06c-5db5bbfecb31\":{\"roots\":{\"references\":[{\"attributes\":{\"data_source\":{\"id\":\"15fc9b45-b107-4d4b-837b-966507544a62\",\"type\":\"ColumnDataSource\"},\"glyph\":{\"id\":\"f8a5c9f2-8c1f-4eff-9d3d-67b050453919\",\"type\":\"Circle\"},\"hover_glyph\":null,\"muted_glyph\":null,\"nonselection_glyph\":{\"id\":\"10dc446e-ce30-481b-ab55-c07830e370b6\",\"type\":\"Circle\"},\"selection_glyph\":null,\"view\":{\"id\":\"d518f3e4-95bb-4483-99ec-74a2e4bcd196\",\"type\":\"CDSView\"}},\"id\":\"434ca345-f7c4-4c29-a708-7dc0eabdb55d\",\"type\":\"GlyphRenderer\"},{\"attributes\":{\"callback\":null,\"renderers\":\"auto\",\"tooltips\":[[\"token\",\"@token\"]]},\"id\":\"0d1fd9f8-bfbb-4312-844f-beb0a9e22405\",\"type\":\"HoverTool\"},{\"attributes\":{},\"id\":\"c0082514-c74e-406e-9dd1-91a6ec55c157\",\"type\":\"PanTool\"},{\"attributes\":{\"active_drag\":\"auto\",\"active_inspect\":\"auto\",\"active_multi\":null,\"active_scroll\":{\"id\":\"2cc1573e-df21-4094-9feb-c226783d42c3\",\"type\":\"WheelZoomTool\"},\"active_tap\":\"auto\",\"tools\":[{\"id\":\"c0082514-c74e-406e-9dd1-91a6ec55c157\",\"type\":\"PanTool\"},{\"id\":\"2cc1573e-df21-4094-9feb-c226783d42c3\",\"type\":\"WheelZoomTool\"},{\"id\":\"d7a6efcf-aaa5-4c0d-9863-4e801d187518\",\"type\":\"BoxZoomTool\"},{\"id\":\"cc212210-e338-4dfa-ad04-76e32c880d33\",\"type\":\"SaveTool\"},{\"id\":\"0b839870-59fc-48cd-aa46-62269e85f71a\",\"type\":\"ResetTool\"},{\"id\":\"b6b00504-e142-407e-b730-73426619fc97\",\"type\":\"HelpTool\"},{\"id\":\"0d1fd9f8-bfbb-4312-844f-beb0a9e22405\",\"type\":\"HoverTool\"}]},\"id\":\"873b5f9b-f52e-4408-a52f-6be68d75a80c\",\"type\":\"Toolbar\"},{\"attributes\":{\"source\":{\"id\":\"15fc9b45-b107-4d4b-837b-966507544a62\",\"type\":\"ColumnDataSource\"}},\"id\":\"d518f3e4-95bb-4483-99ec-74a2e4bcd196\",\"type\":\"CDSView\"},{\"attributes\":{\"callback\":null},\"id\":\"03f3edf3-7fbd-4b89-b089-bdd380459f26\",\"type\":\"DataRange1d\"},{\"attributes\":{},\"id\":\"2cc1573e-df21-4094-9feb-c226783d42c3\",\"type\":\"WheelZoomTool\"},{\"attributes\":{\"overlay\":{\"id\":\"d4d8f734-620d-47ad-b4d2-50298eca7a01\",\"type\":\"BoxAnnotation\"}},\"id\":\"d7a6efcf-aaa5-4c0d-9863-4e801d187518\",\"type\":\"BoxZoomTool\"},{\"attributes\":{},\"id\":\"cc212210-e338-4dfa-ad04-76e32c880d33\",\"type\":\"SaveTool\"},{\"attributes\":{\"callback\":null},\"id\":\"f4ced840-f3cf-453a-92f1-41071b79e0f4\",\"type\":\"DataRange1d\"},{\"attributes\":{},\"id\":\"0b839870-59fc-48cd-aa46-62269e85f71a\",\"type\":\"ResetTool\"},{\"attributes\":{},\"id\":\"8b48e564-9add-4b1c-b16e-f07ee3606d30\",\"type\":\"LinearScale\"},{\"attributes\":{},\"id\":\"b6b00504-e142-407e-b730-73426619fc97\",\"type\":\"HelpTool\"},{\"attributes\":{},\"id\":\"46e55b11-7668-41a6-8998-4b07c6bb2e20\",\"type\":\"LinearScale\"},{\"attributes\":{\"fill_alpha\":{\"value\":0.1},\"fill_color\":{\"value\":\"#1f77b4\"},\"line_alpha\":{\"value\":0.1},\"line_color\":{\"value\":\"#1f77b4\"},\"size\":{\"units\":\"screen\",\"value\":10},\"x\":{\"field\":\"x\"},\"y\":{\"field\":\"y\"}},\"id\":\"10dc446e-ce30-481b-ab55-c07830e370b6\",\"type\":\"Circle\"},{\"attributes\":{\"formatter\":{\"id\":\"c764b6a7-4e14-4142-a01c-a0bdf08e6416\",\"type\":\"BasicTickFormatter\"},\"plot\":{\"id\":\"d467d6ae-a9c4-4ee3-87cb-af00481f18cf\",\"subtype\":\"Figure\",\"type\":\"Plot\"},\"ticker\":{\"id\":\"e16f0334-1099-4848-b086-f2af5210e11a\",\"type\":\"BasicTicker\"}},\"id\":\"f2d61528-05d6-47cb-94ff-9e360ca405a7\",\"type\":\"LinearAxis\"},{\"attributes\":{\"plot\":null,\"text\":\"\"},\"id\":\"159784ce-8813-4f27-a49f-5b00760e898a\",\"type\":\"Title\"},{\"attributes\":{},\"id\":\"e16f0334-1099-4848-b086-f2af5210e11a\",\"type\":\"BasicTicker\"},{\"attributes\":{},\"id\":\"c764b6a7-4e14-4142-a01c-a0bdf08e6416\",\"type\":\"BasicTickFormatter\"},{\"attributes\":{\"plot\":{\"id\":\"d467d6ae-a9c4-4ee3-87cb-af00481f18cf\",\"subtype\":\"Figure\",\"type\":\"Plot\"},\"ticker\":{\"id\":\"e16f0334-1099-4848-b086-f2af5210e11a\",\"type\":\"BasicTicker\"}},\"id\":\"a6d49ff2-a756-47c0-b057-f430d5f0027d\",\"type\":\"Grid\"},{\"attributes\":{},\"id\":\"8d31a12b-c80c-4fcf-ab11-d464866846b5\",\"type\":\"BasicTickFormatter\"},{\"attributes\":{\"formatter\":{\"id\":\"8d31a12b-c80c-4fcf-ab11-d464866846b5\",\"type\":\"BasicTickFormatter\"},\"plot\":{\"id\":\"d467d6ae-a9c4-4ee3-87cb-af00481f18cf\",\"subtype\":\"Figure\",\"type\":\"Plot\"},\"ticker\":{\"id\":\"85fb3358-98c1-45f9-aa07-81ec7772a90f\",\"type\":\"BasicTicker\"}},\"id\":\"69c5dca3-d6b1-4f88-8477-66e410483740\",\"type\":\"LinearAxis\"},{\"attributes\":{},\"id\":\"eb16d6f1-1443-4f38-b6ed-bcc65da28c7f\",\"type\":\"UnionRenderers\"},{\"attributes\":{},\"id\":\"85fb3358-98c1-45f9-aa07-81ec7772a90f\",\"type\":\"BasicTicker\"},{\"attributes\":{\"below\":[{\"id\":\"f2d61528-05d6-47cb-94ff-9e360ca405a7\",\"type\":\"LinearAxis\"}],\"left\":[{\"id\":\"69c5dca3-d6b1-4f88-8477-66e410483740\",\"type\":\"LinearAxis\"}],\"plot_height\":400,\"renderers\":[{\"id\":\"f2d61528-05d6-47cb-94ff-9e360ca405a7\",\"type\":\"LinearAxis\"},{\"id\":\"a6d49ff2-a756-47c0-b057-f430d5f0027d\",\"type\":\"Grid\"},{\"id\":\"69c5dca3-d6b1-4f88-8477-66e410483740\",\"type\":\"LinearAxis\"},{\"id\":\"aede6780-8621-4d09-8b5c-8607e7d8c630\",\"type\":\"Grid\"},{\"id\":\"d4d8f734-620d-47ad-b4d2-50298eca7a01\",\"type\":\"BoxAnnotation\"},{\"id\":\"434ca345-f7c4-4c29-a708-7dc0eabdb55d\",\"type\":\"GlyphRenderer\"}],\"title\":{\"id\":\"159784ce-8813-4f27-a49f-5b00760e898a\",\"type\":\"Title\"},\"toolbar\":{\"id\":\"873b5f9b-f52e-4408-a52f-6be68d75a80c\",\"type\":\"Toolbar\"},\"x_range\":{\"id\":\"03f3edf3-7fbd-4b89-b089-bdd380459f26\",\"type\":\"DataRange1d\"},\"x_scale\":{\"id\":\"8b48e564-9add-4b1c-b16e-f07ee3606d30\",\"type\":\"LinearScale\"},\"y_range\":{\"id\":\"f4ced840-f3cf-453a-92f1-41071b79e0f4\",\"type\":\"DataRange1d\"},\"y_scale\":{\"id\":\"46e55b11-7668-41a6-8998-4b07c6bb2e20\",\"type\":\"LinearScale\"}},\"id\":\"d467d6ae-a9c4-4ee3-87cb-af00481f18cf\",\"subtype\":\"Figure\",\"type\":\"Plot\"},{\"attributes\":{},\"id\":\"5ca6882b-6ed2-4212-8a5b-852bda0b0079\",\"type\":\"Selection\"},{\"attributes\":{\"dimension\":1,\"plot\":{\"id\":\"d467d6ae-a9c4-4ee3-87cb-af00481f18cf\",\"subtype\":\"Figure\",\"type\":\"Plot\"},\"ticker\":{\"id\":\"85fb3358-98c1-45f9-aa07-81ec7772a90f\",\"type\":\"BasicTicker\"}},\"id\":\"aede6780-8621-4d09-8b5c-8607e7d8c630\",\"type\":\"Grid\"},{\"attributes\":{\"callback\":null,\"data\":{\"color\":[\"rgb(255, 127, 14)\",\"rgb(127, 127, 127)\",\"rgb(127, 127, 127)\",\"rgb(255, 127, 14)\",\"rgb(255, 152, 150)\",\"rgb(31, 119, 180)\",\"rgb(227, 119, 194)\",\"rgb(140, 86, 75)\",\"rgb(127, 127, 127)\",\"rgb(127, 127, 127)\",\"rgb(127, 127, 127)\",\"rgb(127, 127, 127)\",\"rgb(196, 156, 148)\",\"rgb(127, 127, 127)\",\"rgb(255, 187, 120)\",\"rgb(127, 127, 127)\",\"rgb(255, 127, 14)\",\"rgb(127, 127, 127)\",\"rgb(255, 187, 120)\",\"rgb(127, 127, 127)\",\"rgb(255, 187, 120)\",\"rgb(255, 127, 14)\",\"rgb(255, 187, 120)\",\"rgb(127, 127, 127)\",\"rgb(255, 127, 14)\",\"rgb(140, 86, 75)\",\"rgb(247, 182, 210)\",\"rgb(140, 86, 75)\",\"rgb(255, 127, 14)\",\"rgb(127, 127, 127)\",\"rgb(255, 127, 14)\",\"rgb(255, 127, 14)\",\"rgb(127, 127, 127)\",\"rgb(152, 223, 138)\",\"rgb(127, 127, 127)\",\"rgb(255, 127, 14)\",\"rgb(255, 187, 120)\",\"rgb(127, 127, 127)\",\"rgb(127, 127, 127)\",\"rgb(127, 127, 127)\",\"rgb(127, 127, 127)\",\"rgb(127, 127, 127)\",\"rgb(127, 127, 127)\",\"rgb(127, 127, 127)\",\"rgb(152, 223, 138)\",\"rgb(247, 182, 210)\",\"rgb(127, 127, 127)\",\"rgb(127, 127, 127)\",\"rgb(127, 127, 127)\",\"rgb(127, 127, 127)\",\"rgb(127, 127, 127)\",\"rgb(127, 127, 127)\",\"rgb(127, 127, 127)\",\"rgb(196, 156, 148)\",\"rgb(127, 127, 127)\",\"rgb(127, 127, 127)\",\"rgb(127, 127, 127)\",\"rgb(31, 119, 180)\",\"rgb(127, 127, 127)\",\"rgb(31, 119, 180)\",\"rgb(127, 127, 127)\",\"rgb(127, 127, 127)\",\"rgb(255, 187, 120)\",\"rgb(255, 187, 120)\",\"rgb(127, 127, 127)\",\"rgb(140, 86, 75)\",\"rgb(127, 127, 127)\",\"rgb(127, 127, 127)\",\"rgb(127, 127, 127)\",\"rgb(127, 127, 127)\",\"rgb(31, 119, 180)\",\"rgb(255, 127, 14)\",\"rgb(255, 127, 14)\",\"rgb(127, 127, 127)\",\"rgb(127, 127, 127)\",\"rgb(247, 182, 210)\",\"rgb(140, 86, 75)\",\"rgb(127, 127, 127)\",\"rgb(127, 127, 127)\",\"rgb(31, 119, 180)\",\"rgb(127, 127, 127)\",\"rgb(127, 127, 127)\",\"rgb(127, 127, 127)\",\"rgb(127, 127, 127)\",\"rgb(214, 39, 40)\",\"rgb(127, 127, 127)\",\"rgb(255, 187, 120)\",\"rgb(31, 119, 180)\",\"rgb(127, 127, 127)\",\"rgb(255, 187, 120)\",\"rgb(127, 127, 127)\",\"rgb(127, 127, 127)\",\"rgb(152, 223, 138)\",\"rgb(255, 187, 120)\",\"rgb(247, 182, 210)\",\"rgb(255, 187, 120)\",\"rgb(127, 127, 127)\",\"rgb(255, 127, 14)\",\"rgb(255, 127, 14)\",\"rgb(255, 187, 120)\",\"rgb(255, 187, 120)\",\"rgb(127, 127, 127)\",\"rgb(255, 127, 14)\",\"rgb(127, 127, 127)\",\"rgb(255, 187, 120)\",\"rgb(255, 127, 14)\",\"rgb(255, 127, 14)\",\"rgb(255, 127, 14)\",\"rgb(255, 127, 14)\",\"rgb(31, 119, 180)\",\"rgb(127, 127, 127)\",\"rgb(127, 127, 127)\",\"rgb(127, 127, 127)\",\"rgb(127, 127, 127)\",\"rgb(247, 182, 210)\",\"rgb(255, 187, 120)\",\"rgb(127, 127, 127)\",\"rgb(127, 127, 127)\",\"rgb(214, 39, 40)\",\"rgb(255, 187, 120)\",\"rgb(214, 39, 40)\",\"rgb(247, 182, 210)\",\"rgb(255, 187, 120)\",\"rgb(127, 127, 127)\",\"rgb(127, 127, 127)\",\"rgb(255, 127, 14)\",\"rgb(140, 86, 75)\",\"rgb(127, 127, 127)\",\"rgb(127, 127, 127)\",\"rgb(127, 127, 127)\",\"rgb(127, 127, 127)\",\"rgb(247, 182, 210)\",\"rgb(247, 182, 210)\",\"rgb(127, 127, 127)\",\"rgb(127, 127, 127)\",\"rgb(255, 127, 14)\",\"rgb(127, 127, 127)\",\"rgb(214, 39, 40)\",\"rgb(255, 127, 14)\",\"rgb(140, 86, 75)\",\"rgb(127, 127, 127)\",\"rgb(255, 127, 14)\",\"rgb(127, 127, 127)\",\"rgb(247, 182, 210)\",\"rgb(127, 127, 127)\",\"rgb(127, 127, 127)\",\"rgb(255, 187, 120)\",\"rgb(255, 187, 120)\",\"rgb(255, 127, 14)\",\"rgb(127, 127, 127)\",\"rgb(174, 199, 232)\",\"rgb(140, 86, 75)\",\"rgb(127, 127, 127)\",\"rgb(255, 187, 120)\",\"rgb(127, 127, 127)\",\"rgb(255, 127, 14)\",\"rgb(127, 127, 127)\",\"rgb(219, 219, 141)\",\"rgb(255, 187, 120)\",\"rgb(255, 187, 120)\",\"rgb(255, 187, 120)\",\"rgb(127, 127, 127)\",\"rgb(127, 127, 127)\",\"rgb(127, 127, 127)\",\"rgb(127, 127, 127)\",\"rgb(255, 127, 14)\",\"rgb(127, 127, 127)\",\"rgb(140, 86, 75)\",\"rgb(127, 127, 127)\",\"rgb(127, 127, 127)\",\"rgb(255, 187, 120)\",\"rgb(247, 182, 210)\",\"rgb(127, 127, 127)\",\"rgb(127, 127, 127)\",\"rgb(127, 127, 127)\",\"rgb(127, 127, 127)\",\"rgb(127, 127, 127)\",\"rgb(127, 127, 127)\",\"rgb(152, 223, 138)\",\"rgb(255, 127, 14)\",\"rgb(152, 223, 138)\",\"rgb(255, 187, 120)\",\"rgb(127, 127, 127)\",\"rgb(255, 187, 120)\",\"rgb(127, 127, 127)\",\"rgb(247, 182, 210)\",\"rgb(255, 127, 14)\",\"rgb(127, 127, 127)\",\"rgb(255, 127, 14)\",\"rgb(127, 127, 127)\",\"rgb(127, 127, 127)\",\"rgb(127, 127, 127)\",\"rgb(255, 127, 14)\",\"rgb(140, 86, 75)\",\"rgb(255, 127, 14)\",\"rgb(127, 127, 127)\",\"rgb(255, 127, 14)\",\"rgb(127, 127, 127)\",\"rgb(127, 127, 127)\",\"rgb(255, 187, 120)\",\"rgb(255, 187, 120)\",\"rgb(127, 127, 127)\",\"rgb(127, 127, 127)\",\"rgb(197, 176, 213)\",\"rgb(127, 127, 127)\",\"rgb(255, 187, 120)\",\"rgb(127, 127, 127)\",\"rgb(255, 187, 120)\",\"rgb(127, 127, 127)\",\"rgb(255, 187, 120)\",\"rgb(127, 127, 127)\",\"rgb(140, 86, 75)\",\"rgb(31, 119, 180)\",\"rgb(148, 103, 189)\",\"rgb(127, 127, 127)\",\"rgb(127, 127, 127)\",\"rgb(152, 223, 138)\",\"rgb(247, 182, 210)\",\"rgb(127, 127, 127)\",\"rgb(255, 127, 14)\",\"rgb(148, 103, 189)\",\"rgb(197, 176, 213)\",\"rgb(127, 127, 127)\",\"rgb(127, 127, 127)\",\"rgb(247, 182, 210)\",\"rgb(247, 182, 210)\",\"rgb(255, 127, 14)\",\"rgb(127, 127, 127)\",\"rgb(127, 127, 127)\",\"rgb(127, 127, 127)\",\"rgb(127, 127, 127)\",\"rgb(127, 127, 127)\",\"rgb(127, 127, 127)\",\"rgb(127, 127, 127)\",\"rgb(255, 127, 14)\",\"rgb(127, 127, 127)\",\"rgb(127, 127, 127)\",\"rgb(127, 127, 127)\",\"rgb(214, 39, 40)\",\"rgb(255, 127, 14)\",\"rgb(127, 127, 127)\",\"rgb(127, 127, 127)\",\"rgb(152, 223, 138)\",\"rgb(127, 127, 127)\",\"rgb(255, 127, 14)\",\"rgb(127, 127, 127)\",\"rgb(255, 127, 14)\",\"rgb(255, 127, 14)\",\"rgb(255, 127, 14)\",\"rgb(255, 127, 14)\",\"rgb(31, 119, 180)\",\"rgb(255, 127, 14)\",\"rgb(127, 127, 127)\",\"rgb(127, 127, 127)\",\"rgb(127, 127, 127)\",\"rgb(255, 187, 120)\",\"rgb(127, 127, 127)\",\"rgb(140, 86, 75)\",\"rgb(127, 127, 127)\",\"rgb(127, 127, 127)\",\"rgb(199, 199, 199)\",\"rgb(255, 127, 14)\",\"rgb(127, 127, 127)\",\"rgb(127, 127, 127)\",\"rgb(255, 187, 120)\",\"rgb(247, 182, 210)\",\"rgb(152, 223, 138)\",\"rgb(255, 127, 14)\",\"rgb(255, 187, 120)\",\"rgb(127, 127, 127)\",\"rgb(127, 127, 127)\",\"rgb(127, 127, 127)\",\"rgb(247, 182, 210)\",\"rgb(152, 223, 138)\",\"rgb(255, 127, 14)\",\"rgb(127, 127, 127)\",\"rgb(127, 127, 127)\",\"rgb(127, 127, 127)\",\"rgb(127, 127, 127)\",\"rgb(174, 199, 232)\",\"rgb(127, 127, 127)\",\"rgb(255, 127, 14)\",\"rgb(127, 127, 127)\",\"rgb(255, 127, 14)\",\"rgb(127, 127, 127)\",\"rgb(127, 127, 127)\",\"rgb(127, 127, 127)\",\"rgb(127, 127, 127)\",\"rgb(255, 187, 120)\",\"rgb(196, 156, 148)\",\"rgb(127, 127, 127)\",\"rgb(127, 127, 127)\",\"rgb(140, 86, 75)\",\"rgb(127, 127, 127)\",\"rgb(127, 127, 127)\",\"rgb(255, 187, 120)\",\"rgb(247, 182, 210)\",\"rgb(255, 187, 120)\",\"rgb(255, 127, 14)\",\"rgb(127, 127, 127)\",\"rgb(196, 156, 148)\",\"rgb(127, 127, 127)\",\"rgb(127, 127, 127)\",\"rgb(227, 119, 194)\",\"rgb(127, 127, 127)\",\"rgb(255, 187, 120)\",\"rgb(255, 187, 120)\",\"rgb(127, 127, 127)\",\"rgb(255, 187, 120)\",\"rgb(127, 127, 127)\",\"rgb(255, 127, 14)\",\"rgb(255, 127, 14)\",\"rgb(127, 127, 127)\",\"rgb(214, 39, 40)\",\"rgb(127, 127, 127)\",\"rgb(127, 127, 127)\",\"rgb(174, 199, 232)\",\"rgb(255, 187, 120)\",\"rgb(255, 127, 14)\",\"rgb(255, 187, 120)\",\"rgb(196, 156, 148)\",\"rgb(255, 187, 120)\",\"rgb(127, 127, 127)\",\"rgb(127, 127, 127)\",\"rgb(127, 127, 127)\",\"rgb(127, 127, 127)\",\"rgb(127, 127, 127)\",\"rgb(247, 182, 210)\",\"rgb(140, 86, 75)\",\"rgb(127, 127, 127)\",\"rgb(188, 189, 34)\",\"rgb(127, 127, 127)\",\"rgb(127, 127, 127)\",\"rgb(219, 219, 141)\",\"rgb(255, 152, 150)\",\"rgb(127, 127, 127)\",\"rgb(196, 156, 148)\",\"rgb(255, 127, 14)\",\"rgb(127, 127, 127)\",\"rgb(196, 156, 148)\",\"rgb(127, 127, 127)\",\"rgb(127, 127, 127)\",\"rgb(174, 199, 232)\",\"rgb(127, 127, 127)\",\"rgb(255, 127, 14)\",\"rgb(197, 176, 213)\",\"rgb(127, 127, 127)\",\"rgb(214, 39, 40)\",\"rgb(227, 119, 194)\",\"rgb(255, 187, 120)\",\"rgb(196, 156, 148)\",\"rgb(152, 223, 138)\",\"rgb(127, 127, 127)\",\"rgb(127, 127, 127)\",\"rgb(255, 127, 14)\",\"rgb(127, 127, 127)\",\"rgb(197, 176, 213)\",\"rgb(255, 127, 14)\",\"rgb(127, 127, 127)\",\"rgb(127, 127, 127)\",\"rgb(255, 187, 120)\",\"rgb(127, 127, 127)\",\"rgb(127, 127, 127)\",\"rgb(127, 127, 127)\",\"rgb(255, 187, 120)\",\"rgb(255, 127, 14)\",\"rgb(255, 187, 120)\",\"rgb(127, 127, 127)\",\"rgb(255, 127, 14)\",\"rgb(31, 119, 180)\",\"rgb(255, 127, 14)\",\"rgb(255, 187, 120)\",\"rgb(127, 127, 127)\",\"rgb(127, 127, 127)\",\"rgb(127, 127, 127)\",\"rgb(247, 182, 210)\",\"rgb(127, 127, 127)\",\"rgb(255, 187, 120)\",\"rgb(127, 127, 127)\",\"rgb(197, 176, 213)\",\"rgb(255, 127, 14)\",\"rgb(127, 127, 127)\",\"rgb(127, 127, 127)\",\"rgb(127, 127, 127)\",\"rgb(127, 127, 127)\",\"rgb(127, 127, 127)\",\"rgb(127, 127, 127)\",\"rgb(140, 86, 75)\",\"rgb(255, 127, 14)\",\"rgb(127, 127, 127)\",\"rgb(247, 182, 210)\",\"rgb(255, 187, 120)\",\"rgb(127, 127, 127)\",\"rgb(127, 127, 127)\",\"rgb(127, 127, 127)\",\"rgb(255, 187, 120)\",\"rgb(196, 156, 148)\",\"rgb(214, 39, 40)\",\"rgb(214, 39, 40)\",\"rgb(127, 127, 127)\",\"rgb(127, 127, 127)\",\"rgb(127, 127, 127)\",\"rgb(127, 127, 127)\",\"rgb(127, 127, 127)\",\"rgb(255, 187, 120)\",\"rgb(127, 127, 127)\",\"rgb(127, 127, 127)\",\"rgb(127, 127, 127)\",\"rgb(214, 39, 40)\",\"rgb(255, 127, 14)\",\"rgb(255, 127, 14)\",\"rgb(127, 127, 127)\",\"rgb(255, 127, 14)\",\"rgb(255, 127, 14)\",\"rgb(127, 127, 127)\",\"rgb(255, 187, 120)\",\"rgb(255, 187, 120)\",\"rgb(227, 119, 194)\",\"rgb(255, 187, 120)\",\"rgb(255, 187, 120)\",\"rgb(148, 103, 189)\",\"rgb(127, 127, 127)\",\"rgb(127, 127, 127)\",\"rgb(255, 127, 14)\",\"rgb(255, 127, 14)\",\"rgb(127, 127, 127)\",\"rgb(255, 187, 120)\",\"rgb(255, 127, 14)\",\"rgb(127, 127, 127)\",\"rgb(214, 39, 40)\",\"rgb(255, 127, 14)\",\"rgb(255, 127, 14)\",\"rgb(127, 127, 127)\",\"rgb(127, 127, 127)\",\"rgb(255, 187, 120)\",\"rgb(148, 103, 189)\",\"rgb(127, 127, 127)\",\"rgb(255, 187, 120)\",\"rgb(188, 189, 34)\",\"rgb(255, 127, 14)\",\"rgb(255, 127, 14)\",\"rgb(140, 86, 75)\",\"rgb(247, 182, 210)\",\"rgb(127, 127, 127)\",\"rgb(127, 127, 127)\",\"rgb(127, 127, 127)\",\"rgb(127, 127, 127)\",\"rgb(140, 86, 75)\",\"rgb(31, 119, 180)\",\"rgb(127, 127, 127)\",\"rgb(127, 127, 127)\",\"rgb(127, 127, 127)\",\"rgb(127, 127, 127)\",\"rgb(255, 127, 14)\",\"rgb(247, 182, 210)\",\"rgb(152, 223, 138)\",\"rgb(127, 127, 127)\",\"rgb(247, 182, 210)\",\"rgb(127, 127, 127)\",\"rgb(127, 127, 127)\",\"rgb(196, 156, 148)\",\"rgb(127, 127, 127)\",\"rgb(127, 127, 127)\",\"rgb(152, 223, 138)\",\"rgb(127, 127, 127)\",\"rgb(127, 127, 127)\",\"rgb(127, 127, 127)\",\"rgb(127, 127, 127)\",\"rgb(127, 127, 127)\",\"rgb(214, 39, 40)\",\"rgb(127, 127, 127)\",\"rgb(127, 127, 127)\",\"rgb(127, 127, 127)\",\"rgb(152, 223, 138)\",\"rgb(127, 127, 127)\",\"rgb(152, 223, 138)\",\"rgb(127, 127, 127)\",\"rgb(255, 187, 120)\",\"rgb(127, 127, 127)\",\"rgb(196, 156, 148)\",\"rgb(44, 160, 44)\",\"rgb(127, 127, 127)\",\"rgb(127, 127, 127)\",\"rgb(127, 127, 127)\",\"rgb(255, 127, 14)\",\"rgb(255, 127, 14)\",\"rgb(247, 182, 210)\",\"rgb(31, 119, 180)\",\"rgb(127, 127, 127)\",\"rgb(127, 127, 127)\",\"rgb(127, 127, 127)\",\"rgb(127, 127, 127)\",\"rgb(255, 187, 120)\",\"rgb(127, 127, 127)\",\"rgb(127, 127, 127)\",\"rgb(152, 223, 138)\",\"rgb(174, 199, 232)\",\"rgb(247, 182, 210)\",\"rgb(127, 127, 127)\",\"rgb(140, 86, 75)\",\"rgb(127, 127, 127)\",\"rgb(255, 127, 14)\",\"rgb(127, 127, 127)\",\"rgb(127, 127, 127)\",\"rgb(140, 86, 75)\",\"rgb(127, 127, 127)\",\"rgb(127, 127, 127)\",\"rgb(247, 182, 210)\",\"rgb(152, 223, 138)\",\"rgb(127, 127, 127)\",\"rgb(196, 156, 148)\",\"rgb(127, 127, 127)\",\"rgb(255, 127, 14)\",\"rgb(127, 127, 127)\",\"rgb(197, 176, 213)\",\"rgb(127, 127, 127)\",\"rgb(255, 127, 14)\",\"rgb(127, 127, 127)\",\"rgb(127, 127, 127)\",\"rgb(255, 187, 120)\",\"rgb(127, 127, 127)\",\"rgb(255, 127, 14)\",\"rgb(127, 127, 127)\",\"rgb(247, 182, 210)\",\"rgb(127, 127, 127)\",\"rgb(255, 127, 14)\",\"rgb(127, 127, 127)\",\"rgb(255, 152, 150)\",\"rgb(127, 127, 127)\",\"rgb(127, 127, 127)\",\"rgb(127, 127, 127)\",\"rgb(255, 187, 120)\",\"rgb(127, 127, 127)\",\"rgb(255, 187, 120)\",\"rgb(127, 127, 127)\",\"rgb(255, 127, 14)\",\"rgb(127, 127, 127)\",\"rgb(31, 119, 180)\",\"rgb(255, 187, 120)\",\"rgb(127, 127, 127)\",\"rgb(127, 127, 127)\",\"rgb(214, 39, 40)\",\"rgb(127, 127, 127)\",\"rgb(255, 127, 14)\",\"rgb(214, 39, 40)\",\"rgb(127, 127, 127)\",\"rgb(247, 182, 210)\",\"rgb(255, 127, 14)\",\"rgb(127, 127, 127)\",\"rgb(127, 127, 127)\",\"rgb(255, 127, 14)\",\"rgb(255, 187, 120)\",\"rgb(140, 86, 75)\",\"rgb(255, 187, 120)\",\"rgb(197, 176, 213)\",\"rgb(127, 127, 127)\",\"rgb(127, 127, 127)\",\"rgb(255, 127, 14)\",\"rgb(255, 187, 120)\",\"rgb(140, 86, 75)\",\"rgb(140, 86, 75)\",\"rgb(255, 187, 120)\",\"rgb(127, 127, 127)\",\"rgb(127, 127, 127)\",\"rgb(127, 127, 127)\",\"rgb(255, 127, 14)\",\"rgb(127, 127, 127)\",\"rgb(255, 127, 14)\",\"rgb(255, 127, 14)\",\"rgb(31, 119, 180)\",\"rgb(255, 127, 14)\",\"rgb(255, 127, 14)\",\"rgb(127, 127, 127)\",\"rgb(127, 127, 127)\",\"rgb(127, 127, 127)\",\"rgb(127, 127, 127)\",\"rgb(127, 127, 127)\",\"rgb(255, 187, 120)\",\"rgb(127, 127, 127)\",\"rgb(255, 127, 14)\",\"rgb(247, 182, 210)\",\"rgb(247, 182, 210)\",\"rgb(227, 119, 194)\",\"rgb(255, 187, 120)\",\"rgb(127, 127, 127)\",\"rgb(174, 199, 232)\",\"rgb(255, 127, 14)\",\"rgb(255, 127, 14)\",\"rgb(255, 127, 14)\",\"rgb(127, 127, 127)\",\"rgb(255, 127, 14)\",\"rgb(255, 127, 14)\",\"rgb(127, 127, 127)\",\"rgb(197, 176, 213)\",\"rgb(140, 86, 75)\",\"rgb(255, 127, 14)\",\"rgb(247, 182, 210)\",\"rgb(174, 199, 232)\",\"rgb(255, 127, 14)\",\"rgb(127, 127, 127)\",\"rgb(127, 127, 127)\",\"rgb(127, 127, 127)\",\"rgb(255, 187, 120)\",\"rgb(255, 127, 14)\",\"rgb(140, 86, 75)\",\"rgb(127, 127, 127)\",\"rgb(255, 127, 14)\",\"rgb(140, 86, 75)\",\"rgb(127, 127, 127)\",\"rgb(127, 127, 127)\",\"rgb(255, 127, 14)\",\"rgb(255, 187, 120)\",\"rgb(148, 103, 189)\",\"rgb(127, 127, 127)\",\"rgb(127, 127, 127)\",\"rgb(127, 127, 127)\",\"rgb(255, 127, 14)\",\"rgb(255, 127, 14)\",\"rgb(255, 127, 14)\",\"rgb(127, 127, 127)\",\"rgb(127, 127, 127)\",\"rgb(140, 86, 75)\",\"rgb(127, 127, 127)\",\"rgb(127, 127, 127)\",\"rgb(255, 127, 14)\",\"rgb(127, 127, 127)\",\"rgb(127, 127, 127)\",\"rgb(127, 127, 127)\",\"rgb(255, 187, 120)\",\"rgb(127, 127, 127)\",\"rgb(127, 127, 127)\",\"rgb(255, 127, 14)\",\"rgb(127, 127, 127)\",\"rgb(127, 127, 127)\",\"rgb(127, 127, 127)\",\"rgb(255, 127, 14)\",\"rgb(140, 86, 75)\",\"rgb(31, 119, 180)\",\"rgb(255, 127, 14)\",\"rgb(127, 127, 127)\",\"rgb(152, 223, 138)\",\"rgb(247, 182, 210)\",\"rgb(255, 187, 120)\",\"rgb(140, 86, 75)\",\"rgb(127, 127, 127)\",\"rgb(127, 127, 127)\",\"rgb(127, 127, 127)\",\"rgb(255, 187, 120)\",\"rgb(127, 127, 127)\",\"rgb(255, 187, 120)\",\"rgb(127, 127, 127)\",\"rgb(127, 127, 127)\",\"rgb(127, 127, 127)\",\"rgb(174, 199, 232)\",\"rgb(127, 127, 127)\",\"rgb(255, 127, 14)\",\"rgb(127, 127, 127)\",\"rgb(127, 127, 127)\",\"rgb(31, 119, 180)\",\"rgb(255, 187, 120)\",\"rgb(255, 187, 120)\",\"rgb(127, 127, 127)\",\"rgb(127, 127, 127)\",\"rgb(127, 127, 127)\",\"rgb(255, 127, 14)\",\"rgb(127, 127, 127)\",\"rgb(152, 223, 138)\",\"rgb(255, 127, 14)\",\"rgb(127, 127, 127)\",\"rgb(140, 86, 75)\",\"rgb(255, 127, 14)\",\"rgb(127, 127, 127)\",\"rgb(127, 127, 127)\",\"rgb(196, 156, 148)\",\"rgb(140, 86, 75)\",\"rgb(255, 127, 14)\",\"rgb(127, 127, 127)\",\"rgb(127, 127, 127)\",\"rgb(127, 127, 127)\",\"rgb(127, 127, 127)\",\"rgb(255, 187, 120)\",\"rgb(127, 127, 127)\",\"rgb(255, 127, 14)\",\"rgb(127, 127, 127)\",\"rgb(255, 187, 120)\",\"rgb(127, 127, 127)\",\"rgb(255, 127, 14)\",\"rgb(127, 127, 127)\",\"rgb(127, 127, 127)\",\"rgb(127, 127, 127)\",\"rgb(140, 86, 75)\",\"rgb(127, 127, 127)\",\"rgb(127, 127, 127)\",\"rgb(127, 127, 127)\",\"rgb(127, 127, 127)\",\"rgb(255, 127, 14)\",\"rgb(255, 127, 14)\",\"rgb(127, 127, 127)\",\"rgb(127, 127, 127)\",\"rgb(152, 223, 138)\",\"rgb(255, 127, 14)\",\"rgb(127, 127, 127)\",\"rgb(127, 127, 127)\",\"rgb(255, 127, 14)\",\"rgb(31, 119, 180)\",\"rgb(219, 219, 141)\",\"rgb(127, 127, 127)\",\"rgb(127, 127, 127)\",\"rgb(127, 127, 127)\",\"rgb(127, 127, 127)\",\"rgb(255, 127, 14)\",\"rgb(127, 127, 127)\",\"rgb(140, 86, 75)\",\"rgb(127, 127, 127)\",\"rgb(127, 127, 127)\",\"rgb(127, 127, 127)\",\"rgb(174, 199, 232)\",\"rgb(127, 127, 127)\",\"rgb(255, 187, 120)\",\"rgb(127, 127, 127)\",\"rgb(255, 127, 14)\",\"rgb(255, 127, 14)\",\"rgb(127, 127, 127)\",\"rgb(255, 127, 14)\",\"rgb(31, 119, 180)\",\"rgb(127, 127, 127)\",\"rgb(127, 127, 127)\",\"rgb(140, 86, 75)\",\"rgb(127, 127, 127)\",\"rgb(140, 86, 75)\",\"rgb(127, 127, 127)\",\"rgb(219, 219, 141)\",\"rgb(255, 127, 14)\",\"rgb(127, 127, 127)\",\"rgb(127, 127, 127)\",\"rgb(127, 127, 127)\",\"rgb(31, 119, 180)\",\"rgb(127, 127, 127)\",\"rgb(127, 127, 127)\",\"rgb(255, 127, 14)\",\"rgb(127, 127, 127)\",\"rgb(255, 127, 14)\",\"rgb(140, 86, 75)\",\"rgb(127, 127, 127)\",\"rgb(127, 127, 127)\",\"rgb(214, 39, 40)\",\"rgb(255, 127, 14)\",\"rgb(127, 127, 127)\",\"rgb(255, 187, 120)\",\"rgb(127, 127, 127)\",\"rgb(127, 127, 127)\",\"rgb(140, 86, 75)\",\"rgb(127, 127, 127)\",\"rgb(127, 127, 127)\",\"rgb(255, 187, 120)\",\"rgb(255, 187, 120)\",\"rgb(227, 119, 194)\",\"rgb(255, 127, 14)\",\"rgb(219, 219, 141)\",\"rgb(127, 127, 127)\",\"rgb(127, 127, 127)\",\"rgb(255, 127, 14)\",\"rgb(127, 127, 127)\",\"rgb(255, 127, 14)\",\"rgb(148, 103, 189)\",\"rgb(127, 127, 127)\",\"rgb(127, 127, 127)\",\"rgb(255, 187, 120)\",\"rgb(247, 182, 210)\",\"rgb(127, 127, 127)\",\"rgb(127, 127, 127)\",\"rgb(127, 127, 127)\",\"rgb(127, 127, 127)\",\"rgb(127, 127, 127)\",\"rgb(255, 127, 14)\",\"rgb(127, 127, 127)\",\"rgb(127, 127, 127)\",\"rgb(247, 182, 210)\",\"rgb(152, 223, 138)\",\"rgb(255, 127, 14)\",\"rgb(255, 127, 14)\",\"rgb(255, 127, 14)\",\"rgb(255, 152, 150)\",\"rgb(127, 127, 127)\",\"rgb(127, 127, 127)\",\"rgb(227, 119, 194)\",\"rgb(127, 127, 127)\",\"rgb(196, 156, 148)\",\"rgb(31, 119, 180)\",\"rgb(127, 127, 127)\",\"rgb(255, 127, 14)\",\"rgb(255, 127, 14)\",\"rgb(127, 127, 127)\",\"rgb(127, 127, 127)\",\"rgb(152, 223, 138)\",\"rgb(127, 127, 127)\",\"rgb(255, 152, 150)\",\"rgb(152, 223, 138)\",\"rgb(127, 127, 127)\",\"rgb(127, 127, 127)\",\"rgb(127, 127, 127)\",\"rgb(127, 127, 127)\",\"rgb(127, 127, 127)\",\"rgb(140, 86, 75)\",\"rgb(197, 176, 213)\",\"rgb(255, 187, 120)\",\"rgb(127, 127, 127)\",\"rgb(255, 127, 14)\",\"rgb(247, 182, 210)\",\"rgb(247, 182, 210)\",\"rgb(255, 127, 14)\",\"rgb(255, 127, 14)\",\"rgb(247, 182, 210)\",\"rgb(127, 127, 127)\",\"rgb(127, 127, 127)\",\"rgb(127, 127, 127)\",\"rgb(127, 127, 127)\",\"rgb(255, 187, 120)\",\"rgb(31, 119, 180)\",\"rgb(127, 127, 127)\",\"rgb(255, 127, 14)\",\"rgb(255, 187, 120)\",\"rgb(255, 127, 14)\",\"rgb(127, 127, 127)\",\"rgb(44, 160, 44)\",\"rgb(127, 127, 127)\",\"rgb(188, 189, 34)\",\"rgb(127, 127, 127)\",\"rgb(255, 127, 14)\",\"rgb(148, 103, 189)\",\"rgb(255, 187, 120)\",\"rgb(196, 156, 148)\",\"rgb(127, 127, 127)\",\"rgb(127, 127, 127)\",\"rgb(140, 86, 75)\",\"rgb(127, 127, 127)\",\"rgb(152, 223, 138)\",\"rgb(255, 127, 14)\",\"rgb(127, 127, 127)\",\"rgb(255, 127, 14)\",\"rgb(255, 127, 14)\",\"rgb(255, 127, 14)\",\"rgb(255, 127, 14)\",\"rgb(255, 127, 14)\",\"rgb(255, 187, 120)\",\"rgb(227, 119, 194)\",\"rgb(197, 176, 213)\",\"rgb(255, 187, 120)\",\"rgb(255, 187, 120)\",\"rgb(152, 223, 138)\",\"rgb(127, 127, 127)\",\"rgb(255, 127, 14)\",\"rgb(140, 86, 75)\",\"rgb(255, 187, 120)\",\"rgb(127, 127, 127)\",\"rgb(152, 223, 138)\",\"rgb(127, 127, 127)\",\"rgb(255, 127, 14)\",\"rgb(127, 127, 127)\",\"rgb(127, 127, 127)\",\"rgb(127, 127, 127)\",\"rgb(255, 127, 14)\",\"rgb(127, 127, 127)\",\"rgb(255, 127, 14)\",\"rgb(127, 127, 127)\",\"rgb(127, 127, 127)\",\"rgb(140, 86, 75)\",\"rgb(247, 182, 210)\",\"rgb(127, 127, 127)\",\"rgb(255, 187, 120)\",\"rgb(127, 127, 127)\",\"rgb(255, 187, 120)\",\"rgb(127, 127, 127)\",\"rgb(127, 127, 127)\",\"rgb(197, 176, 213)\",\"rgb(152, 223, 138)\",\"rgb(255, 127, 14)\",\"rgb(255, 127, 14)\",\"rgb(127, 127, 127)\",\"rgb(255, 127, 14)\",\"rgb(31, 119, 180)\",\"rgb(148, 103, 189)\",\"rgb(127, 127, 127)\",\"rgb(127, 127, 127)\",\"rgb(255, 187, 120)\",\"rgb(127, 127, 127)\",\"rgb(127, 127, 127)\",\"rgb(255, 187, 120)\",\"rgb(127, 127, 127)\",\"rgb(174, 199, 232)\",\"rgb(152, 223, 138)\",\"rgb(127, 127, 127)\",\"rgb(127, 127, 127)\",\"rgb(127, 127, 127)\",\"rgb(255, 127, 14)\",\"rgb(255, 127, 14)\",\"rgb(219, 219, 141)\",\"rgb(140, 86, 75)\",\"rgb(255, 187, 120)\",\"rgb(255, 152, 150)\",\"rgb(255, 127, 14)\",\"rgb(127, 127, 127)\",\"rgb(127, 127, 127)\",\"rgb(127, 127, 127)\",\"rgb(127, 127, 127)\",\"rgb(31, 119, 180)\",\"rgb(31, 119, 180)\",\"rgb(127, 127, 127)\",\"rgb(197, 176, 213)\",\"rgb(255, 127, 14)\",\"rgb(127, 127, 127)\",\"rgb(44, 160, 44)\",\"rgb(214, 39, 40)\",\"rgb(227, 119, 194)\",\"rgb(174, 199, 232)\",\"rgb(127, 127, 127)\",\"rgb(255, 127, 14)\",\"rgb(140, 86, 75)\",\"rgb(140, 86, 75)\",\"rgb(31, 119, 180)\",\"rgb(255, 187, 120)\",\"rgb(127, 127, 127)\",\"rgb(127, 127, 127)\",\"rgb(127, 127, 127)\",\"rgb(255, 127, 14)\",\"rgb(255, 127, 14)\",\"rgb(127, 127, 127)\",\"rgb(255, 127, 14)\",\"rgb(255, 187, 120)\",\"rgb(227, 119, 194)\",\"rgb(127, 127, 127)\",\"rgb(255, 127, 14)\",\"rgb(127, 127, 127)\",\"rgb(140, 86, 75)\",\"rgb(127, 127, 127)\",\"rgb(127, 127, 127)\",\"rgb(255, 187, 120)\",\"rgb(127, 127, 127)\",\"rgb(255, 187, 120)\",\"rgb(127, 127, 127)\",\"rgb(127, 127, 127)\",\"rgb(214, 39, 40)\",\"rgb(255, 127, 14)\",\"rgb(127, 127, 127)\",\"rgb(197, 176, 213)\",\"rgb(255, 187, 120)\",\"rgb(127, 127, 127)\",\"rgb(255, 127, 14)\",\"rgb(127, 127, 127)\",\"rgb(127, 127, 127)\",\"rgb(255, 127, 14)\",\"rgb(127, 127, 127)\",\"rgb(255, 187, 120)\",\"rgb(127, 127, 127)\",\"rgb(255, 127, 14)\",\"rgb(152, 223, 138)\",\"rgb(127, 127, 127)\",\"rgb(127, 127, 127)\",\"rgb(255, 127, 14)\",\"rgb(219, 219, 141)\",\"rgb(227, 119, 194)\",\"rgb(127, 127, 127)\",\"rgb(127, 127, 127)\",\"rgb(127, 127, 127)\",\"rgb(152, 223, 138)\",\"rgb(127, 127, 127)\",\"rgb(31, 119, 180)\",\"rgb(255, 187, 120)\",\"rgb(255, 127, 14)\",\"rgb(255, 127, 14)\",\"rgb(127, 127, 127)\",\"rgb(152, 223, 138)\",\"rgb(127, 127, 127)\",\"rgb(255, 127, 14)\",\"rgb(255, 127, 14)\",\"rgb(219, 219, 141)\",\"rgb(127, 127, 127)\",\"rgb(197, 176, 213)\",\"rgb(255, 127, 14)\",\"rgb(127, 127, 127)\",\"rgb(255, 187, 120)\",\"rgb(255, 187, 120)\",\"rgb(127, 127, 127)\",\"rgb(247, 182, 210)\",\"rgb(255, 127, 14)\",\"rgb(127, 127, 127)\",\"rgb(255, 127, 14)\",\"rgb(127, 127, 127)\",\"rgb(127, 127, 127)\",\"rgb(255, 127, 14)\",\"rgb(127, 127, 127)\",\"rgb(174, 199, 232)\",\"rgb(247, 182, 210)\",\"rgb(255, 127, 14)\",\"rgb(255, 127, 14)\",\"rgb(31, 119, 180)\",\"rgb(140, 86, 75)\",\"rgb(127, 127, 127)\",\"rgb(148, 103, 189)\",\"rgb(247, 182, 210)\"],\"token\":[\"Attia\",\"Fernyhough\",\"Gallinger\",\"Tsvelyuh\",\"Zhashkov\",\"Martoyas\",\"Tovstyh\",\"Orsini\",\"Zhirdetsky\",\"Jaskolski\",\"Poshutilin\",\"Kurata\",\"Zak\",\"Urogataya\",\"Pentin\",\"Schofield\",\"Rivers\",\"Shendrik\",\"Pokhilchuk\",\"Bawvykin\",\"Redding\",\"Adelgeim\",\"Tsarakov\",\"Alper\",\"Mahagonov\",\"Dobryshev\",\"Rodrigues\",\"Godfrey\",\"Ghannam\",\"Kachalovsky\",\"Maguire\",\"Jagovenko\",\"Diveev\",\"Kett\",\"Fearon\",\"Ghanem\",\"Villis\",\"Bellerose\",\"Shalhoub\",\"Kattan\",\"Lygin\",\"Fiscella\",\"Kalinko\",\"Shamoon\",\"Munsky\",\"Deyanov\",\"Eckersall\",\"Bakurov\",\"Halyapin\",\"Apsley\",\"Unwin\",\"Evrard\",\"Gramberg\",\"Shakhkalamyan\",\"Ina\",\"Daher\",\"Nijo\",\"Milward\",\"Glagolevskii\",\"Allgood\",\"Nardi\",\"Chalmers\",\"Schroeter\",\"Mifsud\",\"Adashevsky\",\"Hinchuk\",\"Soucek\",\"Halilov\",\"Abdulbasirov\",\"Pratt\",\"Svoboda\",\"Shotton\",\"Holoevsky\",\"H\\u00f6fler\",\"Kartashevsky\",\"Tupihin\",\"Hramtsov\",\"Maolmhuaidh\",\"Yakubovsky\",\"Hachaturov\",\"Galevko\",\"Abrams\",\"Abaturoff\",\"Paine\",\"Mikhail\",\"Balakhonov\",\"Shamkov\",\"Ricchetti\",\"Shimuzu\",\"Tsagareli\",\"Talberg\",\"Piraino\",\"Rutter\",\"Munchaev\",\"Bell\",\"Passerini\",\"Sarkis\",\"Dimmock\",\"Fordham\",\"Jagubsky\",\"Kill\",\"Wasem\",\"Yalamov\",\"Marubeni\",\"Bastanov\",\"Fakhoury\",\"Pegg\",\"Kurian\",\"Uhov\",\"Mikhail\",\"Lawn\",\"Wasem\",\"Djibladze\",\"Zobkob\",\"Kattan\",\"Ellery\",\"Blau\",\"Antoun\",\"Reinders\",\"Bishara\",\"Amerhanov\",\"Shimanouchi\",\"Nyago\",\"Kumasaka\",\"Abramchikoff\",\"Haddock\",\"Lezdinysh\",\"Zharkikh\",\"Palin\",\"Nason\",\"Zolotavin\",\"Lazzari\",\"Michaud\",\"Morcos\",\"Duguay\",\"Bahtigareev\",\"Gaber\",\"Herovets\",\"Carney\",\"Nowak\",\"Columbo\",\"Horiuchi\",\"Ruzimatov\",\"Urbina\",\"Elbutt\",\"Naifeh\",\"Yakunichev\",\"Halo\",\"Arian\",\"Boutros\",\"Totah\",\"Averbakh\",\"Tzayukov\",\"Head\",\"Veselago\",\"Oram\",\"Ponedelnik\",\"Tcharnolusky\",\"Elgin\",\"Bing\",\"Guk\",\"Glasko\",\"Zhirnikov\",\"Tsakhilov\",\"Zhloba\",\"Portsevsky\",\"Napper\",\"Martidi\",\"Western\",\"Woodhead\",\"Gudjabidze\",\"Biryukov\",\"Tulohonov\",\"Michel\",\"Kinugasa\",\"Vysokin\",\"Makhotkin\",\"Furnell\",\"Gagne\",\"Ho\",\"Abrakhimov\",\"Kowalczyk\",\"Albert\",\"Nishimura\",\"Agranowich\",\"Munin\",\"Milligan\",\"Norsworthy\",\"Antram\",\"Varaksin\",\"Odea\",\"Switzer\",\"Alkvist\",\"Porai-Koshits\",\"Leccese\",\"Asfour\",\"M\\u00f6ller\",\"Hiratasuka\",\"Koury\",\"Avdievsky\",\"Potsepkin\",\"Bailey\",\"Damhan\",\"Parasyuk\",\"Sztegon\",\"Fortunov\",\"Leith\",\"Tugai\",\"Koruba\",\"Levett\",\"Vedrinsky\",\"Koury\",\"Kaczka\",\"Bagmewski\",\"Jarmukhamedov\",\"Anorin\",\"Mizuno\",\"Vann\",\"Matzyuk\",\"Tikhonchuk\",\"Curry\",\"Agababyan\",\"Yuhanaev\",\"Corraidhin\",\"Khoury\",\"Makharov\",\"Redwood\",\"Bektabegov\",\"Shahnazarov\",\"O'Kane\",\"Nasyrov\",\"Gafiyatullin\",\"Torres\",\"Ghanem\",\"Kouri\",\"Miodushevsky\",\"Ruadhan\",\"Selmone\",\"Mustafa\",\"Haratyan\",\"Mikhailov\",\"Handal\",\"Nijinsky\",\"Durber\",\"Vasin\",\"Abagyan\",\"Homichenko\",\"Naser\",\"Haziahmetov\",\"Stamatas\",\"Yun\",\"Wintersgill\",\"Phelps\",\"Charkin\",\"Mcnulty\",\"Turkov\",\"Orvis\",\"Guirguis\",\"Rikhter\",\"Tcheh\",\"Arnott\",\"Nakhodkin\",\"Newton\",\"Machado\",\"Kosmatka\",\"Pohilevich\",\"Laing\",\"Asfour\",\"Ganim\",\"Jordison\",\"Kawamata\",\"Dubkov\",\"Markhanov\",\"Hirata\",\"Shamoon\",\"Mcneil\",\"Jejel\",\"Zhadkevich\",\"Koziol\",\"Dunnett\",\"Bagalei\",\"Bekleshov\",\"B\\u00f6hme\",\"Ruzankin\",\"Vesner\",\"Mason\",\"Agranovitch\",\"Djanashia\",\"Yakurin\",\"Dudley\",\"Hadad\",\"Ishida\",\"Ebert\",\"Sugase\",\"Stock\",\"Demko\",\"Valiahmetov\",\"Antoun\",\"Mashita\",\"Cheung\",\"Lappo\",\"Maruk\",\"Chermak\",\"Sayers\",\"Vardy\",\"Foxley\",\"Mac\\u00edas\",\"Nakahara\",\"Atabiev\",\"Potenza\",\"Unterbrink\",\"Raihelgauz\",\"Oaks\",\"Katoaka\",\"Pailing\",\"Mahonin\",\"Soukup\",\"Mathews\",\"Tobiash\",\"Jankelevich\",\"Turik\",\"Ruzaev\",\"Baidukov\",\"Quraishi\",\"Daryalov\",\"Detsenko\",\"Guttridge\",\"Poshumensky\",\"Glazenap\",\"Vinidiktov\",\"Baier\",\"Piterskih\",\"Meakin\",\"Rosenbloom\",\"Mikhnev\",\"Huziyatov\",\"Rohlin\",\"Jelobinsky\",\"Martysyuk\",\"Zolotnitsky\",\"Rooijakker\",\"Levitin\",\"Vertegel\",\"Mihailovsky\",\"You\",\"Shuo\",\"Gatturov\",\"Anikanov\",\"Tuneev\",\"Pehotin\",\"Dobuzhinsky\",\"Allport\",\"Schirmer\",\"Mints\",\"Gerber\",\"Price\",\"Aldana\",\"Chertov\",\"Flynn\",\"Gabler\",\"Tzelibeev\",\"Dewar\",\"Haddad\",\"Balagul\",\"Judkovich\",\"Keeley\",\"Didenko\",\"Lezhnin\",\"Zhelezov\",\"Monette\",\"Abdurakhmanov\",\"Bithell\",\"Halip\",\"Gladenkov\",\"Dauman\",\"Zha\",\"Vazhnichy\",\"Agroskin\",\"Digurov\",\"Imagawa\",\"Oboldin\",\"Yatzyk\",\"Zhdanovsky\",\"Zingerman\",\"Holt\",\"Groundon\",\"Dominguez\",\"Lichintser\",\"Onyky\",\"Ganim\",\"Totten\",\"Pavlyukov\",\"Inukai\",\"Toshitala\",\"O'Ryan\",\"Maruya\",\"Rahal\",\"Lossky\",\"Haddad\",\"De angelis\",\"Rankin\",\"Twigg\",\"Kotsiopoulos\",\"Jerikhin\",\"Nezavitin\",\"Huako\",\"Gosling\",\"Finn\",\"Basile\",\"Pan\",\"Talkov\",\"Asghar\",\"Kr\\u00f3l\",\"Jdankov\",\"Juravlenko\",\"Scheinberg\",\"Belikov\",\"Daher\",\"So\",\"Erusalimsky\",\"Drozdetsky\",\"Tovar\",\"Simen\",\"Newsham\",\"Sanna\",\"Blecher\",\"Ebsvort\",\"Henderson\",\"Pridvorov\",\"Jitomirsky\",\"Hatov\",\"Rahal\",\"Hay\",\"Pavlychev\",\"Onkov\",\"Cham\",\"Aitken\",\"Olenew\",\"Finochkin\",\"Sammiya\",\"Thelwell\",\"Finn\",\"Nakhutin\",\"D'amore\",\"Samson\",\"Omelyansky\",\"Sarraf\",\"Mendelssohn\",\"Lajentsev\",\"Sauveterre\",\"Tchekhluev\",\"Westlake\",\"Mendes\",\"Allsop\",\"Pakhtanov\",\"Helashvili\",\"Daugulis\",\"Abaza\",\"Isa\",\"Pannell\",\"Turbai\",\"Charuhin\",\"Shalavin\",\"Douglas\",\"Nasetkin\",\"Valkin\",\"Vystavkin\",\"Omura\",\"MonkoAustria\",\"Fung\",\"Corbett\",\"Khouri\",\"Bazzi\",\"Tuzov\",\"Traverso\",\"Gunter\",\"Kasamatsu\",\"Lokhvitsky\",\"Alferov\",\"Jonas\",\"Abdeev\",\"Fairbrace\",\"Saller\",\"Esipenko\",\"Awtorhanoff\",\"Egorin\",\"Orellana\",\"Astrov\",\"Avak'Yan\",\"Edgell\",\"Horoshilov\",\"Molev\",\"Newlands\",\"Lynes\",\"Sharp\",\"Winward\",\"Harb\",\"Berger\",\"Sasada\",\"Isachenkov\",\"Cherchen\",\"Tsukahara\",\"Vyslouh\",\"Tosto\",\"Yosano\",\"Vacca\",\"Vellansky\",\"Chikviladze\",\"Jennison\",\"Iggleden\",\"Nazarkin\",\"Laraway\",\"Lukhvich\",\"Meeuwessen\",\"Gudov\",\"Likhanov\",\"Patsev\",\"Jurkin\",\"Gluz\",\"Vilchek\",\"Fromberg\",\"Avaev\",\"Chino\",\"Hirasi\",\"Modenov\",\"Bakurinsky\",\"Harman\",\"Palmer\",\"Worgan\",\"Qiu\",\"Bartalotti\",\"Lewitckyj\",\"Keight\",\"Issa\",\"Haneev\",\"Zhemchugov\",\"Abramson\",\"Vanwell\",\"Bissette\",\"Dikson\",\"Geshtovt\",\"To The First Page\",\"Pismensky\",\"Yasui\",\"Blumenthal\",\"Kattan\",\"Ang\",\"Valev\",\"Pekhotin\",\"Berezovikov\",\"Mach\",\"Govorov\",\"Visly\",\"Vanchagov\",\"Baushev\",\"Ohme\",\"Dobrosotsky\",\"Dobryshin\",\"Waxweiler\",\"Atazhakhov\",\"Maes\",\"Musahanov\",\"Treblik\",\"Sarkis\",\"Gatovsky\",\"Sabbag\",\"Sassa\",\"Veliky\",\"To The First Page\",\"Livadny\",\"Peach\",\"Babadjanoff\",\"Agnivtsev\",\"Gibb\",\"Eberling\",\"Asghar\",\"Adelkhanoff\",\"Nadwornik\",\"Malouf\",\"Adamov\",\"Robakidze\",\"Nassar\",\"Wagner\",\"Averkoff\",\"Ibu\",\"Jekov\",\"Jivkovich\",\"Yakhin\",\"Talian\",\"Asghar\",\"Campana\",\"Shalhoub\",\"Sakin\",\"Luhmanov\",\"Abaloff\",\"Peltsman\",\"Geary\",\"Nakadai\",\"Deeb\",\"Botros\",\"Verpeto\",\"Gaskoin\",\"Zhalnin\",\"Abidoff\",\"Jagoda\",\"Blazek\",\"Collett\",\"Mcdonagh\",\"Balakhowski\",\"Pavlyuchuk\",\"Vantorin\",\"Aderson\",\"Fakhoury\",\"Gavril\",\"Hlopov\",\"Chadrantsev\",\"Wickham\",\"Chikulaev\",\"Pickthall\",\"Chekoev\",\"Davidchuk\",\"Yakushevich\",\"Ufimov\",\"Bachaldin\",\"Jerebovich\",\"Abzyaparov\",\"Dagher\",\"Quraishi\",\"Murchadh\",\"Vitruk\",\"Bakhshiev\",\"Didevich\",\"Turetskov\",\"Zinkovsky\",\"Montagna\",\"Rovigatti\",\"Steffen\",\"Austin\",\"Fan\",\"Lyjenkov\",\"Tykal\",\"Polibin\",\"Paige\",\"Saifulin\",\"Cuoco\",\"Matzevich\",\"Balakirev\",\"Desnitsky\",\"Attia\",\"Berger\",\"Valentinov\",\"Chukhmantsev\",\"Groshev\",\"Vedensky\",\"Totah\",\"Gorchakov\",\"Hudilainen\",\"Shalamanov\",\"Hanenya\",\"Alesbury\",\"Liders\",\"Tchanyshev\",\"Turintsev\",\"Lymar\",\"Vlasenko\",\"Ukhovsky\",\"Guzev\",\"Awerochkin\",\"Rafaj1\",\"Koolen\",\"Wheatcroft\",\"Babutski\",\"Schulthei\\u00df\",\"Olson\",\"Uhabin\",\"Schr\\u00f6der\",\"Yamaha\",\"Morozovsky\",\"Vyrodkov\",\"Zajicek\",\"Valiullin\",\"Vazhov\",\"Moderah\",\"Han\",\"Mogilnichenko\",\"Mansour\",\"Roosevelt\",\"Kusunoki\",\"Livadin\",\"Marutenkov\",\"Shahmin\",\"Cot\\u00e9\",\"Agaev\",\"Schulz\",\"Kaufman\",\"Lowndes\",\"Salamanca\",\"Chukhray\",\"Nemec\",\"Elizondo\",\"Easton\",\"Janosik\",\"Shamoon\",\"Nazari\",\"See\",\"Useev\",\"Hakimi\",\"Tchartorizhsky\",\"Ran\",\"Bazhinov\",\"Bain\",\"Bazhenin\",\"Kafka\",\"Tahan\",\"Abbasov\",\"Schneider\",\"Nurjanov\",\"Hrdy\",\"Salzwedel\",\"Tovstukha\",\"Ozawa\",\"Jans\",\"Golovatov\",\"Maloney\",\"Nuttall\",\"Yamakawa\",\"Iskandaryan\",\"Lysev\",\"Martinez\",\"Tchalovsky\",\"Rowlands\",\"Nijevyasov\",\"Cherchesov\",\"Prokoshkin\",\"Ayling\",\"Ciardha\",\"Turgenev\",\"Mustafa\",\"Taltskov\",\"Beklov\",\"Haddad\",\"Yam\",\"Bramley\",\"Djisev\",\"Chursin\",\"Nassar\",\"Volcik\",\"Noskov\",\"Tulnikov\",\"Chutko\",\"Awad\",\"Roome\",\"Loiko\",\"Geht\",\"Saikin\",\"Jackson\",\"Abrahams\",\"Raihman\",\"Roy\",\"Sailotov\",\"Abrosimoff\",\"Geftler\",\"Rekunov\",\"Wechsler\",\"Demihov\",\"Patzevich\",\"Killeen\",\"Rousses\",\"Campos\",\"Jampolsky\",\"Bishara\",\"Khouri\",\"Baroch\",\"Valeev\",\"Schoettmer\",\"Pohodin\",\"Shamaev\",\"Gonzalez\",\"Tayama\",\"Rjevsky\",\"Stokes\",\"Kaleev\",\"Ritchie\",\"Duarte\",\"Hor\",\"Pochtennyh\",\"Lavoie\",\"Warwick\",\"Pelman\",\"Nakhamkin\",\"Makul\",\"Tomashuk\",\"Kaluza\",\"Pretsch\",\"Yudashkin\",\"Reasbeck\",\"Abulgatin\",\"Zhidkov\",\"Peck\",\"Yuhotsky\",\"Muzalevskih\",\"Nelmes\",\"Rahamimov\",\"Koury\",\"Onoprienko\",\"Ferrier\",\"Tsann-Kay-Si\",\"Bertrand\",\"Hlusov\",\"Donald\",\"Juk\",\"Pituhin\",\"Eastham\",\"Zheronkin\",\"Oborny\",\"Colombera\",\"Yoshida\",\"Sandison\",\"Rivera\",\"Hanania\",\"Nader\",\"Prygoda\",\"Dickinson\",\"Bahtiyarov\",\"Vajenin\",\"Grushetsky\",\"Lyvin\",\"Heritage\",\"Mikhail\",\"Yuschak\",\"Caplan\",\"Bishara\",\"Aeschelman\",\"Salisbury\",\"Awtonomoff\",\"Mindibekov\",\"Hopwood\",\"Turke\",\"Gadsden\",\"Nicol\",\"Dreher\",\"Omelko\",\"Belnov\",\"Quir\\u00f3s\",\"Kartavtsev\",\"Reid\",\"Barnes\",\"Nader\",\"Holstov\",\"Asghar\",\"Eifman\",\"Lupei\",\"Bagin\",\"Isa\",\"Levitansky\",\"Veronesi\",\"Chuhonkin\",\"Nazari\",\"Lezhankin\",\"Awad\",\"Amari\",\"Ronald\",\"Gach\",\"Krusen\",\"Wahner\",\"Danilyuk\",\"Maroun\",\"Sellers\",\"Fukushima\",\"Telis\",\"Durnev\",\"Barabash\",\"Ackermann\",\"Koberna\",\"Daher\",\"Bagautdinov\",\"Baidzhanoff\",\"Baz\",\"Durham\",\"Yakir\",\"Rigby\",\"Muir\",\"Naifeh\",\"Robins\",\"Ghannam\",\"Mihailyants\",\"Lambton\",\"Jernokleev\",\"Moghadam\",\"Tulubensky\",\"Harybin\",\"Allam\",\"Yaganov\",\"Jukhno\",\"Smith\",\"Blanc\",\"Seto\",\"De laurentis\",\"Wan\",\"Rian\",\"Purse\",\"Chung\",\"Adaryukov\",\"Velikanov\",\"Slapnickova\",\"Yap\",\"Franco\",\"Reid\",\"Kouri\",\"Patzkevich\",\"Morcos\",\"Wild\",\"Adashevski\",\"Pridchenko\",\"Padylin\",\"Sleiman\",\"Ekin\",\"Nana\",\"Baba\",\"Mikhail\",\"Djamaldinov\",\"Meyer\",\"Provan\",\"Galkovsky\",\"Agatoff\",\"Sheppard\",\"Tuck\",\"Zhuravliov\",\"Dernov\",\"Abdrashitov\",\"Nader\",\"Nifterick\",\"Vandale\",\"Rosario\",\"Minskoi\",\"Manoukarakis\",\"Toal\",\"Achthoven\",\"Lotarev\",\"Nourse\",\"Lindsay\",\"Bahtoff\",\"Koukal\",\"Jamburg\",\"Mahotin\",\"Bagni\",\"Mccourt\",\"Tahan\",\"N\\u00fa\\u00f1ez\",\"Abeldyaev\",\"To The First Page\",\"Gorski\",\"Tomashenko\",\"Piazza\",\"Dyde\",\"Yuan\",\"Kassis\",\"Bueren\",\"Begum\",\"Cham\",\"Kachalkin\",\"Wolff\",\"Berezutsky\",\"D\\u00fcrr\",\"Oichi\",\"Keys\",\"Molokovsky\",\"Gulia\",\"Eidelstein\",\"Bonnet\",\"Gi\\u00f9govaz\",\"Mcbain\",\"Demetkin\",\"Vainunas\",\"Gladyshev\",\"Ryzhkov\",\"Jalovoi\",\"Nakhushev\",\"Openshaw\",\"Rzhevsky\",\"Messmann\",\"Yakubovich\",\"Shamon\",\"Awkhimovich\",\"Archer\",\"Tugwell\",\"Machado\",\"Jedynak\",\"Mikhersky\",\"Chekhonin\",\"Hairutdinov\",\"Dzhuromsky\",\"Pendik\",\"Andreyanov\",\"Hanson\",\"Sabbagh\",\"Lange\",\"Deeb\",\"Hummel\",\"Jakimets\"],\"x\":{\"__ndarray__\":\"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\",\"dtype\":\"float32\",\"shape\":[1000]},\"y\":{\"__ndarray__\":\"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\",\"dtype\":\"float32\",\"shape\":[1000]}},\"selected\":{\"id\":\"5ca6882b-6ed2-4212-8a5b-852bda0b0079\",\"type\":\"Selection\"},\"selection_policy\":{\"id\":\"eb16d6f1-1443-4f38-b6ed-bcc65da28c7f\",\"type\":\"UnionRenderers\"}},\"id\":\"15fc9b45-b107-4d4b-837b-966507544a62\",\"type\":\"ColumnDataSource\"},{\"attributes\":{\"bottom_units\":\"screen\",\"fill_alpha\":{\"value\":0.5},\"fill_color\":{\"value\":\"lightgrey\"},\"left_units\":\"screen\",\"level\":\"overlay\",\"line_alpha\":{\"value\":1.0},\"line_color\":{\"value\":\"black\"},\"line_dash\":[4,4],\"line_width\":{\"value\":2},\"plot\":null,\"render_mode\":\"css\",\"right_units\":\"screen\",\"top_units\":\"screen\"},\"id\":\"d4d8f734-620d-47ad-b4d2-50298eca7a01\",\"type\":\"BoxAnnotation\"},{\"attributes\":{\"fill_alpha\":{\"value\":0.25},\"fill_color\":{\"field\":\"color\"},\"line_alpha\":{\"value\":0.25},\"line_color\":{\"field\":\"color\"},\"size\":{\"units\":\"screen\",\"value\":10},\"x\":{\"field\":\"x\"},\"y\":{\"field\":\"y\"}},\"id\":\"f8a5c9f2-8c1f-4eff-9d3d-67b050453919\",\"type\":\"Circle\"}],\"root_ids\":[\"d467d6ae-a9c4-4ee3-87cb-af00481f18cf\"]},\"title\":\"Bokeh Application\",\"version\":\"0.13.0\"}};\n",
              "  var render_items = [{\"docid\":\"36d871fb-fc89-49e9-a06c-5db5bbfecb31\",\"roots\":{\"d467d6ae-a9c4-4ee3-87cb-af00481f18cf\":\"fc891116-5e51-4f60-a495-85c1b61c3c19\"}}];\n",
              "  root.Bokeh.embed.embed_items_notebook(docs_json, render_items);\n",
              "\n",
              "  }\n",
              "  if (root.Bokeh !== undefined) {\n",
              "    embed_document(root);\n",
              "  } else {\n",
              "    var attempts = 0;\n",
              "    var timer = setInterval(function(root) {\n",
              "      if (root.Bokeh !== undefined) {\n",
              "        embed_document(root);\n",
              "        clearInterval(timer);\n",
              "      }\n",
              "      attempts++;\n",
              "      if (attempts > 100) {\n",
              "        console.log(\"Bokeh: ERROR: Unable to run BokehJS code because BokehJS library is missing\")\n",
              "        clearInterval(timer);\n",
              "      }\n",
              "    }, 10, root)\n",
              "  }\n",
              "})(window);"
            ],
            "application/vnd.bokehjs_exec.v0+json": ""
          },
          "metadata": {
            "tags": [],
            "application/vnd.bokehjs_exec.v0+json": {
              "id": "d467d6ae-a9c4-4ee3-87cb-af00481f18cf"
            }
          }
        }
      ]
    },
    {
      "cell_type": "markdown",
      "metadata": {
        "id": "UnQMDFTgKCY0",
        "colab_type": "text"
      },
      "source": [
        "## Визуализация работы сети\n",
        "\n",
        "На каждом шаге RNN выдает какой-то вектор. Полносвязный слой применяется только к последнему выходу. Но можно же посмотреть и на промежуточные состояния - как менялось мнение сети о том, к чему относится это слово.\n",
        "\n",
        "**Задание** Напишите свой визуализатор."
      ]
    },
    {
      "cell_type": "code",
      "metadata": {
        "id": "86lffPwLKmqt",
        "colab_type": "code",
        "colab": {}
      },
      "source": [
        ""
      ],
      "execution_count": null,
      "outputs": []
    },
    {
      "cell_type": "markdown",
      "metadata": {
        "id": "DickfCNwJZFT",
        "colab_type": "text"
      },
      "source": [
        "## Улучшение сети\n",
        "\n",
        "**Задание** Замените SimpleRNN на LSTM. Сравните качества.\n",
        "\n",
        "**Задание** Добавьте Dropout до LSTM (а можно и после). Адекватным будет значение порядка 0.3.\n",
        "\n",
        "**Задание** Важным видом RNN является Bidirectional RNN. По сути это две RNN, одна обходит последовательность слева направо, вторая - наоборот. \n",
        "\n",
        "В результате для каждого момента времени у нас есть вектор $h_t = [f_t; b_t]$ - конкатенация (или какая-то ещё функция от $f_t$ и $b_t$) состояний $f_t$ и $b_t$ - прямого и обратного прохода последовательности. В сумме они покрывают весь контекст.\n",
        "\n",
        "В нашей задаче Bidirectional вариант может помочь тем, что сеть будет меньше забывать, с чего начиналась последовательность. То есть нам нужно будет взять $f_N$ и $b_N$ состояния: первое - последнее состояние в проходе слева направо, т.е. выход от последнего символа. Второе - последнее состояние при обратно проходе, т.е. выход для первого символа.\n",
        "\n",
        "Реализуйте Bidirectional классификатор. Для этого в `LSTM` есть параметр `bidirectional`."
      ]
    },
    {
      "cell_type": "markdown",
      "metadata": {
        "id": "ukwXJppHrDwS",
        "colab_type": "text"
      },
      "source": [
        "# Дополнительные материалы\n",
        "\n",
        "## Почитать\n",
        "\n",
        "### Блоги\n",
        "[The Unreasonable Effectiveness of Recurrent Neural Networks, Andrej Karpathy](http://karpathy.github.io/2015/05/21/rnn-effectiveness/)  \n",
        "[Understanding LSTM Networks, Christopher Olah](http://colah.github.io/posts/2015-08-Understanding-LSTMs/)  \n",
        "[Recurrent Neural Networks Tutorial, Denny Britz](http://www.wildml.com/2015/09/recurrent-neural-networks-tutorial-part-1-introduction-to-rnns/)  \n",
        "[Vanishing Gradients & LSTMs, Harini Suresh](http://harinisuresh.com/2016/10/09/lstms/)\n",
        "\n",
        "### Разное\n",
        "[Non-Zero Initial States for Recurrent Neural Networks](https://r2rt.com/non-zero-initial-states-for-recurrent-neural-networks.html)\n",
        "\n",
        "[Explaining and illustrating orthogonal initialization for recurrent neural networks, Stephen Merity](http://smerity.com/articles/2016/orthogonal_init.html)\n",
        "\n",
        "[Comparative Study of CNN and RNN for Natural Language Processing, Yin, 2017](https://arxiv.org/abs/1702.01923)\n",
        "\n",
        "## Посмотреть\n",
        "[cs224n \"Lecture 8: Recurrent Neural Networks and Language Models\"](https://www.youtube.com/watch?v=Keqep_PKrY8)"
      ]
    },
    {
      "cell_type": "markdown",
      "metadata": {
        "id": "gdMatMdGKq9X",
        "colab_type": "text"
      },
      "source": [
        "# Сдача задания\n",
        "\n",
        "[Опрос](https://goo.gl/forms/6d04Bkk36mVpBYt32)"
      ]
    }
  ]
}